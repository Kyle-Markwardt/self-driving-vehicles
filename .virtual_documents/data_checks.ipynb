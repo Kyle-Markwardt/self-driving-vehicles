import pandas as pd






mileage = pd.read_csv("data/2023-Autonomous-Mileage-Reports-CSV.csv")
mileage.head()



disengagements = pd.read_csv("data/2023-Autonomous-Vehicle-Disengagement-Reports-CSV.csv", encoding='unicode_escape')
disengagements.head()



!pip install tabula-py


import tabula

file1 = "data/Waymo-OL316-030324-Redacted.pdf"
table = tabula.read_pdf(file1, pages=1)
