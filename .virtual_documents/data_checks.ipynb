"""TODO:
    - Refine narrative
    - Make plots
    - Determine presentation form.
        - Kyle very partial to some kind of web app"""


import pandas as pd
import plotly as px



### Lists
## Years common across data
years = ["2021", "2022", "2023"]


### Read in data
## Read in disengagements data
dis_dfs = []
for year in years:
    try:
        annual_disengagements = pd.read_csv(f"data/Disengagements/{year}-Autonomous-Vehicle-Disengagement-Reports-CSV.csv", encoding='utf-8')
    except UnicodeDecodeError:
        # If utf-8 decoding fails, try another common encoding
        annual_disengagements = pd.read_csv(f"data/Disengagements/{year}-Autonomous-Vehicle-Disengagement-Reports-CSV.csv", encoding='latin-1')
    dis_dfs.append(annual_disengagements)

disengagement_df = pd.concat(dis_dfs, ignore_index=True)

# TODO: Cast DATE column as datetype for disengagements

## Read in mileage data
mile_dfs = []
for year in years:
    try:
        annual_mileage = pd.read_csv(f"data/Mileage/{year}-Autonomous-Mileage-Reports-CSV.csv", encoding='utf-8')
    except UnicodeDecodeError:
        # If utf-8 decoding fails, try another common encoding
        annual_mileage = pd.read_csv(f"data/Mileage/{year}-Autonomous-Mileage-Reports-CSV.csv", encoding='latin-1')
    mile_dfs.append(annual_mileage)
    # INFO: each annual report has 22 cols

mileage_df = pd.concat(mile_dfs, ignore_index=True)

# TODO: Cast DATE column as datetype for mileage



#### Histogram: miles driven / VIN ######




#### Bar: Total Miles driven per year ####
# Optional: groupby company ..."Manufacturer"
# sum miles per year
# Divide 




#### DISENGAGEMENTS PER MILE DRIVEN
# Makes most sense to show by year on a per-company basis. 
# Per vehicle basis doesn't make much sense (since we do not know anything about their operations)



# INFO: mileage_df.shape = (4360, 46)
print(mileage_df.columns)


# INFO: disengagement_df.shape = (23579, 10)
print(disengagement_df.columns)
