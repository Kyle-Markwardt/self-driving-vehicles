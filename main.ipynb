{
 "cells": [
  {
   "cell_type": "markdown",
   "id": "5f7de0c1",
   "metadata": {},
   "source": [
    "## Notes\n",
    "\n",
    "- DB- Note on file names.  I slightly edited file names (I think to include a -) so the names  would be sufficiently uniform, for reading into dfs.  Let's ensure this is pushed correctly. \n",
    "- RE: CSV file inputs and date ranges.  I observe there is no 2022 autonomous vehicle disengagement report- driverless on the DMV website\n",
    "- Similarily, there is something going on in the driverless mileage reports.\n",
    "- The 2020-21-Autonomous-Mileage-Reports-CSV-driverless covers Jan 2020 - Nov 2021\n",
    "- The 2021-22-Autonomous-Mileage-Reports-CSV-driverless covers Jan 2021 - Nov 2022, but only has 3 lines, for WERIDE CORP,\n",
    "    - Which doesn't appear in the 2020-21 entry.  This is probably due to a delayed filing on their part, and staff did the ez thing.\n",
    "- The 2022 Report starts in Dec 2021 - Nov 2022, and doesn't include WERIDE info (either by name or permit #)\n",
    "- The 2023 Report covers Dec 2022- Nov 2023, and includes WERIDE, so there is no overlaping info.\n",
    "\n",
    "- Re: The mileage reports.  I'm loading them in so the yeoman's work is done.  I don't want to botch joining them.\n",
    "   - Some form of groupby + set_index, as per discord, might be the trick here. \n",
    "   - Alternatively, we can combine the permit # + VIN into a new single column, and this will enable some straightforward y/y granular tracking via joined dfs (m/m from Jan 2020 - Nov 2023)\n",
    "- Finally, we should be on the lookout for permit #s that have company name changes, like the company got bought or something\n"
   ]
  },
  {
   "cell_type": "markdown",
   "id": "a8af4c23",
   "metadata": {},
   "source": [
    "# IMPORTS"
   ]
  },
  {
   "cell_type": "code",
   "execution_count": 263,
   "id": "ff662bd6-1e47-43a8-924f-3f1a7c45d0b2",
   "metadata": {
    "tags": []
   },
   "outputs": [],
   "source": [
    "import pandas as pd\n",
    "import seaborn as sns \n",
    "import numpy as np\n",
    "import plotly.express as px\n",
    "from pprint import pprint\n",
    "import matplotlib.pyplot as plt\n",
    "from matplotlib.offsetbox import OffsetImage, AnnotationBbox\n",
    "from wordcloud import WordCloud, STOPWORDS, ImageColorGenerator\n",
    "from PIL import Image\n",
    "from bokeh.models import FactorRange, ColumnDataSource\n",
    "from bokeh.plotting import figure, show\n",
    "from bokeh.transform import factor_cmap\n",
    "from bokeh.io import output_notebook\n",
    "from bokeh.palettes import Viridis\n",
    "import plotly.graph_objects as go\n",
    "from plotly.subplots import make_subplots\n"
   ]
  },
  {
   "cell_type": "markdown",
   "id": "e3b09241",
   "metadata": {},
   "source": [
    "# DATA"
   ]
  },
  {
   "cell_type": "code",
   "execution_count": 264,
   "id": "3deb78dc-84c3-4932-962c-ae8f7db5c475",
   "metadata": {
    "tags": []
   },
   "outputs": [],
   "source": [
    "### Lists\n",
    "## Years common across data\n",
    "years = [\"2020\", \"2021\", \"2022\", \"2023\"]\n",
    "years = sorted(list(years))\n",
    "\n",
    "months = [\"DEC-1\", \"JAN\", \"FEB\", \"MAR\", \"APR\", \"MAY\", \"JUN\", \"JULY\", \"AUG\", \"SEP\", \"OCT\", \"NOV\"]\n"
   ]
  },
  {
   "cell_type": "markdown",
   "id": "2d1d2e0f",
   "metadata": {},
   "source": [
    "### Mileage"
   ]
  },
  {
   "cell_type": "code",
   "execution_count": 265,
   "id": "1da9017a-6e18-47f0-960f-9a8f7b73a72d",
   "metadata": {
    "tags": []
   },
   "outputs": [
    {
     "name": "stdout",
     "output_type": "stream",
     "text": [
      "File for year 2020 not found. Skipping...\n"
     ]
    }
   ],
   "source": [
    "# TODO: Cast DATE column as datetype for disengagements\n",
    "\n",
    "## Read in mileage data\n",
    "mile_dfs = []\n",
    "for year in years:\n",
    "    try:\n",
    "        annual_mileage = pd.read_csv(f\"data/Mileage/{year}-Autonomous-Mileage-Reports-CSV.csv\", encoding='utf-8')\n",
    "    # Allows the search to be broad\n",
    "    except FileNotFoundError:\n",
    "        print(f\"File for year {year} not found. Skipping...\")\n",
    "        continue\n",
    "    # Got some kind of unicode error. This fixed it.\n",
    "    except UnicodeDecodeError:\n",
    "        # If utf-8 decoding fails, try another common encoding\n",
    "        annual_mileage = pd.read_csv(f\"data/Mileage/{year}-Autonomous-Mileage-Reports-CSV.csv\", encoding='latin-1')\n",
    "    annual_mileage[\"Year\"] = year\n",
    "    annual_mileage.rename(columns={'ANNUAL TOTAL': 'Mileage Total'}, inplace=True)\n",
    "    for i, month in enumerate(months, start=4):\n",
    "        annual_mileage.columns.values[i] = month\n",
    "    mile_dfs.append(annual_mileage)\n",
    "    # INFO: each annual report has 22 cols\n",
    "\n",
    "mileage_df = pd.concat(mile_dfs, ignore_index=True)\n",
    "# mileage_df.set_index('VIN NUMBER', inplace=True)"
   ]
  },
  {
   "cell_type": "markdown",
   "id": "c548203a",
   "metadata": {},
   "source": [
    "First Time Filers - Mileage"
   ]
  },
  {
   "cell_type": "code",
   "execution_count": 266,
   "id": "19fb7046-df7d-49fa-b0c9-4c4db90f9c98",
   "metadata": {
    "tags": []
   },
   "outputs": [
    {
     "name": "stdout",
     "output_type": "stream",
     "text": [
      "File for year 2023-24 not found. Skipping...\n",
      "# of objects in mile_driverless_dfs:  3\n"
     ]
    }
   ],
   "source": [
    "mile_first_time_filer_dfs = []\n",
    "for year in years:\n",
    "    try:\n",
    "        annual_disengagements = pd.read_csv(f\"data/Mileage/{year}-{str(int(year[3]) + 21)}-Autonomous-Mileage-Reports-CSV-first-time-filers.csv\", encoding='utf-8')\n",
    "    except FileNotFoundError:\n",
    "        print(f\"File for year {year}-{str(int(year[3]) + 21)} not found. Skipping...\")\n",
    "        continue\n",
    "    # Got some kind of unicode error. This fixed it.\n",
    "    except UnicodeDecodeError:\n",
    "        # If utf-8 decoding fails, try another common encoding\n",
    "        annual_disengagements = pd.read_csv(f\"data/Mileage/{year}-{str(int(year[3]) + 21)}-Autonomous-Mileage-Reports-CSV-first-time-filers.csv\", encoding='latin-1')\n",
    "    mile_first_time_filer_dfs.append(annual_disengagements)\n",
    "    \n",
    "# Not combining due to join issue raised at top of document\n",
    "#first_time_mileage_df = pd.concat(mile_first_time_filer, ignore_index=True)\n",
    "\n",
    "#print(mile_first_time_filer_dfs[0].head())\n",
    "print(\"# of objects in mile_driverless_dfs:  \" + str(len(mile_first_time_filer_dfs)))"
   ]
  },
  {
   "cell_type": "markdown",
   "id": "2d21ac82",
   "metadata": {},
   "source": [
    "Driverless Mileage"
   ]
  },
  {
   "cell_type": "code",
   "execution_count": 267,
   "id": "e6c52ee2-eab0-4c3d-ad82-9d282275f540",
   "metadata": {
    "tags": []
   },
   "outputs": [
    {
     "name": "stdout",
     "output_type": "stream",
     "text": [
      "File for year 2022-23 not found. Skipping...\n",
      "File for year 2023-24 not found. Skipping...\n",
      "File for year 2020 not found. Skipping...\n",
      "File for year 2021 not found. Skipping...\n",
      "# of objects in mile_driverless_dfs:  4\n"
     ]
    },
    {
     "data": {
      "text/html": [
       "<div>\n",
       "<style scoped>\n",
       "    .dataframe tbody tr th:only-of-type {\n",
       "        vertical-align: middle;\n",
       "    }\n",
       "\n",
       "    .dataframe tbody tr th {\n",
       "        vertical-align: top;\n",
       "    }\n",
       "\n",
       "    .dataframe thead th {\n",
       "        text-align: right;\n",
       "    }\n",
       "</style>\n",
       "<table border=\"1\" class=\"dataframe\">\n",
       "  <thead>\n",
       "    <tr style=\"text-align: right;\">\n",
       "      <th></th>\n",
       "      <th>Manufacturer</th>\n",
       "      <th>Permit Number</th>\n",
       "      <th>VIN NUMBER</th>\n",
       "      <th>Annual Total of Disengagements</th>\n",
       "      <th>DEC-1</th>\n",
       "      <th>JAN</th>\n",
       "      <th>FEB</th>\n",
       "      <th>MAR</th>\n",
       "      <th>APR</th>\n",
       "      <th>MAY</th>\n",
       "      <th>...</th>\n",
       "      <th>JULY 2022</th>\n",
       "      <th>AUG 2022</th>\n",
       "      <th>SEP 2022</th>\n",
       "      <th>OCT 2022</th>\n",
       "      <th>NOV 2022</th>\n",
       "      <th>Unnamed: 17</th>\n",
       "      <th>Unnamed: 18</th>\n",
       "      <th>Unnamed: 19</th>\n",
       "      <th>Unnamed: 20</th>\n",
       "      <th>Unnamed: 21</th>\n",
       "    </tr>\n",
       "  </thead>\n",
       "  <tbody>\n",
       "    <tr>\n",
       "      <th>0</th>\n",
       "      <td>APOLLO AUTONOMOUS DRIVING USA LLC</td>\n",
       "      <td>AVDT006</td>\n",
       "      <td>3LN6L5LU2HR615153</td>\n",
       "      <td>0.0</td>\n",
       "      <td>NaN</td>\n",
       "      <td>NaN</td>\n",
       "      <td>NaN</td>\n",
       "      <td>NaN</td>\n",
       "      <td>NaN</td>\n",
       "      <td>NaN</td>\n",
       "      <td>...</td>\n",
       "      <td>NaN</td>\n",
       "      <td>NaN</td>\n",
       "      <td>NaN</td>\n",
       "      <td>NaN</td>\n",
       "      <td>NaN</td>\n",
       "      <td>NaN</td>\n",
       "      <td>NaN</td>\n",
       "      <td>NaN</td>\n",
       "      <td>NaN</td>\n",
       "      <td>NaN</td>\n",
       "    </tr>\n",
       "    <tr>\n",
       "      <th>1</th>\n",
       "      <td>APOLLO AUTONOMOUS DRIVING USA LLC</td>\n",
       "      <td>AVDT006</td>\n",
       "      <td>3LN6L2LU4GR629715</td>\n",
       "      <td>0.0</td>\n",
       "      <td>NaN</td>\n",
       "      <td>NaN</td>\n",
       "      <td>NaN</td>\n",
       "      <td>NaN</td>\n",
       "      <td>NaN</td>\n",
       "      <td>NaN</td>\n",
       "      <td>...</td>\n",
       "      <td>NaN</td>\n",
       "      <td>NaN</td>\n",
       "      <td>NaN</td>\n",
       "      <td>NaN</td>\n",
       "      <td>NaN</td>\n",
       "      <td>NaN</td>\n",
       "      <td>NaN</td>\n",
       "      <td>NaN</td>\n",
       "      <td>NaN</td>\n",
       "      <td>NaN</td>\n",
       "    </tr>\n",
       "    <tr>\n",
       "      <th>2</th>\n",
       "      <td>APOLLO AUTONOMOUS DRIVING USA LLC</td>\n",
       "      <td>AVDT006</td>\n",
       "      <td>2C4RC1N71LR2S2232</td>\n",
       "      <td>0.0</td>\n",
       "      <td>NaN</td>\n",
       "      <td>NaN</td>\n",
       "      <td>NaN</td>\n",
       "      <td>NaN</td>\n",
       "      <td>NaN</td>\n",
       "      <td>NaN</td>\n",
       "      <td>...</td>\n",
       "      <td>NaN</td>\n",
       "      <td>NaN</td>\n",
       "      <td>NaN</td>\n",
       "      <td>NaN</td>\n",
       "      <td>NaN</td>\n",
       "      <td>NaN</td>\n",
       "      <td>NaN</td>\n",
       "      <td>NaN</td>\n",
       "      <td>NaN</td>\n",
       "      <td>NaN</td>\n",
       "    </tr>\n",
       "    <tr>\n",
       "      <th>3</th>\n",
       "      <td>CRUISE LLC</td>\n",
       "      <td>AVDT005</td>\n",
       "      <td>5G21A6P00L4100040</td>\n",
       "      <td>0.0</td>\n",
       "      <td>0.0</td>\n",
       "      <td>0.0</td>\n",
       "      <td>0.0</td>\n",
       "      <td>0.0</td>\n",
       "      <td>0.0</td>\n",
       "      <td>0.0</td>\n",
       "      <td>...</td>\n",
       "      <td>NaN</td>\n",
       "      <td>NaN</td>\n",
       "      <td>NaN</td>\n",
       "      <td>NaN</td>\n",
       "      <td>NaN</td>\n",
       "      <td>NaN</td>\n",
       "      <td>NaN</td>\n",
       "      <td>NaN</td>\n",
       "      <td>NaN</td>\n",
       "      <td>NaN</td>\n",
       "    </tr>\n",
       "    <tr>\n",
       "      <th>4</th>\n",
       "      <td>CRUISE LLC</td>\n",
       "      <td>AVDT005</td>\n",
       "      <td>5G21A6P01L4100029</td>\n",
       "      <td>0.0</td>\n",
       "      <td>0.0</td>\n",
       "      <td>0.0</td>\n",
       "      <td>0.0</td>\n",
       "      <td>0.0</td>\n",
       "      <td>0.0</td>\n",
       "      <td>0.0</td>\n",
       "      <td>...</td>\n",
       "      <td>NaN</td>\n",
       "      <td>NaN</td>\n",
       "      <td>NaN</td>\n",
       "      <td>NaN</td>\n",
       "      <td>NaN</td>\n",
       "      <td>NaN</td>\n",
       "      <td>NaN</td>\n",
       "      <td>NaN</td>\n",
       "      <td>NaN</td>\n",
       "      <td>NaN</td>\n",
       "    </tr>\n",
       "  </tbody>\n",
       "</table>\n",
       "<p>5 rows × 45 columns</p>\n",
       "</div>"
      ],
      "text/plain": [
       "                        Manufacturer Permit Number         VIN NUMBER  \\\n",
       "0  APOLLO AUTONOMOUS DRIVING USA LLC       AVDT006  3LN6L5LU2HR615153   \n",
       "1  APOLLO AUTONOMOUS DRIVING USA LLC       AVDT006  3LN6L2LU4GR629715   \n",
       "2  APOLLO AUTONOMOUS DRIVING USA LLC       AVDT006  2C4RC1N71LR2S2232   \n",
       "3                         CRUISE LLC       AVDT005  5G21A6P00L4100040   \n",
       "4                         CRUISE LLC       AVDT005  5G21A6P01L4100029   \n",
       "\n",
       "   Annual Total of Disengagements DEC-1  JAN  FEB  MAR  APR  MAY  ...  \\\n",
       "0                             0.0   NaN  NaN  NaN  NaN  NaN  NaN  ...   \n",
       "1                             0.0   NaN  NaN  NaN  NaN  NaN  NaN  ...   \n",
       "2                             0.0   NaN  NaN  NaN  NaN  NaN  NaN  ...   \n",
       "3                             0.0   0.0  0.0  0.0  0.0  0.0  0.0  ...   \n",
       "4                             0.0   0.0  0.0  0.0  0.0  0.0  0.0  ...   \n",
       "\n",
       "  JULY 2022 AUG 2022 SEP 2022 OCT 2022 NOV 2022  Unnamed: 17  Unnamed: 18  \\\n",
       "0       NaN      NaN      NaN      NaN      NaN          NaN          NaN   \n",
       "1       NaN      NaN      NaN      NaN      NaN          NaN          NaN   \n",
       "2       NaN      NaN      NaN      NaN      NaN          NaN          NaN   \n",
       "3       NaN      NaN      NaN      NaN      NaN          NaN          NaN   \n",
       "4       NaN      NaN      NaN      NaN      NaN          NaN          NaN   \n",
       "\n",
       "   Unnamed: 19  Unnamed: 20  Unnamed: 21  \n",
       "0          NaN          NaN          NaN  \n",
       "1          NaN          NaN          NaN  \n",
       "2          NaN          NaN          NaN  \n",
       "3          NaN          NaN          NaN  \n",
       "4          NaN          NaN          NaN  \n",
       "\n",
       "[5 rows x 45 columns]"
      ]
     },
     "execution_count": 267,
     "metadata": {},
     "output_type": "execute_result"
    }
   ],
   "source": [
    "# DB - Using the same process I used above, for Autonomous-Mileage-Reports-CSV-driverless.csv & Autonomous-Mileage-Reports-CSV-first-time-filers.csv\n",
    "mile_driverless_dfs = []\n",
    "for year in years:\n",
    "    try:\n",
    "        annual_disengagements = pd.read_csv(f\"data/Mileage/{year}-{str(int(year[3]) + 21)}-Autonomous-Mileage-Reports-CSV-driverless.csv\", encoding='utf-8')\n",
    "    except FileNotFoundError:\n",
    "        print(f\"File for year {year}-{str(int(year[3]) + 21)} not found. Skipping...\")\n",
    "        continue\n",
    "    # Got some kind of unicode error. This fixed it.\n",
    "    except UnicodeDecodeError:\n",
    "        # If utf-8 decoding fails, try another common encoding\n",
    "        annual_disengagements = pd.read_csv(f\"data/Mileage/{year}-{str(int(year[3]) + 21)}-Autonomous-Mileage-Reports-CSV-driverless.csv\", encoding='latin-1')\n",
    "    annual_disengagements[\"Year\"] = year\n",
    "    for i, month in enumerate(months, start=4):\n",
    "        annual_disengagements.columns.values[i] = month\n",
    "    mile_driverless_dfs.append(annual_disengagements)\n",
    "\n",
    "for year in years:    \n",
    "    try:\n",
    "        annual_disengagements = pd.read_csv(f\"data/Mileage/{year}-Autonomous-Mileage-Reports-CSV-driverless.csv\", encoding='utf-8')\n",
    "        # Allows the search to be broad\n",
    "    except FileNotFoundError:\n",
    "        print(f\"File for year {year} not found. Skipping...\")\n",
    "        continue\n",
    "        # Got some kind of unicode error. This fixed it.\n",
    "    except UnicodeDecodeError:\n",
    "        # If utf-8 decoding fails, try another common encoding\n",
    "        annual_disengagements = pd.read_csv(f\"data/Mileage/{year}-Autonomous-Mileage-Reports-CSV-driverless.csv\", encoding='latin-1')\n",
    "    annual_disengagements[\"Year\"] = year\n",
    "    for i, month in enumerate(months, start=4):\n",
    "        annual_disengagements.columns.values[i] = month\n",
    "    mile_driverless_dfs.append(annual_disengagements)\n",
    "\n",
    "driverless_mileage_df = pd.concat(mile_driverless_dfs, ignore_index=True)\n",
    "# TODO: deal with stupid double year file.\n",
    "\n",
    "#print(mile_driverless_dfs[0].head())\n",
    "print(\"# of objects in mile_driverless_dfs:  \" + str(len(mile_driverless_dfs)))\n",
    "driverless_mileage_df.head()\n"
   ]
  },
  {
   "cell_type": "markdown",
   "id": "52a7ea68",
   "metadata": {},
   "source": [
    "Combined Mileage"
   ]
  },
  {
   "cell_type": "code",
   "execution_count": 268,
   "id": "269cdb2b",
   "metadata": {},
   "outputs": [],
   "source": [
    "# TODO Duplicate and modify code from combined disengagements here\n"
   ]
  },
  {
   "cell_type": "markdown",
   "id": "7e89e2e7",
   "metadata": {},
   "source": [
    "### Disengagements"
   ]
  },
  {
   "cell_type": "code",
   "execution_count": 269,
   "id": "bf860b08-a42c-4174-bc47-a0af44cc4340",
   "metadata": {
    "tags": []
   },
   "outputs": [
    {
     "name": "stdout",
     "output_type": "stream",
     "text": [
      "File for year 2020 not found. Skipping...\n"
     ]
    }
   ],
   "source": [
    "### Read in data\n",
    "## Read in disengagements data\n",
    "dis_dfs = []\n",
    "for year in years:\n",
    "    try:\n",
    "        annual_disengagements = pd.read_csv(f\"data/Disengagements/{year}-Autonomous-Vehicle-Disengagement-Reports-CSV.csv\", encoding='utf-8')\n",
    "    # Allows the search to be broad\n",
    "    except FileNotFoundError:\n",
    "        print(f\"File for year {year} not found. Skipping...\")\n",
    "        continue\n",
    "    # Got some kind of unicode error. This fixed it.\n",
    "    except UnicodeDecodeError:\n",
    "        # If utf-8 decoding fails, try another common encoding\n",
    "        annual_disengagements = pd.read_csv(f\"data/Disengagements/{year}-Autonomous-Vehicle-Disengagement-Reports-CSV.csv\", encoding='latin-1')\n",
    "    dis_dfs.append(annual_disengagements)\n",
    "    \n",
    "disengagement_df = pd.concat(dis_dfs, ignore_index=True)\n",
    "\n",
    "#DB.  The unnamed column 10 only appears in the 2021 report, and the 71 entries are all for IMAGRY INC.,\n",
    "# Reading \"Perception\" or \"Planning\"\n",
    "# Dropped Column\n",
    "disengagement_df = disengagement_df.drop('Unnamed: 9', axis=1)\n",
    "#Apx 8k  empty rows.  Droped all rows with any nulls.  \n",
    "disengagement_df.dropna(axis=0, how='any', inplace=True)"
   ]
  },
  {
   "cell_type": "markdown",
   "id": "dd8da44d",
   "metadata": {},
   "source": [
    "First Time Filers - Disengagements"
   ]
  },
  {
   "cell_type": "code",
   "execution_count": 270,
   "id": "c369e28f-3b82-4c99-aa33-acecabe5c90d",
   "metadata": {
    "tags": []
   },
   "outputs": [
    {
     "name": "stdout",
     "output_type": "stream",
     "text": [
      "File for year 2023-24 not found. Skipping...\n"
     ]
    }
   ],
   "source": [
    "# Adding in 1st time filer Disengagements.  Utilizing Kyle's code from above\n",
    "first_time_dis_dfs = []\n",
    "for year in years:\n",
    "    try:\n",
    "        annual_disengagements = pd.read_csv(f\"data/Disengagements/{year}-{str(int(year[3]) + 21)}-Autonomous-Vehicle-Disengagement-Reports-CSV-first-time-filers.csv\", encoding='utf-8')\n",
    "    except FileNotFoundError:\n",
    "        print(f\"File for year {year}-{str(int(year[3]) + 21)} not found. Skipping...\")\n",
    "        continue\n",
    "    # Got some kind of unicode error. This fixed it.\n",
    "    except UnicodeDecodeError:\n",
    "        # If utf-8 decoding fails, try another common encoding\n",
    "        annual_disengagements = pd.read_csv(f\"data/Disengagements/{year}-{str(int(year[3]) + 21)}-Autonomous-Vehicle-Disengagement-Reports-CSV-first-time-filers.csv\", encoding='latin-1')\n",
    "    first_time_dis_dfs.append(annual_disengagements)\n",
    "    \n",
    "first_df = pd.concat(first_time_dis_dfs, ignore_index=True)\n",
    "#Some 200ish null rows imported. Dropped any row with any missing data\n",
    "first_df.dropna(axis=0, how='any', inplace=True)"
   ]
  },
  {
   "cell_type": "markdown",
   "id": "4a45e32e",
   "metadata": {},
   "source": [
    "Driverless Disengagements"
   ]
  },
  {
   "cell_type": "code",
   "execution_count": 271,
   "id": "13ccbe32-7977-4e1b-9395-91ed1b109269",
   "metadata": {
    "tags": []
   },
   "outputs": [
    {
     "name": "stdout",
     "output_type": "stream",
     "text": [
      "File for year 2021-22 not found. Skipping...\n",
      "File for year 2022-23 not found. Skipping...\n",
      "File for year 2023-24 not found. Skipping...\n",
      "File for year 2020 not found. Skipping...\n",
      "File for year 2021 not found. Skipping...\n",
      "File for year 2022 not found. Skipping...\n"
     ]
    }
   ],
   "source": [
    "# Driverless reports.  2022 is missing.  There are only 2 files here.  I've combined the above 2x for loops to snag them both, \n",
    "# since they have different naming conventions\n",
    "driverless_dis_dfs = []\n",
    "for year in years:\n",
    "    try:\n",
    "        annual_disengagements = pd.read_csv(f\"data/Disengagements/{year}-{str(int(year[3]) + 21)}-Autonomous-Vehicle-Disengagement-Reports-CSV-driverless.csv\", encoding='utf-8')\n",
    "    except FileNotFoundError:\n",
    "        print(f\"File for year {year}-{str(int(year[3]) + 21)} not found. Skipping...\")\n",
    "        continue\n",
    "    # Got some kind of unicode error. This fixed it.\n",
    "    except UnicodeDecodeError:\n",
    "        # If utf-8 decoding fails, try another common encoding\n",
    "        annual_disengagements = pd.read_csv(f\"data/Disengagements/{year}-{str(int(year[3]) + 21)}-Autonomous-Vehicle-Disengagement-Reports-CSV-driverless.csv\", encoding='latin-1')\n",
    "    driverless_dis_dfs.append(annual_disengagements)\n",
    "\n",
    "for year in years:    \n",
    "    try:\n",
    "        annual_disengagements = pd.read_csv(f\"data/Disengagements/{year}-Autonomous-Vehicle-Disengagement-Reports-CSV-driverless.csv\", encoding='utf-8')\n",
    "        # Allows the search to be broad\n",
    "    except FileNotFoundError:\n",
    "        print(f\"File for year {year} not found. Skipping...\")\n",
    "        continue\n",
    "        # Got some kind of unicode error. This fixed it.\n",
    "    except UnicodeDecodeError:\n",
    "        # If utf-8 decoding fails, try another common encoding\n",
    "        annual_disengagements = pd.read_csv(f\"data/Disengagements/{year}-Autonomous-Vehicle-Disengagement-Reports-CSV-driverless.csv\", encoding='latin-1')\n",
    "    driverless_dis_dfs.append(annual_disengagements)\n",
    "\n",
    "autonomous_dis_df = pd.concat(driverless_dis_dfs, ignore_index=True)\n",
    "# Dropping some 2000+ null rows.\n",
    "autonomous_dis_df.dropna(axis=0, how='any', inplace=True)"
   ]
  },
  {
   "cell_type": "markdown",
   "id": "748786cc",
   "metadata": {},
   "source": [
    "Combined Disengagements"
   ]
  },
  {
   "cell_type": "code",
   "execution_count": 272,
   "id": "ebdf3fc9-c6ef-4a7d-8521-ee5066cf226b",
   "metadata": {
    "tags": []
   },
   "outputs": [],
   "source": [
    "# 3x active DFs for the disengagement info are\n",
    "# disengagement_df\n",
    "# first_df\n",
    "# autonomous_dis_df\n",
    "# List of these objects to for loop the DATE cleanup.  \n",
    "# IF we wanted to acccess the report source from the combined df, we could add a column to each, with the report source\n",
    "\n",
    "# Initially had trouble by converting the dates to_datetime and then trying to drop the hour/min/sec.\n",
    "# Resolved by first converting DATE to str, dropping everything after \" \" (since all times were separated from date by a space)\n",
    "# And then subsequently converting the column to_datetime\n",
    "\n",
    "# This works, but can't be re-run unless above code blocks that create the dfs are also re-run (I think).  \n",
    "# Used print(i['DATE'].value_counts()) to confirm this came out correctly.  \n",
    "\n",
    "disengagement_dfs_list = [disengagement_df, first_df, autonomous_dis_df]\n",
    "\n",
    "for i in disengagement_dfs_list:\n",
    "    i['DATE'] = i['DATE'].astype(str)\n",
    "    i[\"DATE\"] = i[\"DATE\"].str.split(\" \", expand=True)[0]\n",
    "    i['DATE'] = pd.to_datetime(i['DATE'], errors='raise', dayfirst=True, format='mixed')"
   ]
  },
  {
   "cell_type": "code",
   "execution_count": null,
   "id": "0279e6c6-8311-416c-9da4-1f00ffe034fc",
   "metadata": {
    "tags": []
   },
   "outputs": [],
   "source": [
    "'''\n",
    "for i in disengagement_dfs_list:\n",
    "    #print(i['Permit Number'].value_counts())\n",
    "    print(i.shape)\n",
    "'''\n",
    "\n",
    "# Operator-in-Vehicle = AVT Permit prefix\n",
    "# NVO = AVDT Permit Prefix.\n",
    "# I'm fairly certain splitting these into distinct columns for purposes of multi-indexed rows or columns is straightforward, \n",
    "# So am moving forward with data cleaning"
   ]
  },
  {
   "cell_type": "code",
   "execution_count": 273,
   "id": "1b8c862d-6ec4-4539-885c-530250ea8b58",
   "metadata": {
    "tags": []
   },
   "outputs": [],
   "source": [
    "# 3x disengagement df's combined together into one, single column for all permit info\n",
    "combined_dis_df = pd.concat(disengagement_dfs_list, ignore_index=True)\n"
   ]
  },
  {
   "cell_type": "markdown",
   "id": "4481e0a0",
   "metadata": {},
   "source": [
    "# Data Cleaning and QA"
   ]
  },
  {
   "cell_type": "markdown",
   "id": "d7f17631",
   "metadata": {},
   "source": [
    "Drop Columns"
   ]
  },
  {
   "cell_type": "code",
   "execution_count": 274,
   "id": "745f6966",
   "metadata": {},
   "outputs": [
    {
     "name": "stdout",
     "output_type": "stream",
     "text": [
      "Number of non values in Unnamed: 17: 0\n",
      "Number of non values in Unnamed: 18: 0\n",
      "Number of non values in Unnamed: 19: 0\n",
      "Number of non values in Unnamed: 20: 0\n",
      "Number of non values in Unnamed: 21: 0\n"
     ]
    },
    {
     "data": {
      "text/plain": [
       "Index(['Manufacturer', 'Permit Number', 'VIN NUMBER',\n",
       "       'Annual Total of Disengagements', 'DEC-1', 'JAN', 'FEB', 'MAR', 'APR',\n",
       "       'MAY', 'JUN', 'JULY', 'AUG', 'SEP', 'OCT', 'NOV', 'Mileage Total',\n",
       "       'Year'],\n",
       "      dtype='object')"
      ]
     },
     "execution_count": 274,
     "metadata": {},
     "output_type": "execute_result"
    }
   ],
   "source": [
    "# What are \"Unnamed\" colums? Probably useless \"reserved\"\n",
    "# This and below are from kyle, and deal with the initial mileage_df\n",
    "unnamed_cols = ['Unnamed: 17', 'Unnamed: 18', 'Unnamed: 19', 'Unnamed: 20', 'Unnamed: 21']\n",
    "for check in unnamed_cols:\n",
    "    non_null_count = mileage_df[check].notna().sum()\n",
    "    print(f'Number of non values in {check}: {non_null_count}')\n",
    "\n",
    "# Empty. Drop 'em\n",
    "mileage_df = mileage_df.drop(columns=unnamed_cols)\n",
    "mileage_df.columns\n"
   ]
  },
  {
   "cell_type": "markdown",
   "id": "599e09a3",
   "metadata": {},
   "source": [
    "Set Types"
   ]
  },
  {
   "cell_type": "code",
   "execution_count": 275,
   "id": "6ffcaf28",
   "metadata": {},
   "outputs": [
    {
     "name": "stdout",
     "output_type": "stream",
     "text": [
      "Before: Manufacturer                       object\n",
      "Permit Number                      object\n",
      "VIN NUMBER                         object\n",
      "Annual Total of Disengagements    float64\n",
      "DEC-1                              object\n",
      "JAN                                object\n",
      "FEB                                object\n",
      "MAR                                object\n",
      "APR                                object\n",
      "MAY                                object\n",
      "JUN                                object\n",
      "JULY                               object\n",
      "AUG                                object\n",
      "SEP                                object\n",
      "OCT                                object\n",
      "NOV                                object\n",
      "Mileage Total                      object\n",
      "Year                               object\n",
      "dtype: object\n",
      "After: Manufacturer                       object\n",
      "Permit Number                      object\n",
      "VIN NUMBER                         object\n",
      "Annual Total of Disengagements    float64\n",
      "DEC-1                             float64\n",
      "JAN                               float64\n",
      "FEB                               float64\n",
      "MAR                               float64\n",
      "APR                               float64\n",
      "MAY                               float64\n",
      "JUN                               float64\n",
      "JULY                              float64\n",
      "AUG                               float64\n",
      "SEP                               float64\n",
      "OCT                               float64\n",
      "NOV                               float64\n",
      "Mileage Total                     float64\n",
      "Year                                int32\n",
      "dtype: object\n"
     ]
    }
   ],
   "source": [
    "### Mileage\n",
    "print(f'Before: {mileage_df.dtypes}')\n",
    "cast_as_float = [\n",
    "       'Annual Total of Disengagements', 'DEC-1', 'JAN', 'FEB', 'MAR', 'APR',\n",
    "       'MAY', 'JUN', 'JULY', 'AUG', 'SEP', 'OCT', 'NOV', 'Mileage Total',\n",
    "       ]\n",
    "\n",
    "for col in cast_as_float:\n",
    "    mileage_df[col] = mileage_df[col].apply(lambda x: x.replace(',', '').replace(' ', '') if isinstance(x, str) else x)\n",
    "    mileage_df[col] = mileage_df[col].astype(float)\n",
    "\n",
    "# Assuming df is your DataFrame and 'Column_Name' is the name of the column you want to convert to represent years\n",
    "mileage_df['Year'] = pd.to_datetime(mileage_df['Year']).dt.year\n",
    "mileage_df[\"Manufacturer\"] = mileage_df[\"Manufacturer\"].astype(str)\n",
    "\n",
    "\n",
    "print(f'After: {mileage_df.dtypes}')\n",
    "\n"
   ]
  },
  {
   "cell_type": "markdown",
   "id": "15d412e1",
   "metadata": {},
   "source": [
    "QA: Ensure sum of monthly miles still equals Annual totals after column shuffling"
   ]
  },
  {
   "cell_type": "code",
   "execution_count": 276,
   "id": "d5befa31",
   "metadata": {},
   "outputs": [
    {
     "name": "stdout",
     "output_type": "stream",
     "text": [
      "Number of rows where months do not add up to within 1.0 of annual total: 78\n",
      "Rows where MileageTotal is null: 77\n",
      "Manufacturer                       0\n",
      "Permit Number                     30\n",
      "VIN NUMBER                        30\n",
      "Annual Total of Disengagements    30\n",
      "DEC-1                             30\n",
      "JAN                               30\n",
      "FEB                               31\n",
      "MAR                               31\n",
      "APR                               31\n",
      "MAY                               31\n",
      "JUN                               32\n",
      "JULY                              32\n",
      "AUG                               33\n",
      "SEP                               32\n",
      "OCT                               33\n",
      "NOV                               32\n",
      "Mileage Total                     77\n",
      "Year                               0\n",
      "dtype: int64\n",
      "Manufacturer                      0\n",
      "Permit Number                     0\n",
      "VIN NUMBER                        0\n",
      "Annual Total of Disengagements    0\n",
      "DEC-1                             0\n",
      "JAN                               0\n",
      "FEB                               1\n",
      "MAR                               1\n",
      "APR                               1\n",
      "MAY                               1\n",
      "JUN                               2\n",
      "JULY                              2\n",
      "AUG                               3\n",
      "SEP                               2\n",
      "OCT                               3\n",
      "NOV                               2\n",
      "Mileage Total                     0\n",
      "Year                              0\n",
      "dtype: int64\n"
     ]
    }
   ],
   "source": [
    "### QA the monthly vs sum values\n",
    "# Calculate the sum of values in the month columns for each row\n",
    "month_sums = mileage_df.iloc[:, 4:-2].sum(axis=1)  \n",
    "\n",
    "# Calculate the absolute difference between the sum of month columns and the \"Mileage Total\" column\n",
    "absolute_difference = abs(month_sums - mileage_df['Mileage Total'])\n",
    "\n",
    "# Check if the absolute difference is less than or equal to 2.0\n",
    "within_tolerance = absolute_difference <= 2.0\n",
    "fishy = (~within_tolerance).sum()\n",
    "print(\"Number of rows where months do not add up to within 1.0 of annual total:\", fishy)\n",
    "\n",
    "# Print rows where the absolute difference is not within 2.0\n",
    "# print(mileage_df[~within_tolerance])\n",
    "qa = mileage_df[~within_tolerance]\n",
    "print(f'Rows where MileageTotal is null: {qa[\"Mileage Total\"].isnull().sum()}')\n",
    "qa.head()\n",
    "\n",
    "\n",
    "# count all nulls \n",
    "print(mileage_df.isnull().sum())\n",
    "mileage_df.dropna(subset=['Mileage Total'], inplace=True)\n",
    "# Drops majority of other nulls\n",
    "print(mileage_df.isnull().sum())\n"
   ]
  },
  {
   "cell_type": "markdown",
   "id": "1dad80e1",
   "metadata": {},
   "source": [
    "Rename Columns"
   ]
  },
  {
   "cell_type": "code",
   "execution_count": 277,
   "id": "8ca9dd9c",
   "metadata": {},
   "outputs": [
    {
     "data": {
      "text/html": [
       "<div>\n",
       "<style scoped>\n",
       "    .dataframe tbody tr th:only-of-type {\n",
       "        vertical-align: middle;\n",
       "    }\n",
       "\n",
       "    .dataframe tbody tr th {\n",
       "        vertical-align: top;\n",
       "    }\n",
       "\n",
       "    .dataframe thead th {\n",
       "        text-align: right;\n",
       "    }\n",
       "</style>\n",
       "<table border=\"1\" class=\"dataframe\">\n",
       "  <thead>\n",
       "    <tr style=\"text-align: right;\">\n",
       "      <th></th>\n",
       "      <th>OPERATOR</th>\n",
       "      <th>Permit Number</th>\n",
       "      <th>DATE</th>\n",
       "      <th>VIN NUMBER</th>\n",
       "      <th>NVO CAPABLE</th>\n",
       "      <th>DRIVER PRESENT</th>\n",
       "      <th>INITIATED BY</th>\n",
       "      <th>DISENGAGEMENT LOCATION</th>\n",
       "      <th>DESCRIPTION OF FACTS CAUSING DISENGAGEMENT</th>\n",
       "    </tr>\n",
       "  </thead>\n",
       "  <tbody>\n",
       "    <tr>\n",
       "      <th>0</th>\n",
       "      <td>AIMOTIVE INC.</td>\n",
       "      <td>AVT036</td>\n",
       "      <td>2021-04-03</td>\n",
       "      <td>JTDKN3DU9A0059509</td>\n",
       "      <td>No</td>\n",
       "      <td>Yes</td>\n",
       "      <td>Test Driver</td>\n",
       "      <td>Freeway</td>\n",
       "      <td>During an exit/merge the test vehicle was goin...</td>\n",
       "    </tr>\n",
       "    <tr>\n",
       "      <th>1</th>\n",
       "      <td>AIMOTIVE INC.</td>\n",
       "      <td>AVT036</td>\n",
       "      <td>2021-03-16</td>\n",
       "      <td>JTDKN3DU9A0059509</td>\n",
       "      <td>No</td>\n",
       "      <td>Yes</td>\n",
       "      <td>Test Driver</td>\n",
       "      <td>Freeway</td>\n",
       "      <td>Exit/Merge Lane departure, due to the car miss...</td>\n",
       "    </tr>\n",
       "    <tr>\n",
       "      <th>2</th>\n",
       "      <td>AIMOTIVE INC.</td>\n",
       "      <td>AVT036</td>\n",
       "      <td>2021-03-16</td>\n",
       "      <td>JTDKN3DU9A0059509</td>\n",
       "      <td>No</td>\n",
       "      <td>Yes</td>\n",
       "      <td>Test Driver</td>\n",
       "      <td>Freeway</td>\n",
       "      <td>Exit/Merge Lane departure, due to the car miss...</td>\n",
       "    </tr>\n",
       "    <tr>\n",
       "      <th>3</th>\n",
       "      <td>AIMOTIVE INC.</td>\n",
       "      <td>AVT036</td>\n",
       "      <td>2021-03-16</td>\n",
       "      <td>JTDKN3DU9A0059509</td>\n",
       "      <td>No</td>\n",
       "      <td>Yes</td>\n",
       "      <td>Test Driver</td>\n",
       "      <td>Freeway</td>\n",
       "      <td>During an exit/merge the test vehicle was goin...</td>\n",
       "    </tr>\n",
       "    <tr>\n",
       "      <th>4</th>\n",
       "      <td>AIMOTIVE INC.</td>\n",
       "      <td>AVT036</td>\n",
       "      <td>2021-02-04</td>\n",
       "      <td>JTDKN3DU9A0059509</td>\n",
       "      <td>No</td>\n",
       "      <td>Yes</td>\n",
       "      <td>Test Driver</td>\n",
       "      <td>Freeway</td>\n",
       "      <td>The car should have stayed in the left lane, b...</td>\n",
       "    </tr>\n",
       "    <tr>\n",
       "      <th>5</th>\n",
       "      <td>AIMOTIVE INC.</td>\n",
       "      <td>AVT036</td>\n",
       "      <td>2021-02-04</td>\n",
       "      <td>JTDKN3DU9A0059509</td>\n",
       "      <td>No</td>\n",
       "      <td>Yes</td>\n",
       "      <td>Test Driver</td>\n",
       "      <td>Freeway</td>\n",
       "      <td>Exit/Merge Lane departure, due to the car miss...</td>\n",
       "    </tr>\n",
       "    <tr>\n",
       "      <th>6</th>\n",
       "      <td>AIMOTIVE INC.</td>\n",
       "      <td>AVT036</td>\n",
       "      <td>2021-04-13</td>\n",
       "      <td>JTDKN3DU9A0059509</td>\n",
       "      <td>No</td>\n",
       "      <td>Yes</td>\n",
       "      <td>Test Driver</td>\n",
       "      <td>Freeway</td>\n",
       "      <td>During an exit/merge the test vehicle was goin...</td>\n",
       "    </tr>\n",
       "    <tr>\n",
       "      <th>7</th>\n",
       "      <td>AIMOTIVE INC.</td>\n",
       "      <td>AVT036</td>\n",
       "      <td>2021-04-14</td>\n",
       "      <td>JTDKN3DU9A0059509</td>\n",
       "      <td>No</td>\n",
       "      <td>Yes</td>\n",
       "      <td>Test Driver</td>\n",
       "      <td>Freeway</td>\n",
       "      <td>During an exit/merge the test vehicle was goin...</td>\n",
       "    </tr>\n",
       "    <tr>\n",
       "      <th>8</th>\n",
       "      <td>AIMOTIVE INC.</td>\n",
       "      <td>AVT036</td>\n",
       "      <td>2021-04-16</td>\n",
       "      <td>JTDKN3DU9A0059509</td>\n",
       "      <td>No</td>\n",
       "      <td>Yes</td>\n",
       "      <td>Test Driver</td>\n",
       "      <td>Freeway</td>\n",
       "      <td>During an exit/merge the test vehicle was goin...</td>\n",
       "    </tr>\n",
       "    <tr>\n",
       "      <th>9</th>\n",
       "      <td>AIMOTIVE INC.</td>\n",
       "      <td>AVT036</td>\n",
       "      <td>2021-04-16</td>\n",
       "      <td>JTDKN3DU9A0059509</td>\n",
       "      <td>No</td>\n",
       "      <td>Yes</td>\n",
       "      <td>Test Driver</td>\n",
       "      <td>Freeway</td>\n",
       "      <td>The car should have stayed in the left lane, b...</td>\n",
       "    </tr>\n",
       "  </tbody>\n",
       "</table>\n",
       "</div>"
      ],
      "text/plain": [
       "        OPERATOR Permit Number       DATE         VIN NUMBER NVO CAPABLE  \\\n",
       "0  AIMOTIVE INC.        AVT036 2021-04-03  JTDKN3DU9A0059509          No   \n",
       "1  AIMOTIVE INC.        AVT036 2021-03-16  JTDKN3DU9A0059509          No   \n",
       "2  AIMOTIVE INC.        AVT036 2021-03-16  JTDKN3DU9A0059509          No   \n",
       "3  AIMOTIVE INC.        AVT036 2021-03-16  JTDKN3DU9A0059509          No   \n",
       "4  AIMOTIVE INC.        AVT036 2021-02-04  JTDKN3DU9A0059509          No   \n",
       "5  AIMOTIVE INC.        AVT036 2021-02-04  JTDKN3DU9A0059509          No   \n",
       "6  AIMOTIVE INC.        AVT036 2021-04-13  JTDKN3DU9A0059509          No   \n",
       "7  AIMOTIVE INC.        AVT036 2021-04-14  JTDKN3DU9A0059509          No   \n",
       "8  AIMOTIVE INC.        AVT036 2021-04-16  JTDKN3DU9A0059509          No   \n",
       "9  AIMOTIVE INC.        AVT036 2021-04-16  JTDKN3DU9A0059509          No   \n",
       "\n",
       "  DRIVER PRESENT INITIATED BY DISENGAGEMENT LOCATION  \\\n",
       "0            Yes  Test Driver                Freeway   \n",
       "1            Yes  Test Driver                Freeway   \n",
       "2            Yes  Test Driver                Freeway   \n",
       "3            Yes  Test Driver                Freeway   \n",
       "4            Yes  Test Driver                Freeway   \n",
       "5            Yes  Test Driver                Freeway   \n",
       "6            Yes  Test Driver                Freeway   \n",
       "7            Yes  Test Driver                Freeway   \n",
       "8            Yes  Test Driver                Freeway   \n",
       "9            Yes  Test Driver                Freeway   \n",
       "\n",
       "          DESCRIPTION OF FACTS CAUSING DISENGAGEMENT  \n",
       "0  During an exit/merge the test vehicle was goin...  \n",
       "1  Exit/Merge Lane departure, due to the car miss...  \n",
       "2  Exit/Merge Lane departure, due to the car miss...  \n",
       "3  During an exit/merge the test vehicle was goin...  \n",
       "4  The car should have stayed in the left lane, b...  \n",
       "5  Exit/Merge Lane departure, due to the car miss...  \n",
       "6  During an exit/merge the test vehicle was goin...  \n",
       "7  During an exit/merge the test vehicle was goin...  \n",
       "8  During an exit/merge the test vehicle was goin...  \n",
       "9  The car should have stayed in the left lane, b...  "
      ]
     },
     "execution_count": 277,
     "metadata": {},
     "output_type": "execute_result"
    }
   ],
   "source": [
    "combined_dis_df.rename(columns = {\"Manufacturer\" : \"OPERATOR\",\n",
    "                                  \"DISENGAGEMENT\\nLOCATION\\n(Interstate, Freeway, Highway, Rural Road, Street, or Parking Facility)\" : \"DISENGAGEMENT LOCATION\", \n",
    "                                  \"DISENGAGEMENT INITIATED BY\\n(AV System, Test Driver, Remote Operator, or Passenger)\" : \"INITIATED BY\",\n",
    "                                  \"DRIVER PRESENT\\n(Yes or No)\" : \"DRIVER PRESENT\",\n",
    "                                  \"VEHICLE IS CAPABLE OF OPERATING WITHOUT A DRIVER\\n(Yes or No)\" : \"NVO CAPABLE\"}, inplace=True)\n",
    "\n",
    "\n",
    "mileage_df.rename(columns = {\"Manufacturer\" : \"OPERATOR\"}, inplace=True)\n",
    "combined_dis_df.head(10)\n",
    "\n"
   ]
  },
  {
   "cell_type": "markdown",
   "id": "82967afa",
   "metadata": {},
   "source": [
    "Reduce Duplicates"
   ]
  },
  {
   "cell_type": "code",
   "execution_count": 278,
   "id": "847b225c",
   "metadata": {},
   "outputs": [
    {
     "name": "stdout",
     "output_type": "stream",
     "text": [
      "Locations: 15 - ['Express Way', 'Freeway', 'Freeway ', 'HIGHWAY', 'HIghway', 'Highway', 'Interstate', 'Parking Facility', 'Parking facility', 'Rural Road', 'STREET', 'Street', 'Urban', 'freeway', 'street']\n",
      "Operators: 51 - ['AIMOTIVE INC.', 'APOLLO AUTONOMOUS DRIVING USA LLC', 'APPLE INC.', 'ARGO AI, LLC', 'AURORA OPERATIONS, INC.', 'AUTOX TECHNOLOGIES, INC', 'Apollo', 'BOSCH', 'CRUISE LLC', 'DEEPROUTE.AI', 'DIDI RESEARCH AMERICA LLC', 'DIDI RESEARCH AMERICA, LLC', 'Didi Research America', 'EASYMILE', 'GATIK AI INC', 'GATIK AI INC.', 'GHOST AUTONOMY INC', 'Gatik AI Inc', 'IMAGRY INC', 'IMAGRY INC ', 'IMAGRY INC.', 'INTEL CORPORATION', 'LYFT', 'MERCEDES-BENZ RESEARCH & DEVELOPMENT NORTH AMERICA, INC.', 'MOTIONAL AD, INC.', 'Motional AD, Inc.', 'NISSAN NORTH AMERICA, INC DBA ALLIANCE INNOVATION LAB', 'NURO, INC', 'NVIDIA', 'NVIDIA CORPORATION ', 'Nissan North America', 'Nuro Inc', 'PONY.AI, INC.', 'QCRAFT INC.', 'QUALCOMM TECHNOLOGIES, INC.', 'TOYOTA RESEARCH INSTITUTE', 'TOYOTA RESEARCH INSTITUTE, INC.', 'UATC, LLC', 'UDELV, INC.', 'VALEO NORTH AMERICA INC.', 'Valeo', 'Vueron Technology USA INC', 'WAYMO LLC', 'WERIDE CORP', 'WOVEN PLANET NORTH AMERICA, INC.', 'Waymo LLC', 'Woven by Toyota, U.S., Inc.', 'ZOOX INC', 'ZOOX, INC', 'Zoox, Inc', 'aiMotive Inc.']\n",
      "\n",
      "Cleaned locations: 8 - ['EXPRESS WAY', 'FREEWAY', 'HIGHWAY', 'INTERSTATE', 'PARKING FACILITY', 'RURAL ROAD', 'STREET', 'URBAN']\n",
      "Cleaned operators: 38 - ['AIMOTIVE', 'APOLLO', 'APOLLO AUTONOMOUS DRIVING USA', 'APPLE', 'ARGO AI', 'AURORA OPERATIONS', 'AUTOX TECHNOLOGIES', 'BOSCH', 'CRUISE', 'DEEPROUTEAI', 'DIDI RESEARCH AMERICA', 'EASYMILE', 'GATIK AI', 'GHOST AUTONOMY', 'IMAGRY', 'INTEL CORPORATION', 'LYFT', 'MERCEDES-BENZ RESEARCH & DEVELOPMENT NORTH AMERICA', 'MOTIONAL AD', 'NISSAN NORTH AMERICA', 'NISSAN NORTH AMERICA  DBA ALLIANCE INNOVATION LAB', 'NURO', 'NVIDIA', 'NVIDIA CORPORATION', 'PONYAI', 'QCRAFT', 'QUALCOMM TECHNOLOGIES', 'TOYOTA RESEARCH INSTITUTE', 'UATC', 'UDELV', 'VALEO', 'VALEO NORTH AMERICA', 'VUERON TECHNOLOGY USA', 'WAYMO', 'WERIDE CORP', 'WOVEN BY TOYOTA US', 'WOVEN PLANET NORTH AMERICA', 'ZOOX']\n",
      "\n",
      "Original number of operators:  50\n",
      "Actual number of unique operators:  32\n",
      "'AIMOTIVE'\n",
      "'APOLLO'\n",
      "'APPLE'\n",
      "'ARGO AI'\n",
      "'AURORA OPERATIONS'\n",
      "'AUTOX'\n",
      "'BOSCH'\n",
      "'CRUISE'\n",
      "'DEEPROUTEAI'\n",
      "'DIDI RESEARCH AMERICA'\n",
      "'EASYMILE'\n",
      "'GATIK AI'\n",
      "'GHOST AUTONOMY'\n",
      "'IMAGRY'\n",
      "'INTEL CORPORATION'\n",
      "'LYFT'\n",
      "'MERCEDES'\n",
      "'MERCEDES-BENZ'\n",
      "'MOTIONAL AD'\n",
      "'NISSAN'\n",
      "'NURO'\n",
      "'NVIDIA'\n",
      "'PONYAI'\n",
      "'QCRAFT'\n",
      "'QUALCOMM TECHNOLOGIES'\n",
      "'TOYOTA RESEARCH INSTITUTE'\n",
      "'UDELV'\n",
      "'VALEO NORTH AMERICA'\n",
      "'WAYMO'\n",
      "'WERIDE CORP'\n",
      "'WOVEN BY TOYOTA US'\n",
      "'ZOOX'\n"
     ]
    }
   ],
   "source": [
    "\n",
    "# DEDUPLICATOR\n",
    "def polish(df, column):\n",
    "   df[column]=df[column].str.upper() # Capitalize everything\n",
    "   df[column] = df[column].str.replace(\"[.,]\", \"\", regex=True) # Remove periods and commas \n",
    "   df[column] = df[column].str.replace(r'\\b(LLC|INC)\\b', '', regex=True)  # Remove \"LLC\" and \"INC\"\n",
    "   df[column]=df[column].str.rstrip() # Remove trailing whitespace\n",
    "\n",
    "   return df \n",
    "\n",
    "# Print statements are for verification and team review. Might leave them to show class \"This is the mess of data we had to clean up\" - discuss\n",
    "print(f'Locations: {combined_dis_df[\"DISENGAGEMENT LOCATION\"].nunique()} - {sorted(combined_dis_df[\"DISENGAGEMENT LOCATION\"].unique())}')\n",
    "print(f'Operators: {combined_dis_df[\"OPERATOR\"].nunique()} - {sorted(combined_dis_df[\"OPERATOR\"].unique())}')\n",
    "print()\n",
    "\n",
    "dis_columns_to_clean = [\"DISENGAGEMENT LOCATION\", \"OPERATOR\", \"INITIATED BY\"]\n",
    "\n",
    "# Deuplicate Disengagements dataframe\n",
    "for i in dis_columns_to_clean:\n",
    "   combined_dis_df = polish(combined_dis_df, i)\n",
    "# Set VIN as Index\n",
    "#combined_dis_df.set_index(\"VIN NUMBER\", inplace=True)\n",
    "\n",
    "\n",
    "print(f'Cleaned locations: {combined_dis_df[\"DISENGAGEMENT LOCATION\"].nunique()} - {sorted(combined_dis_df[\"DISENGAGEMENT LOCATION\"].unique())}')\n",
    "print(f'Cleaned operators: {combined_dis_df[\"OPERATOR\"].nunique()} - {sorted(combined_dis_df[\"OPERATOR\"].unique())}')\n",
    "print()\n",
    "\n",
    "# Deduplicate Mileage\n",
    "print(\"Original number of operators: \", mileage_df[\"OPERATOR\"].nunique())\n",
    "\n",
    "miles_columns_to_clean = [\"OPERATOR\"]\n",
    "\n",
    "# Deuplicate Operators\n",
    "for i in miles_columns_to_clean:\n",
    "   mileage_df = polish(mileage_df, i)\n",
    "\n",
    "# TODO: Mop up the last operators name alignment\n",
    "operator_name_dic = {\"APOLLO AUTONOMOUS DRIVING USA\" : \"APOLLO\",\n",
    "                     \"AUTOX TECHNOLOGIES\" : \"AUTOX\",\n",
    "                     'MERCEDES-BENZ RESEARCH & DEVELOPMENT NORTH AMERICA' : 'MERCEDES-BENZ',\n",
    "                     'NISSAN NORTH AMERICA  DBA ALLIANCE INNOVATION LAB' : 'NISSAN',\n",
    "                     'NVIDIA CORPORATION' : 'NVIDIA'\n",
    "}\n",
    "\n",
    "mileage_df[\"OPERATOR\"] = mileage_df[\"OPERATOR\"].replace(operator_name_dic)\n",
    "\n",
    "print(\"Actual number of unique operators: \", mileage_df[\"OPERATOR\"].nunique())\n",
    "\n",
    "operators = sorted(mileage_df[\"OPERATOR\"].unique())\n",
    "for value in operators:\n",
    "    pprint(value)\n",
    "\n",
    "\n"
   ]
  },
  {
   "cell_type": "markdown",
   "id": "33401501",
   "metadata": {},
   "source": [
    "### Find 'Zippy'"
   ]
  },
  {
   "cell_type": "code",
   "execution_count": 279,
   "id": "aa5c8b09",
   "metadata": {},
   "outputs": [
    {
     "name": "stdout",
     "output_type": "stream",
     "text": [
      "Zippy VIN is SADHW2S13M1616427\n",
      "Zippy is a WAYMO vehicle.\n"
     ]
    }
   ],
   "source": [
    "miles_by_vin = mileage_df.groupby(\"VIN NUMBER\")[\"Mileage Total\"].sum().sort_values(ascending=False)\n",
    "miles_by_vin.head()\n",
    "zippy = miles_by_vin.idxmax()\n",
    "print(f'Zippy VIN is {zippy}')\n",
    "\n",
    "print(f'Zippy is a {mileage_df.loc[mileage_df[\"VIN NUMBER\"] == zippy, \"OPERATOR\"].unique()[0]} vehicle.')"
   ]
  },
  {
   "cell_type": "markdown",
   "id": "db7f725d",
   "metadata": {},
   "source": [
    "### GRAPHS"
   ]
  },
  {
   "cell_type": "markdown",
   "id": "2c2c90d8",
   "metadata": {},
   "source": [
    "### Big Picture"
   ]
  },
  {
   "cell_type": "code",
   "execution_count": null,
   "id": "9e24b0da",
   "metadata": {},
   "outputs": [],
   "source": [
    "# Create DF without zero mile cars\n",
    "nonzero_mileage = mileage_df[(mileage_df[\"Mileage Total\"] > 0)]"
   ]
  },
  {
   "cell_type": "code",
   "execution_count": null,
   "id": "175270c1-e22f-46f8-85d3-ca955f111c33",
   "metadata": {},
   "outputs": [],
   "source": [
    "#### Histogram: miles driven / VIN ######\n",
    "fig = px.histogram(nonzero_mileage,\n",
    "             x='Mileage Total', color=\"OPERATOR\", title=\"Autonomous Mileage by Vehicle (2021-2023)\", nbins=50)\n",
    "fig.update_layout(xaxis_title='Vehicle Mileage', yaxis_title='Number of Vehicles', height=600, width=1000)\n",
    "fig.show()\n",
    "\n",
    "#### Histogram: miles driven / Operator ######\n",
    "manufacturer_miles_sum = nonzero_mileage.groupby('OPERATOR')['Mileage Total'].sum().reset_index()\n",
    "\n",
    "fig = px.histogram(manufacturer_miles_sum, x='Mileage Total', title='Total Miles Driven Per Operator (2021-2023)', hover_name=\"OPERATOR\",\n",
    "                   labels={'Mileage Total': 'Total Miles Driven'},  nbins=50, color=\"OPERATOR\",\n",
    "                    color_discrete_sequence=px.colors.sequential.Viridis)\n",
    "fig.update_layout(yaxis_title='Operators', height=600, width=1000)\n",
    "fig.show()\n"
   ]
  },
  {
   "cell_type": "markdown",
   "id": "306a64a0",
   "metadata": {},
   "source": [
    "#### Total Miles driven per year \n"
   ]
  },
  {
   "cell_type": "code",
   "execution_count": null,
   "id": "7d729849",
   "metadata": {},
   "outputs": [],
   "source": [
    "output_notebook()"
   ]
  },
  {
   "cell_type": "code",
   "execution_count": null,
   "id": "497ba913",
   "metadata": {},
   "outputs": [],
   "source": [
    "# Aggregate the sum of Mileage Total by Year and OPERATOR\n",
    "agg_df = mileage_df.groupby(['OPERATOR', 'Year'])['Mileage Total'].sum().reset_index()\n",
    "    \n",
    "# Filter to include only data for the top 10 operators\\n\",\n",
    "top_7_operators = mileage_df.groupby('OPERATOR')['Mileage Total'].sum().nlargest(7).index\n",
    "top_miles = agg_df[agg_df['OPERATOR'].isin(top_7_operators)]\n",
    "manufacturer_order = agg_df.groupby('OPERATOR')['Mileage Total'].sum().sort_values(ascending=False).index\n",
    "line_go_up = mileage_df.groupby(['Year'])['Mileage Total'].sum().reset_index()"
   ]
  },
  {
   "cell_type": "code",
   "execution_count": null,
   "id": "e19b5cf8",
   "metadata": {},
   "outputs": [],
   "source": [
    "# Create subplots to allow for a shared x-axis\n",
    "fig = make_subplots(specs=[[{\"secondary_y\": False}]])\n",
    "\n",
    "# Define colors using Viridis color scale\n",
    "colors = px.colors.sequential.Viridis[:len(top_miles['OPERATOR'].unique())]\n",
    "\n",
    "# Add bar chart for each operator\n",
    "operators = top_miles['OPERATOR'].unique()\n",
    "for i, operator in enumerate(operators):\n",
    "    df_filtered = top_miles[top_miles['OPERATOR'] == operator]\n",
    "    fig.add_trace(go.Bar(x=df_filtered['Year'], y=df_filtered['Mileage Total'], name=f\"{operator}\", text=operator,\n",
    "                         marker_color=colors[i]), secondary_y=False)\n",
    "\n",
    "# Add line graph\n",
    "fig.add_trace(go.Scatter(x=line_go_up['Year'], y=line_go_up['Mileage Total'], mode='lines+markers', name='Industry Yearly Total',\n",
    "                         marker_color='black'), secondary_y=False)\n",
    "\n",
    "# Update axes and layout\n",
    "fig.update_layout(title_text=\"Mileage by Year and Operator\", height=600, width=1200)\n",
    "fig.update_xaxes(title_text=\"Year\", tickmode='linear', dtick=1)\n",
    "fig.update_yaxes(title_text=\"Mileage Total\", secondary_y=False, showgrid=True)\n",
    "\n",
    "fig.write_image(\"Images/annual_mileage.jpg\")\n",
    "fig.show()"
   ]
  },
  {
   "cell_type": "markdown",
   "id": "5052dc66",
   "metadata": {},
   "source": [
    "### Disengagements across industry"
   ]
  },
  {
   "cell_type": "code",
   "execution_count": null,
   "id": "48bddba0",
   "metadata": {},
   "outputs": [],
   "source": [
    "combined_dis_df.head()"
   ]
  },
  {
   "cell_type": "code",
   "execution_count": null,
   "id": "3c93ed2b",
   "metadata": {},
   "outputs": [],
   "source": [
    "combined_dis_df[\"OPERATOR\"] = combined_dis_df[\"OPERATOR\"].replace(operator_name_dic)\n",
    "\n",
    "\n",
    "\n",
    "combined_dis_df[\"Year\"] = combined_dis_df[\"DATE\"].dt.year\n",
    "where_dis = combined_dis_df.groupby([\"DISENGAGEMENT LOCATION\"]).size().reset_index(name='Count')\n",
    "\n",
    "fig = px.bar(where_dis.sort_values(\"Count\", ascending=False),\n",
    "             x=\"DISENGAGEMENT LOCATION\",\n",
    "             y=\"Count\",\n",
    "             #color=\"OPERATOR\",\n",
    "             color_discrete_sequence= px.colors.sequential.Viridis)\n",
    "fig.update_layout(height=600, width=700, title=\"Location of Disengagements\")\n",
    "fig.write_image(\"Images/disengagement_locs.jpg\")\n",
    "fig.show()\n",
    "\n",
    "who_dis = combined_dis_df.groupby([\"INITIATED BY\"]).size().reset_index(name='Count')\n",
    "fig = px.bar(who_dis.sort_values(\"Count\", ascending=False),\n",
    "             x=\"INITIATED BY\",\n",
    "             y=\"Count\",\n",
    "             #color=\"OPERATOR\",\n",
    "             color_discrete_sequence= px.colors.sequential.Viridis)\n",
    "fig.update_layout(height=600, width=700, title=\"Disengagement Triggered By:\")\n",
    "fig.write_image(\"Images/disengagement_why.jpg\")\n",
    "fig.show()"
   ]
  },
  {
   "cell_type": "code",
   "execution_count": null,
   "id": "c02df8c7",
   "metadata": {},
   "outputs": [],
   "source": [
    "#### DISENGAGEMENTS PER THOUSAND MILES DRIVEN\n",
    "# Makes most sense to show by year on a per-company basis. \n",
    "\n",
    "# Group by manufacturer - get VIN count, total disengagments and total miles\n",
    "dptm = nonzero_mileage.groupby(['OPERATOR', 'Year']).agg({'Mileage Total': 'sum',\n",
    "                                                              'Annual Total of Disengagements': 'sum',\n",
    "                                                              'VIN NUMBER': 'nunique'}).reset_index()\n",
    "# Calculate DPTM\n",
    "dptm[\"Disengagements/Thousand Miles\"] = (dptm['Annual Total of Disengagements'] / (dptm['Mileage Total'] / 1000))\n",
    "\n",
    "# Lowest DPTM Operators\n",
    "smoothest_operators = dptm.groupby('OPERATOR')['Disengagements/Thousand Miles'].sum().nsmallest(10).index\n",
    "# Simple Yearly Aggregate of DPTM per Operator\n",
    "agg_2 = dptm.groupby(['OPERATOR', 'Year'])['Disengagements/Thousand Miles'].sum().reset_index()\n",
    "# agg_2 filtered by smoothest operators (best 10)\n",
    "lowest_disengage_rate = agg_2[agg_2['OPERATOR'].isin(smoothest_operators)]\n",
    "\n",
    "# DPTM df filtered down to 10 best @ DPTM\n",
    "dptm_filtered_10 = dptm[dptm['OPERATOR'].isin(smoothest_operators)]\n",
    "\n",
    "dptm_total = nonzero_mileage.groupby(['OPERATOR']).agg({'Mileage Total': 'sum',\n",
    "                                                              'Annual Total of Disengagements': 'sum'}).reset_index()\n",
    "dptm_total[\"Disengagements/Thousand Miles\"] = (dptm_total['Annual Total of Disengagements'] / (dptm_total['Mileage Total'] / 1000))\n",
    "\n",
    "dptm.head(30)"
   ]
  },
  {
   "cell_type": "markdown",
   "id": "f32f4e37",
   "metadata": {},
   "source": [
    "### Graphing RATE of dsengagements against total miles\n"
   ]
  },
  {
   "cell_type": "code",
   "execution_count": null,
   "id": "6b0504ab",
   "metadata": {},
   "outputs": [],
   "source": [
    "# Showing each operator each year \n",
    "fig = px.scatter(dptm, x=\"Mileage Total\", y=\"Disengagements/Thousand Miles\", color=\"OPERATOR\",\n",
    "                 color_discrete_sequence=px.colors.sequential.Viridis)\n",
    "fig.update_layout(title='Operator Yearly Disengagements Per Thousand Miles v. Total Mileage - All Operators', height=600, width=1200)\n",
    "fig.write_image(\"Images/disengagements_per_thousand_miles_vs_miles_driven.jpg\")\n",
    "fig.show()\n"
   ]
  },
  {
   "cell_type": "markdown",
   "id": "f8c8c09a",
   "metadata": {},
   "source": [
    "Causes of Disengagement"
   ]
  },
  {
   "cell_type": "code",
   "execution_count": null,
   "id": "cc49d473",
   "metadata": {},
   "outputs": [],
   "source": [
    "# Word cloud of Disengagement descriptions\n",
    "text = combined_dis_df[\"DESCRIPTION OF FACTS CAUSING DISENGAGEMENT\"].values \n",
    "\n",
    "coloring = np.array(Image.open('Images/av2.jpg'))\n",
    "stop_words = [\"vehicle\", \"/n\", \"Non\", \"road\"] + list(STOPWORDS)\n",
    "wordcloud = WordCloud(stopwords = stop_words,  max_font_size=500, random_state=3,mask=coloring).generate(str(text))\n",
    "\n",
    "image_colors = ImageColorGenerator(coloring)\n",
    "\n",
    "plt.imshow(wordcloud.recolor(color_func=image_colors), interpolation=\"bilinear\")\n",
    "plt.axis(\"off\")\n",
    "plt.figure()\n",
    "wordcloud.to_file(\"Images/disengagements_wc.jpg\")\n"
   ]
  },
  {
   "cell_type": "markdown",
   "id": "0165578b",
   "metadata": {},
   "source": [
    "## COLLSIONS !"
   ]
  },
  {
   "cell_type": "code",
   "execution_count": 258,
   "id": "c0d2cb12",
   "metadata": {},
   "outputs": [
    {
     "name": "stdout",
     "output_type": "stream",
     "text": [
      "['APOLLO AUTONOMOUS DRIVING USA' 'APPLE' 'ARGO AI' 'BEEP' 'CRUISE'\n",
      " 'GHOST AUTONOMY' 'GM CRUISE' 'LYFT'\n",
      " 'MERCEDES-BENZ RESEARCH & DEVELOPMENT NORTH AMERICA' 'NURO' 'PONYAI'\n",
      " 'ZOOX' 'WAYMO' 'WERIDE CORP' 'WERIDE' 'WERIDEAI']\n"
     ]
    },
    {
     "data": {
      "text/html": [
       "<div>\n",
       "<style scoped>\n",
       "    .dataframe tbody tr th:only-of-type {\n",
       "        vertical-align: middle;\n",
       "    }\n",
       "\n",
       "    .dataframe tbody tr th {\n",
       "        vertical-align: top;\n",
       "    }\n",
       "\n",
       "    .dataframe thead th {\n",
       "        text-align: right;\n",
       "    }\n",
       "</style>\n",
       "<table border=\"1\" class=\"dataframe\">\n",
       "  <thead>\n",
       "    <tr style=\"text-align: right;\">\n",
       "      <th></th>\n",
       "      <th>Operator</th>\n",
       "      <th>Business</th>\n",
       "      <th>Date_of_Accident</th>\n",
       "      <th>location</th>\n",
       "      <th>city</th>\n",
       "      <th>county</th>\n",
       "      <th>state</th>\n",
       "      <th>zip</th>\n",
       "      <th>Time_of_accident_24hr</th>\n",
       "    </tr>\n",
       "  </thead>\n",
       "  <tbody>\n",
       "    <tr>\n",
       "      <th>0</th>\n",
       "      <td>APOLLO AUTONOMOUS DRIVING USA</td>\n",
       "      <td>APOLLO AUTONOMOUS DRIVING USA</td>\n",
       "      <td>2023-06-29</td>\n",
       "      <td>Moraga St near 34th Ave</td>\n",
       "      <td>San Francisco</td>\n",
       "      <td>San Francisco</td>\n",
       "      <td>CA</td>\n",
       "      <td>94122</td>\n",
       "      <td>15:39:00</td>\n",
       "    </tr>\n",
       "    <tr>\n",
       "      <th>1</th>\n",
       "      <td>APPLE</td>\n",
       "      <td>APPLE</td>\n",
       "      <td>2024-01-26</td>\n",
       "      <td>I-580E and I-238 Junction</td>\n",
       "      <td>Castro Valley</td>\n",
       "      <td>Alameda</td>\n",
       "      <td>CA</td>\n",
       "      <td>94546</td>\n",
       "      <td>11:06:00</td>\n",
       "    </tr>\n",
       "    <tr>\n",
       "      <th>2</th>\n",
       "      <td>APPLE</td>\n",
       "      <td>APPLE</td>\n",
       "      <td>2021-09-27</td>\n",
       "      <td>N Mathilda Ave and Del Rey Ave</td>\n",
       "      <td>Sunnyvale</td>\n",
       "      <td>Santa Clara</td>\n",
       "      <td>CA</td>\n",
       "      <td>94085</td>\n",
       "      <td>10:53:00</td>\n",
       "    </tr>\n",
       "    <tr>\n",
       "      <th>3</th>\n",
       "      <td>APPLE</td>\n",
       "      <td>APPLE</td>\n",
       "      <td>2023-09-26</td>\n",
       "      <td>I-80 Westbound</td>\n",
       "      <td>Emeryville</td>\n",
       "      <td>Alameda</td>\n",
       "      <td>CA</td>\n",
       "      <td>94608</td>\n",
       "      <td>11:33:00</td>\n",
       "    </tr>\n",
       "    <tr>\n",
       "      <th>4</th>\n",
       "      <td>APPLE</td>\n",
       "      <td>APPLE</td>\n",
       "      <td>2023-09-29</td>\n",
       "      <td>US 101S near Capitol Expressway</td>\n",
       "      <td>San Jose</td>\n",
       "      <td>Santa Clara</td>\n",
       "      <td>CA</td>\n",
       "      <td>95121</td>\n",
       "      <td>14:58:00</td>\n",
       "    </tr>\n",
       "  </tbody>\n",
       "</table>\n",
       "</div>"
      ],
      "text/plain": [
       "                        Operator                       Business  \\\n",
       "0  APOLLO AUTONOMOUS DRIVING USA  APOLLO AUTONOMOUS DRIVING USA   \n",
       "1                          APPLE                          APPLE   \n",
       "2                          APPLE                          APPLE   \n",
       "3                          APPLE                          APPLE   \n",
       "4                          APPLE                          APPLE   \n",
       "\n",
       "  Date_of_Accident                         location           city  \\\n",
       "0       2023-06-29          Moraga St near 34th Ave  San Francisco   \n",
       "1       2024-01-26        I-580E and I-238 Junction  Castro Valley   \n",
       "2       2021-09-27   N Mathilda Ave and Del Rey Ave      Sunnyvale   \n",
       "3       2023-09-26                   I-80 Westbound     Emeryville   \n",
       "4       2023-09-29  US 101S near Capitol Expressway       San Jose   \n",
       "\n",
       "          county state    zip Time_of_accident_24hr  \n",
       "0  San Francisco    CA  94122              15:39:00  \n",
       "1        Alameda    CA  94546              11:06:00  \n",
       "2    Santa Clara    CA  94085              10:53:00  \n",
       "3        Alameda    CA  94608              11:33:00  \n",
       "4    Santa Clara    CA  95121              14:58:00  "
      ]
     },
     "execution_count": 258,
     "metadata": {},
     "output_type": "execute_result"
    }
   ],
   "source": [
    "# Import time and place collision data\n",
    "coll_time_place_df = pd.read_csv('data/collisions/dataframes/locations/crash_locations.csv')\n",
    "\n",
    "# Clean it:\n",
    "coll_columns_to_clean = [\"Operator\",\"Business\"]\n",
    "for i in coll_columns_to_clean:\n",
    "   coll_time_place_df = polish(coll_time_place_df, i)\n",
    "\n",
    "unique_operator = coll_time_place_df[\"Operator\"].unique()\n",
    "print(unique_operator)\n",
    "\n",
    "coll_time_place_df.head()\n"
   ]
  },
  {
   "cell_type": "markdown",
   "id": "506333cb",
   "metadata": {},
   "source": [
    "Collision time of day histogram"
   ]
  },
  {
   "cell_type": "code",
   "execution_count": 259,
   "id": "afd960c8",
   "metadata": {},
   "outputs": [
    {
     "name": "stderr",
     "output_type": "stream",
     "text": [
      "C:\\Users\\outdo\\AppData\\Local\\Temp\\ipykernel_19300\\649456874.py:2: UserWarning:\n",
      "\n",
      "Could not infer format, so each element will be parsed individually, falling back to `dateutil`. To ensure parsing is consistent and as-expected, please specify a format.\n",
      "\n"
     ]
    },
    {
     "data": {
      "application/vnd.plotly.v1+json": {
       "config": {
        "plotlyServerURL": "https://plot.ly"
       },
       "data": [
        {
         "alignmentgroup": "True",
         "bingroup": "x",
         "hovertemplate": "Business=CRUISE<br>Hour of Day=%{x}<br>count=%{y}<extra></extra>",
         "legendgroup": "CRUISE",
         "marker": {
          "color": "#440154",
          "pattern": {
           "shape": ""
          }
         },
         "name": "CRUISE",
         "nbinsx": 24,
         "offsetgroup": "CRUISE",
         "orientation": "v",
         "showlegend": true,
         "type": "histogram",
         "x": [
          "00",
          "01",
          "01",
          "01",
          "01",
          "01",
          "01",
          "01",
          "01",
          "02",
          "02",
          "03",
          "03",
          "03",
          "03",
          "03",
          "04",
          "04",
          "04",
          "04",
          "04",
          "05",
          "05",
          "06",
          "07",
          "08",
          "08",
          "08",
          "08",
          "09",
          "09",
          "09",
          "09",
          "09",
          "09",
          "10",
          "10",
          "10",
          "10",
          "10",
          "11",
          "11",
          "12",
          "12",
          "12",
          "12",
          "12",
          "12",
          "12",
          "12",
          "12",
          "13",
          "13",
          "13",
          "13",
          "14",
          "14",
          "14",
          "15",
          "15",
          "16",
          "16",
          "16",
          "16",
          "16",
          "16",
          "16",
          "16",
          "16",
          "16",
          "17",
          "17",
          "17",
          "17",
          "18",
          "18",
          "18",
          "19",
          "19",
          "19",
          "19",
          "19",
          "20",
          "20",
          "20",
          "21",
          "21",
          "21",
          "21",
          "21",
          "21",
          "21",
          "21",
          "22",
          "22",
          "22",
          "22",
          "22",
          "22",
          "23",
          "23",
          "23",
          "23",
          "23",
          "23",
          "23",
          "23",
          "23",
          "23",
          "23",
          "23"
         ],
         "xaxis": "x",
         "yaxis": "y"
        },
        {
         "alignmentgroup": "True",
         "bingroup": "x",
         "hovertemplate": "Business=WAYMO<br>Hour of Day=%{x}<br>count=%{y}<extra></extra>",
         "legendgroup": "WAYMO",
         "marker": {
          "color": "#482878",
          "pattern": {
           "shape": ""
          }
         },
         "name": "WAYMO",
         "nbinsx": 24,
         "offsetgroup": "WAYMO",
         "orientation": "v",
         "showlegend": true,
         "type": "histogram",
         "x": [
          "01",
          "01",
          "01",
          "01",
          "01",
          "02",
          "02",
          "02",
          "03",
          "03",
          "03",
          "05",
          "06",
          "06",
          "06",
          "06",
          "06",
          "06",
          "07",
          "07",
          "07",
          "07",
          "07",
          "07",
          "07",
          "08",
          "08",
          "08",
          "08",
          "09",
          "09",
          "09",
          "09",
          "09",
          "09",
          "09",
          "10",
          "10",
          "10",
          "10",
          "10",
          "10",
          "10",
          "10",
          "10",
          "10",
          "11",
          "11",
          "11",
          "12",
          "12",
          "12",
          "12",
          "12",
          "12",
          "12",
          "12",
          "12",
          "12",
          "12",
          "12",
          "12",
          "13",
          "13",
          "13",
          "13",
          "13",
          "14",
          "14",
          "14",
          "14",
          "14",
          "14",
          "15",
          "15",
          "15",
          "15",
          "15",
          "15",
          "15",
          "15",
          "15",
          "15",
          "15",
          "15",
          "16",
          "16",
          "16",
          "16",
          "16",
          "16",
          "16",
          "16",
          "16",
          "17",
          "17",
          "17",
          "17",
          "17",
          "17",
          "17",
          "17",
          "17",
          "17",
          "17",
          "17",
          "18",
          "18",
          "18",
          "19",
          "19",
          "19",
          "20",
          "20",
          "20",
          "20",
          "20",
          "20",
          "21",
          "21",
          "21",
          "21",
          "21",
          "21",
          "22",
          "22",
          "22",
          "23"
         ],
         "xaxis": "x",
         "yaxis": "y"
        },
        {
         "alignmentgroup": "True",
         "bingroup": "x",
         "hovertemplate": "Business=PONYAI<br>Hour of Day=%{x}<br>count=%{y}<extra></extra>",
         "legendgroup": "PONYAI",
         "marker": {
          "color": "#3e4989",
          "pattern": {
           "shape": ""
          }
         },
         "name": "PONYAI",
         "nbinsx": 24,
         "offsetgroup": "PONYAI",
         "orientation": "v",
         "showlegend": true,
         "type": "histogram",
         "x": [
          "02",
          "09",
          "10",
          "10",
          "11",
          "11",
          "12",
          "15"
         ],
         "xaxis": "x",
         "yaxis": "y"
        },
        {
         "alignmentgroup": "True",
         "bingroup": "x",
         "hovertemplate": "Business=LYFT<br>Hour of Day=%{x}<br>count=%{y}<extra></extra>",
         "legendgroup": "LYFT",
         "marker": {
          "color": "#31688e",
          "pattern": {
           "shape": ""
          }
         },
         "name": "LYFT",
         "nbinsx": 24,
         "offsetgroup": "LYFT",
         "orientation": "v",
         "showlegend": true,
         "type": "histogram",
         "x": [
          "02",
          "09"
         ],
         "xaxis": "x",
         "yaxis": "y"
        },
        {
         "alignmentgroup": "True",
         "bingroup": "x",
         "hovertemplate": "Business=MERCEDES-BENZ RESEARCH & DEVELOPMENT NORTH AMERICA<br>Hour of Day=%{x}<br>count=%{y}<extra></extra>",
         "legendgroup": "MERCEDES-BENZ RESEARCH & DEVELOPMENT NORTH AMERICA",
         "marker": {
          "color": "#26828e",
          "pattern": {
           "shape": ""
          }
         },
         "name": "MERCEDES-BENZ RESEARCH & DEVELOPMENT NORTH AMERICA",
         "nbinsx": 24,
         "offsetgroup": "MERCEDES-BENZ RESEARCH & DEVELOPMENT NORTH AMERICA",
         "orientation": "v",
         "showlegend": true,
         "type": "histogram",
         "x": [
          "08",
          "15"
         ],
         "xaxis": "x",
         "yaxis": "y"
        },
        {
         "alignmentgroup": "True",
         "bingroup": "x",
         "hovertemplate": "Business=ZOOX<br>Hour of Day=%{x}<br>count=%{y}<extra></extra>",
         "legendgroup": "ZOOX",
         "marker": {
          "color": "#1f9e89",
          "pattern": {
           "shape": ""
          }
         },
         "name": "ZOOX",
         "nbinsx": 24,
         "offsetgroup": "ZOOX",
         "orientation": "v",
         "showlegend": true,
         "type": "histogram",
         "x": [
          "08",
          "08",
          "10",
          "11",
          "11",
          "11",
          "11",
          "11",
          "11",
          "12",
          "13",
          "13",
          "13",
          "13",
          "13",
          "13",
          "13",
          "14",
          "14",
          "14",
          "14",
          "14",
          "14",
          "15",
          "17",
          "17",
          "17",
          "17",
          "18",
          "18",
          "20",
          "20",
          "20",
          "20",
          "21",
          "21",
          "21",
          "22"
         ],
         "xaxis": "x",
         "yaxis": "y"
        },
        {
         "alignmentgroup": "True",
         "bingroup": "x",
         "hovertemplate": "Business=ARGO AI<br>Hour of Day=%{x}<br>count=%{y}<extra></extra>",
         "legendgroup": "ARGO AI",
         "marker": {
          "color": "#35b779",
          "pattern": {
           "shape": ""
          }
         },
         "name": "ARGO AI",
         "nbinsx": 24,
         "offsetgroup": "ARGO AI",
         "orientation": "v",
         "showlegend": true,
         "type": "histogram",
         "x": [
          "09",
          "14",
          "17"
         ],
         "xaxis": "x",
         "yaxis": "y"
        },
        {
         "alignmentgroup": "True",
         "bingroup": "x",
         "hovertemplate": "Business=APPLE<br>Hour of Day=%{x}<br>count=%{y}<extra></extra>",
         "legendgroup": "APPLE",
         "marker": {
          "color": "#6ece58",
          "pattern": {
           "shape": ""
          }
         },
         "name": "APPLE",
         "nbinsx": 24,
         "offsetgroup": "APPLE",
         "orientation": "v",
         "showlegend": true,
         "type": "histogram",
         "x": [
          "10",
          "11",
          "11",
          "14"
         ],
         "xaxis": "x",
         "yaxis": "y"
        },
        {
         "alignmentgroup": "True",
         "bingroup": "x",
         "hovertemplate": "Business=WERIDEAI<br>Hour of Day=%{x}<br>count=%{y}<extra></extra>",
         "legendgroup": "WERIDEAI",
         "marker": {
          "color": "#b5de2b",
          "pattern": {
           "shape": ""
          }
         },
         "name": "WERIDEAI",
         "nbinsx": 24,
         "offsetgroup": "WERIDEAI",
         "orientation": "v",
         "showlegend": true,
         "type": "histogram",
         "x": [
          "11",
          "14"
         ],
         "xaxis": "x",
         "yaxis": "y"
        },
        {
         "alignmentgroup": "True",
         "bingroup": "x",
         "hovertemplate": "Business=WERIDE CORP<br>Hour of Day=%{x}<br>count=%{y}<extra></extra>",
         "legendgroup": "WERIDE CORP",
         "marker": {
          "color": "#fde725",
          "pattern": {
           "shape": ""
          }
         },
         "name": "WERIDE CORP",
         "nbinsx": 24,
         "offsetgroup": "WERIDE CORP",
         "orientation": "v",
         "showlegend": true,
         "type": "histogram",
         "x": [
          "11",
          "15"
         ],
         "xaxis": "x",
         "yaxis": "y"
        },
        {
         "alignmentgroup": "True",
         "bingroup": "x",
         "hovertemplate": "Business=WERIDE<br>Hour of Day=%{x}<br>count=%{y}<extra></extra>",
         "legendgroup": "WERIDE",
         "marker": {
          "color": "#440154",
          "pattern": {
           "shape": ""
          }
         },
         "name": "WERIDE",
         "nbinsx": 24,
         "offsetgroup": "WERIDE",
         "orientation": "v",
         "showlegend": true,
         "type": "histogram",
         "x": [
          "12",
          "13"
         ],
         "xaxis": "x",
         "yaxis": "y"
        },
        {
         "alignmentgroup": "True",
         "bingroup": "x",
         "hovertemplate": "Business=NURO<br>Hour of Day=%{x}<br>count=%{y}<extra></extra>",
         "legendgroup": "NURO",
         "marker": {
          "color": "#482878",
          "pattern": {
           "shape": ""
          }
         },
         "name": "NURO",
         "nbinsx": 24,
         "offsetgroup": "NURO",
         "orientation": "v",
         "showlegend": true,
         "type": "histogram",
         "x": [
          "14"
         ],
         "xaxis": "x",
         "yaxis": "y"
        },
        {
         "alignmentgroup": "True",
         "bingroup": "x",
         "hovertemplate": "Business=APOLLO AUTONOMOUS DRIVING USA<br>Hour of Day=%{x}<br>count=%{y}<extra></extra>",
         "legendgroup": "APOLLO AUTONOMOUS DRIVING USA",
         "marker": {
          "color": "#3e4989",
          "pattern": {
           "shape": ""
          }
         },
         "name": "APOLLO AUTONOMOUS DRIVING USA",
         "nbinsx": 24,
         "offsetgroup": "APOLLO AUTONOMOUS DRIVING USA",
         "orientation": "v",
         "showlegend": true,
         "type": "histogram",
         "x": [
          "15"
         ],
         "xaxis": "x",
         "yaxis": "y"
        },
        {
         "alignmentgroup": "True",
         "bingroup": "x",
         "hovertemplate": "Business=GHOST AUTONOMY<br>Hour of Day=%{x}<br>count=%{y}<extra></extra>",
         "legendgroup": "GHOST AUTONOMY",
         "marker": {
          "color": "#31688e",
          "pattern": {
           "shape": ""
          }
         },
         "name": "GHOST AUTONOMY",
         "nbinsx": 24,
         "offsetgroup": "GHOST AUTONOMY",
         "orientation": "v",
         "showlegend": true,
         "type": "histogram",
         "x": [
          "16"
         ],
         "xaxis": "x",
         "yaxis": "y"
        },
        {
         "alignmentgroup": "True",
         "bingroup": "x",
         "hovertemplate": "Business=BEEP<br>Hour of Day=%{x}<br>count=%{y}<extra></extra>",
         "legendgroup": "BEEP",
         "marker": {
          "color": "#26828e",
          "pattern": {
           "shape": ""
          }
         },
         "name": "BEEP",
         "nbinsx": 24,
         "offsetgroup": "BEEP",
         "orientation": "v",
         "showlegend": true,
         "type": "histogram",
         "x": [
          "17"
         ],
         "xaxis": "x",
         "yaxis": "y"
        }
       ],
       "layout": {
        "barmode": "relative",
        "height": 600,
        "legend": {
         "title": {
          "text": "Business"
         },
         "tracegroupgap": 0
        },
        "template": {
         "data": {
          "bar": [
           {
            "error_x": {
             "color": "#2a3f5f"
            },
            "error_y": {
             "color": "#2a3f5f"
            },
            "marker": {
             "line": {
              "color": "#E5ECF6",
              "width": 0.5
             },
             "pattern": {
              "fillmode": "overlay",
              "size": 10,
              "solidity": 0.2
             }
            },
            "type": "bar"
           }
          ],
          "barpolar": [
           {
            "marker": {
             "line": {
              "color": "#E5ECF6",
              "width": 0.5
             },
             "pattern": {
              "fillmode": "overlay",
              "size": 10,
              "solidity": 0.2
             }
            },
            "type": "barpolar"
           }
          ],
          "carpet": [
           {
            "aaxis": {
             "endlinecolor": "#2a3f5f",
             "gridcolor": "white",
             "linecolor": "white",
             "minorgridcolor": "white",
             "startlinecolor": "#2a3f5f"
            },
            "baxis": {
             "endlinecolor": "#2a3f5f",
             "gridcolor": "white",
             "linecolor": "white",
             "minorgridcolor": "white",
             "startlinecolor": "#2a3f5f"
            },
            "type": "carpet"
           }
          ],
          "choropleth": [
           {
            "colorbar": {
             "outlinewidth": 0,
             "ticks": ""
            },
            "type": "choropleth"
           }
          ],
          "contour": [
           {
            "colorbar": {
             "outlinewidth": 0,
             "ticks": ""
            },
            "colorscale": [
             [
              0,
              "#0d0887"
             ],
             [
              0.1111111111111111,
              "#46039f"
             ],
             [
              0.2222222222222222,
              "#7201a8"
             ],
             [
              0.3333333333333333,
              "#9c179e"
             ],
             [
              0.4444444444444444,
              "#bd3786"
             ],
             [
              0.5555555555555556,
              "#d8576b"
             ],
             [
              0.6666666666666666,
              "#ed7953"
             ],
             [
              0.7777777777777778,
              "#fb9f3a"
             ],
             [
              0.8888888888888888,
              "#fdca26"
             ],
             [
              1,
              "#f0f921"
             ]
            ],
            "type": "contour"
           }
          ],
          "contourcarpet": [
           {
            "colorbar": {
             "outlinewidth": 0,
             "ticks": ""
            },
            "type": "contourcarpet"
           }
          ],
          "heatmap": [
           {
            "colorbar": {
             "outlinewidth": 0,
             "ticks": ""
            },
            "colorscale": [
             [
              0,
              "#0d0887"
             ],
             [
              0.1111111111111111,
              "#46039f"
             ],
             [
              0.2222222222222222,
              "#7201a8"
             ],
             [
              0.3333333333333333,
              "#9c179e"
             ],
             [
              0.4444444444444444,
              "#bd3786"
             ],
             [
              0.5555555555555556,
              "#d8576b"
             ],
             [
              0.6666666666666666,
              "#ed7953"
             ],
             [
              0.7777777777777778,
              "#fb9f3a"
             ],
             [
              0.8888888888888888,
              "#fdca26"
             ],
             [
              1,
              "#f0f921"
             ]
            ],
            "type": "heatmap"
           }
          ],
          "heatmapgl": [
           {
            "colorbar": {
             "outlinewidth": 0,
             "ticks": ""
            },
            "colorscale": [
             [
              0,
              "#0d0887"
             ],
             [
              0.1111111111111111,
              "#46039f"
             ],
             [
              0.2222222222222222,
              "#7201a8"
             ],
             [
              0.3333333333333333,
              "#9c179e"
             ],
             [
              0.4444444444444444,
              "#bd3786"
             ],
             [
              0.5555555555555556,
              "#d8576b"
             ],
             [
              0.6666666666666666,
              "#ed7953"
             ],
             [
              0.7777777777777778,
              "#fb9f3a"
             ],
             [
              0.8888888888888888,
              "#fdca26"
             ],
             [
              1,
              "#f0f921"
             ]
            ],
            "type": "heatmapgl"
           }
          ],
          "histogram": [
           {
            "marker": {
             "pattern": {
              "fillmode": "overlay",
              "size": 10,
              "solidity": 0.2
             }
            },
            "type": "histogram"
           }
          ],
          "histogram2d": [
           {
            "colorbar": {
             "outlinewidth": 0,
             "ticks": ""
            },
            "colorscale": [
             [
              0,
              "#0d0887"
             ],
             [
              0.1111111111111111,
              "#46039f"
             ],
             [
              0.2222222222222222,
              "#7201a8"
             ],
             [
              0.3333333333333333,
              "#9c179e"
             ],
             [
              0.4444444444444444,
              "#bd3786"
             ],
             [
              0.5555555555555556,
              "#d8576b"
             ],
             [
              0.6666666666666666,
              "#ed7953"
             ],
             [
              0.7777777777777778,
              "#fb9f3a"
             ],
             [
              0.8888888888888888,
              "#fdca26"
             ],
             [
              1,
              "#f0f921"
             ]
            ],
            "type": "histogram2d"
           }
          ],
          "histogram2dcontour": [
           {
            "colorbar": {
             "outlinewidth": 0,
             "ticks": ""
            },
            "colorscale": [
             [
              0,
              "#0d0887"
             ],
             [
              0.1111111111111111,
              "#46039f"
             ],
             [
              0.2222222222222222,
              "#7201a8"
             ],
             [
              0.3333333333333333,
              "#9c179e"
             ],
             [
              0.4444444444444444,
              "#bd3786"
             ],
             [
              0.5555555555555556,
              "#d8576b"
             ],
             [
              0.6666666666666666,
              "#ed7953"
             ],
             [
              0.7777777777777778,
              "#fb9f3a"
             ],
             [
              0.8888888888888888,
              "#fdca26"
             ],
             [
              1,
              "#f0f921"
             ]
            ],
            "type": "histogram2dcontour"
           }
          ],
          "mesh3d": [
           {
            "colorbar": {
             "outlinewidth": 0,
             "ticks": ""
            },
            "type": "mesh3d"
           }
          ],
          "parcoords": [
           {
            "line": {
             "colorbar": {
              "outlinewidth": 0,
              "ticks": ""
             }
            },
            "type": "parcoords"
           }
          ],
          "pie": [
           {
            "automargin": true,
            "type": "pie"
           }
          ],
          "scatter": [
           {
            "fillpattern": {
             "fillmode": "overlay",
             "size": 10,
             "solidity": 0.2
            },
            "type": "scatter"
           }
          ],
          "scatter3d": [
           {
            "line": {
             "colorbar": {
              "outlinewidth": 0,
              "ticks": ""
             }
            },
            "marker": {
             "colorbar": {
              "outlinewidth": 0,
              "ticks": ""
             }
            },
            "type": "scatter3d"
           }
          ],
          "scattercarpet": [
           {
            "marker": {
             "colorbar": {
              "outlinewidth": 0,
              "ticks": ""
             }
            },
            "type": "scattercarpet"
           }
          ],
          "scattergeo": [
           {
            "marker": {
             "colorbar": {
              "outlinewidth": 0,
              "ticks": ""
             }
            },
            "type": "scattergeo"
           }
          ],
          "scattergl": [
           {
            "marker": {
             "colorbar": {
              "outlinewidth": 0,
              "ticks": ""
             }
            },
            "type": "scattergl"
           }
          ],
          "scattermapbox": [
           {
            "marker": {
             "colorbar": {
              "outlinewidth": 0,
              "ticks": ""
             }
            },
            "type": "scattermapbox"
           }
          ],
          "scatterpolar": [
           {
            "marker": {
             "colorbar": {
              "outlinewidth": 0,
              "ticks": ""
             }
            },
            "type": "scatterpolar"
           }
          ],
          "scatterpolargl": [
           {
            "marker": {
             "colorbar": {
              "outlinewidth": 0,
              "ticks": ""
             }
            },
            "type": "scatterpolargl"
           }
          ],
          "scatterternary": [
           {
            "marker": {
             "colorbar": {
              "outlinewidth": 0,
              "ticks": ""
             }
            },
            "type": "scatterternary"
           }
          ],
          "surface": [
           {
            "colorbar": {
             "outlinewidth": 0,
             "ticks": ""
            },
            "colorscale": [
             [
              0,
              "#0d0887"
             ],
             [
              0.1111111111111111,
              "#46039f"
             ],
             [
              0.2222222222222222,
              "#7201a8"
             ],
             [
              0.3333333333333333,
              "#9c179e"
             ],
             [
              0.4444444444444444,
              "#bd3786"
             ],
             [
              0.5555555555555556,
              "#d8576b"
             ],
             [
              0.6666666666666666,
              "#ed7953"
             ],
             [
              0.7777777777777778,
              "#fb9f3a"
             ],
             [
              0.8888888888888888,
              "#fdca26"
             ],
             [
              1,
              "#f0f921"
             ]
            ],
            "type": "surface"
           }
          ],
          "table": [
           {
            "cells": {
             "fill": {
              "color": "#EBF0F8"
             },
             "line": {
              "color": "white"
             }
            },
            "header": {
             "fill": {
              "color": "#C8D4E3"
             },
             "line": {
              "color": "white"
             }
            },
            "type": "table"
           }
          ]
         },
         "layout": {
          "annotationdefaults": {
           "arrowcolor": "#2a3f5f",
           "arrowhead": 0,
           "arrowwidth": 1
          },
          "autotypenumbers": "strict",
          "coloraxis": {
           "colorbar": {
            "outlinewidth": 0,
            "ticks": ""
           }
          },
          "colorscale": {
           "diverging": [
            [
             0,
             "#8e0152"
            ],
            [
             0.1,
             "#c51b7d"
            ],
            [
             0.2,
             "#de77ae"
            ],
            [
             0.3,
             "#f1b6da"
            ],
            [
             0.4,
             "#fde0ef"
            ],
            [
             0.5,
             "#f7f7f7"
            ],
            [
             0.6,
             "#e6f5d0"
            ],
            [
             0.7,
             "#b8e186"
            ],
            [
             0.8,
             "#7fbc41"
            ],
            [
             0.9,
             "#4d9221"
            ],
            [
             1,
             "#276419"
            ]
           ],
           "sequential": [
            [
             0,
             "#0d0887"
            ],
            [
             0.1111111111111111,
             "#46039f"
            ],
            [
             0.2222222222222222,
             "#7201a8"
            ],
            [
             0.3333333333333333,
             "#9c179e"
            ],
            [
             0.4444444444444444,
             "#bd3786"
            ],
            [
             0.5555555555555556,
             "#d8576b"
            ],
            [
             0.6666666666666666,
             "#ed7953"
            ],
            [
             0.7777777777777778,
             "#fb9f3a"
            ],
            [
             0.8888888888888888,
             "#fdca26"
            ],
            [
             1,
             "#f0f921"
            ]
           ],
           "sequentialminus": [
            [
             0,
             "#0d0887"
            ],
            [
             0.1111111111111111,
             "#46039f"
            ],
            [
             0.2222222222222222,
             "#7201a8"
            ],
            [
             0.3333333333333333,
             "#9c179e"
            ],
            [
             0.4444444444444444,
             "#bd3786"
            ],
            [
             0.5555555555555556,
             "#d8576b"
            ],
            [
             0.6666666666666666,
             "#ed7953"
            ],
            [
             0.7777777777777778,
             "#fb9f3a"
            ],
            [
             0.8888888888888888,
             "#fdca26"
            ],
            [
             1,
             "#f0f921"
            ]
           ]
          },
          "colorway": [
           "#636efa",
           "#EF553B",
           "#00cc96",
           "#ab63fa",
           "#FFA15A",
           "#19d3f3",
           "#FF6692",
           "#B6E880",
           "#FF97FF",
           "#FECB52"
          ],
          "font": {
           "color": "#2a3f5f"
          },
          "geo": {
           "bgcolor": "white",
           "lakecolor": "white",
           "landcolor": "#E5ECF6",
           "showlakes": true,
           "showland": true,
           "subunitcolor": "white"
          },
          "hoverlabel": {
           "align": "left"
          },
          "hovermode": "closest",
          "mapbox": {
           "style": "light"
          },
          "paper_bgcolor": "white",
          "plot_bgcolor": "#E5ECF6",
          "polar": {
           "angularaxis": {
            "gridcolor": "white",
            "linecolor": "white",
            "ticks": ""
           },
           "bgcolor": "#E5ECF6",
           "radialaxis": {
            "gridcolor": "white",
            "linecolor": "white",
            "ticks": ""
           }
          },
          "scene": {
           "xaxis": {
            "backgroundcolor": "#E5ECF6",
            "gridcolor": "white",
            "gridwidth": 2,
            "linecolor": "white",
            "showbackground": true,
            "ticks": "",
            "zerolinecolor": "white"
           },
           "yaxis": {
            "backgroundcolor": "#E5ECF6",
            "gridcolor": "white",
            "gridwidth": 2,
            "linecolor": "white",
            "showbackground": true,
            "ticks": "",
            "zerolinecolor": "white"
           },
           "zaxis": {
            "backgroundcolor": "#E5ECF6",
            "gridcolor": "white",
            "gridwidth": 2,
            "linecolor": "white",
            "showbackground": true,
            "ticks": "",
            "zerolinecolor": "white"
           }
          },
          "shapedefaults": {
           "line": {
            "color": "#2a3f5f"
           }
          },
          "ternary": {
           "aaxis": {
            "gridcolor": "white",
            "linecolor": "white",
            "ticks": ""
           },
           "baxis": {
            "gridcolor": "white",
            "linecolor": "white",
            "ticks": ""
           },
           "bgcolor": "#E5ECF6",
           "caxis": {
            "gridcolor": "white",
            "linecolor": "white",
            "ticks": ""
           }
          },
          "title": {
           "x": 0.05
          },
          "xaxis": {
           "automargin": true,
           "gridcolor": "white",
           "linecolor": "white",
           "ticks": "",
           "title": {
            "standoff": 15
           },
           "zerolinecolor": "white",
           "zerolinewidth": 2
          },
          "yaxis": {
           "automargin": true,
           "gridcolor": "white",
           "linecolor": "white",
           "ticks": "",
           "title": {
            "standoff": 15
           },
           "zerolinecolor": "white",
           "zerolinewidth": 2
          }
         }
        },
        "title": {
         "text": "Autonomy Collisions by Time of Day"
        },
        "width": 1200,
        "xaxis": {
         "anchor": "y",
         "domain": [
          0,
          1
         ],
         "title": {
          "text": "Hour of Day"
         }
        },
        "yaxis": {
         "anchor": "x",
         "domain": [
          0,
          1
         ],
         "title": {
          "text": "Number of Collisions"
         }
        }
       }
      }
     },
     "metadata": {},
     "output_type": "display_data"
    }
   ],
   "source": [
    "# temprorary column to fix binning issues\n",
    "coll_time_place_df['Hour_of_day'] = pd.to_datetime(coll_time_place_df['Time_of_accident_24hr']).dt.strftime('%H')\n",
    "\n",
    "# Plot a histogram with Plotly Express\n",
    "fig = px.histogram(coll_time_place_df.sort_values('Hour_of_day'), \n",
    "                   x='Hour_of_day',\n",
    "                   title='Autonomy Collisions by Time of Day',\n",
    "                   nbins=24,  # One bin for each hour\n",
    "                   labels={'Hour_of_day': 'Hour of Day', 'count': 'Number of Collisions'},\n",
    "                   color='Business',  # Color by operator\n",
    "                   color_discrete_sequence=px.colors.sequential.Viridis\n",
    "                  )\n",
    "\n",
    "fig.update_layout(xaxis_title='Hour of Day', yaxis_title='Number of Collisions', height=600, width=1200)\n",
    "fig.write_image('Images/collisions_by_hour.jpg')\n",
    "fig.show()\n",
    "\n",
    "#drop temp column\n",
    "coll_time_place_df.drop(columns=([\"Hour_of_day\"]), inplace=True)\n"
   ]
  },
  {
   "cell_type": "markdown",
   "id": "19f454f1",
   "metadata": {},
   "source": [
    "Collision Day of Year histogram"
   ]
  },
  {
   "cell_type": "code",
   "execution_count": 260,
   "id": "d7ebe433",
   "metadata": {},
   "outputs": [
    {
     "data": {
      "text/html": [
       "<div>\n",
       "<style scoped>\n",
       "    .dataframe tbody tr th:only-of-type {\n",
       "        vertical-align: middle;\n",
       "    }\n",
       "\n",
       "    .dataframe tbody tr th {\n",
       "        vertical-align: top;\n",
       "    }\n",
       "\n",
       "    .dataframe thead th {\n",
       "        text-align: right;\n",
       "    }\n",
       "</style>\n",
       "<table border=\"1\" class=\"dataframe\">\n",
       "  <thead>\n",
       "    <tr style=\"text-align: right;\">\n",
       "      <th></th>\n",
       "      <th>Operator</th>\n",
       "      <th>Business</th>\n",
       "      <th>Date_of_Accident</th>\n",
       "      <th>location</th>\n",
       "      <th>city</th>\n",
       "      <th>county</th>\n",
       "      <th>state</th>\n",
       "      <th>zip</th>\n",
       "      <th>Time_of_accident_24hr</th>\n",
       "      <th>Month</th>\n",
       "    </tr>\n",
       "  </thead>\n",
       "  <tbody>\n",
       "    <tr>\n",
       "      <th>0</th>\n",
       "      <td>APOLLO AUTONOMOUS DRIVING USA</td>\n",
       "      <td>APOLLO AUTONOMOUS DRIVING USA</td>\n",
       "      <td>2023-06-29</td>\n",
       "      <td>Moraga St near 34th Ave</td>\n",
       "      <td>San Francisco</td>\n",
       "      <td>San Francisco</td>\n",
       "      <td>CA</td>\n",
       "      <td>94122</td>\n",
       "      <td>15:39:00</td>\n",
       "      <td>6.0</td>\n",
       "    </tr>\n",
       "    <tr>\n",
       "      <th>1</th>\n",
       "      <td>APPLE</td>\n",
       "      <td>APPLE</td>\n",
       "      <td>2024-01-26</td>\n",
       "      <td>I-580E and I-238 Junction</td>\n",
       "      <td>Castro Valley</td>\n",
       "      <td>Alameda</td>\n",
       "      <td>CA</td>\n",
       "      <td>94546</td>\n",
       "      <td>11:06:00</td>\n",
       "      <td>1.0</td>\n",
       "    </tr>\n",
       "    <tr>\n",
       "      <th>2</th>\n",
       "      <td>APPLE</td>\n",
       "      <td>APPLE</td>\n",
       "      <td>2021-09-27</td>\n",
       "      <td>N Mathilda Ave and Del Rey Ave</td>\n",
       "      <td>Sunnyvale</td>\n",
       "      <td>Santa Clara</td>\n",
       "      <td>CA</td>\n",
       "      <td>94085</td>\n",
       "      <td>10:53:00</td>\n",
       "      <td>9.0</td>\n",
       "    </tr>\n",
       "    <tr>\n",
       "      <th>3</th>\n",
       "      <td>APPLE</td>\n",
       "      <td>APPLE</td>\n",
       "      <td>2023-09-26</td>\n",
       "      <td>I-80 Westbound</td>\n",
       "      <td>Emeryville</td>\n",
       "      <td>Alameda</td>\n",
       "      <td>CA</td>\n",
       "      <td>94608</td>\n",
       "      <td>11:33:00</td>\n",
       "      <td>9.0</td>\n",
       "    </tr>\n",
       "    <tr>\n",
       "      <th>4</th>\n",
       "      <td>APPLE</td>\n",
       "      <td>APPLE</td>\n",
       "      <td>2023-09-29</td>\n",
       "      <td>US 101S near Capitol Expressway</td>\n",
       "      <td>San Jose</td>\n",
       "      <td>Santa Clara</td>\n",
       "      <td>CA</td>\n",
       "      <td>95121</td>\n",
       "      <td>14:58:00</td>\n",
       "      <td>9.0</td>\n",
       "    </tr>\n",
       "  </tbody>\n",
       "</table>\n",
       "</div>"
      ],
      "text/plain": [
       "                        Operator                       Business  \\\n",
       "0  APOLLO AUTONOMOUS DRIVING USA  APOLLO AUTONOMOUS DRIVING USA   \n",
       "1                          APPLE                          APPLE   \n",
       "2                          APPLE                          APPLE   \n",
       "3                          APPLE                          APPLE   \n",
       "4                          APPLE                          APPLE   \n",
       "\n",
       "  Date_of_Accident                         location           city  \\\n",
       "0       2023-06-29          Moraga St near 34th Ave  San Francisco   \n",
       "1       2024-01-26        I-580E and I-238 Junction  Castro Valley   \n",
       "2       2021-09-27   N Mathilda Ave and Del Rey Ave      Sunnyvale   \n",
       "3       2023-09-26                   I-80 Westbound     Emeryville   \n",
       "4       2023-09-29  US 101S near Capitol Expressway       San Jose   \n",
       "\n",
       "          county state    zip Time_of_accident_24hr  Month  \n",
       "0  San Francisco    CA  94122              15:39:00    6.0  \n",
       "1        Alameda    CA  94546              11:06:00    1.0  \n",
       "2    Santa Clara    CA  94085              10:53:00    9.0  \n",
       "3        Alameda    CA  94608              11:33:00    9.0  \n",
       "4    Santa Clara    CA  95121              14:58:00    9.0  "
      ]
     },
     "execution_count": 260,
     "metadata": {},
     "output_type": "execute_result"
    }
   ],
   "source": [
    "# Convert 'Date_of_Accident' to datetime\n",
    "coll_time_place_df['Date_of_Accident'] = pd.to_datetime(coll_time_place_df['Date_of_Accident'])\n",
    "# Get mm-DD pair\n",
    "coll_time_place_df['Month'] = coll_time_place_df['Date_of_Accident'].dt.month\n",
    "coll_time_place_df.head()"
   ]
  },
  {
   "cell_type": "code",
   "execution_count": 261,
   "id": "2649bd3e",
   "metadata": {},
   "outputs": [
    {
     "data": {
      "application/vnd.plotly.v1+json": {
       "config": {
        "plotlyServerURL": "https://plot.ly"
       },
       "data": [
        {
         "alignmentgroup": "True",
         "hovertemplate": "Month=%{x}<br>Number of Collisions=%{y}<extra></extra>",
         "legendgroup": "January",
         "marker": {
          "color": "#482878",
          "pattern": {
           "shape": ""
          }
         },
         "name": "January",
         "offsetgroup": "January",
         "orientation": "v",
         "showlegend": true,
         "textposition": "auto",
         "type": "bar",
         "x": [
          "January"
         ],
         "xaxis": "x",
         "y": [
          26
         ],
         "yaxis": "y"
        },
        {
         "alignmentgroup": "True",
         "hovertemplate": "Month=%{x}<br>Number of Collisions=%{y}<extra></extra>",
         "legendgroup": "February",
         "marker": {
          "color": "#482878",
          "pattern": {
           "shape": ""
          }
         },
         "name": "February",
         "offsetgroup": "February",
         "orientation": "v",
         "showlegend": true,
         "textposition": "auto",
         "type": "bar",
         "x": [
          "February"
         ],
         "xaxis": "x",
         "y": [
          27
         ],
         "yaxis": "y"
        },
        {
         "alignmentgroup": "True",
         "hovertemplate": "Month=%{x}<br>Number of Collisions=%{y}<extra></extra>",
         "legendgroup": "March",
         "marker": {
          "color": "#482878",
          "pattern": {
           "shape": ""
          }
         },
         "name": "March",
         "offsetgroup": "March",
         "orientation": "v",
         "showlegend": true,
         "textposition": "auto",
         "type": "bar",
         "x": [
          "March"
         ],
         "xaxis": "x",
         "y": [
          30
         ],
         "yaxis": "y"
        },
        {
         "alignmentgroup": "True",
         "hovertemplate": "Month=%{x}<br>Number of Collisions=%{y}<extra></extra>",
         "legendgroup": "April",
         "marker": {
          "color": "#482878",
          "pattern": {
           "shape": ""
          }
         },
         "name": "April",
         "offsetgroup": "April",
         "orientation": "v",
         "showlegend": true,
         "textposition": "auto",
         "type": "bar",
         "x": [
          "April"
         ],
         "xaxis": "x",
         "y": [
          26
         ],
         "yaxis": "y"
        },
        {
         "alignmentgroup": "True",
         "hovertemplate": "Month=%{x}<br>Number of Collisions=%{y}<extra></extra>",
         "legendgroup": "May",
         "marker": {
          "color": "#482878",
          "pattern": {
           "shape": ""
          }
         },
         "name": "May",
         "offsetgroup": "May",
         "orientation": "v",
         "showlegend": true,
         "textposition": "auto",
         "type": "bar",
         "x": [
          "May"
         ],
         "xaxis": "x",
         "y": [
          27
         ],
         "yaxis": "y"
        },
        {
         "alignmentgroup": "True",
         "hovertemplate": "Month=%{x}<br>Number of Collisions=%{y}<extra></extra>",
         "legendgroup": "June",
         "marker": {
          "color": "#482878",
          "pattern": {
           "shape": ""
          }
         },
         "name": "June",
         "offsetgroup": "June",
         "orientation": "v",
         "showlegend": true,
         "textposition": "auto",
         "type": "bar",
         "x": [
          "June"
         ],
         "xaxis": "x",
         "y": [
          28
         ],
         "yaxis": "y"
        },
        {
         "alignmentgroup": "True",
         "hovertemplate": "Month=%{x}<br>Number of Collisions=%{y}<extra></extra>",
         "legendgroup": "July",
         "marker": {
          "color": "#482878",
          "pattern": {
           "shape": ""
          }
         },
         "name": "July",
         "offsetgroup": "July",
         "orientation": "v",
         "showlegend": true,
         "textposition": "auto",
         "type": "bar",
         "x": [
          "July"
         ],
         "xaxis": "x",
         "y": [
          28
         ],
         "yaxis": "y"
        },
        {
         "alignmentgroup": "True",
         "hovertemplate": "Month=%{x}<br>Number of Collisions=%{y}<extra></extra>",
         "legendgroup": "August",
         "marker": {
          "color": "#482878",
          "pattern": {
           "shape": ""
          }
         },
         "name": "August",
         "offsetgroup": "August",
         "orientation": "v",
         "showlegend": true,
         "textposition": "auto",
         "type": "bar",
         "x": [
          "August"
         ],
         "xaxis": "x",
         "y": [
          29
         ],
         "yaxis": "y"
        },
        {
         "alignmentgroup": "True",
         "hovertemplate": "Month=%{x}<br>Number of Collisions=%{y}<extra></extra>",
         "legendgroup": "September",
         "marker": {
          "color": "#482878",
          "pattern": {
           "shape": ""
          }
         },
         "name": "September",
         "offsetgroup": "September",
         "orientation": "v",
         "showlegend": true,
         "textposition": "auto",
         "type": "bar",
         "x": [
          "September"
         ],
         "xaxis": "x",
         "y": [
          21
         ],
         "yaxis": "y"
        },
        {
         "alignmentgroup": "True",
         "hovertemplate": "Month=%{x}<br>Number of Collisions=%{y}<extra></extra>",
         "legendgroup": "October",
         "marker": {
          "color": "#482878",
          "pattern": {
           "shape": ""
          }
         },
         "name": "October",
         "offsetgroup": "October",
         "orientation": "v",
         "showlegend": true,
         "textposition": "auto",
         "type": "bar",
         "x": [
          "October"
         ],
         "xaxis": "x",
         "y": [
          23
         ],
         "yaxis": "y"
        },
        {
         "alignmentgroup": "True",
         "hovertemplate": "Month=%{x}<br>Number of Collisions=%{y}<extra></extra>",
         "legendgroup": "November",
         "marker": {
          "color": "#482878",
          "pattern": {
           "shape": ""
          }
         },
         "name": "November",
         "offsetgroup": "November",
         "orientation": "v",
         "showlegend": true,
         "textposition": "auto",
         "type": "bar",
         "x": [
          "November"
         ],
         "xaxis": "x",
         "y": [
          21
         ],
         "yaxis": "y"
        },
        {
         "alignmentgroup": "True",
         "hovertemplate": "Month=%{x}<br>Number of Collisions=%{y}<extra></extra>",
         "legendgroup": "December",
         "marker": {
          "color": "#482878",
          "pattern": {
           "shape": ""
          }
         },
         "name": "December",
         "offsetgroup": "December",
         "orientation": "v",
         "showlegend": true,
         "textposition": "auto",
         "type": "bar",
         "x": [
          "December"
         ],
         "xaxis": "x",
         "y": [
          17
         ],
         "yaxis": "y"
        }
       ],
       "layout": {
        "barmode": "relative",
        "height": 600,
        "legend": {
         "title": {
          "text": "Month"
         },
         "tracegroupgap": 0
        },
        "showlegend": false,
        "template": {
         "data": {
          "bar": [
           {
            "error_x": {
             "color": "#2a3f5f"
            },
            "error_y": {
             "color": "#2a3f5f"
            },
            "marker": {
             "line": {
              "color": "#E5ECF6",
              "width": 0.5
             },
             "pattern": {
              "fillmode": "overlay",
              "size": 10,
              "solidity": 0.2
             }
            },
            "type": "bar"
           }
          ],
          "barpolar": [
           {
            "marker": {
             "line": {
              "color": "#E5ECF6",
              "width": 0.5
             },
             "pattern": {
              "fillmode": "overlay",
              "size": 10,
              "solidity": 0.2
             }
            },
            "type": "barpolar"
           }
          ],
          "carpet": [
           {
            "aaxis": {
             "endlinecolor": "#2a3f5f",
             "gridcolor": "white",
             "linecolor": "white",
             "minorgridcolor": "white",
             "startlinecolor": "#2a3f5f"
            },
            "baxis": {
             "endlinecolor": "#2a3f5f",
             "gridcolor": "white",
             "linecolor": "white",
             "minorgridcolor": "white",
             "startlinecolor": "#2a3f5f"
            },
            "type": "carpet"
           }
          ],
          "choropleth": [
           {
            "colorbar": {
             "outlinewidth": 0,
             "ticks": ""
            },
            "type": "choropleth"
           }
          ],
          "contour": [
           {
            "colorbar": {
             "outlinewidth": 0,
             "ticks": ""
            },
            "colorscale": [
             [
              0,
              "#0d0887"
             ],
             [
              0.1111111111111111,
              "#46039f"
             ],
             [
              0.2222222222222222,
              "#7201a8"
             ],
             [
              0.3333333333333333,
              "#9c179e"
             ],
             [
              0.4444444444444444,
              "#bd3786"
             ],
             [
              0.5555555555555556,
              "#d8576b"
             ],
             [
              0.6666666666666666,
              "#ed7953"
             ],
             [
              0.7777777777777778,
              "#fb9f3a"
             ],
             [
              0.8888888888888888,
              "#fdca26"
             ],
             [
              1,
              "#f0f921"
             ]
            ],
            "type": "contour"
           }
          ],
          "contourcarpet": [
           {
            "colorbar": {
             "outlinewidth": 0,
             "ticks": ""
            },
            "type": "contourcarpet"
           }
          ],
          "heatmap": [
           {
            "colorbar": {
             "outlinewidth": 0,
             "ticks": ""
            },
            "colorscale": [
             [
              0,
              "#0d0887"
             ],
             [
              0.1111111111111111,
              "#46039f"
             ],
             [
              0.2222222222222222,
              "#7201a8"
             ],
             [
              0.3333333333333333,
              "#9c179e"
             ],
             [
              0.4444444444444444,
              "#bd3786"
             ],
             [
              0.5555555555555556,
              "#d8576b"
             ],
             [
              0.6666666666666666,
              "#ed7953"
             ],
             [
              0.7777777777777778,
              "#fb9f3a"
             ],
             [
              0.8888888888888888,
              "#fdca26"
             ],
             [
              1,
              "#f0f921"
             ]
            ],
            "type": "heatmap"
           }
          ],
          "heatmapgl": [
           {
            "colorbar": {
             "outlinewidth": 0,
             "ticks": ""
            },
            "colorscale": [
             [
              0,
              "#0d0887"
             ],
             [
              0.1111111111111111,
              "#46039f"
             ],
             [
              0.2222222222222222,
              "#7201a8"
             ],
             [
              0.3333333333333333,
              "#9c179e"
             ],
             [
              0.4444444444444444,
              "#bd3786"
             ],
             [
              0.5555555555555556,
              "#d8576b"
             ],
             [
              0.6666666666666666,
              "#ed7953"
             ],
             [
              0.7777777777777778,
              "#fb9f3a"
             ],
             [
              0.8888888888888888,
              "#fdca26"
             ],
             [
              1,
              "#f0f921"
             ]
            ],
            "type": "heatmapgl"
           }
          ],
          "histogram": [
           {
            "marker": {
             "pattern": {
              "fillmode": "overlay",
              "size": 10,
              "solidity": 0.2
             }
            },
            "type": "histogram"
           }
          ],
          "histogram2d": [
           {
            "colorbar": {
             "outlinewidth": 0,
             "ticks": ""
            },
            "colorscale": [
             [
              0,
              "#0d0887"
             ],
             [
              0.1111111111111111,
              "#46039f"
             ],
             [
              0.2222222222222222,
              "#7201a8"
             ],
             [
              0.3333333333333333,
              "#9c179e"
             ],
             [
              0.4444444444444444,
              "#bd3786"
             ],
             [
              0.5555555555555556,
              "#d8576b"
             ],
             [
              0.6666666666666666,
              "#ed7953"
             ],
             [
              0.7777777777777778,
              "#fb9f3a"
             ],
             [
              0.8888888888888888,
              "#fdca26"
             ],
             [
              1,
              "#f0f921"
             ]
            ],
            "type": "histogram2d"
           }
          ],
          "histogram2dcontour": [
           {
            "colorbar": {
             "outlinewidth": 0,
             "ticks": ""
            },
            "colorscale": [
             [
              0,
              "#0d0887"
             ],
             [
              0.1111111111111111,
              "#46039f"
             ],
             [
              0.2222222222222222,
              "#7201a8"
             ],
             [
              0.3333333333333333,
              "#9c179e"
             ],
             [
              0.4444444444444444,
              "#bd3786"
             ],
             [
              0.5555555555555556,
              "#d8576b"
             ],
             [
              0.6666666666666666,
              "#ed7953"
             ],
             [
              0.7777777777777778,
              "#fb9f3a"
             ],
             [
              0.8888888888888888,
              "#fdca26"
             ],
             [
              1,
              "#f0f921"
             ]
            ],
            "type": "histogram2dcontour"
           }
          ],
          "mesh3d": [
           {
            "colorbar": {
             "outlinewidth": 0,
             "ticks": ""
            },
            "type": "mesh3d"
           }
          ],
          "parcoords": [
           {
            "line": {
             "colorbar": {
              "outlinewidth": 0,
              "ticks": ""
             }
            },
            "type": "parcoords"
           }
          ],
          "pie": [
           {
            "automargin": true,
            "type": "pie"
           }
          ],
          "scatter": [
           {
            "fillpattern": {
             "fillmode": "overlay",
             "size": 10,
             "solidity": 0.2
            },
            "type": "scatter"
           }
          ],
          "scatter3d": [
           {
            "line": {
             "colorbar": {
              "outlinewidth": 0,
              "ticks": ""
             }
            },
            "marker": {
             "colorbar": {
              "outlinewidth": 0,
              "ticks": ""
             }
            },
            "type": "scatter3d"
           }
          ],
          "scattercarpet": [
           {
            "marker": {
             "colorbar": {
              "outlinewidth": 0,
              "ticks": ""
             }
            },
            "type": "scattercarpet"
           }
          ],
          "scattergeo": [
           {
            "marker": {
             "colorbar": {
              "outlinewidth": 0,
              "ticks": ""
             }
            },
            "type": "scattergeo"
           }
          ],
          "scattergl": [
           {
            "marker": {
             "colorbar": {
              "outlinewidth": 0,
              "ticks": ""
             }
            },
            "type": "scattergl"
           }
          ],
          "scattermapbox": [
           {
            "marker": {
             "colorbar": {
              "outlinewidth": 0,
              "ticks": ""
             }
            },
            "type": "scattermapbox"
           }
          ],
          "scatterpolar": [
           {
            "marker": {
             "colorbar": {
              "outlinewidth": 0,
              "ticks": ""
             }
            },
            "type": "scatterpolar"
           }
          ],
          "scatterpolargl": [
           {
            "marker": {
             "colorbar": {
              "outlinewidth": 0,
              "ticks": ""
             }
            },
            "type": "scatterpolargl"
           }
          ],
          "scatterternary": [
           {
            "marker": {
             "colorbar": {
              "outlinewidth": 0,
              "ticks": ""
             }
            },
            "type": "scatterternary"
           }
          ],
          "surface": [
           {
            "colorbar": {
             "outlinewidth": 0,
             "ticks": ""
            },
            "colorscale": [
             [
              0,
              "#0d0887"
             ],
             [
              0.1111111111111111,
              "#46039f"
             ],
             [
              0.2222222222222222,
              "#7201a8"
             ],
             [
              0.3333333333333333,
              "#9c179e"
             ],
             [
              0.4444444444444444,
              "#bd3786"
             ],
             [
              0.5555555555555556,
              "#d8576b"
             ],
             [
              0.6666666666666666,
              "#ed7953"
             ],
             [
              0.7777777777777778,
              "#fb9f3a"
             ],
             [
              0.8888888888888888,
              "#fdca26"
             ],
             [
              1,
              "#f0f921"
             ]
            ],
            "type": "surface"
           }
          ],
          "table": [
           {
            "cells": {
             "fill": {
              "color": "#EBF0F8"
             },
             "line": {
              "color": "white"
             }
            },
            "header": {
             "fill": {
              "color": "#C8D4E3"
             },
             "line": {
              "color": "white"
             }
            },
            "type": "table"
           }
          ]
         },
         "layout": {
          "annotationdefaults": {
           "arrowcolor": "#2a3f5f",
           "arrowhead": 0,
           "arrowwidth": 1
          },
          "autotypenumbers": "strict",
          "coloraxis": {
           "colorbar": {
            "outlinewidth": 0,
            "ticks": ""
           }
          },
          "colorscale": {
           "diverging": [
            [
             0,
             "#8e0152"
            ],
            [
             0.1,
             "#c51b7d"
            ],
            [
             0.2,
             "#de77ae"
            ],
            [
             0.3,
             "#f1b6da"
            ],
            [
             0.4,
             "#fde0ef"
            ],
            [
             0.5,
             "#f7f7f7"
            ],
            [
             0.6,
             "#e6f5d0"
            ],
            [
             0.7,
             "#b8e186"
            ],
            [
             0.8,
             "#7fbc41"
            ],
            [
             0.9,
             "#4d9221"
            ],
            [
             1,
             "#276419"
            ]
           ],
           "sequential": [
            [
             0,
             "#0d0887"
            ],
            [
             0.1111111111111111,
             "#46039f"
            ],
            [
             0.2222222222222222,
             "#7201a8"
            ],
            [
             0.3333333333333333,
             "#9c179e"
            ],
            [
             0.4444444444444444,
             "#bd3786"
            ],
            [
             0.5555555555555556,
             "#d8576b"
            ],
            [
             0.6666666666666666,
             "#ed7953"
            ],
            [
             0.7777777777777778,
             "#fb9f3a"
            ],
            [
             0.8888888888888888,
             "#fdca26"
            ],
            [
             1,
             "#f0f921"
            ]
           ],
           "sequentialminus": [
            [
             0,
             "#0d0887"
            ],
            [
             0.1111111111111111,
             "#46039f"
            ],
            [
             0.2222222222222222,
             "#7201a8"
            ],
            [
             0.3333333333333333,
             "#9c179e"
            ],
            [
             0.4444444444444444,
             "#bd3786"
            ],
            [
             0.5555555555555556,
             "#d8576b"
            ],
            [
             0.6666666666666666,
             "#ed7953"
            ],
            [
             0.7777777777777778,
             "#fb9f3a"
            ],
            [
             0.8888888888888888,
             "#fdca26"
            ],
            [
             1,
             "#f0f921"
            ]
           ]
          },
          "colorway": [
           "#636efa",
           "#EF553B",
           "#00cc96",
           "#ab63fa",
           "#FFA15A",
           "#19d3f3",
           "#FF6692",
           "#B6E880",
           "#FF97FF",
           "#FECB52"
          ],
          "font": {
           "color": "#2a3f5f"
          },
          "geo": {
           "bgcolor": "white",
           "lakecolor": "white",
           "landcolor": "#E5ECF6",
           "showlakes": true,
           "showland": true,
           "subunitcolor": "white"
          },
          "hoverlabel": {
           "align": "left"
          },
          "hovermode": "closest",
          "mapbox": {
           "style": "light"
          },
          "paper_bgcolor": "white",
          "plot_bgcolor": "#E5ECF6",
          "polar": {
           "angularaxis": {
            "gridcolor": "white",
            "linecolor": "white",
            "ticks": ""
           },
           "bgcolor": "#E5ECF6",
           "radialaxis": {
            "gridcolor": "white",
            "linecolor": "white",
            "ticks": ""
           }
          },
          "scene": {
           "xaxis": {
            "backgroundcolor": "#E5ECF6",
            "gridcolor": "white",
            "gridwidth": 2,
            "linecolor": "white",
            "showbackground": true,
            "ticks": "",
            "zerolinecolor": "white"
           },
           "yaxis": {
            "backgroundcolor": "#E5ECF6",
            "gridcolor": "white",
            "gridwidth": 2,
            "linecolor": "white",
            "showbackground": true,
            "ticks": "",
            "zerolinecolor": "white"
           },
           "zaxis": {
            "backgroundcolor": "#E5ECF6",
            "gridcolor": "white",
            "gridwidth": 2,
            "linecolor": "white",
            "showbackground": true,
            "ticks": "",
            "zerolinecolor": "white"
           }
          },
          "shapedefaults": {
           "line": {
            "color": "#2a3f5f"
           }
          },
          "ternary": {
           "aaxis": {
            "gridcolor": "white",
            "linecolor": "white",
            "ticks": ""
           },
           "baxis": {
            "gridcolor": "white",
            "linecolor": "white",
            "ticks": ""
           },
           "bgcolor": "#E5ECF6",
           "caxis": {
            "gridcolor": "white",
            "linecolor": "white",
            "ticks": ""
           }
          },
          "title": {
           "x": 0.05
          },
          "xaxis": {
           "automargin": true,
           "gridcolor": "white",
           "linecolor": "white",
           "ticks": "",
           "title": {
            "standoff": 15
           },
           "zerolinecolor": "white",
           "zerolinewidth": 2
          },
          "yaxis": {
           "automargin": true,
           "gridcolor": "white",
           "linecolor": "white",
           "ticks": "",
           "title": {
            "standoff": 15
           },
           "zerolinecolor": "white",
           "zerolinewidth": 2
          }
         }
        },
        "title": {
         "text": "Autonomous Collisions by Month"
        },
        "width": 900,
        "xaxis": {
         "anchor": "y",
         "categoryarray": [
          "January",
          "February",
          "March",
          "April",
          "May",
          "June",
          "July",
          "August",
          "September",
          "October",
          "November",
          "December"
         ],
         "categoryorder": "array",
         "domain": [
          0,
          1
         ],
         "title": {
          "text": "Month"
         }
        },
        "yaxis": {
         "anchor": "x",
         "domain": [
          0,
          1
         ],
         "title": {
          "text": "Number of Collisions"
         }
        }
       }
      }
     },
     "metadata": {},
     "output_type": "display_data"
    }
   ],
   "source": [
    "\n",
    "# Group by month and count the number of collisions\n",
    "collisions_by_month = coll_time_place_df.groupby('Month').size().reset_index(name='Count')\n",
    "\n",
    "# Rename month numbers to month names for better visualization\n",
    "month_names = {1: 'January', 2: 'February', 3: 'March', 4: 'April', 5: 'May', 6: 'June',\n",
    "               7: 'July', 8: 'August', 9: 'September', 10: 'October', 11: 'November', 12: 'December'}\n",
    "collisions_by_month['Month'] = collisions_by_month['Month'].map(month_names)\n",
    "\n",
    "# Plot histogram\n",
    "fig = px.bar(collisions_by_month, x='Month', y='Count', \n",
    "             title=\"Autonomous Collisions by Month\", \n",
    "             labels={'Month': 'Month', 'Count': 'Number of Collisions'},\n",
    "             color='Month',  # Color by operator\n",
    "             color_discrete_sequence=[px.colors.sequential.Viridis[1]]*len(collisions_by_month))\n",
    "\n",
    "# Update layout\n",
    "fig.update_layout(xaxis_title='Month', yaxis_title='Number of Collisions', showlegend=False, height=600, width=900)\n",
    "fig.write_image(\"Images/collisions_by_month.jpg\")\n",
    "fig.show()"
   ]
  },
  {
   "cell_type": "markdown",
   "id": "f756b08d",
   "metadata": {},
   "source": [
    "Collisions description wordcloud"
   ]
  },
  {
   "cell_type": "code",
   "execution_count": 262,
   "id": "1743b87a",
   "metadata": {},
   "outputs": [
    {
     "data": {
      "text/plain": [
       "<Figure size 640x480 with 0 Axes>"
      ]
     },
     "execution_count": 262,
     "metadata": {},
     "output_type": "execute_result"
    },
    {
     "data": {
      "image/png": "[encoded data removed]",
      "text/plain": [
       "<Figure size 640x480 with 1 Axes>"
      ]
     },
     "metadata": {},
     "output_type": "display_data"
    },
    {
     "data": {
      "text/plain": [
       "<Figure size 640x480 with 0 Axes>"
      ]
     },
     "metadata": {},
     "output_type": "display_data"
    }
   ],
   "source": [
    "collision_description = pd.read_csv('data/collisions/dataframes/descriptions/descriptions.csv')\n",
    "\n",
    "description = collision_description[\"Description\"].values \n",
    "\n",
    "coloring = np.array(Image.open('Images/av2.jpg'))\n",
    "stop_words = [\"/n\"] + list(STOPWORDS)\n",
    "wordcloud = WordCloud(stopwords = stop_words,  max_font_size=100, random_state=4,mask=coloring).generate(str(description))\n",
    "\n",
    "image_colors = ImageColorGenerator(coloring)\n",
    "\n",
    "plt.imshow(wordcloud.recolor(color_func=image_colors), interpolation=\"bilinear\")\n",
    "plt.axis(\"off\")\n",
    "plt.figure()\n",
    "\n",
    "\n"
   ]
  },
  {
   "cell_type": "markdown",
   "id": "3322637d",
   "metadata": {},
   "source": [
    "Collisions Heatmap"
   ]
  },
  {
   "cell_type": "code",
   "execution_count": 241,
   "id": "3205958a",
   "metadata": {},
   "outputs": [
    {
     "data": {
      "text/html": [
       "<div>\n",
       "<style scoped>\n",
       "    .dataframe tbody tr th:only-of-type {\n",
       "        vertical-align: middle;\n",
       "    }\n",
       "\n",
       "    .dataframe tbody tr th {\n",
       "        vertical-align: top;\n",
       "    }\n",
       "\n",
       "    .dataframe thead th {\n",
       "        text-align: right;\n",
       "    }\n",
       "</style>\n",
       "<table border=\"1\" class=\"dataframe\">\n",
       "  <thead>\n",
       "    <tr style=\"text-align: right;\">\n",
       "      <th></th>\n",
       "      <th>Unnamed: 0</th>\n",
       "      <th>Unknown</th>\n",
       "      <th>None</th>\n",
       "      <th>minor</th>\n",
       "      <th>Moderate</th>\n",
       "      <th>major</th>\n",
       "      <th>Autonomous Mode</th>\n",
       "      <th>Left Rear 1</th>\n",
       "      <th>Left Rear 2</th>\n",
       "      <th>Left Rear 3</th>\n",
       "      <th>...</th>\n",
       "      <th>Right Front Corner 3</th>\n",
       "      <th>Front Bumper</th>\n",
       "      <th>Left Rear Passenger 2</th>\n",
       "      <th>Left Rear Passenger 3</th>\n",
       "      <th>Front Driver Side 2</th>\n",
       "      <th>Front Driver Side 3</th>\n",
       "      <th>Right Rear Passenger 2</th>\n",
       "      <th>Right Rear Passenger 3</th>\n",
       "      <th>Front Passenger Side 2</th>\n",
       "      <th>Front Passenger Side 3</th>\n",
       "    </tr>\n",
       "  </thead>\n",
       "  <tbody>\n",
       "    <tr>\n",
       "      <th>0</th>\n",
       "      <td>0</td>\n",
       "      <td>0</td>\n",
       "      <td>0</td>\n",
       "      <td>1</td>\n",
       "      <td>0</td>\n",
       "      <td>0</td>\n",
       "      <td>0</td>\n",
       "      <td>1</td>\n",
       "      <td>0</td>\n",
       "      <td>0</td>\n",
       "      <td>...</td>\n",
       "      <td>0</td>\n",
       "      <td>0</td>\n",
       "      <td>0</td>\n",
       "      <td>0</td>\n",
       "      <td>0</td>\n",
       "      <td>0</td>\n",
       "      <td>0</td>\n",
       "      <td>0</td>\n",
       "      <td>0</td>\n",
       "      <td>0</td>\n",
       "    </tr>\n",
       "    <tr>\n",
       "      <th>1</th>\n",
       "      <td>1</td>\n",
       "      <td>0</td>\n",
       "      <td>1</td>\n",
       "      <td>0</td>\n",
       "      <td>0</td>\n",
       "      <td>0</td>\n",
       "      <td>1</td>\n",
       "      <td>0</td>\n",
       "      <td>0</td>\n",
       "      <td>0</td>\n",
       "      <td>...</td>\n",
       "      <td>0</td>\n",
       "      <td>0</td>\n",
       "      <td>0</td>\n",
       "      <td>0</td>\n",
       "      <td>0</td>\n",
       "      <td>0</td>\n",
       "      <td>0</td>\n",
       "      <td>0</td>\n",
       "      <td>0</td>\n",
       "      <td>0</td>\n",
       "    </tr>\n",
       "    <tr>\n",
       "      <th>2</th>\n",
       "      <td>2</td>\n",
       "      <td>0</td>\n",
       "      <td>0</td>\n",
       "      <td>1</td>\n",
       "      <td>0</td>\n",
       "      <td>0</td>\n",
       "      <td>0</td>\n",
       "      <td>0</td>\n",
       "      <td>0</td>\n",
       "      <td>0</td>\n",
       "      <td>...</td>\n",
       "      <td>0</td>\n",
       "      <td>0</td>\n",
       "      <td>0</td>\n",
       "      <td>0</td>\n",
       "      <td>0</td>\n",
       "      <td>0</td>\n",
       "      <td>0</td>\n",
       "      <td>0</td>\n",
       "      <td>0</td>\n",
       "      <td>0</td>\n",
       "    </tr>\n",
       "    <tr>\n",
       "      <th>3</th>\n",
       "      <td>3</td>\n",
       "      <td>0</td>\n",
       "      <td>0</td>\n",
       "      <td>1</td>\n",
       "      <td>0</td>\n",
       "      <td>0</td>\n",
       "      <td>0</td>\n",
       "      <td>0</td>\n",
       "      <td>0</td>\n",
       "      <td>0</td>\n",
       "      <td>...</td>\n",
       "      <td>1</td>\n",
       "      <td>0</td>\n",
       "      <td>0</td>\n",
       "      <td>0</td>\n",
       "      <td>0</td>\n",
       "      <td>0</td>\n",
       "      <td>0</td>\n",
       "      <td>0</td>\n",
       "      <td>0</td>\n",
       "      <td>0</td>\n",
       "    </tr>\n",
       "    <tr>\n",
       "      <th>4</th>\n",
       "      <td>4</td>\n",
       "      <td>0</td>\n",
       "      <td>0</td>\n",
       "      <td>1</td>\n",
       "      <td>0</td>\n",
       "      <td>0</td>\n",
       "      <td>1</td>\n",
       "      <td>0</td>\n",
       "      <td>0</td>\n",
       "      <td>0</td>\n",
       "      <td>...</td>\n",
       "      <td>0</td>\n",
       "      <td>0</td>\n",
       "      <td>0</td>\n",
       "      <td>0</td>\n",
       "      <td>0</td>\n",
       "      <td>0</td>\n",
       "      <td>0</td>\n",
       "      <td>0</td>\n",
       "      <td>0</td>\n",
       "      <td>0</td>\n",
       "    </tr>\n",
       "  </tbody>\n",
       "</table>\n",
       "<p>5 rows × 37 columns</p>\n",
       "</div>"
      ],
      "text/plain": [
       "   Unnamed: 0  Unknown  None  minor  Moderate  major  Autonomous Mode  \\\n",
       "0           0        0     0      1         0      0                0   \n",
       "1           1        0     1      0         0      0                1   \n",
       "2           2        0     0      1         0      0                0   \n",
       "3           3        0     0      1         0      0                0   \n",
       "4           4        0     0      1         0      0                1   \n",
       "\n",
       "   Left Rear 1  Left Rear 2  Left Rear 3  ...  Right Front Corner 3  \\\n",
       "0            1            0            0  ...                     0   \n",
       "1            0            0            0  ...                     0   \n",
       "2            0            0            0  ...                     0   \n",
       "3            0            0            0  ...                     1   \n",
       "4            0            0            0  ...                     0   \n",
       "\n",
       "   Front Bumper  Left Rear Passenger 2  Left Rear Passenger 3  \\\n",
       "0             0                      0                      0   \n",
       "1             0                      0                      0   \n",
       "2             0                      0                      0   \n",
       "3             0                      0                      0   \n",
       "4             0                      0                      0   \n",
       "\n",
       "   Front Driver Side 2  Front Driver Side 3  Right Rear Passenger 2  \\\n",
       "0                    0                    0                       0   \n",
       "1                    0                    0                       0   \n",
       "2                    0                    0                       0   \n",
       "3                    0                    0                       0   \n",
       "4                    0                    0                       0   \n",
       "\n",
       "   Right Rear Passenger 3  Front Passenger Side 2  Front Passenger Side 3  \n",
       "0                       0                       0                       0  \n",
       "1                       0                       0                       0  \n",
       "2                       0                       0                       0  \n",
       "3                       0                       0                       0  \n",
       "4                       0                       0                       0  \n",
       "\n",
       "[5 rows x 37 columns]"
      ]
     },
     "execution_count": 241,
     "metadata": {},
     "output_type": "execute_result"
    }
   ],
   "source": [
    "label_to_coord = {'Left Rear 1': [0, 2.5],\n",
    "'Rear Bumper' : [0, 1.5],\n",
    "'Right Rear 1' : [0, 0.5],\n",
    "'Left Rear 2': [1, 3],\n",
    "'Left Rear 3': [1, 2],\n",
    "'Right Rear 2': [1, 1],\n",
    "'Right Rear 3': [1, 0],\n",
    "'Left Rear Passenger 1': [2, 3],\n",
    "'Left Rear Passenger 2': [2, 2],\n",
    "'Right Rear Passenger 1': [2, 1],\n",
    "'Right Rear Passenger 2': [2, 0],\n",
    "'Left Rear Passenger 3': [3, 3],\n",
    "'Left Rear Passenger 4': [3, 2],\n",
    "'Right Rear Passenger 3': [3, 1],\n",
    "'Right Rear Passenger 4': [3, 0],\n",
    "'Front Driver Side 1': [4, 3],\n",
    "'Front Driver Side 2': [4, 2],\n",
    "'Front Passenger Side 1': [4, 1],\n",
    "'Front Passenger Side 2': [4, 0],\n",
    "'Front Driver Side 3': [5, 3],\n",
    "'Front Driver Side 4': [5, 2],\n",
    "'Front Passenger Side 3': [5, 1],\n",
    "'Front Passenger Side 4': [5, 0],\n",
    "'Left Front Corner 1': [6, 3],\n",
    "'Left Front Corner 2': [6, 2],\n",
    "'Right Front Corner 1': [6, 1],\n",
    "'Right Front Corner 2': [6, 0],\n",
    "'Left Front Corner 3' : [7, 2.5],\n",
    "'Front Bumper': [7, 1.5],\n",
    "'Left Front Corner 3': [7, 0.5]}\n",
    "\n",
    "damage_df = pd.read_csv('data/collisions/dataframes/damage_map/damage.csv')\n",
    "\n",
    "damage_df.head()"
   ]
  },
  {
   "cell_type": "code",
   "execution_count": 242,
   "id": "22908d7b",
   "metadata": {},
   "outputs": [
    {
     "data": {
      "image/png": "[encoded data removed]",
      "text/plain": [
       "<Figure size 1100x600 with 2 Axes>"
      ]
     },
     "metadata": {},
     "output_type": "display_data"
    }
   ],
   "source": [
    "\n",
    "\n",
    "columns_to_drop = ['Unknown', 'None', 'minor', 'Moderate', 'major', 'Autonomous Mode', 'Unnamed: 0']\n",
    "\n",
    "# Filter DataFrame to include only rows where \"Autonomous Mode\" is True\n",
    "autonomous_damage_df = damage_df[damage_df['Autonomous Mode'] == 1]\n",
    "\n",
    "autonomous_damage_df = autonomous_damage_df.drop(columns=columns_to_drop)\n",
    "\n",
    "# Create an empty heatmap matrix\n",
    "heatmap_data = pd.DataFrame(index=range(8), columns=range(16), data=0)\n",
    "\n",
    "# Iterate over each row\n",
    "for i, row in autonomous_damage_df.iterrows():\n",
    "    # Iterate over each column\n",
    "    for label, coord in label_to_coord.items():\n",
    "        # If damage occurred at this location (True value), increment heatmap value\n",
    "        if row[label]:\n",
    "            y_coord = int(coord[1] * 2)\n",
    "            x_coord = int(coord[0] * 2)\n",
    "            heatmap_data.at[y_coord, x_coord] += 1\n",
    "\n",
    "\n",
    "# Reverse the order of rows to flip the heatmap vertically\n",
    "heatmap_data = heatmap_data.iloc[::-1]\n",
    "\n",
    "mask = heatmap_data == 0\n",
    "\n",
    "plt.figure(figsize=(11, 6))  # Adjust width and height as needed\n",
    "\n",
    "\n",
    "sns.heatmap(heatmap_data, cmap='inferno', annot=False, fmt='d', cbar=True,mask=mask, alpha=0.8)\n",
    "\n",
    "# Load the image\n",
    "img = plt.imread('Images/top_view.jpg')  \n",
    "\n",
    "# Create an annotation box with the image\n",
    "imagebox = OffsetImage(img, zoom=0.5)\n",
    "plt.imshow(img, aspect='auto', extent=[0, 16, 0, 8])\n",
    "\n",
    "plt.title('Damage Heatmap - Autonomous Mode Only')\n",
    "\n",
    "plt.savefig('Images/autonomous_damage_heatmap.png') \n",
    "plt.show()\n",
    "\n"
   ]
  },
  {
   "cell_type": "code",
   "execution_count": 243,
   "id": "cee90607",
   "metadata": {},
   "outputs": [
    {
     "data": {
      "image/png": "[encoded data removed]",
      "text/plain": [
       "<Figure size 1100x600 with 2 Axes>"
      ]
     },
     "metadata": {},
     "output_type": "display_data"
    },
    {
     "data": {
      "text/html": [
       "<div>\n",
       "<style scoped>\n",
       "    .dataframe tbody tr th:only-of-type {\n",
       "        vertical-align: middle;\n",
       "    }\n",
       "\n",
       "    .dataframe tbody tr th {\n",
       "        vertical-align: top;\n",
       "    }\n",
       "\n",
       "    .dataframe thead th {\n",
       "        text-align: right;\n",
       "    }\n",
       "</style>\n",
       "<table border=\"1\" class=\"dataframe\">\n",
       "  <thead>\n",
       "    <tr style=\"text-align: right;\">\n",
       "      <th></th>\n",
       "      <th>Left Rear 1</th>\n",
       "      <th>Left Rear 2</th>\n",
       "      <th>Left Rear 3</th>\n",
       "      <th>Rear Bumper</th>\n",
       "      <th>Right Rear 1</th>\n",
       "      <th>Right Rear 2</th>\n",
       "      <th>Right Rear 3</th>\n",
       "      <th>Left Rear Passenger 1</th>\n",
       "      <th>Left Rear Passenger 4</th>\n",
       "      <th>Right Rear Passenger 1</th>\n",
       "      <th>...</th>\n",
       "      <th>Right Front Corner 3</th>\n",
       "      <th>Front Bumper</th>\n",
       "      <th>Left Rear Passenger 2</th>\n",
       "      <th>Left Rear Passenger 3</th>\n",
       "      <th>Front Driver Side 2</th>\n",
       "      <th>Front Driver Side 3</th>\n",
       "      <th>Right Rear Passenger 2</th>\n",
       "      <th>Right Rear Passenger 3</th>\n",
       "      <th>Front Passenger Side 2</th>\n",
       "      <th>Front Passenger Side 3</th>\n",
       "    </tr>\n",
       "  </thead>\n",
       "  <tbody>\n",
       "    <tr>\n",
       "      <th>1</th>\n",
       "      <td>0</td>\n",
       "      <td>0</td>\n",
       "      <td>0</td>\n",
       "      <td>0</td>\n",
       "      <td>0</td>\n",
       "      <td>0</td>\n",
       "      <td>0</td>\n",
       "      <td>0</td>\n",
       "      <td>0</td>\n",
       "      <td>0</td>\n",
       "      <td>...</td>\n",
       "      <td>0</td>\n",
       "      <td>0</td>\n",
       "      <td>0</td>\n",
       "      <td>0</td>\n",
       "      <td>0</td>\n",
       "      <td>0</td>\n",
       "      <td>0</td>\n",
       "      <td>0</td>\n",
       "      <td>0</td>\n",
       "      <td>0</td>\n",
       "    </tr>\n",
       "    <tr>\n",
       "      <th>4</th>\n",
       "      <td>0</td>\n",
       "      <td>0</td>\n",
       "      <td>0</td>\n",
       "      <td>0</td>\n",
       "      <td>0</td>\n",
       "      <td>0</td>\n",
       "      <td>0</td>\n",
       "      <td>0</td>\n",
       "      <td>0</td>\n",
       "      <td>0</td>\n",
       "      <td>...</td>\n",
       "      <td>0</td>\n",
       "      <td>0</td>\n",
       "      <td>0</td>\n",
       "      <td>0</td>\n",
       "      <td>0</td>\n",
       "      <td>0</td>\n",
       "      <td>0</td>\n",
       "      <td>0</td>\n",
       "      <td>0</td>\n",
       "      <td>0</td>\n",
       "    </tr>\n",
       "    <tr>\n",
       "      <th>13</th>\n",
       "      <td>0</td>\n",
       "      <td>0</td>\n",
       "      <td>0</td>\n",
       "      <td>0</td>\n",
       "      <td>0</td>\n",
       "      <td>0</td>\n",
       "      <td>1</td>\n",
       "      <td>0</td>\n",
       "      <td>0</td>\n",
       "      <td>0</td>\n",
       "      <td>...</td>\n",
       "      <td>0</td>\n",
       "      <td>0</td>\n",
       "      <td>0</td>\n",
       "      <td>0</td>\n",
       "      <td>0</td>\n",
       "      <td>0</td>\n",
       "      <td>1</td>\n",
       "      <td>0</td>\n",
       "      <td>0</td>\n",
       "      <td>0</td>\n",
       "    </tr>\n",
       "    <tr>\n",
       "      <th>21</th>\n",
       "      <td>1</td>\n",
       "      <td>0</td>\n",
       "      <td>0</td>\n",
       "      <td>1</td>\n",
       "      <td>1</td>\n",
       "      <td>0</td>\n",
       "      <td>0</td>\n",
       "      <td>0</td>\n",
       "      <td>0</td>\n",
       "      <td>0</td>\n",
       "      <td>...</td>\n",
       "      <td>0</td>\n",
       "      <td>0</td>\n",
       "      <td>0</td>\n",
       "      <td>0</td>\n",
       "      <td>0</td>\n",
       "      <td>0</td>\n",
       "      <td>0</td>\n",
       "      <td>0</td>\n",
       "      <td>0</td>\n",
       "      <td>0</td>\n",
       "    </tr>\n",
       "    <tr>\n",
       "      <th>22</th>\n",
       "      <td>0</td>\n",
       "      <td>0</td>\n",
       "      <td>0</td>\n",
       "      <td>0</td>\n",
       "      <td>0</td>\n",
       "      <td>0</td>\n",
       "      <td>0</td>\n",
       "      <td>0</td>\n",
       "      <td>0</td>\n",
       "      <td>0</td>\n",
       "      <td>...</td>\n",
       "      <td>0</td>\n",
       "      <td>1</td>\n",
       "      <td>0</td>\n",
       "      <td>0</td>\n",
       "      <td>0</td>\n",
       "      <td>0</td>\n",
       "      <td>0</td>\n",
       "      <td>0</td>\n",
       "      <td>0</td>\n",
       "      <td>0</td>\n",
       "    </tr>\n",
       "  </tbody>\n",
       "</table>\n",
       "<p>5 rows × 30 columns</p>\n",
       "</div>"
      ],
      "text/plain": [
       "    Left Rear 1  Left Rear 2  Left Rear 3  Rear Bumper  Right Rear 1  \\\n",
       "1             0            0            0            0             0   \n",
       "4             0            0            0            0             0   \n",
       "13            0            0            0            0             0   \n",
       "21            1            0            0            1             1   \n",
       "22            0            0            0            0             0   \n",
       "\n",
       "    Right Rear 2  Right Rear 3  Left Rear Passenger 1  Left Rear Passenger 4  \\\n",
       "1              0             0                      0                      0   \n",
       "4              0             0                      0                      0   \n",
       "13             0             1                      0                      0   \n",
       "21             0             0                      0                      0   \n",
       "22             0             0                      0                      0   \n",
       "\n",
       "    Right Rear Passenger 1  ...  Right Front Corner 3  Front Bumper  \\\n",
       "1                        0  ...                     0             0   \n",
       "4                        0  ...                     0             0   \n",
       "13                       0  ...                     0             0   \n",
       "21                       0  ...                     0             0   \n",
       "22                       0  ...                     0             1   \n",
       "\n",
       "    Left Rear Passenger 2  Left Rear Passenger 3  Front Driver Side 2  \\\n",
       "1                       0                      0                    0   \n",
       "4                       0                      0                    0   \n",
       "13                      0                      0                    0   \n",
       "21                      0                      0                    0   \n",
       "22                      0                      0                    0   \n",
       "\n",
       "    Front Driver Side 3  Right Rear Passenger 2  Right Rear Passenger 3  \\\n",
       "1                     0                       0                       0   \n",
       "4                     0                       0                       0   \n",
       "13                    0                       1                       0   \n",
       "21                    0                       0                       0   \n",
       "22                    0                       0                       0   \n",
       "\n",
       "    Front Passenger Side 2  Front Passenger Side 3  \n",
       "1                        0                       0  \n",
       "4                        0                       0  \n",
       "13                       0                       0  \n",
       "21                       0                       0  \n",
       "22                       0                       0  \n",
       "\n",
       "[5 rows x 30 columns]"
      ]
     },
     "execution_count": 243,
     "metadata": {},
     "output_type": "execute_result"
    }
   ],
   "source": [
    "\n",
    "\n",
    "columns_to_drop = ['Unknown', 'None', 'minor', 'Moderate', 'major', 'Autonomous Mode', 'Unnamed: 0']\n",
    "\n",
    "# Filter DataFrame to include only rows where \"Autonomous Mode\" is True\n",
    "conventional_damage_df = damage_df[damage_df['Autonomous Mode'] == 0]\n",
    "\n",
    "conventional_damage_df = conventional_damage_df.drop(columns=columns_to_drop)\n",
    "\n",
    "# Create an empty heatmap matrix\n",
    "heatmap_data = pd.DataFrame(index=range(8), columns=range(16), data=0)\n",
    "\n",
    "# Iterate over each row\n",
    "for i, row in conventional_damage_df.iterrows():\n",
    "    # Iterate over each column\n",
    "    for label, coord in label_to_coord.items():\n",
    "        # If damage occurred at this location (True value), increment heatmap value\n",
    "        if row[label]:\n",
    "            y_coord = int(coord[1] * 2)\n",
    "            x_coord = int(coord[0] * 2)\n",
    "            heatmap_data.at[y_coord, x_coord] += 1\n",
    "\n",
    "\n",
    "# Reverse the order of rows to flip the heatmap vertically\n",
    "heatmap_data = heatmap_data.iloc[::-1]\n",
    "\n",
    "mask = heatmap_data == 0\n",
    "\n",
    "plt.figure(figsize=(11, 6))  # Adjust width and height as needed\n",
    "\n",
    "\n",
    "sns.heatmap(heatmap_data, cmap='inferno', annot=False, fmt='d', cbar=True,mask=mask, alpha=0.8)\n",
    "\n",
    "# Load the image\n",
    "img = plt.imread('Images/top_view.jpg')  \n",
    "\n",
    "# Create an annotation box with the image\n",
    "imagebox = OffsetImage(img, zoom=0.5)\n",
    "plt.imshow(img, aspect='auto', extent=[0, 16, 0, 8])\n",
    "\n",
    "plt.title('Damage Heatmap - Conventional Mode Only')\n",
    "\n",
    "plt.savefig('Images/conventional_damage_heatmap.png') \n",
    "plt.show()\n",
    "\n",
    "\n",
    "autonomous_damage_df.head()"
   ]
  },
  {
   "cell_type": "markdown",
   "id": "9df5aa03",
   "metadata": {},
   "source": [
    "Join collisions and Disengagements (per thousand miles)"
   ]
  },
  {
   "cell_type": "code",
   "execution_count": 244,
   "id": "153cf628",
   "metadata": {},
   "outputs": [
    {
     "name": "stdout",
     "output_type": "stream",
     "text": [
      "RangeIndex(start=0, stop=73, step=1)\n",
      "Index(['OPERATOR', 'Year', 'Mileage Total', 'Annual Total of Disengagements',\n",
      "       'VIN NUMBER', 'Disengagements/Thousand Miles'],\n",
      "      dtype='object')\n",
      "Index(['Operator', 'Business', 'Date_of_Accident', 'Time_of_accident_24hr',\n",
      "       'Month'],\n",
      "      dtype='object')\n"
     ]
    }
   ],
   "source": [
    "print(dptm.index)\n",
    "print(dptm.columns)\n",
    "coll_time_place_df.drop(columns=(['location', 'city', 'county', 'state', 'zip']), inplace=True)\n",
    "print(coll_time_place_df.columns)\n"
   ]
  },
  {
   "cell_type": "markdown",
   "id": "02000fa0",
   "metadata": {},
   "source": [
    "# Waymo"
   ]
  },
  {
   "cell_type": "code",
   "execution_count": 245,
   "id": "f0c7eb58",
   "metadata": {},
   "outputs": [],
   "source": [
    "# miles per month\n"
   ]
  },
  {
   "cell_type": "code",
   "execution_count": 246,
   "id": "59f0a0bf",
   "metadata": {},
   "outputs": [
    {
     "name": "stderr",
     "output_type": "stream",
     "text": [
      "C:\\Users\\outdo\\AppData\\Local\\Temp\\ipykernel_19300\\1891707240.py:6: SettingWithCopyWarning:\n",
      "\n",
      "\n",
      "A value is trying to be set on a copy of a slice from a DataFrame.\n",
      "Try using .loc[row_indexer,col_indexer] = value instead\n",
      "\n",
      "See the caveats in the documentation: https://pandas.pydata.org/pandas-docs/stable/user_guide/indexing.html#returning-a-view-versus-a-copy\n",
      "\n",
      "C:\\Users\\outdo\\AppData\\Local\\Temp\\ipykernel_19300\\1891707240.py:15: FutureWarning:\n",
      "\n",
      "A value is trying to be set on a copy of a DataFrame or Series through chained assignment using an inplace method.\n",
      "The behavior will change in pandas 3.0. This inplace method will never work because the intermediate object on which we are setting values always behaves as a copy.\n",
      "\n",
      "For example, when doing 'df[col].method(value, inplace=True)', try using 'df.method({col: value}, inplace=True)' or df[col] = df[col].method(value) instead, to perform the operation inplace on the original object.\n",
      "\n",
      "\n",
      "\n",
      "C:\\Users\\outdo\\AppData\\Local\\Temp\\ipykernel_19300\\1891707240.py:15: SettingWithCopyWarning:\n",
      "\n",
      "\n",
      "A value is trying to be set on a copy of a slice from a DataFrame\n",
      "\n",
      "See the caveats in the documentation: https://pandas.pydata.org/pandas-docs/stable/user_guide/indexing.html#returning-a-view-versus-a-copy\n",
      "\n"
     ]
    },
    {
     "data": {
      "application/vnd.plotly.v1+json": {
       "config": {
        "plotlyServerURL": "https://plot.ly"
       },
       "data": [
        {
         "alignmentgroup": "True",
         "hovertemplate": "Description of Disengagement Facts=Diagnositc: Hardware<br>Year=%{x}<br>Count of Disengagement Facts=%{y}<extra></extra>",
         "legendgroup": "Diagnositc: Hardware",
         "marker": {
          "color": "#440154",
          "pattern": {
           "shape": ""
          }
         },
         "name": "Diagnositc: Hardware",
         "offsetgroup": "Diagnositc: Hardware",
         "orientation": "v",
         "showlegend": true,
         "textposition": "auto",
         "type": "bar",
         "x": [
          2020,
          2021,
          2022
         ],
         "xaxis": "x",
         "y": [
          1,
          11,
          2
         ],
         "yaxis": "y"
        },
        {
         "alignmentgroup": "True",
         "hovertemplate": "Description of Disengagement Facts=Diagnositc: Software<br>Year=%{x}<br>Count of Disengagement Facts=%{y}<extra></extra>",
         "legendgroup": "Diagnositc: Software",
         "marker": {
          "color": "#482878",
          "pattern": {
           "shape": ""
          }
         },
         "name": "Diagnositc: Software",
         "offsetgroup": "Diagnositc: Software",
         "orientation": "v",
         "showlegend": true,
         "textposition": "auto",
         "type": "bar",
         "x": [
          2021,
          2022,
          2023
         ],
         "xaxis": "x",
         "y": [
          135,
          3,
          47
         ],
         "yaxis": "y"
        },
        {
         "alignmentgroup": "True",
         "hovertemplate": "Description of Disengagement Facts=Motion Planning<br>Year=%{x}<br>Count of Disengagement Facts=%{y}<extra></extra>",
         "legendgroup": "Motion Planning",
         "marker": {
          "color": "#3e4989",
          "pattern": {
           "shape": ""
          }
         },
         "name": "Motion Planning",
         "offsetgroup": "Motion Planning",
         "orientation": "v",
         "showlegend": true,
         "textposition": "auto",
         "type": "bar",
         "x": [
          2020,
          2021,
          2022,
          2023
         ],
         "xaxis": "x",
         "y": [
          1,
          57,
          93,
          116
         ],
         "yaxis": "y"
        },
        {
         "alignmentgroup": "True",
         "hovertemplate": "Description of Disengagement Facts=Other driver<br>Year=%{x}<br>Count of Disengagement Facts=%{y}<extra></extra>",
         "legendgroup": "Other driver",
         "marker": {
          "color": "#31688e",
          "pattern": {
           "shape": ""
          }
         },
         "name": "Other driver",
         "offsetgroup": "Other driver",
         "orientation": "v",
         "showlegend": true,
         "textposition": "auto",
         "type": "bar",
         "x": [
          2020,
          2021,
          2023
         ],
         "xaxis": "x",
         "y": [
          1,
          23,
          4
         ],
         "yaxis": "y"
        },
        {
         "alignmentgroup": "True",
         "hovertemplate": "Description of Disengagement Facts=Perception<br>Year=%{x}<br>Count of Disengagement Facts=%{y}<extra></extra>",
         "legendgroup": "Perception",
         "marker": {
          "color": "#26828e",
          "pattern": {
           "shape": ""
          }
         },
         "name": "Perception",
         "offsetgroup": "Perception",
         "orientation": "v",
         "showlegend": true,
         "textposition": "auto",
         "type": "bar",
         "x": [
          2020,
          2021,
          2022,
          2023
         ],
         "xaxis": "x",
         "y": [
          3,
          59,
          75,
          49
         ],
         "yaxis": "y"
        },
        {
         "alignmentgroup": "True",
         "hovertemplate": "Description of Disengagement Facts=Prediciton<br>Year=%{x}<br>Count of Disengagement Facts=%{y}<extra></extra>",
         "legendgroup": "Prediciton",
         "marker": {
          "color": "#1f9e89",
          "pattern": {
           "shape": ""
          }
         },
         "name": "Prediciton",
         "offsetgroup": "Prediciton",
         "orientation": "v",
         "showlegend": true,
         "textposition": "auto",
         "type": "bar",
         "x": [
          2021,
          2022
         ],
         "xaxis": "x",
         "y": [
          7,
          1
         ],
         "yaxis": "y"
        }
       ],
       "layout": {
        "barmode": "group",
        "height": 600,
        "legend": {
         "title": {
          "text": "Description of Disengagement Facts"
         },
         "tracegroupgap": 0
        },
        "template": {
         "data": {
          "bar": [
           {
            "error_x": {
             "color": "#2a3f5f"
            },
            "error_y": {
             "color": "#2a3f5f"
            },
            "marker": {
             "line": {
              "color": "#E5ECF6",
              "width": 0.5
             },
             "pattern": {
              "fillmode": "overlay",
              "size": 10,
              "solidity": 0.2
             }
            },
            "type": "bar"
           }
          ],
          "barpolar": [
           {
            "marker": {
             "line": {
              "color": "#E5ECF6",
              "width": 0.5
             },
             "pattern": {
              "fillmode": "overlay",
              "size": 10,
              "solidity": 0.2
             }
            },
            "type": "barpolar"
           }
          ],
          "carpet": [
           {
            "aaxis": {
             "endlinecolor": "#2a3f5f",
             "gridcolor": "white",
             "linecolor": "white",
             "minorgridcolor": "white",
             "startlinecolor": "#2a3f5f"
            },
            "baxis": {
             "endlinecolor": "#2a3f5f",
             "gridcolor": "white",
             "linecolor": "white",
             "minorgridcolor": "white",
             "startlinecolor": "#2a3f5f"
            },
            "type": "carpet"
           }
          ],
          "choropleth": [
           {
            "colorbar": {
             "outlinewidth": 0,
             "ticks": ""
            },
            "type": "choropleth"
           }
          ],
          "contour": [
           {
            "colorbar": {
             "outlinewidth": 0,
             "ticks": ""
            },
            "colorscale": [
             [
              0,
              "#0d0887"
             ],
             [
              0.1111111111111111,
              "#46039f"
             ],
             [
              0.2222222222222222,
              "#7201a8"
             ],
             [
              0.3333333333333333,
              "#9c179e"
             ],
             [
              0.4444444444444444,
              "#bd3786"
             ],
             [
              0.5555555555555556,
              "#d8576b"
             ],
             [
              0.6666666666666666,
              "#ed7953"
             ],
             [
              0.7777777777777778,
              "#fb9f3a"
             ],
             [
              0.8888888888888888,
              "#fdca26"
             ],
             [
              1,
              "#f0f921"
             ]
            ],
            "type": "contour"
           }
          ],
          "contourcarpet": [
           {
            "colorbar": {
             "outlinewidth": 0,
             "ticks": ""
            },
            "type": "contourcarpet"
           }
          ],
          "heatmap": [
           {
            "colorbar": {
             "outlinewidth": 0,
             "ticks": ""
            },
            "colorscale": [
             [
              0,
              "#0d0887"
             ],
             [
              0.1111111111111111,
              "#46039f"
             ],
             [
              0.2222222222222222,
              "#7201a8"
             ],
             [
              0.3333333333333333,
              "#9c179e"
             ],
             [
              0.4444444444444444,
              "#bd3786"
             ],
             [
              0.5555555555555556,
              "#d8576b"
             ],
             [
              0.6666666666666666,
              "#ed7953"
             ],
             [
              0.7777777777777778,
              "#fb9f3a"
             ],
             [
              0.8888888888888888,
              "#fdca26"
             ],
             [
              1,
              "#f0f921"
             ]
            ],
            "type": "heatmap"
           }
          ],
          "heatmapgl": [
           {
            "colorbar": {
             "outlinewidth": 0,
             "ticks": ""
            },
            "colorscale": [
             [
              0,
              "#0d0887"
             ],
             [
              0.1111111111111111,
              "#46039f"
             ],
             [
              0.2222222222222222,
              "#7201a8"
             ],
             [
              0.3333333333333333,
              "#9c179e"
             ],
             [
              0.4444444444444444,
              "#bd3786"
             ],
             [
              0.5555555555555556,
              "#d8576b"
             ],
             [
              0.6666666666666666,
              "#ed7953"
             ],
             [
              0.7777777777777778,
              "#fb9f3a"
             ],
             [
              0.8888888888888888,
              "#fdca26"
             ],
             [
              1,
              "#f0f921"
             ]
            ],
            "type": "heatmapgl"
           }
          ],
          "histogram": [
           {
            "marker": {
             "pattern": {
              "fillmode": "overlay",
              "size": 10,
              "solidity": 0.2
             }
            },
            "type": "histogram"
           }
          ],
          "histogram2d": [
           {
            "colorbar": {
             "outlinewidth": 0,
             "ticks": ""
            },
            "colorscale": [
             [
              0,
              "#0d0887"
             ],
             [
              0.1111111111111111,
              "#46039f"
             ],
             [
              0.2222222222222222,
              "#7201a8"
             ],
             [
              0.3333333333333333,
              "#9c179e"
             ],
             [
              0.4444444444444444,
              "#bd3786"
             ],
             [
              0.5555555555555556,
              "#d8576b"
             ],
             [
              0.6666666666666666,
              "#ed7953"
             ],
             [
              0.7777777777777778,
              "#fb9f3a"
             ],
             [
              0.8888888888888888,
              "#fdca26"
             ],
             [
              1,
              "#f0f921"
             ]
            ],
            "type": "histogram2d"
           }
          ],
          "histogram2dcontour": [
           {
            "colorbar": {
             "outlinewidth": 0,
             "ticks": ""
            },
            "colorscale": [
             [
              0,
              "#0d0887"
             ],
             [
              0.1111111111111111,
              "#46039f"
             ],
             [
              0.2222222222222222,
              "#7201a8"
             ],
             [
              0.3333333333333333,
              "#9c179e"
             ],
             [
              0.4444444444444444,
              "#bd3786"
             ],
             [
              0.5555555555555556,
              "#d8576b"
             ],
             [
              0.6666666666666666,
              "#ed7953"
             ],
             [
              0.7777777777777778,
              "#fb9f3a"
             ],
             [
              0.8888888888888888,
              "#fdca26"
             ],
             [
              1,
              "#f0f921"
             ]
            ],
            "type": "histogram2dcontour"
           }
          ],
          "mesh3d": [
           {
            "colorbar": {
             "outlinewidth": 0,
             "ticks": ""
            },
            "type": "mesh3d"
           }
          ],
          "parcoords": [
           {
            "line": {
             "colorbar": {
              "outlinewidth": 0,
              "ticks": ""
             }
            },
            "type": "parcoords"
           }
          ],
          "pie": [
           {
            "automargin": true,
            "type": "pie"
           }
          ],
          "scatter": [
           {
            "fillpattern": {
             "fillmode": "overlay",
             "size": 10,
             "solidity": 0.2
            },
            "type": "scatter"
           }
          ],
          "scatter3d": [
           {
            "line": {
             "colorbar": {
              "outlinewidth": 0,
              "ticks": ""
             }
            },
            "marker": {
             "colorbar": {
              "outlinewidth": 0,
              "ticks": ""
             }
            },
            "type": "scatter3d"
           }
          ],
          "scattercarpet": [
           {
            "marker": {
             "colorbar": {
              "outlinewidth": 0,
              "ticks": ""
             }
            },
            "type": "scattercarpet"
           }
          ],
          "scattergeo": [
           {
            "marker": {
             "colorbar": {
              "outlinewidth": 0,
              "ticks": ""
             }
            },
            "type": "scattergeo"
           }
          ],
          "scattergl": [
           {
            "marker": {
             "colorbar": {
              "outlinewidth": 0,
              "ticks": ""
             }
            },
            "type": "scattergl"
           }
          ],
          "scattermapbox": [
           {
            "marker": {
             "colorbar": {
              "outlinewidth": 0,
              "ticks": ""
             }
            },
            "type": "scattermapbox"
           }
          ],
          "scatterpolar": [
           {
            "marker": {
             "colorbar": {
              "outlinewidth": 0,
              "ticks": ""
             }
            },
            "type": "scatterpolar"
           }
          ],
          "scatterpolargl": [
           {
            "marker": {
             "colorbar": {
              "outlinewidth": 0,
              "ticks": ""
             }
            },
            "type": "scatterpolargl"
           }
          ],
          "scatterternary": [
           {
            "marker": {
             "colorbar": {
              "outlinewidth": 0,
              "ticks": ""
             }
            },
            "type": "scatterternary"
           }
          ],
          "surface": [
           {
            "colorbar": {
             "outlinewidth": 0,
             "ticks": ""
            },
            "colorscale": [
             [
              0,
              "#0d0887"
             ],
             [
              0.1111111111111111,
              "#46039f"
             ],
             [
              0.2222222222222222,
              "#7201a8"
             ],
             [
              0.3333333333333333,
              "#9c179e"
             ],
             [
              0.4444444444444444,
              "#bd3786"
             ],
             [
              0.5555555555555556,
              "#d8576b"
             ],
             [
              0.6666666666666666,
              "#ed7953"
             ],
             [
              0.7777777777777778,
              "#fb9f3a"
             ],
             [
              0.8888888888888888,
              "#fdca26"
             ],
             [
              1,
              "#f0f921"
             ]
            ],
            "type": "surface"
           }
          ],
          "table": [
           {
            "cells": {
             "fill": {
              "color": "#EBF0F8"
             },
             "line": {
              "color": "white"
             }
            },
            "header": {
             "fill": {
              "color": "#C8D4E3"
             },
             "line": {
              "color": "white"
             }
            },
            "type": "table"
           }
          ]
         },
         "layout": {
          "annotationdefaults": {
           "arrowcolor": "#2a3f5f",
           "arrowhead": 0,
           "arrowwidth": 1
          },
          "autotypenumbers": "strict",
          "coloraxis": {
           "colorbar": {
            "outlinewidth": 0,
            "ticks": ""
           }
          },
          "colorscale": {
           "diverging": [
            [
             0,
             "#8e0152"
            ],
            [
             0.1,
             "#c51b7d"
            ],
            [
             0.2,
             "#de77ae"
            ],
            [
             0.3,
             "#f1b6da"
            ],
            [
             0.4,
             "#fde0ef"
            ],
            [
             0.5,
             "#f7f7f7"
            ],
            [
             0.6,
             "#e6f5d0"
            ],
            [
             0.7,
             "#b8e186"
            ],
            [
             0.8,
             "#7fbc41"
            ],
            [
             0.9,
             "#4d9221"
            ],
            [
             1,
             "#276419"
            ]
           ],
           "sequential": [
            [
             0,
             "#0d0887"
            ],
            [
             0.1111111111111111,
             "#46039f"
            ],
            [
             0.2222222222222222,
             "#7201a8"
            ],
            [
             0.3333333333333333,
             "#9c179e"
            ],
            [
             0.4444444444444444,
             "#bd3786"
            ],
            [
             0.5555555555555556,
             "#d8576b"
            ],
            [
             0.6666666666666666,
             "#ed7953"
            ],
            [
             0.7777777777777778,
             "#fb9f3a"
            ],
            [
             0.8888888888888888,
             "#fdca26"
            ],
            [
             1,
             "#f0f921"
            ]
           ],
           "sequentialminus": [
            [
             0,
             "#0d0887"
            ],
            [
             0.1111111111111111,
             "#46039f"
            ],
            [
             0.2222222222222222,
             "#7201a8"
            ],
            [
             0.3333333333333333,
             "#9c179e"
            ],
            [
             0.4444444444444444,
             "#bd3786"
            ],
            [
             0.5555555555555556,
             "#d8576b"
            ],
            [
             0.6666666666666666,
             "#ed7953"
            ],
            [
             0.7777777777777778,
             "#fb9f3a"
            ],
            [
             0.8888888888888888,
             "#fdca26"
            ],
            [
             1,
             "#f0f921"
            ]
           ]
          },
          "colorway": [
           "#636efa",
           "#EF553B",
           "#00cc96",
           "#ab63fa",
           "#FFA15A",
           "#19d3f3",
           "#FF6692",
           "#B6E880",
           "#FF97FF",
           "#FECB52"
          ],
          "font": {
           "color": "#2a3f5f"
          },
          "geo": {
           "bgcolor": "white",
           "lakecolor": "white",
           "landcolor": "#E5ECF6",
           "showlakes": true,
           "showland": true,
           "subunitcolor": "white"
          },
          "hoverlabel": {
           "align": "left"
          },
          "hovermode": "closest",
          "mapbox": {
           "style": "light"
          },
          "paper_bgcolor": "white",
          "plot_bgcolor": "#E5ECF6",
          "polar": {
           "angularaxis": {
            "gridcolor": "white",
            "linecolor": "white",
            "ticks": ""
           },
           "bgcolor": "#E5ECF6",
           "radialaxis": {
            "gridcolor": "white",
            "linecolor": "white",
            "ticks": ""
           }
          },
          "scene": {
           "xaxis": {
            "backgroundcolor": "#E5ECF6",
            "gridcolor": "white",
            "gridwidth": 2,
            "linecolor": "white",
            "showbackground": true,
            "ticks": "",
            "zerolinecolor": "white"
           },
           "yaxis": {
            "backgroundcolor": "#E5ECF6",
            "gridcolor": "white",
            "gridwidth": 2,
            "linecolor": "white",
            "showbackground": true,
            "ticks": "",
            "zerolinecolor": "white"
           },
           "zaxis": {
            "backgroundcolor": "#E5ECF6",
            "gridcolor": "white",
            "gridwidth": 2,
            "linecolor": "white",
            "showbackground": true,
            "ticks": "",
            "zerolinecolor": "white"
           }
          },
          "shapedefaults": {
           "line": {
            "color": "#2a3f5f"
           }
          },
          "ternary": {
           "aaxis": {
            "gridcolor": "white",
            "linecolor": "white",
            "ticks": ""
           },
           "baxis": {
            "gridcolor": "white",
            "linecolor": "white",
            "ticks": ""
           },
           "bgcolor": "#E5ECF6",
           "caxis": {
            "gridcolor": "white",
            "linecolor": "white",
            "ticks": ""
           }
          },
          "title": {
           "x": 0.05
          },
          "xaxis": {
           "automargin": true,
           "gridcolor": "white",
           "linecolor": "white",
           "ticks": "",
           "title": {
            "standoff": 15
           },
           "zerolinecolor": "white",
           "zerolinewidth": 2
          },
          "yaxis": {
           "automargin": true,
           "gridcolor": "white",
           "linecolor": "white",
           "ticks": "",
           "title": {
            "standoff": 15
           },
           "zerolinecolor": "white",
           "zerolinewidth": 2
          }
         }
        },
        "title": {
         "text": "WAYMO Disengagement Categories"
        },
        "width": 1000,
        "xaxis": {
         "anchor": "y",
         "domain": [
          0,
          1
         ],
         "title": {
          "text": "Year"
         }
        },
        "yaxis": {
         "anchor": "x",
         "domain": [
          0,
          1
         ],
         "title": {
          "text": "Count of Disengagement Facts"
         }
        }
       }
      }
     },
     "metadata": {},
     "output_type": "display_data"
    }
   ],
   "source": [
    "# Disengagements by year by type\n",
    "# Make FOCUS dataframe\n",
    "focus_company = \"WAYMO\"\n",
    "focus_dis_df = combined_dis_df[combined_dis_df['OPERATOR'] == focus_company]\n",
    "# Year column\n",
    "focus_dis_df['Year'] = focus_dis_df['DATE'].dt.year\n",
    "\n",
    "causes_dict = {'Disengage for a recklessly behaving road user' : 'Other driver',\n",
    " 'Disengage for unwanted maneuver of the vehicle that was undesirable under the circumstances' : 'Motion Planning',\n",
    " \"Disengage for a perception discrepancy for which a component of the vehicle's perception system failed to detect an object correctly\" : \"Perception\",\n",
    " \"Disengage for a hardware discrepancy for which our vehicle's diagnostics received a message indicating a potential performance issue with a hardware component of the self-driving system or a component of the base vehicle\" : \"Diagnositc: Hardware\",\n",
    " \"Disengage for a software discrepancy for which our vehicle's diagnostics received a message indicating a potential performance issue with a software component\" : \"Diagnositc: Software\",\n",
    " 'Disengage for incorrect behavior prediction of other traffic participants': \"Prediciton\"}\n",
    "\n",
    "focus_dis_df[\"DESCRIPTION OF FACTS CAUSING DISENGAGEMENT\"].replace(causes_dict,inplace=True)\n",
    " \n",
    "grouped_focus = focus_dis_df.groupby(['DESCRIPTION OF FACTS CAUSING DISENGAGEMENT', 'Year']).size().reset_index(name='Count')\n",
    "\n",
    "\n",
    "fig = px.bar(grouped_focus, x='Year', y='Count', color='DESCRIPTION OF FACTS CAUSING DISENGAGEMENT',\n",
    "             title='WAYMO Disengagement Categories',\n",
    "             labels={'DESCRIPTION OF FACTS CAUSING DISENGAGEMENT': 'Description of Disengagement Facts',\n",
    "                     'Count': 'Count of Disengagement Facts'},            \n",
    "             color_discrete_sequence=px.colors.sequential.Viridis,\n",
    "             barmode='group')\n",
    "fig.update_layout(height = 600, width = 1000)\n",
    "fig.write_image(\"Images/Waymo_disengagements.jpg\")\n",
    "fig.show()\n"
   ]
  },
  {
   "cell_type": "code",
   "execution_count": 247,
   "id": "a23b0084",
   "metadata": {},
   "outputs": [
    {
     "ename": "KeyError",
     "evalue": "\"['location', 'city', 'county', 'state', 'zip'] not found in axis\"",
     "output_type": "error",
     "traceback": [
      "\u001b[1;31m---------------------------------------------------------------------------\u001b[0m",
      "\u001b[1;31mKeyError\u001b[0m                                  Traceback (most recent call last)",
      "Cell \u001b[1;32mIn[247], line 6\u001b[0m\n\u001b[0;32m      3\u001b[0m coll_time_place_df[\u001b[38;5;124m'\u001b[39m\u001b[38;5;124mDate_of_Accident\u001b[39m\u001b[38;5;124m'\u001b[39m] \u001b[38;5;241m=\u001b[39m pd\u001b[38;5;241m.\u001b[39mto_datetime(coll_time_place_df[\u001b[38;5;124m'\u001b[39m\u001b[38;5;124mDate_of_Accident\u001b[39m\u001b[38;5;124m'\u001b[39m])\n\u001b[0;32m      5\u001b[0m coll_time_place_df[\u001b[38;5;124m'\u001b[39m\u001b[38;5;124mYear\u001b[39m\u001b[38;5;124m'\u001b[39m] \u001b[38;5;241m=\u001b[39m coll_time_place_df[\u001b[38;5;124m'\u001b[39m\u001b[38;5;124mDate_of_Accident\u001b[39m\u001b[38;5;124m'\u001b[39m]\u001b[38;5;241m.\u001b[39mdt\u001b[38;5;241m.\u001b[39myear\n\u001b[1;32m----> 6\u001b[0m \u001b[43mcoll_time_place_df\u001b[49m\u001b[38;5;241;43m.\u001b[39;49m\u001b[43mdrop\u001b[49m\u001b[43m(\u001b[49m\u001b[43mcolumns\u001b[49m\u001b[38;5;241;43m=\u001b[39;49m\u001b[43m[\u001b[49m\u001b[38;5;124;43m\"\u001b[39;49m\u001b[38;5;124;43mBusiness\u001b[39;49m\u001b[38;5;124;43m\"\u001b[39;49m\u001b[43m,\u001b[49m\u001b[43m \u001b[49m\u001b[38;5;124;43m\"\u001b[39;49m\u001b[38;5;124;43mlocation\u001b[39;49m\u001b[38;5;124;43m\"\u001b[39;49m\u001b[43m,\u001b[49m\u001b[38;5;124;43m\"\u001b[39;49m\u001b[38;5;124;43mcity\u001b[39;49m\u001b[38;5;124;43m\"\u001b[39;49m\u001b[43m,\u001b[49m\u001b[43m \u001b[49m\u001b[38;5;124;43m\"\u001b[39;49m\u001b[38;5;124;43mcounty\u001b[39;49m\u001b[38;5;124;43m\"\u001b[39;49m\u001b[43m,\u001b[49m\u001b[43m \u001b[49m\u001b[38;5;124;43m\"\u001b[39;49m\u001b[38;5;124;43mstate\u001b[39;49m\u001b[38;5;124;43m\"\u001b[39;49m\u001b[43m,\u001b[49m\u001b[43m \u001b[49m\u001b[38;5;124;43m\"\u001b[39;49m\u001b[38;5;124;43mzip\u001b[39;49m\u001b[38;5;124;43m\"\u001b[39;49m\u001b[43m,\u001b[49m\u001b[43m \u001b[49m\u001b[38;5;124;43m\"\u001b[39;49m\u001b[38;5;124;43mTime_of_accident_24hr\u001b[39;49m\u001b[38;5;124;43m\"\u001b[39;49m\u001b[43m,\u001b[49m\u001b[43m \u001b[49m\u001b[38;5;124;43m\"\u001b[39;49m\u001b[38;5;124;43mMonth\u001b[39;49m\u001b[38;5;124;43m\"\u001b[39;49m\u001b[43m,\u001b[49m\u001b[43m \u001b[49m\u001b[38;5;124;43m\"\u001b[39;49m\u001b[38;5;124;43mDate_of_Accident\u001b[39;49m\u001b[38;5;124;43m\"\u001b[39;49m\u001b[43m]\u001b[49m\u001b[43m,\u001b[49m\u001b[43m \u001b[49m\u001b[43minplace\u001b[49m\u001b[38;5;241;43m=\u001b[39;49m\u001b[38;5;28;43;01mTrue\u001b[39;49;00m\u001b[43m)\u001b[49m\n\u001b[0;32m      7\u001b[0m coll_time_place_df\u001b[38;5;241m.\u001b[39mhead()\n",
      "File \u001b[1;32mc:\\Users\\outdo\\anaconda3\\envs\\pyviz\\lib\\site-packages\\pandas\\core\\frame.py:5568\u001b[0m, in \u001b[0;36mDataFrame.drop\u001b[1;34m(self, labels, axis, index, columns, level, inplace, errors)\u001b[0m\n\u001b[0;32m   5420\u001b[0m \u001b[38;5;28;01mdef\u001b[39;00m \u001b[38;5;21mdrop\u001b[39m(\n\u001b[0;32m   5421\u001b[0m     \u001b[38;5;28mself\u001b[39m,\n\u001b[0;32m   5422\u001b[0m     labels: IndexLabel \u001b[38;5;241m|\u001b[39m \u001b[38;5;28;01mNone\u001b[39;00m \u001b[38;5;241m=\u001b[39m \u001b[38;5;28;01mNone\u001b[39;00m,\n\u001b[1;32m   (...)\u001b[0m\n\u001b[0;32m   5429\u001b[0m     errors: IgnoreRaise \u001b[38;5;241m=\u001b[39m \u001b[38;5;124m\"\u001b[39m\u001b[38;5;124mraise\u001b[39m\u001b[38;5;124m\"\u001b[39m,\n\u001b[0;32m   5430\u001b[0m ) \u001b[38;5;241m-\u001b[39m\u001b[38;5;241m>\u001b[39m DataFrame \u001b[38;5;241m|\u001b[39m \u001b[38;5;28;01mNone\u001b[39;00m:\n\u001b[0;32m   5431\u001b[0m \u001b[38;5;250m    \u001b[39m\u001b[38;5;124;03m\"\"\"\u001b[39;00m\n\u001b[0;32m   5432\u001b[0m \u001b[38;5;124;03m    Drop specified labels from rows or columns.\u001b[39;00m\n\u001b[0;32m   5433\u001b[0m \n\u001b[1;32m   (...)\u001b[0m\n\u001b[0;32m   5566\u001b[0m \u001b[38;5;124;03m            weight  1.0     0.8\u001b[39;00m\n\u001b[0;32m   5567\u001b[0m \u001b[38;5;124;03m    \"\"\"\u001b[39;00m\n\u001b[1;32m-> 5568\u001b[0m     \u001b[38;5;28;01mreturn\u001b[39;00m \u001b[38;5;28;43msuper\u001b[39;49m\u001b[43m(\u001b[49m\u001b[43m)\u001b[49m\u001b[38;5;241;43m.\u001b[39;49m\u001b[43mdrop\u001b[49m\u001b[43m(\u001b[49m\n\u001b[0;32m   5569\u001b[0m \u001b[43m        \u001b[49m\u001b[43mlabels\u001b[49m\u001b[38;5;241;43m=\u001b[39;49m\u001b[43mlabels\u001b[49m\u001b[43m,\u001b[49m\n\u001b[0;32m   5570\u001b[0m \u001b[43m        \u001b[49m\u001b[43maxis\u001b[49m\u001b[38;5;241;43m=\u001b[39;49m\u001b[43maxis\u001b[49m\u001b[43m,\u001b[49m\n\u001b[0;32m   5571\u001b[0m \u001b[43m        \u001b[49m\u001b[43mindex\u001b[49m\u001b[38;5;241;43m=\u001b[39;49m\u001b[43mindex\u001b[49m\u001b[43m,\u001b[49m\n\u001b[0;32m   5572\u001b[0m \u001b[43m        \u001b[49m\u001b[43mcolumns\u001b[49m\u001b[38;5;241;43m=\u001b[39;49m\u001b[43mcolumns\u001b[49m\u001b[43m,\u001b[49m\n\u001b[0;32m   5573\u001b[0m \u001b[43m        \u001b[49m\u001b[43mlevel\u001b[49m\u001b[38;5;241;43m=\u001b[39;49m\u001b[43mlevel\u001b[49m\u001b[43m,\u001b[49m\n\u001b[0;32m   5574\u001b[0m \u001b[43m        \u001b[49m\u001b[43minplace\u001b[49m\u001b[38;5;241;43m=\u001b[39;49m\u001b[43minplace\u001b[49m\u001b[43m,\u001b[49m\n\u001b[0;32m   5575\u001b[0m \u001b[43m        \u001b[49m\u001b[43merrors\u001b[49m\u001b[38;5;241;43m=\u001b[39;49m\u001b[43merrors\u001b[49m\u001b[43m,\u001b[49m\n\u001b[0;32m   5576\u001b[0m \u001b[43m    \u001b[49m\u001b[43m)\u001b[49m\n",
      "File \u001b[1;32mc:\\Users\\outdo\\anaconda3\\envs\\pyviz\\lib\\site-packages\\pandas\\core\\generic.py:4785\u001b[0m, in \u001b[0;36mNDFrame.drop\u001b[1;34m(self, labels, axis, index, columns, level, inplace, errors)\u001b[0m\n\u001b[0;32m   4783\u001b[0m \u001b[38;5;28;01mfor\u001b[39;00m axis, labels \u001b[38;5;129;01min\u001b[39;00m axes\u001b[38;5;241m.\u001b[39mitems():\n\u001b[0;32m   4784\u001b[0m     \u001b[38;5;28;01mif\u001b[39;00m labels \u001b[38;5;129;01mis\u001b[39;00m \u001b[38;5;129;01mnot\u001b[39;00m \u001b[38;5;28;01mNone\u001b[39;00m:\n\u001b[1;32m-> 4785\u001b[0m         obj \u001b[38;5;241m=\u001b[39m \u001b[43mobj\u001b[49m\u001b[38;5;241;43m.\u001b[39;49m\u001b[43m_drop_axis\u001b[49m\u001b[43m(\u001b[49m\u001b[43mlabels\u001b[49m\u001b[43m,\u001b[49m\u001b[43m \u001b[49m\u001b[43maxis\u001b[49m\u001b[43m,\u001b[49m\u001b[43m \u001b[49m\u001b[43mlevel\u001b[49m\u001b[38;5;241;43m=\u001b[39;49m\u001b[43mlevel\u001b[49m\u001b[43m,\u001b[49m\u001b[43m \u001b[49m\u001b[43merrors\u001b[49m\u001b[38;5;241;43m=\u001b[39;49m\u001b[43merrors\u001b[49m\u001b[43m)\u001b[49m\n\u001b[0;32m   4787\u001b[0m \u001b[38;5;28;01mif\u001b[39;00m inplace:\n\u001b[0;32m   4788\u001b[0m     \u001b[38;5;28mself\u001b[39m\u001b[38;5;241m.\u001b[39m_update_inplace(obj)\n",
      "File \u001b[1;32mc:\\Users\\outdo\\anaconda3\\envs\\pyviz\\lib\\site-packages\\pandas\\core\\generic.py:4827\u001b[0m, in \u001b[0;36mNDFrame._drop_axis\u001b[1;34m(self, labels, axis, level, errors, only_slice)\u001b[0m\n\u001b[0;32m   4825\u001b[0m         new_axis \u001b[38;5;241m=\u001b[39m axis\u001b[38;5;241m.\u001b[39mdrop(labels, level\u001b[38;5;241m=\u001b[39mlevel, errors\u001b[38;5;241m=\u001b[39merrors)\n\u001b[0;32m   4826\u001b[0m     \u001b[38;5;28;01melse\u001b[39;00m:\n\u001b[1;32m-> 4827\u001b[0m         new_axis \u001b[38;5;241m=\u001b[39m \u001b[43maxis\u001b[49m\u001b[38;5;241;43m.\u001b[39;49m\u001b[43mdrop\u001b[49m\u001b[43m(\u001b[49m\u001b[43mlabels\u001b[49m\u001b[43m,\u001b[49m\u001b[43m \u001b[49m\u001b[43merrors\u001b[49m\u001b[38;5;241;43m=\u001b[39;49m\u001b[43merrors\u001b[49m\u001b[43m)\u001b[49m\n\u001b[0;32m   4828\u001b[0m     indexer \u001b[38;5;241m=\u001b[39m axis\u001b[38;5;241m.\u001b[39mget_indexer(new_axis)\n\u001b[0;32m   4830\u001b[0m \u001b[38;5;66;03m# Case for non-unique axis\u001b[39;00m\n\u001b[0;32m   4831\u001b[0m \u001b[38;5;28;01melse\u001b[39;00m:\n",
      "File \u001b[1;32mc:\\Users\\outdo\\anaconda3\\envs\\pyviz\\lib\\site-packages\\pandas\\core\\indexes\\base.py:7070\u001b[0m, in \u001b[0;36mIndex.drop\u001b[1;34m(self, labels, errors)\u001b[0m\n\u001b[0;32m   7068\u001b[0m \u001b[38;5;28;01mif\u001b[39;00m mask\u001b[38;5;241m.\u001b[39many():\n\u001b[0;32m   7069\u001b[0m     \u001b[38;5;28;01mif\u001b[39;00m errors \u001b[38;5;241m!=\u001b[39m \u001b[38;5;124m\"\u001b[39m\u001b[38;5;124mignore\u001b[39m\u001b[38;5;124m\"\u001b[39m:\n\u001b[1;32m-> 7070\u001b[0m         \u001b[38;5;28;01mraise\u001b[39;00m \u001b[38;5;167;01mKeyError\u001b[39;00m(\u001b[38;5;124mf\u001b[39m\u001b[38;5;124m\"\u001b[39m\u001b[38;5;132;01m{\u001b[39;00mlabels[mask]\u001b[38;5;241m.\u001b[39mtolist()\u001b[38;5;132;01m}\u001b[39;00m\u001b[38;5;124m not found in axis\u001b[39m\u001b[38;5;124m\"\u001b[39m)\n\u001b[0;32m   7071\u001b[0m     indexer \u001b[38;5;241m=\u001b[39m indexer[\u001b[38;5;241m~\u001b[39mmask]\n\u001b[0;32m   7072\u001b[0m \u001b[38;5;28;01mreturn\u001b[39;00m \u001b[38;5;28mself\u001b[39m\u001b[38;5;241m.\u001b[39mdelete(indexer)\n",
      "\u001b[1;31mKeyError\u001b[0m: \"['location', 'city', 'county', 'state', 'zip'] not found in axis\""
     ]
    }
   ],
   "source": [
    "waymo_focus_df = dptm[dptm['OPERATOR']=='WAYMO']\n",
    "\n",
    "coll_time_place_df['Date_of_Accident'] = pd.to_datetime(coll_time_place_df['Date_of_Accident'])\n",
    "\n",
    "coll_time_place_df['Year'] = coll_time_place_df['Date_of_Accident'].dt.year\n",
    "coll_time_place_df.drop(columns=[\"Business\", \"location\",\"city\", \"county\", \"state\", \"zip\", \"Time_of_accident_24hr\", \"Month\", \"Date_of_Accident\"], inplace=True)\n",
    "coll_time_place_df.head()\n",
    "\n"
   ]
  },
  {
   "cell_type": "code",
   "execution_count": 248,
   "id": "353f3e47",
   "metadata": {},
   "outputs": [
    {
     "data": {
      "text/html": [
       "<div>\n",
       "<style scoped>\n",
       "    .dataframe tbody tr th:only-of-type {\n",
       "        vertical-align: middle;\n",
       "    }\n",
       "\n",
       "    .dataframe tbody tr th {\n",
       "        vertical-align: top;\n",
       "    }\n",
       "\n",
       "    .dataframe thead th {\n",
       "        text-align: right;\n",
       "    }\n",
       "</style>\n",
       "<table border=\"1\" class=\"dataframe\">\n",
       "  <thead>\n",
       "    <tr style=\"text-align: right;\">\n",
       "      <th></th>\n",
       "      <th>Year</th>\n",
       "      <th>Operator</th>\n",
       "      <th>collisions</th>\n",
       "    </tr>\n",
       "  </thead>\n",
       "  <tbody>\n",
       "    <tr>\n",
       "      <th>0</th>\n",
       "      <td>2019.0</td>\n",
       "      <td>WAYMO</td>\n",
       "      <td>17</td>\n",
       "    </tr>\n",
       "    <tr>\n",
       "      <th>1</th>\n",
       "      <td>2020.0</td>\n",
       "      <td>WAYMO</td>\n",
       "      <td>4</td>\n",
       "    </tr>\n",
       "    <tr>\n",
       "      <th>2</th>\n",
       "      <td>2021.0</td>\n",
       "      <td>WAYMO</td>\n",
       "      <td>23</td>\n",
       "    </tr>\n",
       "    <tr>\n",
       "      <th>3</th>\n",
       "      <td>2022.0</td>\n",
       "      <td>WAYMO</td>\n",
       "      <td>41</td>\n",
       "    </tr>\n",
       "    <tr>\n",
       "      <th>4</th>\n",
       "      <td>2023.0</td>\n",
       "      <td>WAYMO</td>\n",
       "      <td>35</td>\n",
       "    </tr>\n",
       "  </tbody>\n",
       "</table>\n",
       "</div>"
      ],
      "text/plain": [
       "     Year Operator  collisions\n",
       "0  2019.0    WAYMO          17\n",
       "1  2020.0    WAYMO           4\n",
       "2  2021.0    WAYMO          23\n",
       "3  2022.0    WAYMO          41\n",
       "4  2023.0    WAYMO          35"
      ]
     },
     "execution_count": 248,
     "metadata": {},
     "output_type": "execute_result"
    }
   ],
   "source": [
    "waymo_coll_df = coll_time_place_df[coll_time_place_df[\"Operator\"]==\"WAYMO\"]\n",
    "waymo_coll_df.head()\n",
    "\n",
    "grouped_waymo_coll_df = waymo_coll_df.groupby(['Year', 'Operator']).size().reset_index(name='collisions')\n",
    "grouped_waymo_coll_df.head()"
   ]
  },
  {
   "cell_type": "code",
   "execution_count": 249,
   "id": "3bd1f8b9",
   "metadata": {},
   "outputs": [
    {
     "data": {
      "text/html": [
       "<div>\n",
       "<style scoped>\n",
       "    .dataframe tbody tr th:only-of-type {\n",
       "        vertical-align: middle;\n",
       "    }\n",
       "\n",
       "    .dataframe tbody tr th {\n",
       "        vertical-align: top;\n",
       "    }\n",
       "\n",
       "    .dataframe thead th {\n",
       "        text-align: right;\n",
       "    }\n",
       "</style>\n",
       "<table border=\"1\" class=\"dataframe\">\n",
       "  <thead>\n",
       "    <tr style=\"text-align: right;\">\n",
       "      <th></th>\n",
       "      <th>OPERATOR</th>\n",
       "      <th>Year</th>\n",
       "      <th>Mileage Total</th>\n",
       "      <th>Annual Total of Disengagements</th>\n",
       "      <th>VIN NUMBER</th>\n",
       "      <th>Disengagements/Thousand Miles</th>\n",
       "      <th>Operator</th>\n",
       "      <th>collisions</th>\n",
       "      <th>Collisions_per_thousand_miles</th>\n",
       "    </tr>\n",
       "  </thead>\n",
       "  <tbody>\n",
       "    <tr>\n",
       "      <th>0</th>\n",
       "      <td>WAYMO</td>\n",
       "      <td>2021</td>\n",
       "      <td>2325842.9</td>\n",
       "      <td>292.0</td>\n",
       "      <td>567</td>\n",
       "      <td>0.125546</td>\n",
       "      <td>WAYMO</td>\n",
       "      <td>23</td>\n",
       "      <td>0.00989</td>\n",
       "    </tr>\n",
       "    <tr>\n",
       "      <th>1</th>\n",
       "      <td>WAYMO</td>\n",
       "      <td>2022</td>\n",
       "      <td>2900143.8</td>\n",
       "      <td>170.0</td>\n",
       "      <td>384</td>\n",
       "      <td>0.058618</td>\n",
       "      <td>WAYMO</td>\n",
       "      <td>41</td>\n",
       "      <td>0.01414</td>\n",
       "    </tr>\n",
       "    <tr>\n",
       "      <th>2</th>\n",
       "      <td>WAYMO</td>\n",
       "      <td>2023</td>\n",
       "      <td>3669962.4</td>\n",
       "      <td>212.0</td>\n",
       "      <td>338</td>\n",
       "      <td>0.057766</td>\n",
       "      <td>WAYMO</td>\n",
       "      <td>35</td>\n",
       "      <td>0.00954</td>\n",
       "    </tr>\n",
       "  </tbody>\n",
       "</table>\n",
       "</div>"
      ],
      "text/plain": [
       "  OPERATOR  Year  Mileage Total  Annual Total of Disengagements  VIN NUMBER  \\\n",
       "0    WAYMO  2021      2325842.9                           292.0         567   \n",
       "1    WAYMO  2022      2900143.8                           170.0         384   \n",
       "2    WAYMO  2023      3669962.4                           212.0         338   \n",
       "\n",
       "   Disengagements/Thousand Miles Operator  collisions  \\\n",
       "0                       0.125546    WAYMO          23   \n",
       "1                       0.058618    WAYMO          41   \n",
       "2                       0.057766    WAYMO          35   \n",
       "\n",
       "   Collisions_per_thousand_miles  \n",
       "0                        0.00989  \n",
       "1                        0.01414  \n",
       "2                        0.00954  "
      ]
     },
     "execution_count": 249,
     "metadata": {},
     "output_type": "execute_result"
    }
   ],
   "source": [
    "waymo_focus_df = pd.merge(waymo_focus_df, grouped_waymo_coll_df, on='Year', how='left')\n",
    "waymo_focus_df['Collisions Per Million Miles Driven'] = round((waymo_focus_df['collisions'] / waymo_focus_df['Mileage Total'] / 0.000001),1)\n",
    "waymo_focus_df.head()\n"
   ]
  },
  {
   "cell_type": "code",
   "execution_count": 254,
   "id": "7b7f486a",
   "metadata": {},
   "outputs": [
    {
     "data": {
      "text/html": [
       "<div>\n",
       "<style scoped>\n",
       "    .dataframe tbody tr th:only-of-type {\n",
       "        vertical-align: middle;\n",
       "    }\n",
       "\n",
       "    .dataframe tbody tr th {\n",
       "        vertical-align: top;\n",
       "    }\n",
       "\n",
       "    .dataframe thead th {\n",
       "        text-align: right;\n",
       "    }\n",
       "</style>\n",
       "<table border=\"1\" class=\"dataframe\">\n",
       "  <thead>\n",
       "    <tr style=\"text-align: right;\">\n",
       "      <th></th>\n",
       "      <th>OPERATOR</th>\n",
       "      <th>Year</th>\n",
       "      <th>Mileage Total</th>\n",
       "      <th>Annual Total of Disengagements</th>\n",
       "      <th>VIN NUMBER</th>\n",
       "      <th>Disengagements/Thousand Miles</th>\n",
       "      <th>Operator</th>\n",
       "      <th>collisions</th>\n",
       "      <th>Collisions_per_thousand_miles</th>\n",
       "      <th>Collisions Per Million Miles Driven</th>\n",
       "      <th>Disengagements Per Million Miles Driven</th>\n",
       "    </tr>\n",
       "  </thead>\n",
       "  <tbody>\n",
       "    <tr>\n",
       "      <th>0</th>\n",
       "      <td>WAYMO</td>\n",
       "      <td>2021</td>\n",
       "      <td>2325842.9</td>\n",
       "      <td>292.0</td>\n",
       "      <td>567</td>\n",
       "      <td>0.125546</td>\n",
       "      <td>WAYMO</td>\n",
       "      <td>23</td>\n",
       "      <td>0.00989</td>\n",
       "      <td>9.89</td>\n",
       "      <td>125.55</td>\n",
       "    </tr>\n",
       "    <tr>\n",
       "      <th>1</th>\n",
       "      <td>WAYMO</td>\n",
       "      <td>2022</td>\n",
       "      <td>2900143.8</td>\n",
       "      <td>170.0</td>\n",
       "      <td>384</td>\n",
       "      <td>0.058618</td>\n",
       "      <td>WAYMO</td>\n",
       "      <td>41</td>\n",
       "      <td>0.01414</td>\n",
       "      <td>14.14</td>\n",
       "      <td>58.62</td>\n",
       "    </tr>\n",
       "    <tr>\n",
       "      <th>2</th>\n",
       "      <td>WAYMO</td>\n",
       "      <td>2023</td>\n",
       "      <td>3669962.4</td>\n",
       "      <td>212.0</td>\n",
       "      <td>338</td>\n",
       "      <td>0.057766</td>\n",
       "      <td>WAYMO</td>\n",
       "      <td>35</td>\n",
       "      <td>0.00954</td>\n",
       "      <td>9.54</td>\n",
       "      <td>57.77</td>\n",
       "    </tr>\n",
       "  </tbody>\n",
       "</table>\n",
       "</div>"
      ],
      "text/plain": [
       "  OPERATOR  Year  Mileage Total  Annual Total of Disengagements  VIN NUMBER  \\\n",
       "0    WAYMO  2021      2325842.9                           292.0         567   \n",
       "1    WAYMO  2022      2900143.8                           170.0         384   \n",
       "2    WAYMO  2023      3669962.4                           212.0         338   \n",
       "\n",
       "   Disengagements/Thousand Miles Operator  collisions  \\\n",
       "0                       0.125546    WAYMO          23   \n",
       "1                       0.058618    WAYMO          41   \n",
       "2                       0.057766    WAYMO          35   \n",
       "\n",
       "   Collisions_per_thousand_miles  Collisions Per Million Miles Driven  \\\n",
       "0                        0.00989                                 9.89   \n",
       "1                        0.01414                                14.14   \n",
       "2                        0.00954                                 9.54   \n",
       "\n",
       "   Disengagements Per Million Miles Driven  \n",
       "0                                   125.55  \n",
       "1                                    58.62  \n",
       "2                                    57.77  "
      ]
     },
     "execution_count": 254,
     "metadata": {},
     "output_type": "execute_result"
    }
   ],
   "source": [
    "waymo_focus_df['Collisions Per Million Miles Driven'] = round((waymo_focus_df['collisions'] / waymo_focus_df['Mileage Total'] / 0.000001),2)\n",
    "waymo_focus_df['Disengagements Per Million Miles Driven'] = round((waymo_focus_df['Disengagements/Thousand Miles'] / 0.001),2)\n",
    "\n",
    "waymo_focus_df.head()"
   ]
  },
  {
   "cell_type": "code",
   "execution_count": 257,
   "id": "3e904c0e",
   "metadata": {},
   "outputs": [
    {
     "data": {
      "application/vnd.plotly.v1+json": {
       "config": {
        "plotlyServerURL": "https://plot.ly"
       },
       "data": [
        {
         "alignmentgroup": "True",
         "hovertemplate": "Metric=Collisions Per Million Miles Driven<br>Year=%{x}<br>Count=%{y}<extra></extra>",
         "legendgroup": "Collisions Per Million Miles Driven",
         "marker": {
          "color": "#440154",
          "pattern": {
           "shape": ""
          }
         },
         "name": "Collisions Per Million Miles Driven",
         "offsetgroup": "Collisions Per Million Miles Driven",
         "orientation": "v",
         "showlegend": true,
         "textposition": "auto",
         "type": "bar",
         "x": [
          2021,
          2022,
          2023
         ],
         "xaxis": "x",
         "y": [
          9.89,
          14.14,
          9.54
         ],
         "yaxis": "y"
        },
        {
         "alignmentgroup": "True",
         "hovertemplate": "Metric=Disengagements Per Million Miles Driven<br>Year=%{x}<br>Count=%{y}<extra></extra>",
         "legendgroup": "Disengagements Per Million Miles Driven",
         "marker": {
          "color": "#482878",
          "pattern": {
           "shape": ""
          }
         },
         "name": "Disengagements Per Million Miles Driven",
         "offsetgroup": "Disengagements Per Million Miles Driven",
         "orientation": "v",
         "showlegend": true,
         "textposition": "auto",
         "type": "bar",
         "x": [
          2021,
          2022,
          2023
         ],
         "xaxis": "x",
         "y": [
          125.55,
          58.62,
          57.77
         ],
         "yaxis": "y"
        }
       ],
       "layout": {
        "barmode": "group",
        "height": 600,
        "legend": {
         "title": {
          "text": "Metric"
         },
         "tracegroupgap": 0
        },
        "template": {
         "data": {
          "bar": [
           {
            "error_x": {
             "color": "#2a3f5f"
            },
            "error_y": {
             "color": "#2a3f5f"
            },
            "marker": {
             "line": {
              "color": "#E5ECF6",
              "width": 0.5
             },
             "pattern": {
              "fillmode": "overlay",
              "size": 10,
              "solidity": 0.2
             }
            },
            "type": "bar"
           }
          ],
          "barpolar": [
           {
            "marker": {
             "line": {
              "color": "#E5ECF6",
              "width": 0.5
             },
             "pattern": {
              "fillmode": "overlay",
              "size": 10,
              "solidity": 0.2
             }
            },
            "type": "barpolar"
           }
          ],
          "carpet": [
           {
            "aaxis": {
             "endlinecolor": "#2a3f5f",
             "gridcolor": "white",
             "linecolor": "white",
             "minorgridcolor": "white",
             "startlinecolor": "#2a3f5f"
            },
            "baxis": {
             "endlinecolor": "#2a3f5f",
             "gridcolor": "white",
             "linecolor": "white",
             "minorgridcolor": "white",
             "startlinecolor": "#2a3f5f"
            },
            "type": "carpet"
           }
          ],
          "choropleth": [
           {
            "colorbar": {
             "outlinewidth": 0,
             "ticks": ""
            },
            "type": "choropleth"
           }
          ],
          "contour": [
           {
            "colorbar": {
             "outlinewidth": 0,
             "ticks": ""
            },
            "colorscale": [
             [
              0,
              "#0d0887"
             ],
             [
              0.1111111111111111,
              "#46039f"
             ],
             [
              0.2222222222222222,
              "#7201a8"
             ],
             [
              0.3333333333333333,
              "#9c179e"
             ],
             [
              0.4444444444444444,
              "#bd3786"
             ],
             [
              0.5555555555555556,
              "#d8576b"
             ],
             [
              0.6666666666666666,
              "#ed7953"
             ],
             [
              0.7777777777777778,
              "#fb9f3a"
             ],
             [
              0.8888888888888888,
              "#fdca26"
             ],
             [
              1,
              "#f0f921"
             ]
            ],
            "type": "contour"
           }
          ],
          "contourcarpet": [
           {
            "colorbar": {
             "outlinewidth": 0,
             "ticks": ""
            },
            "type": "contourcarpet"
           }
          ],
          "heatmap": [
           {
            "colorbar": {
             "outlinewidth": 0,
             "ticks": ""
            },
            "colorscale": [
             [
              0,
              "#0d0887"
             ],
             [
              0.1111111111111111,
              "#46039f"
             ],
             [
              0.2222222222222222,
              "#7201a8"
             ],
             [
              0.3333333333333333,
              "#9c179e"
             ],
             [
              0.4444444444444444,
              "#bd3786"
             ],
             [
              0.5555555555555556,
              "#d8576b"
             ],
             [
              0.6666666666666666,
              "#ed7953"
             ],
             [
              0.7777777777777778,
              "#fb9f3a"
             ],
             [
              0.8888888888888888,
              "#fdca26"
             ],
             [
              1,
              "#f0f921"
             ]
            ],
            "type": "heatmap"
           }
          ],
          "heatmapgl": [
           {
            "colorbar": {
             "outlinewidth": 0,
             "ticks": ""
            },
            "colorscale": [
             [
              0,
              "#0d0887"
             ],
             [
              0.1111111111111111,
              "#46039f"
             ],
             [
              0.2222222222222222,
              "#7201a8"
             ],
             [
              0.3333333333333333,
              "#9c179e"
             ],
             [
              0.4444444444444444,
              "#bd3786"
             ],
             [
              0.5555555555555556,
              "#d8576b"
             ],
             [
              0.6666666666666666,
              "#ed7953"
             ],
             [
              0.7777777777777778,
              "#fb9f3a"
             ],
             [
              0.8888888888888888,
              "#fdca26"
             ],
             [
              1,
              "#f0f921"
             ]
            ],
            "type": "heatmapgl"
           }
          ],
          "histogram": [
           {
            "marker": {
             "pattern": {
              "fillmode": "overlay",
              "size": 10,
              "solidity": 0.2
             }
            },
            "type": "histogram"
           }
          ],
          "histogram2d": [
           {
            "colorbar": {
             "outlinewidth": 0,
             "ticks": ""
            },
            "colorscale": [
             [
              0,
              "#0d0887"
             ],
             [
              0.1111111111111111,
              "#46039f"
             ],
             [
              0.2222222222222222,
              "#7201a8"
             ],
             [
              0.3333333333333333,
              "#9c179e"
             ],
             [
              0.4444444444444444,
              "#bd3786"
             ],
             [
              0.5555555555555556,
              "#d8576b"
             ],
             [
              0.6666666666666666,
              "#ed7953"
             ],
             [
              0.7777777777777778,
              "#fb9f3a"
             ],
             [
              0.8888888888888888,
              "#fdca26"
             ],
             [
              1,
              "#f0f921"
             ]
            ],
            "type": "histogram2d"
           }
          ],
          "histogram2dcontour": [
           {
            "colorbar": {
             "outlinewidth": 0,
             "ticks": ""
            },
            "colorscale": [
             [
              0,
              "#0d0887"
             ],
             [
              0.1111111111111111,
              "#46039f"
             ],
             [
              0.2222222222222222,
              "#7201a8"
             ],
             [
              0.3333333333333333,
              "#9c179e"
             ],
             [
              0.4444444444444444,
              "#bd3786"
             ],
             [
              0.5555555555555556,
              "#d8576b"
             ],
             [
              0.6666666666666666,
              "#ed7953"
             ],
             [
              0.7777777777777778,
              "#fb9f3a"
             ],
             [
              0.8888888888888888,
              "#fdca26"
             ],
             [
              1,
              "#f0f921"
             ]
            ],
            "type": "histogram2dcontour"
           }
          ],
          "mesh3d": [
           {
            "colorbar": {
             "outlinewidth": 0,
             "ticks": ""
            },
            "type": "mesh3d"
           }
          ],
          "parcoords": [
           {
            "line": {
             "colorbar": {
              "outlinewidth": 0,
              "ticks": ""
             }
            },
            "type": "parcoords"
           }
          ],
          "pie": [
           {
            "automargin": true,
            "type": "pie"
           }
          ],
          "scatter": [
           {
            "fillpattern": {
             "fillmode": "overlay",
             "size": 10,
             "solidity": 0.2
            },
            "type": "scatter"
           }
          ],
          "scatter3d": [
           {
            "line": {
             "colorbar": {
              "outlinewidth": 0,
              "ticks": ""
             }
            },
            "marker": {
             "colorbar": {
              "outlinewidth": 0,
              "ticks": ""
             }
            },
            "type": "scatter3d"
           }
          ],
          "scattercarpet": [
           {
            "marker": {
             "colorbar": {
              "outlinewidth": 0,
              "ticks": ""
             }
            },
            "type": "scattercarpet"
           }
          ],
          "scattergeo": [
           {
            "marker": {
             "colorbar": {
              "outlinewidth": 0,
              "ticks": ""
             }
            },
            "type": "scattergeo"
           }
          ],
          "scattergl": [
           {
            "marker": {
             "colorbar": {
              "outlinewidth": 0,
              "ticks": ""
             }
            },
            "type": "scattergl"
           }
          ],
          "scattermapbox": [
           {
            "marker": {
             "colorbar": {
              "outlinewidth": 0,
              "ticks": ""
             }
            },
            "type": "scattermapbox"
           }
          ],
          "scatterpolar": [
           {
            "marker": {
             "colorbar": {
              "outlinewidth": 0,
              "ticks": ""
             }
            },
            "type": "scatterpolar"
           }
          ],
          "scatterpolargl": [
           {
            "marker": {
             "colorbar": {
              "outlinewidth": 0,
              "ticks": ""
             }
            },
            "type": "scatterpolargl"
           }
          ],
          "scatterternary": [
           {
            "marker": {
             "colorbar": {
              "outlinewidth": 0,
              "ticks": ""
             }
            },
            "type": "scatterternary"
           }
          ],
          "surface": [
           {
            "colorbar": {
             "outlinewidth": 0,
             "ticks": ""
            },
            "colorscale": [
             [
              0,
              "#0d0887"
             ],
             [
              0.1111111111111111,
              "#46039f"
             ],
             [
              0.2222222222222222,
              "#7201a8"
             ],
             [
              0.3333333333333333,
              "#9c179e"
             ],
             [
              0.4444444444444444,
              "#bd3786"
             ],
             [
              0.5555555555555556,
              "#d8576b"
             ],
             [
              0.6666666666666666,
              "#ed7953"
             ],
             [
              0.7777777777777778,
              "#fb9f3a"
             ],
             [
              0.8888888888888888,
              "#fdca26"
             ],
             [
              1,
              "#f0f921"
             ]
            ],
            "type": "surface"
           }
          ],
          "table": [
           {
            "cells": {
             "fill": {
              "color": "#EBF0F8"
             },
             "line": {
              "color": "white"
             }
            },
            "header": {
             "fill": {
              "color": "#C8D4E3"
             },
             "line": {
              "color": "white"
             }
            },
            "type": "table"
           }
          ]
         },
         "layout": {
          "annotationdefaults": {
           "arrowcolor": "#2a3f5f",
           "arrowhead": 0,
           "arrowwidth": 1
          },
          "autotypenumbers": "strict",
          "coloraxis": {
           "colorbar": {
            "outlinewidth": 0,
            "ticks": ""
           }
          },
          "colorscale": {
           "diverging": [
            [
             0,
             "#8e0152"
            ],
            [
             0.1,
             "#c51b7d"
            ],
            [
             0.2,
             "#de77ae"
            ],
            [
             0.3,
             "#f1b6da"
            ],
            [
             0.4,
             "#fde0ef"
            ],
            [
             0.5,
             "#f7f7f7"
            ],
            [
             0.6,
             "#e6f5d0"
            ],
            [
             0.7,
             "#b8e186"
            ],
            [
             0.8,
             "#7fbc41"
            ],
            [
             0.9,
             "#4d9221"
            ],
            [
             1,
             "#276419"
            ]
           ],
           "sequential": [
            [
             0,
             "#0d0887"
            ],
            [
             0.1111111111111111,
             "#46039f"
            ],
            [
             0.2222222222222222,
             "#7201a8"
            ],
            [
             0.3333333333333333,
             "#9c179e"
            ],
            [
             0.4444444444444444,
             "#bd3786"
            ],
            [
             0.5555555555555556,
             "#d8576b"
            ],
            [
             0.6666666666666666,
             "#ed7953"
            ],
            [
             0.7777777777777778,
             "#fb9f3a"
            ],
            [
             0.8888888888888888,
             "#fdca26"
            ],
            [
             1,
             "#f0f921"
            ]
           ],
           "sequentialminus": [
            [
             0,
             "#0d0887"
            ],
            [
             0.1111111111111111,
             "#46039f"
            ],
            [
             0.2222222222222222,
             "#7201a8"
            ],
            [
             0.3333333333333333,
             "#9c179e"
            ],
            [
             0.4444444444444444,
             "#bd3786"
            ],
            [
             0.5555555555555556,
             "#d8576b"
            ],
            [
             0.6666666666666666,
             "#ed7953"
            ],
            [
             0.7777777777777778,
             "#fb9f3a"
            ],
            [
             0.8888888888888888,
             "#fdca26"
            ],
            [
             1,
             "#f0f921"
            ]
           ]
          },
          "colorway": [
           "#636efa",
           "#EF553B",
           "#00cc96",
           "#ab63fa",
           "#FFA15A",
           "#19d3f3",
           "#FF6692",
           "#B6E880",
           "#FF97FF",
           "#FECB52"
          ],
          "font": {
           "color": "#2a3f5f"
          },
          "geo": {
           "bgcolor": "white",
           "lakecolor": "white",
           "landcolor": "#E5ECF6",
           "showlakes": true,
           "showland": true,
           "subunitcolor": "white"
          },
          "hoverlabel": {
           "align": "left"
          },
          "hovermode": "closest",
          "mapbox": {
           "style": "light"
          },
          "paper_bgcolor": "white",
          "plot_bgcolor": "#E5ECF6",
          "polar": {
           "angularaxis": {
            "gridcolor": "white",
            "linecolor": "white",
            "ticks": ""
           },
           "bgcolor": "#E5ECF6",
           "radialaxis": {
            "gridcolor": "white",
            "linecolor": "white",
            "ticks": ""
           }
          },
          "scene": {
           "xaxis": {
            "backgroundcolor": "#E5ECF6",
            "gridcolor": "white",
            "gridwidth": 2,
            "linecolor": "white",
            "showbackground": true,
            "ticks": "",
            "zerolinecolor": "white"
           },
           "yaxis": {
            "backgroundcolor": "#E5ECF6",
            "gridcolor": "white",
            "gridwidth": 2,
            "linecolor": "white",
            "showbackground": true,
            "ticks": "",
            "zerolinecolor": "white"
           },
           "zaxis": {
            "backgroundcolor": "#E5ECF6",
            "gridcolor": "white",
            "gridwidth": 2,
            "linecolor": "white",
            "showbackground": true,
            "ticks": "",
            "zerolinecolor": "white"
           }
          },
          "shapedefaults": {
           "line": {
            "color": "#2a3f5f"
           }
          },
          "ternary": {
           "aaxis": {
            "gridcolor": "white",
            "linecolor": "white",
            "ticks": ""
           },
           "baxis": {
            "gridcolor": "white",
            "linecolor": "white",
            "ticks": ""
           },
           "bgcolor": "#E5ECF6",
           "caxis": {
            "gridcolor": "white",
            "linecolor": "white",
            "ticks": ""
           }
          },
          "title": {
           "x": 0.05
          },
          "xaxis": {
           "automargin": true,
           "gridcolor": "white",
           "linecolor": "white",
           "ticks": "",
           "title": {
            "standoff": 15
           },
           "zerolinecolor": "white",
           "zerolinewidth": 2
          },
          "yaxis": {
           "automargin": true,
           "gridcolor": "white",
           "linecolor": "white",
           "ticks": "",
           "title": {
            "standoff": 15
           },
           "zerolinecolor": "white",
           "zerolinewidth": 2
          }
         }
        },
        "title": {
         "text": "Collisions and Disengagements per Million Miles by Year"
        },
        "width": 1000,
        "xaxis": {
         "anchor": "y",
         "domain": [
          0,
          1
         ],
         "title": {
          "text": "Year"
         }
        },
        "yaxis": {
         "anchor": "x",
         "domain": [
          0,
          1
         ],
         "title": {
          "text": "Count"
         }
        }
       }
      }
     },
     "metadata": {},
     "output_type": "display_data"
    }
   ],
   "source": [
    "# Plot grouped bar chart using Plotly Express\n",
    "fig = px.bar(waymo_focus_df, x='Year', y=['Collisions Per Million Miles Driven', 'Disengagements Per Million Miles Driven'],\n",
    "             title='Collisions and Disengagements per Million Miles by Year',\n",
    "             labels={'value': 'Count', 'variable': 'Metric'},\n",
    "             barmode='group',\n",
    "             color_discrete_sequence=px.colors.sequential.Viridis)\n",
    "\n",
    "fig.update_layout(height = 600, width = 1000)\n",
    "fig.write_image(\"Images/Waymo_disengagements_collisions_rate.jpg\")\n",
    "\n",
    "# Show plot\n",
    "fig.show()"
   ]
  },
  {
   "cell_type": "markdown",
   "id": "758d317b",
   "metadata": {},
   "source": [
    "All operators, 2023"
   ]
  },
  {
   "cell_type": "markdown",
   "id": "93ad4da0",
   "metadata": {},
   "source": []
  },
  {
   "cell_type": "code",
   "execution_count": 301,
   "id": "67de0f09",
   "metadata": {},
   "outputs": [
    {
     "name": "stdout",
     "output_type": "stream",
     "text": [
      "float64\n"
     ]
    },
    {
     "data": {
      "text/html": [
       "<div>\n",
       "<style scoped>\n",
       "    .dataframe tbody tr th:only-of-type {\n",
       "        vertical-align: middle;\n",
       "    }\n",
       "\n",
       "    .dataframe tbody tr th {\n",
       "        vertical-align: top;\n",
       "    }\n",
       "\n",
       "    .dataframe thead th {\n",
       "        text-align: right;\n",
       "    }\n",
       "</style>\n",
       "<table border=\"1\" class=\"dataframe\">\n",
       "  <thead>\n",
       "    <tr style=\"text-align: right;\">\n",
       "      <th></th>\n",
       "      <th>OPERATOR</th>\n",
       "      <th>Year</th>\n",
       "      <th>Mileage Total</th>\n",
       "      <th>Annual Total of Disengagements</th>\n",
       "      <th>VIN NUMBER</th>\n",
       "      <th>Disengagements/Thousand Miles</th>\n",
       "    </tr>\n",
       "  </thead>\n",
       "  <tbody>\n",
       "    <tr>\n",
       "      <th>0</th>\n",
       "      <td>AIMOTIVE</td>\n",
       "      <td>2021</td>\n",
       "      <td>2976.00</td>\n",
       "      <td>106.0</td>\n",
       "      <td>2</td>\n",
       "      <td>35.618280</td>\n",
       "    </tr>\n",
       "    <tr>\n",
       "      <th>1</th>\n",
       "      <td>AIMOTIVE</td>\n",
       "      <td>2022</td>\n",
       "      <td>15215.00</td>\n",
       "      <td>680.0</td>\n",
       "      <td>2</td>\n",
       "      <td>44.692737</td>\n",
       "    </tr>\n",
       "    <tr>\n",
       "      <th>2</th>\n",
       "      <td>AIMOTIVE</td>\n",
       "      <td>2023</td>\n",
       "      <td>14876.41</td>\n",
       "      <td>708.0</td>\n",
       "      <td>2</td>\n",
       "      <td>47.592127</td>\n",
       "    </tr>\n",
       "    <tr>\n",
       "      <th>3</th>\n",
       "      <td>APOLLO</td>\n",
       "      <td>2021</td>\n",
       "      <td>1467.50</td>\n",
       "      <td>1.0</td>\n",
       "      <td>2</td>\n",
       "      <td>0.681431</td>\n",
       "    </tr>\n",
       "    <tr>\n",
       "      <th>4</th>\n",
       "      <td>APOLLO</td>\n",
       "      <td>2022</td>\n",
       "      <td>2477.00</td>\n",
       "      <td>0.0</td>\n",
       "      <td>4</td>\n",
       "      <td>0.000000</td>\n",
       "    </tr>\n",
       "  </tbody>\n",
       "</table>\n",
       "</div>"
      ],
      "text/plain": [
       "   OPERATOR  Year  Mileage Total  Annual Total of Disengagements  VIN NUMBER  \\\n",
       "0  AIMOTIVE  2021        2976.00                           106.0           2   \n",
       "1  AIMOTIVE  2022       15215.00                           680.0           2   \n",
       "2  AIMOTIVE  2023       14876.41                           708.0           2   \n",
       "3    APOLLO  2021        1467.50                             1.0           2   \n",
       "4    APOLLO  2022        2477.00                             0.0           4   \n",
       "\n",
       "   Disengagements/Thousand Miles  \n",
       "0                      35.618280  \n",
       "1                      44.692737  \n",
       "2                      47.592127  \n",
       "3                       0.681431  \n",
       "4                       0.000000  "
      ]
     },
     "execution_count": 301,
     "metadata": {},
     "output_type": "execute_result"
    }
   ],
   "source": [
    "coll_time_place_df['Date_of_Accident'] = pd.to_datetime(coll_time_place_df['Date_of_Accident'])\n",
    "\n",
    "coll_time_place_df['Year'] = coll_time_place_df['Date_of_Accident'].dt.year\n",
    "grouped_coll_df = coll_time_place_df.groupby(['Operator', 'Year']).size().reset_index(name='collisions')\n",
    "grouped_coll_df.rename(columns={'Operator':'OPERATOR'}, inplace=True)\n",
    "print(grouped_coll_df['Year'].dtypes)\n",
    "grouped_coll_df['Year'] = grouped_coll_df['Year'].astype(int)\n",
    "grouped_coll_df.head()\n",
    "dptm.head()\n",
    "\n"
   ]
  },
  {
   "cell_type": "code",
   "execution_count": 317,
   "id": "7913da5d",
   "metadata": {},
   "outputs": [
    {
     "data": {
      "text/html": [
       "<div>\n",
       "<style scoped>\n",
       "    .dataframe tbody tr th:only-of-type {\n",
       "        vertical-align: middle;\n",
       "    }\n",
       "\n",
       "    .dataframe tbody tr th {\n",
       "        vertical-align: top;\n",
       "    }\n",
       "\n",
       "    .dataframe thead th {\n",
       "        text-align: right;\n",
       "    }\n",
       "</style>\n",
       "<table border=\"1\" class=\"dataframe\">\n",
       "  <thead>\n",
       "    <tr style=\"text-align: right;\">\n",
       "      <th></th>\n",
       "      <th>OPERATOR</th>\n",
       "      <th>Year</th>\n",
       "      <th>collisions</th>\n",
       "      <th>Mileage Total</th>\n",
       "      <th>Annual Total of Disengagements</th>\n",
       "      <th>VIN NUMBER</th>\n",
       "      <th>Disengagements/Thousand Miles</th>\n",
       "      <th>Collisions/Thousand Miles</th>\n",
       "    </tr>\n",
       "  </thead>\n",
       "  <tbody>\n",
       "    <tr>\n",
       "      <th>3</th>\n",
       "      <td>ARGO AI</td>\n",
       "      <td>2022</td>\n",
       "      <td>1</td>\n",
       "      <td>18640.81</td>\n",
       "      <td>1.0</td>\n",
       "      <td>10</td>\n",
       "      <td>0.0536</td>\n",
       "      <td>0.0536</td>\n",
       "    </tr>\n",
       "    <tr>\n",
       "      <th>5</th>\n",
       "      <td>CRUISE</td>\n",
       "      <td>2022</td>\n",
       "      <td>24</td>\n",
       "      <td>863110.92</td>\n",
       "      <td>9.0</td>\n",
       "      <td>350</td>\n",
       "      <td>0.0104</td>\n",
       "      <td>0.0278</td>\n",
       "    </tr>\n",
       "    <tr>\n",
       "      <th>9</th>\n",
       "      <td>PONYAI</td>\n",
       "      <td>2022</td>\n",
       "      <td>3</td>\n",
       "      <td>280412.00</td>\n",
       "      <td>20.0</td>\n",
       "      <td>34</td>\n",
       "      <td>0.0713</td>\n",
       "      <td>0.0107</td>\n",
       "    </tr>\n",
       "    <tr>\n",
       "      <th>11</th>\n",
       "      <td>WAYMO</td>\n",
       "      <td>2022</td>\n",
       "      <td>41</td>\n",
       "      <td>2900143.80</td>\n",
       "      <td>170.0</td>\n",
       "      <td>384</td>\n",
       "      <td>0.0586</td>\n",
       "      <td>0.0141</td>\n",
       "    </tr>\n",
       "    <tr>\n",
       "      <th>15</th>\n",
       "      <td>ZOOX</td>\n",
       "      <td>2022</td>\n",
       "      <td>17</td>\n",
       "      <td>552133.00</td>\n",
       "      <td>21.0</td>\n",
       "      <td>106</td>\n",
       "      <td>0.0380</td>\n",
       "      <td>0.0308</td>\n",
       "    </tr>\n",
       "  </tbody>\n",
       "</table>\n",
       "</div>"
      ],
      "text/plain": [
       "   OPERATOR  Year  collisions  Mileage Total  Annual Total of Disengagements  \\\n",
       "3   ARGO AI  2022           1       18640.81                             1.0   \n",
       "5    CRUISE  2022          24      863110.92                             9.0   \n",
       "9    PONYAI  2022           3      280412.00                            20.0   \n",
       "11    WAYMO  2022          41     2900143.80                           170.0   \n",
       "15     ZOOX  2022          17      552133.00                            21.0   \n",
       "\n",
       "    VIN NUMBER  Disengagements/Thousand Miles  Collisions/Thousand Miles  \n",
       "3           10                         0.0536                     0.0536  \n",
       "5          350                         0.0104                     0.0278  \n",
       "9           34                         0.0713                     0.0107  \n",
       "11         384                         0.0586                     0.0141  \n",
       "15         106                         0.0380                     0.0308  "
      ]
     },
     "execution_count": 317,
     "metadata": {},
     "output_type": "execute_result"
    }
   ],
   "source": [
    "coll_dis_group_df = pd.merge(grouped_coll_df, dptm, on=['OPERATOR','Year'], how='inner')\n",
    "coll_dis_group_df = coll_dis_group_df[coll_dis_group_df['Year'] == 2022]\n",
    "coll_dis_group_df['Collisions/Thousand Miles'] = round((coll_dis_group_df['collisions'] / coll_dis_group_df['Mileage Total'] / 0.001), 4)\n",
    "coll_dis_group_df['Disengagements/Thousand Miles'] = round(coll_dis_group_df['Disengagements/Thousand Miles'], 4)\n",
    "coll_dis_group_df.head(20)"
   ]
  },
  {
   "cell_type": "code",
   "execution_count": 324,
   "metadata": {},
   "outputs": [
    {
     "data": {
      "application/vnd.plotly.v1+json": {
       "config": {
        "plotlyServerURL": "https://plot.ly"
       },
       "data": [
        {
         "alignmentgroup": "True",
         "hovertemplate": "Metric=Collisions/Thousand Miles<br>Count per Thousand Miles=%{x}<br>Operator=%{y}<extra></extra>",
         "legendgroup": "Collisions/Thousand Miles",
         "marker": {
          "color": "#440154",
          "pattern": {
           "shape": ""
          }
         },
         "name": "Collisions/Thousand Miles",
         "offsetgroup": "Collisions/Thousand Miles",
         "orientation": "h",
         "showlegend": true,
         "textposition": "auto",
         "type": "bar",
         "x": [
          0.0536,
          0.0278,
          0.0107,
          0.0141,
          0.0308
         ],
         "xaxis": "x",
         "y": [
          "ARGO AI",
          "CRUISE",
          "PONYAI",
          "WAYMO",
          "ZOOX"
         ],
         "yaxis": "y"
        },
        {
         "alignmentgroup": "True",
         "hovertemplate": "Metric=Disengagements/Thousand Miles<br>Count per Thousand Miles=%{x}<br>Operator=%{y}<extra></extra>",
         "legendgroup": "Disengagements/Thousand Miles",
         "marker": {
          "color": "#482878",
          "pattern": {
           "shape": ""
          }
         },
         "name": "Disengagements/Thousand Miles",
         "offsetgroup": "Disengagements/Thousand Miles",
         "orientation": "h",
         "showlegend": true,
         "textposition": "auto",
         "type": "bar",
         "x": [
          0.0536,
          0.0104,
          0.0713,
          0.0586,
          0.038
         ],
         "xaxis": "x",
         "y": [
          "ARGO AI",
          "CRUISE",
          "PONYAI",
          "WAYMO",
          "ZOOX"
         ],
         "yaxis": "y"
        }
       ],
       "layout": {
        "barmode": "group",
        "height": 600,
        "legend": {
         "title": {
          "text": "Metric"
         },
         "tracegroupgap": 0
        },
        "template": {
         "data": {
          "bar": [
           {
            "error_x": {
             "color": "#2a3f5f"
            },
            "error_y": {
             "color": "#2a3f5f"
            },
            "marker": {
             "line": {
              "color": "#E5ECF6",
              "width": 0.5
             },
             "pattern": {
              "fillmode": "overlay",
              "size": 10,
              "solidity": 0.2
             }
            },
            "type": "bar"
           }
          ],
          "barpolar": [
           {
            "marker": {
             "line": {
              "color": "#E5ECF6",
              "width": 0.5
             },
             "pattern": {
              "fillmode": "overlay",
              "size": 10,
              "solidity": 0.2
             }
            },
            "type": "barpolar"
           }
          ],
          "carpet": [
           {
            "aaxis": {
             "endlinecolor": "#2a3f5f",
             "gridcolor": "white",
             "linecolor": "white",
             "minorgridcolor": "white",
             "startlinecolor": "#2a3f5f"
            },
            "baxis": {
             "endlinecolor": "#2a3f5f",
             "gridcolor": "white",
             "linecolor": "white",
             "minorgridcolor": "white",
             "startlinecolor": "#2a3f5f"
            },
            "type": "carpet"
           }
          ],
          "choropleth": [
           {
            "colorbar": {
             "outlinewidth": 0,
             "ticks": ""
            },
            "type": "choropleth"
           }
          ],
          "contour": [
           {
            "colorbar": {
             "outlinewidth": 0,
             "ticks": ""
            },
            "colorscale": [
             [
              0,
              "#0d0887"
             ],
             [
              0.1111111111111111,
              "#46039f"
             ],
             [
              0.2222222222222222,
              "#7201a8"
             ],
             [
              0.3333333333333333,
              "#9c179e"
             ],
             [
              0.4444444444444444,
              "#bd3786"
             ],
             [
              0.5555555555555556,
              "#d8576b"
             ],
             [
              0.6666666666666666,
              "#ed7953"
             ],
             [
              0.7777777777777778,
              "#fb9f3a"
             ],
             [
              0.8888888888888888,
              "#fdca26"
             ],
             [
              1,
              "#f0f921"
             ]
            ],
            "type": "contour"
           }
          ],
          "contourcarpet": [
           {
            "colorbar": {
             "outlinewidth": 0,
             "ticks": ""
            },
            "type": "contourcarpet"
           }
          ],
          "heatmap": [
           {
            "colorbar": {
             "outlinewidth": 0,
             "ticks": ""
            },
            "colorscale": [
             [
              0,
              "#0d0887"
             ],
             [
              0.1111111111111111,
              "#46039f"
             ],
             [
              0.2222222222222222,
              "#7201a8"
             ],
             [
              0.3333333333333333,
              "#9c179e"
             ],
             [
              0.4444444444444444,
              "#bd3786"
             ],
             [
              0.5555555555555556,
              "#d8576b"
             ],
             [
              0.6666666666666666,
              "#ed7953"
             ],
             [
              0.7777777777777778,
              "#fb9f3a"
             ],
             [
              0.8888888888888888,
              "#fdca26"
             ],
             [
              1,
              "#f0f921"
             ]
            ],
            "type": "heatmap"
           }
          ],
          "heatmapgl": [
           {
            "colorbar": {
             "outlinewidth": 0,
             "ticks": ""
            },
            "colorscale": [
             [
              0,
              "#0d0887"
             ],
             [
              0.1111111111111111,
              "#46039f"
             ],
             [
              0.2222222222222222,
              "#7201a8"
             ],
             [
              0.3333333333333333,
              "#9c179e"
             ],
             [
              0.4444444444444444,
              "#bd3786"
             ],
             [
              0.5555555555555556,
              "#d8576b"
             ],
             [
              0.6666666666666666,
              "#ed7953"
             ],
             [
              0.7777777777777778,
              "#fb9f3a"
             ],
             [
              0.8888888888888888,
              "#fdca26"
             ],
             [
              1,
              "#f0f921"
             ]
            ],
            "type": "heatmapgl"
           }
          ],
          "histogram": [
           {
            "marker": {
             "pattern": {
              "fillmode": "overlay",
              "size": 10,
              "solidity": 0.2
             }
            },
            "type": "histogram"
           }
          ],
          "histogram2d": [
           {
            "colorbar": {
             "outlinewidth": 0,
             "ticks": ""
            },
            "colorscale": [
             [
              0,
              "#0d0887"
             ],
             [
              0.1111111111111111,
              "#46039f"
             ],
             [
              0.2222222222222222,
              "#7201a8"
             ],
             [
              0.3333333333333333,
              "#9c179e"
             ],
             [
              0.4444444444444444,
              "#bd3786"
             ],
             [
              0.5555555555555556,
              "#d8576b"
             ],
             [
              0.6666666666666666,
              "#ed7953"
             ],
             [
              0.7777777777777778,
              "#fb9f3a"
             ],
             [
              0.8888888888888888,
              "#fdca26"
             ],
             [
              1,
              "#f0f921"
             ]
            ],
            "type": "histogram2d"
           }
          ],
          "histogram2dcontour": [
           {
            "colorbar": {
             "outlinewidth": 0,
             "ticks": ""
            },
            "colorscale": [
             [
              0,
              "#0d0887"
             ],
             [
              0.1111111111111111,
              "#46039f"
             ],
             [
              0.2222222222222222,
              "#7201a8"
             ],
             [
              0.3333333333333333,
              "#9c179e"
             ],
             [
              0.4444444444444444,
              "#bd3786"
             ],
             [
              0.5555555555555556,
              "#d8576b"
             ],
             [
              0.6666666666666666,
              "#ed7953"
             ],
             [
              0.7777777777777778,
              "#fb9f3a"
             ],
             [
              0.8888888888888888,
              "#fdca26"
             ],
             [
              1,
              "#f0f921"
             ]
            ],
            "type": "histogram2dcontour"
           }
          ],
          "mesh3d": [
           {
            "colorbar": {
             "outlinewidth": 0,
             "ticks": ""
            },
            "type": "mesh3d"
           }
          ],
          "parcoords": [
           {
            "line": {
             "colorbar": {
              "outlinewidth": 0,
              "ticks": ""
             }
            },
            "type": "parcoords"
           }
          ],
          "pie": [
           {
            "automargin": true,
            "type": "pie"
           }
          ],
          "scatter": [
           {
            "fillpattern": {
             "fillmode": "overlay",
             "size": 10,
             "solidity": 0.2
            },
            "type": "scatter"
           }
          ],
          "scatter3d": [
           {
            "line": {
             "colorbar": {
              "outlinewidth": 0,
              "ticks": ""
             }
            },
            "marker": {
             "colorbar": {
              "outlinewidth": 0,
              "ticks": ""
             }
            },
            "type": "scatter3d"
           }
          ],
          "scattercarpet": [
           {
            "marker": {
             "colorbar": {
              "outlinewidth": 0,
              "ticks": ""
             }
            },
            "type": "scattercarpet"
           }
          ],
          "scattergeo": [
           {
            "marker": {
             "colorbar": {
              "outlinewidth": 0,
              "ticks": ""
             }
            },
            "type": "scattergeo"
           }
          ],
          "scattergl": [
           {
            "marker": {
             "colorbar": {
              "outlinewidth": 0,
              "ticks": ""
             }
            },
            "type": "scattergl"
           }
          ],
          "scattermapbox": [
           {
            "marker": {
             "colorbar": {
              "outlinewidth": 0,
              "ticks": ""
             }
            },
            "type": "scattermapbox"
           }
          ],
          "scatterpolar": [
           {
            "marker": {
             "colorbar": {
              "outlinewidth": 0,
              "ticks": ""
             }
            },
            "type": "scatterpolar"
           }
          ],
          "scatterpolargl": [
           {
            "marker": {
             "colorbar": {
              "outlinewidth": 0,
              "ticks": ""
             }
            },
            "type": "scatterpolargl"
           }
          ],
          "scatterternary": [
           {
            "marker": {
             "colorbar": {
              "outlinewidth": 0,
              "ticks": ""
             }
            },
            "type": "scatterternary"
           }
          ],
          "surface": [
           {
            "colorbar": {
             "outlinewidth": 0,
             "ticks": ""
            },
            "colorscale": [
             [
              0,
              "#0d0887"
             ],
             [
              0.1111111111111111,
              "#46039f"
             ],
             [
              0.2222222222222222,
              "#7201a8"
             ],
             [
              0.3333333333333333,
              "#9c179e"
             ],
             [
              0.4444444444444444,
              "#bd3786"
             ],
             [
              0.5555555555555556,
              "#d8576b"
             ],
             [
              0.6666666666666666,
              "#ed7953"
             ],
             [
              0.7777777777777778,
              "#fb9f3a"
             ],
             [
              0.8888888888888888,
              "#fdca26"
             ],
             [
              1,
              "#f0f921"
             ]
            ],
            "type": "surface"
           }
          ],
          "table": [
           {
            "cells": {
             "fill": {
              "color": "#EBF0F8"
             },
             "line": {
              "color": "white"
             }
            },
            "header": {
             "fill": {
              "color": "#C8D4E3"
             },
             "line": {
              "color": "white"
             }
            },
            "type": "table"
           }
          ]
         },
         "layout": {
          "annotationdefaults": {
           "arrowcolor": "#2a3f5f",
           "arrowhead": 0,
           "arrowwidth": 1
          },
          "autotypenumbers": "strict",
          "coloraxis": {
           "colorbar": {
            "outlinewidth": 0,
            "ticks": ""
           }
          },
          "colorscale": {
           "diverging": [
            [
             0,
             "#8e0152"
            ],
            [
             0.1,
             "#c51b7d"
            ],
            [
             0.2,
             "#de77ae"
            ],
            [
             0.3,
             "#f1b6da"
            ],
            [
             0.4,
             "#fde0ef"
            ],
            [
             0.5,
             "#f7f7f7"
            ],
            [
             0.6,
             "#e6f5d0"
            ],
            [
             0.7,
             "#b8e186"
            ],
            [
             0.8,
             "#7fbc41"
            ],
            [
             0.9,
             "#4d9221"
            ],
            [
             1,
             "#276419"
            ]
           ],
           "sequential": [
            [
             0,
             "#0d0887"
            ],
            [
             0.1111111111111111,
             "#46039f"
            ],
            [
             0.2222222222222222,
             "#7201a8"
            ],
            [
             0.3333333333333333,
             "#9c179e"
            ],
            [
             0.4444444444444444,
             "#bd3786"
            ],
            [
             0.5555555555555556,
             "#d8576b"
            ],
            [
             0.6666666666666666,
             "#ed7953"
            ],
            [
             0.7777777777777778,
             "#fb9f3a"
            ],
            [
             0.8888888888888888,
             "#fdca26"
            ],
            [
             1,
             "#f0f921"
            ]
           ],
           "sequentialminus": [
            [
             0,
             "#0d0887"
            ],
            [
             0.1111111111111111,
             "#46039f"
            ],
            [
             0.2222222222222222,
             "#7201a8"
            ],
            [
             0.3333333333333333,
             "#9c179e"
            ],
            [
             0.4444444444444444,
             "#bd3786"
            ],
            [
             0.5555555555555556,
             "#d8576b"
            ],
            [
             0.6666666666666666,
             "#ed7953"
            ],
            [
             0.7777777777777778,
             "#fb9f3a"
            ],
            [
             0.8888888888888888,
             "#fdca26"
            ],
            [
             1,
             "#f0f921"
            ]
           ]
          },
          "colorway": [
           "#636efa",
           "#EF553B",
           "#00cc96",
           "#ab63fa",
           "#FFA15A",
           "#19d3f3",
           "#FF6692",
           "#B6E880",
           "#FF97FF",
           "#FECB52"
          ],
          "font": {
           "color": "#2a3f5f"
          },
          "geo": {
           "bgcolor": "white",
           "lakecolor": "white",
           "landcolor": "#E5ECF6",
           "showlakes": true,
           "showland": true,
           "subunitcolor": "white"
          },
          "hoverlabel": {
           "align": "left"
          },
          "hovermode": "closest",
          "mapbox": {
           "style": "light"
          },
          "paper_bgcolor": "white",
          "plot_bgcolor": "#E5ECF6",
          "polar": {
           "angularaxis": {
            "gridcolor": "white",
            "linecolor": "white",
            "ticks": ""
           },
           "bgcolor": "#E5ECF6",
           "radialaxis": {
            "gridcolor": "white",
            "linecolor": "white",
            "ticks": ""
           }
          },
          "scene": {
           "xaxis": {
            "backgroundcolor": "#E5ECF6",
            "gridcolor": "white",
            "gridwidth": 2,
            "linecolor": "white",
            "showbackground": true,
            "ticks": "",
            "zerolinecolor": "white"
           },
           "yaxis": {
            "backgroundcolor": "#E5ECF6",
            "gridcolor": "white",
            "gridwidth": 2,
            "linecolor": "white",
            "showbackground": true,
            "ticks": "",
            "zerolinecolor": "white"
           },
           "zaxis": {
            "backgroundcolor": "#E5ECF6",
            "gridcolor": "white",
            "gridwidth": 2,
            "linecolor": "white",
            "showbackground": true,
            "ticks": "",
            "zerolinecolor": "white"
           }
          },
          "shapedefaults": {
           "line": {
            "color": "#2a3f5f"
           }
          },
          "ternary": {
           "aaxis": {
            "gridcolor": "white",
            "linecolor": "white",
            "ticks": ""
           },
           "baxis": {
            "gridcolor": "white",
            "linecolor": "white",
            "ticks": ""
           },
           "bgcolor": "#E5ECF6",
           "caxis": {
            "gridcolor": "white",
            "linecolor": "white",
            "ticks": ""
           }
          },
          "title": {
           "x": 0.05
          },
          "xaxis": {
           "automargin": true,
           "gridcolor": "white",
           "linecolor": "white",
           "ticks": "",
           "title": {
            "standoff": 15
           },
           "zerolinecolor": "white",
           "zerolinewidth": 2
          },
          "yaxis": {
           "automargin": true,
           "gridcolor": "white",
           "linecolor": "white",
           "ticks": "",
           "title": {
            "standoff": 15
           },
           "zerolinecolor": "white",
           "zerolinewidth": 2
          }
         }
        },
        "title": {
         "text": "2022 Collisions and Disengagements per Thousand Miles by Operator"
        },
        "width": 1000,
        "xaxis": {
         "anchor": "y",
         "domain": [
          0,
          1
         ],
         "title": {
          "text": "Count per Thousand Miles"
         }
        },
        "yaxis": {
         "anchor": "x",
         "domain": [
          0,
          1
         ],
         "title": {
          "text": "Operator"
         }
        }
       }
      }
     },
     "metadata": {},
     "output_type": "display_data"
    }
   ],
   "source": [
    "# Melt the DataFrame to have a single column for the count values\n",
    "melted_df = coll_dis_group_df.melt(id_vars='OPERATOR', \n",
    "                                    value_vars=['Collisions/Thousand Miles', 'Disengagements/Thousand Miles'],\n",
    "                                    var_name='Metric', value_name='Count per Thousand Miles')\n",
    "\n",
    "# Plot grouped horizontal bar chart using Plotly Express\n",
    "fig = px.bar(melted_df,\n",
    "             y='OPERATOR', \n",
    "             x='Count per Thousand Miles', \n",
    "             color='Metric', \n",
    "             orientation='h',\n",
    "             barmode='group',\n",
    "             title='2022 Collisions and Disengagements per Thousand Miles by Operator',\n",
    "             labels={'OPERATOR': 'Operator', 'Count per Thousand Miles': 'Count per Thousand Miles', \n",
    "                     'Metric': 'Metric'},\n",
    "             color_discrete_sequence=px.colors.sequential.Viridis)\n",
    "\n",
    "\n",
    "fig.update_layout(height = 600, width = 1000)\n",
    "fig.write_image(\"Images/2022_disengagements_collisions_rate.jpg\")\n",
    "# Show plot\n",
    "fig.show()"
   ]
  },
  {
   "cell_type": "markdown",
   "id": "a10ed58a",
   "metadata": {},
   "source": [
    "# ZIPPY"
   ]
  },
  {
   "cell_type": "code",
   "execution_count": null,
   "id": "58fec7f4",
   "metadata": {},
   "outputs": [],
   "source": [
    "# graph of miles over time?\n",
    "# Combined graph - line: miles, columns, disengagements?"
   ]
  },
  {
   "cell_type": "code",
   "execution_count": null,
   "id": "0912c957",
   "metadata": {},
   "outputs": [],
   "source": [
    "# sunburst of mileage by month? \n",
    "# what sotry? weather vehicles can/can't run in\n"
   ]
  }
 ],
 "metadata": {
  "kernelspec": {
   "display_name": "Python 3 (ipykernel)",
   "language": "python",
   "name": "python3"
  },
  "language_info": {
   "codemirror_mode": {
    "name": "ipython",
    "version": 3
   },
   "file_extension": ".py",
   "mimetype": "text/x-python",
   "name": "python",
   "nbconvert_exporter": "python",
   "pygments_lexer": "ipython3",
   "version": "3.10.13"
  }
 },
 "nbformat": 4,
 "nbformat_minor": 5
}
