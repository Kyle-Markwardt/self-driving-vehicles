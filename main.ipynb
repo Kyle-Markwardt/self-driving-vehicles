{
 "cells": [
  {
   "cell_type": "markdown",
   "id": "5f7de0c1",
   "metadata": {},
   "source": [
    "# TODO:\n",
    "    - Refine narrative\n",
    "    - Make plots\n",
    "    - Determine presentation form\n",
    "        - Kyle: partial to some kind of web app\n",
    "\n",
    "## Notes\n",
    "\n",
    "- DB- Note on file names.  I slightly edited file names (I think to include a -) so the names  would be sufficiently uniform, for reading into dfs.  Let's ensure this is pushed correctly. \n",
    "- RE: CSV file inputs and date ranges.  I observe there is no 2022 autonomous vehicle disengagement report- driverless on the DMV website\n",
    "- Similarily, there is something going on in the driverless mileage reports.\n",
    "- The 2020-21-Autonomous-Mileage-Reports-CSV-driverless covers Jan 2020 - Nov 2021\n",
    "- The 2021-22-Autonomous-Mileage-Reports-CSV-driverless covers Jan 2021 - Nov 2022, but only has 3 lines, for WERIDE CORP,\n",
    "    - Which doesn't appear in the 2020-21 entry.  This is probably due to a delayed filing on their part, and staff did the ez thing.\n",
    "- The 2022 Report starts in Dec 2021 - Nov 2022, and doesn't include WERIDE info (either by name or permit #)\n",
    "- The 2023 Report covers Dec 2022- Nov 2023, and includes WERIDE, so there is no overlaping info.\n",
    "\n",
    "- Re: The mileage reports.  I'm loading them in so the yeoman's work is done.  I don't want to botch joining them.\n",
    "   - Some form of groupby + set_index, as per discord, might be the trick here. \n",
    "   - Alternatively, we can combine the permit # + VIN into a new single column, and this will enable some straightforward y/y granular tracking via joined dfs (m/m from Jan 2020 - Nov 2023)\n",
    "- Finally, we should be on the lookout for permit #s that have company name changes, like the company got bought or something\n",
    "\n",
    "## Narrative, high level, keep refining into story:\n",
    "1. Overall trends, total miles, leaders in the space, etc.\n",
    "2. Cruise story because it's interesting (backup: Waymo)\n",
    "3. Follow 'zippy' the car (longest hauler)"
   ]
  },
  {
   "cell_type": "markdown",
   "id": "a8af4c23",
   "metadata": {},
   "source": [
    "# IMPORTS"
   ]
  },
  {
   "cell_type": "code",
   "execution_count": 2,
   "id": "ff662bd6-1e47-43a8-924f-3f1a7c45d0b2",
   "metadata": {
    "tags": []
   },
   "outputs": [],
   "source": [
    "import pandas as pd\n",
    "import seaborn as sns \n",
    "import numpy\n",
    "import plotly.express as px\n",
    "from pprint import pprint\n",
    "import matplotlib.pyplot as plt\n",
    "from wordcloud import WordCloud, STOPWORDS\n"
   ]
  },
  {
   "cell_type": "markdown",
   "id": "e3b09241",
   "metadata": {},
   "source": [
    "# DATA"
   ]
  },
  {
   "cell_type": "code",
   "execution_count": 3,
   "id": "3deb78dc-84c3-4932-962c-ae8f7db5c475",
   "metadata": {
    "tags": []
   },
   "outputs": [],
   "source": [
    "### Lists\n",
    "## Years common across data\n",
    "years = [\"2020\", \"2021\", \"2022\", \"2023\"]\n",
    "years = sorted(list(years))\n",
    "\n",
    "months = [\"DEC-1\", \"JAN\", \"FEB\", \"MAR\", \"APR\", \"MAY\", \"JUN\", \"JULY\", \"AUG\", \"SEP\", \"OCT\", \"NOV\"]\n"
   ]
  },
  {
   "cell_type": "markdown",
   "id": "2d1d2e0f",
   "metadata": {},
   "source": [
    "### Mileage"
   ]
  },
  {
   "cell_type": "code",
   "execution_count": 4,
   "id": "1da9017a-6e18-47f0-960f-9a8f7b73a72d",
   "metadata": {
    "tags": []
   },
   "outputs": [
    {
     "name": "stdout",
     "output_type": "stream",
     "text": [
      "File for year 2020 not found. Skipping...\n"
     ]
    }
   ],
   "source": [
    "# TODO: Cast DATE column as datetype for disengagements\n",
    "\n",
    "## Read in mileage data\n",
    "mile_dfs = []\n",
    "for year in years:\n",
    "    try:\n",
    "        annual_mileage = pd.read_csv(f\"data/Mileage/{year}-Autonomous-Mileage-Reports-CSV.csv\", encoding='utf-8')\n",
    "    # Allows the search to be broad\n",
    "    except FileNotFoundError:\n",
    "        print(f\"File for year {year} not found. Skipping...\")\n",
    "        continue\n",
    "    # Got some kind of unicode error. This fixed it.\n",
    "    except UnicodeDecodeError:\n",
    "        # If utf-8 decoding fails, try another common encoding\n",
    "        annual_mileage = pd.read_csv(f\"data/Mileage/{year}-Autonomous-Mileage-Reports-CSV.csv\", encoding='latin-1')\n",
    "    annual_mileage[\"Year\"] = year\n",
    "    annual_mileage.rename(columns={'ANNUAL TOTAL': 'Mileage Total'}, inplace=True)\n",
    "    for i, month in enumerate(months, start=4):\n",
    "        annual_mileage.columns.values[i] = month\n",
    "    mile_dfs.append(annual_mileage)\n",
    "    # INFO: each annual report has 22 cols\n",
    "\n",
    "mileage_df = pd.concat(mile_dfs, ignore_index=True)\n",
    "# mileage_df.set_index('VIN NUMBER', inplace=True)"
   ]
  },
  {
   "cell_type": "markdown",
   "id": "c548203a",
   "metadata": {},
   "source": [
    "First Time Filers - Mileage"
   ]
  },
  {
   "cell_type": "code",
   "execution_count": 5,
   "id": "19fb7046-df7d-49fa-b0c9-4c4db90f9c98",
   "metadata": {
    "tags": []
   },
   "outputs": [
    {
     "name": "stdout",
     "output_type": "stream",
     "text": [
      "File for year 2023-24 not found. Skipping...\n",
      "# of objects in mile_driverless_dfs:  3\n"
     ]
    }
   ],
   "source": [
    "mile_first_time_filer_dfs = []\n",
    "for year in years:\n",
    "    try:\n",
    "        annual_disengagements = pd.read_csv(f\"data/Mileage/{year}-{str(int(year[3]) + 21)}-Autonomous-Mileage-Reports-CSV-first-time-filers.csv\", encoding='utf-8')\n",
    "    except FileNotFoundError:\n",
    "        print(f\"File for year {year}-{str(int(year[3]) + 21)} not found. Skipping...\")\n",
    "        continue\n",
    "    # Got some kind of unicode error. This fixed it.\n",
    "    except UnicodeDecodeError:\n",
    "        # If utf-8 decoding fails, try another common encoding\n",
    "        annual_disengagements = pd.read_csv(f\"data/Mileage/{year}-{str(int(year[3]) + 21)}-Autonomous-Mileage-Reports-CSV-first-time-filers.csv\", encoding='latin-1')\n",
    "    mile_first_time_filer_dfs.append(annual_disengagements)\n",
    "    \n",
    "# Not combining due to join issue raised at top of document\n",
    "#first_time_mileage_df = pd.concat(mile_first_time_filer, ignore_index=True)\n",
    "\n",
    "#print(mile_first_time_filer_dfs[0].head())\n",
    "print(\"# of objects in mile_driverless_dfs:  \" + str(len(mile_first_time_filer_dfs)))"
   ]
  },
  {
   "cell_type": "markdown",
   "id": "2d21ac82",
   "metadata": {},
   "source": [
    "Driverless Mileage"
   ]
  },
  {
   "cell_type": "code",
   "execution_count": 6,
   "id": "e6c52ee2-eab0-4c3d-ad82-9d282275f540",
   "metadata": {
    "tags": []
   },
   "outputs": [
    {
     "name": "stdout",
     "output_type": "stream",
     "text": [
      "File for year 2022-23 not found. Skipping...\n",
      "File for year 2023-24 not found. Skipping...\n",
      "File for year 2020 not found. Skipping...\n",
      "File for year 2021 not found. Skipping...\n",
      "# of objects in mile_driverless_dfs:  4\n"
     ]
    },
    {
     "data": {
      "text/html": [
       "<div>\n",
       "<style scoped>\n",
       "    .dataframe tbody tr th:only-of-type {\n",
       "        vertical-align: middle;\n",
       "    }\n",
       "\n",
       "    .dataframe tbody tr th {\n",
       "        vertical-align: top;\n",
       "    }\n",
       "\n",
       "    .dataframe thead th {\n",
       "        text-align: right;\n",
       "    }\n",
       "</style>\n",
       "<table border=\"1\" class=\"dataframe\">\n",
       "  <thead>\n",
       "    <tr style=\"text-align: right;\">\n",
       "      <th></th>\n",
       "      <th>Manufacturer</th>\n",
       "      <th>Permit Number</th>\n",
       "      <th>VIN NUMBER</th>\n",
       "      <th>Annual Total of Disengagements</th>\n",
       "      <th>DEC-1</th>\n",
       "      <th>JAN</th>\n",
       "      <th>FEB</th>\n",
       "      <th>MAR</th>\n",
       "      <th>APR</th>\n",
       "      <th>MAY</th>\n",
       "      <th>...</th>\n",
       "      <th>JULY 2022</th>\n",
       "      <th>AUG 2022</th>\n",
       "      <th>SEP 2022</th>\n",
       "      <th>OCT 2022</th>\n",
       "      <th>NOV 2022</th>\n",
       "      <th>Unnamed: 17</th>\n",
       "      <th>Unnamed: 18</th>\n",
       "      <th>Unnamed: 19</th>\n",
       "      <th>Unnamed: 20</th>\n",
       "      <th>Unnamed: 21</th>\n",
       "    </tr>\n",
       "  </thead>\n",
       "  <tbody>\n",
       "    <tr>\n",
       "      <th>0</th>\n",
       "      <td>APOLLO AUTONOMOUS DRIVING USA LLC</td>\n",
       "      <td>AVDT006</td>\n",
       "      <td>3LN6L5LU2HR615153</td>\n",
       "      <td>0.0</td>\n",
       "      <td>NaN</td>\n",
       "      <td>NaN</td>\n",
       "      <td>NaN</td>\n",
       "      <td>NaN</td>\n",
       "      <td>NaN</td>\n",
       "      <td>NaN</td>\n",
       "      <td>...</td>\n",
       "      <td>NaN</td>\n",
       "      <td>NaN</td>\n",
       "      <td>NaN</td>\n",
       "      <td>NaN</td>\n",
       "      <td>NaN</td>\n",
       "      <td>NaN</td>\n",
       "      <td>NaN</td>\n",
       "      <td>NaN</td>\n",
       "      <td>NaN</td>\n",
       "      <td>NaN</td>\n",
       "    </tr>\n",
       "    <tr>\n",
       "      <th>1</th>\n",
       "      <td>APOLLO AUTONOMOUS DRIVING USA LLC</td>\n",
       "      <td>AVDT006</td>\n",
       "      <td>3LN6L2LU4GR629715</td>\n",
       "      <td>0.0</td>\n",
       "      <td>NaN</td>\n",
       "      <td>NaN</td>\n",
       "      <td>NaN</td>\n",
       "      <td>NaN</td>\n",
       "      <td>NaN</td>\n",
       "      <td>NaN</td>\n",
       "      <td>...</td>\n",
       "      <td>NaN</td>\n",
       "      <td>NaN</td>\n",
       "      <td>NaN</td>\n",
       "      <td>NaN</td>\n",
       "      <td>NaN</td>\n",
       "      <td>NaN</td>\n",
       "      <td>NaN</td>\n",
       "      <td>NaN</td>\n",
       "      <td>NaN</td>\n",
       "      <td>NaN</td>\n",
       "    </tr>\n",
       "    <tr>\n",
       "      <th>2</th>\n",
       "      <td>APOLLO AUTONOMOUS DRIVING USA LLC</td>\n",
       "      <td>AVDT006</td>\n",
       "      <td>2C4RC1N71LR2S2232</td>\n",
       "      <td>0.0</td>\n",
       "      <td>NaN</td>\n",
       "      <td>NaN</td>\n",
       "      <td>NaN</td>\n",
       "      <td>NaN</td>\n",
       "      <td>NaN</td>\n",
       "      <td>NaN</td>\n",
       "      <td>...</td>\n",
       "      <td>NaN</td>\n",
       "      <td>NaN</td>\n",
       "      <td>NaN</td>\n",
       "      <td>NaN</td>\n",
       "      <td>NaN</td>\n",
       "      <td>NaN</td>\n",
       "      <td>NaN</td>\n",
       "      <td>NaN</td>\n",
       "      <td>NaN</td>\n",
       "      <td>NaN</td>\n",
       "    </tr>\n",
       "    <tr>\n",
       "      <th>3</th>\n",
       "      <td>CRUISE LLC</td>\n",
       "      <td>AVDT005</td>\n",
       "      <td>5G21A6P00L4100040</td>\n",
       "      <td>0.0</td>\n",
       "      <td>0.0</td>\n",
       "      <td>0.0</td>\n",
       "      <td>0.0</td>\n",
       "      <td>0.0</td>\n",
       "      <td>0.0</td>\n",
       "      <td>0.0</td>\n",
       "      <td>...</td>\n",
       "      <td>NaN</td>\n",
       "      <td>NaN</td>\n",
       "      <td>NaN</td>\n",
       "      <td>NaN</td>\n",
       "      <td>NaN</td>\n",
       "      <td>NaN</td>\n",
       "      <td>NaN</td>\n",
       "      <td>NaN</td>\n",
       "      <td>NaN</td>\n",
       "      <td>NaN</td>\n",
       "    </tr>\n",
       "    <tr>\n",
       "      <th>4</th>\n",
       "      <td>CRUISE LLC</td>\n",
       "      <td>AVDT005</td>\n",
       "      <td>5G21A6P01L4100029</td>\n",
       "      <td>0.0</td>\n",
       "      <td>0.0</td>\n",
       "      <td>0.0</td>\n",
       "      <td>0.0</td>\n",
       "      <td>0.0</td>\n",
       "      <td>0.0</td>\n",
       "      <td>0.0</td>\n",
       "      <td>...</td>\n",
       "      <td>NaN</td>\n",
       "      <td>NaN</td>\n",
       "      <td>NaN</td>\n",
       "      <td>NaN</td>\n",
       "      <td>NaN</td>\n",
       "      <td>NaN</td>\n",
       "      <td>NaN</td>\n",
       "      <td>NaN</td>\n",
       "      <td>NaN</td>\n",
       "      <td>NaN</td>\n",
       "    </tr>\n",
       "  </tbody>\n",
       "</table>\n",
       "<p>5 rows × 45 columns</p>\n",
       "</div>"
      ],
      "text/plain": [
       "                        Manufacturer Permit Number         VIN NUMBER  \\\n",
       "0  APOLLO AUTONOMOUS DRIVING USA LLC       AVDT006  3LN6L5LU2HR615153   \n",
       "1  APOLLO AUTONOMOUS DRIVING USA LLC       AVDT006  3LN6L2LU4GR629715   \n",
       "2  APOLLO AUTONOMOUS DRIVING USA LLC       AVDT006  2C4RC1N71LR2S2232   \n",
       "3                         CRUISE LLC       AVDT005  5G21A6P00L4100040   \n",
       "4                         CRUISE LLC       AVDT005  5G21A6P01L4100029   \n",
       "\n",
       "   Annual Total of Disengagements DEC-1  JAN  FEB  MAR  APR  MAY  ...  \\\n",
       "0                             0.0   NaN  NaN  NaN  NaN  NaN  NaN  ...   \n",
       "1                             0.0   NaN  NaN  NaN  NaN  NaN  NaN  ...   \n",
       "2                             0.0   NaN  NaN  NaN  NaN  NaN  NaN  ...   \n",
       "3                             0.0   0.0  0.0  0.0  0.0  0.0  0.0  ...   \n",
       "4                             0.0   0.0  0.0  0.0  0.0  0.0  0.0  ...   \n",
       "\n",
       "  JULY 2022 AUG 2022 SEP 2022 OCT 2022 NOV 2022  Unnamed: 17  Unnamed: 18  \\\n",
       "0       NaN      NaN      NaN      NaN      NaN          NaN          NaN   \n",
       "1       NaN      NaN      NaN      NaN      NaN          NaN          NaN   \n",
       "2       NaN      NaN      NaN      NaN      NaN          NaN          NaN   \n",
       "3       NaN      NaN      NaN      NaN      NaN          NaN          NaN   \n",
       "4       NaN      NaN      NaN      NaN      NaN          NaN          NaN   \n",
       "\n",
       "   Unnamed: 19  Unnamed: 20  Unnamed: 21  \n",
       "0          NaN          NaN          NaN  \n",
       "1          NaN          NaN          NaN  \n",
       "2          NaN          NaN          NaN  \n",
       "3          NaN          NaN          NaN  \n",
       "4          NaN          NaN          NaN  \n",
       "\n",
       "[5 rows x 45 columns]"
      ]
     },
     "execution_count": 6,
     "metadata": {},
     "output_type": "execute_result"
    }
   ],
   "source": [
    "# DB - Using the same process I used above, for Autonomous-Mileage-Reports-CSV-driverless.csv & Autonomous-Mileage-Reports-CSV-first-time-filers.csv\n",
    "mile_driverless_dfs = []\n",
    "for year in years:\n",
    "    try:\n",
    "        annual_disengagements = pd.read_csv(f\"data/Mileage/{year}-{str(int(year[3]) + 21)}-Autonomous-Mileage-Reports-CSV-driverless.csv\", encoding='utf-8')\n",
    "    except FileNotFoundError:\n",
    "        print(f\"File for year {year}-{str(int(year[3]) + 21)} not found. Skipping...\")\n",
    "        continue\n",
    "    # Got some kind of unicode error. This fixed it.\n",
    "    except UnicodeDecodeError:\n",
    "        # If utf-8 decoding fails, try another common encoding\n",
    "        annual_disengagements = pd.read_csv(f\"data/Mileage/{year}-{str(int(year[3]) + 21)}-Autonomous-Mileage-Reports-CSV-driverless.csv\", encoding='latin-1')\n",
    "    annual_disengagements[\"Year\"] = year\n",
    "    for i, month in enumerate(months, start=4):\n",
    "        annual_disengagements.columns.values[i] = month\n",
    "    mile_driverless_dfs.append(annual_disengagements)\n",
    "\n",
    "for year in years:    \n",
    "    try:\n",
    "        annual_disengagements = pd.read_csv(f\"data/Mileage/{year}-Autonomous-Mileage-Reports-CSV-driverless.csv\", encoding='utf-8')\n",
    "        # Allows the search to be broad\n",
    "    except FileNotFoundError:\n",
    "        print(f\"File for year {year} not found. Skipping...\")\n",
    "        continue\n",
    "        # Got some kind of unicode error. This fixed it.\n",
    "    except UnicodeDecodeError:\n",
    "        # If utf-8 decoding fails, try another common encoding\n",
    "        annual_disengagements = pd.read_csv(f\"data/Mileage/{year}-Autonomous-Mileage-Reports-CSV-driverless.csv\", encoding='latin-1')\n",
    "    annual_disengagements[\"Year\"] = year\n",
    "    for i, month in enumerate(months, start=4):\n",
    "        annual_disengagements.columns.values[i] = month\n",
    "    mile_driverless_dfs.append(annual_disengagements)\n",
    "\n",
    "driverless_mileage_df = pd.concat(mile_driverless_dfs, ignore_index=True)\n",
    "# TODO: deal with stupid double year file.\n",
    "\n",
    "#print(mile_driverless_dfs[0].head())\n",
    "print(\"# of objects in mile_driverless_dfs:  \" + str(len(mile_driverless_dfs)))\n",
    "driverless_mileage_df.head()\n"
   ]
  },
  {
   "cell_type": "markdown",
   "id": "52a7ea68",
   "metadata": {},
   "source": [
    "Combined Mileage"
   ]
  },
  {
   "cell_type": "code",
   "execution_count": 7,
   "id": "269cdb2b",
   "metadata": {},
   "outputs": [],
   "source": [
    "# TODO Duplicate and modify code from combined disengagements here\n"
   ]
  },
  {
   "cell_type": "markdown",
   "id": "7e89e2e7",
   "metadata": {},
   "source": [
    "### Disengagements"
   ]
  },
  {
   "cell_type": "code",
   "execution_count": 8,
   "id": "bf860b08-a42c-4174-bc47-a0af44cc4340",
   "metadata": {
    "tags": []
   },
   "outputs": [
    {
     "name": "stdout",
     "output_type": "stream",
     "text": [
      "File for year 2020 not found. Skipping...\n"
     ]
    }
   ],
   "source": [
    "### Read in data\n",
    "## Read in disengagements data\n",
    "dis_dfs = []\n",
    "for year in years:\n",
    "    try:\n",
    "        annual_disengagements = pd.read_csv(f\"data/Disengagements/{year}-Autonomous-Vehicle-Disengagement-Reports-CSV.csv\", encoding='utf-8')\n",
    "    # Allows the search to be broad\n",
    "    except FileNotFoundError:\n",
    "        print(f\"File for year {year} not found. Skipping...\")\n",
    "        continue\n",
    "    # Got some kind of unicode error. This fixed it.\n",
    "    except UnicodeDecodeError:\n",
    "        # If utf-8 decoding fails, try another common encoding\n",
    "        annual_disengagements = pd.read_csv(f\"data/Disengagements/{year}-Autonomous-Vehicle-Disengagement-Reports-CSV.csv\", encoding='latin-1')\n",
    "    dis_dfs.append(annual_disengagements)\n",
    "    \n",
    "disengagement_df = pd.concat(dis_dfs, ignore_index=True)\n",
    "\n",
    "#DB.  The unnamed column 10 only appears in the 2021 report, and the 71 entries are all for IMAGRY INC.,\n",
    "# Reading \"Perception\" or \"Planning\"\n",
    "# Dropped Column\n",
    "disengagement_df = disengagement_df.drop('Unnamed: 9', axis=1)\n",
    "#Apx 8k  empty rows.  Droped all rows with any nulls.  \n",
    "disengagement_df.dropna(axis=0, how='any', inplace=True)"
   ]
  },
  {
   "cell_type": "markdown",
   "id": "dd8da44d",
   "metadata": {},
   "source": [
    "First Time Filers - Disengagements"
   ]
  },
  {
   "cell_type": "code",
   "execution_count": 9,
   "id": "c369e28f-3b82-4c99-aa33-acecabe5c90d",
   "metadata": {
    "tags": []
   },
   "outputs": [
    {
     "name": "stdout",
     "output_type": "stream",
     "text": [
      "File for year 2023-24 not found. Skipping...\n"
     ]
    }
   ],
   "source": [
    "# Adding in 1st time filer Disengagements.  Utilizing Kyle's code from above\n",
    "first_time_dis_dfs = []\n",
    "for year in years:\n",
    "    try:\n",
    "        annual_disengagements = pd.read_csv(f\"data/Disengagements/{year}-{str(int(year[3]) + 21)}-Autonomous-Vehicle-Disengagement-Reports-CSV-first-time-filers.csv\", encoding='utf-8')\n",
    "    except FileNotFoundError:\n",
    "        print(f\"File for year {year}-{str(int(year[3]) + 21)} not found. Skipping...\")\n",
    "        continue\n",
    "    # Got some kind of unicode error. This fixed it.\n",
    "    except UnicodeDecodeError:\n",
    "        # If utf-8 decoding fails, try another common encoding\n",
    "        annual_disengagements = pd.read_csv(f\"data/Disengagements/{year}-{str(int(year[3]) + 21)}-Autonomous-Vehicle-Disengagement-Reports-CSV-first-time-filers.csv\", encoding='latin-1')\n",
    "    first_time_dis_dfs.append(annual_disengagements)\n",
    "    \n",
    "first_df = pd.concat(first_time_dis_dfs, ignore_index=True)\n",
    "#Some 200ish null rows imported. Dropped any row with any missing data\n",
    "first_df.dropna(axis=0, how='any', inplace=True)"
   ]
  },
  {
   "cell_type": "markdown",
   "id": "4a45e32e",
   "metadata": {},
   "source": [
    "Driverless Disengagements"
   ]
  },
  {
   "cell_type": "code",
   "execution_count": 10,
   "id": "13ccbe32-7977-4e1b-9395-91ed1b109269",
   "metadata": {
    "tags": []
   },
   "outputs": [
    {
     "name": "stdout",
     "output_type": "stream",
     "text": [
      "File for year 2021-22 not found. Skipping...\n",
      "File for year 2022-23 not found. Skipping...\n",
      "File for year 2023-24 not found. Skipping...\n",
      "File for year 2020 not found. Skipping...\n",
      "File for year 2021 not found. Skipping...\n",
      "File for year 2022 not found. Skipping...\n"
     ]
    }
   ],
   "source": [
    "# Driverless reports.  2022 is missing.  There are only 2 files here.  I've combined the above 2x for loops to snag them both, \n",
    "# since they have different naming conventions\n",
    "driverless_dis_dfs = []\n",
    "for year in years:\n",
    "    try:\n",
    "        annual_disengagements = pd.read_csv(f\"data/Disengagements/{year}-{str(int(year[3]) + 21)}-Autonomous-Vehicle-Disengagement-Reports-CSV-driverless.csv\", encoding='utf-8')\n",
    "    except FileNotFoundError:\n",
    "        print(f\"File for year {year}-{str(int(year[3]) + 21)} not found. Skipping...\")\n",
    "        continue\n",
    "    # Got some kind of unicode error. This fixed it.\n",
    "    except UnicodeDecodeError:\n",
    "        # If utf-8 decoding fails, try another common encoding\n",
    "        annual_disengagements = pd.read_csv(f\"data/Disengagements/{year}-{str(int(year[3]) + 21)}-Autonomous-Vehicle-Disengagement-Reports-CSV-driverless.csv\", encoding='latin-1')\n",
    "    driverless_dis_dfs.append(annual_disengagements)\n",
    "\n",
    "for year in years:    \n",
    "    try:\n",
    "        annual_disengagements = pd.read_csv(f\"data/Disengagements/{year}-Autonomous-Vehicle-Disengagement-Reports-CSV-driverless.csv\", encoding='utf-8')\n",
    "        # Allows the search to be broad\n",
    "    except FileNotFoundError:\n",
    "        print(f\"File for year {year} not found. Skipping...\")\n",
    "        continue\n",
    "        # Got some kind of unicode error. This fixed it.\n",
    "    except UnicodeDecodeError:\n",
    "        # If utf-8 decoding fails, try another common encoding\n",
    "        annual_disengagements = pd.read_csv(f\"data/Disengagements/{year}-Autonomous-Vehicle-Disengagement-Reports-CSV-driverless.csv\", encoding='latin-1')\n",
    "    driverless_dis_dfs.append(annual_disengagements)\n",
    "\n",
    "autonomous_dis_df = pd.concat(driverless_dis_dfs, ignore_index=True)\n",
    "# Dropping some 2000+ null rows.\n",
    "autonomous_dis_df.dropna(axis=0, how='any', inplace=True)"
   ]
  },
  {
   "cell_type": "markdown",
   "id": "748786cc",
   "metadata": {},
   "source": [
    "Combined Disengagements"
   ]
  },
  {
   "cell_type": "code",
   "execution_count": 11,
   "id": "ebdf3fc9-c6ef-4a7d-8521-ee5066cf226b",
   "metadata": {
    "tags": []
   },
   "outputs": [],
   "source": [
    "# 3x active DFs for the disengagement info are\n",
    "# disengagement_df\n",
    "# first_df\n",
    "# autonomous_dis_df\n",
    "# List of these objects to for loop the DATE cleanup.  \n",
    "# IF we wanted to acccess the report source from the combined df, we could add a column to each, with the report source\n",
    "\n",
    "# Initially had trouble by converting the dates to_datetime and then trying to drop the hour/min/sec.\n",
    "# Resolved by first converting DATE to str, dropping everything after \" \" (since all times were separated from date by a space)\n",
    "# And then subsequently converting the column to_datetime\n",
    "\n",
    "# This works, but can't be re-run unless above code blocks that create the dfs are also re-run (I think).  \n",
    "# Used print(i['DATE'].value_counts()) to confirm this came out correctly.  \n",
    "\n",
    "disengagement_dfs_list = [disengagement_df, first_df, autonomous_dis_df]\n",
    "\n",
    "for i in disengagement_dfs_list:\n",
    "    i['DATE'] = i['DATE'].astype(str)\n",
    "    i[\"DATE\"] = i[\"DATE\"].str.split(\" \", expand=True)[0]\n",
    "    i['DATE'] = pd.to_datetime(i['DATE'], errors='raise', dayfirst=True, format='mixed')"
   ]
  },
  {
   "cell_type": "code",
   "execution_count": 12,
   "id": "0279e6c6-8311-416c-9da4-1f00ffe034fc",
   "metadata": {
    "tags": []
   },
   "outputs": [
    {
     "data": {
      "text/plain": [
       "\"\\nfor i in disengagement_dfs_list:\\n    #print(i['Permit Number'].value_counts())\\n    print(i.shape)\\n\""
      ]
     },
     "execution_count": 12,
     "metadata": {},
     "output_type": "execute_result"
    }
   ],
   "source": [
    "'''\n",
    "for i in disengagement_dfs_list:\n",
    "    #print(i['Permit Number'].value_counts())\n",
    "    print(i.shape)\n",
    "'''\n",
    "\n",
    "# Operator-in-Vehicle = AVT Permit prefix\n",
    "# NVO = AVDT Permit Prefix.\n",
    "# I'm fairly certain splitting these into distinct columns for purposes of multi-indexed rows or columns is straightforward, \n",
    "# So am moving forward with data cleaning"
   ]
  },
  {
   "cell_type": "code",
   "execution_count": 13,
   "id": "1b8c862d-6ec4-4539-885c-530250ea8b58",
   "metadata": {
    "tags": []
   },
   "outputs": [],
   "source": [
    "# 3x disengagement df's combined together into one, single column for all permit info\n",
    "combined_dis_df = pd.concat(disengagement_dfs_list, ignore_index=True)\n"
   ]
  },
  {
   "cell_type": "markdown",
   "id": "4481e0a0",
   "metadata": {},
   "source": [
    "# Data Cleaning and QA"
   ]
  },
  {
   "cell_type": "markdown",
   "id": "d7f17631",
   "metadata": {},
   "source": [
    "Drop Columns"
   ]
  },
  {
   "cell_type": "code",
   "execution_count": 14,
   "id": "745f6966",
   "metadata": {},
   "outputs": [
    {
     "name": "stdout",
     "output_type": "stream",
     "text": [
      "Number of non values in Unnamed: 17: 0\n",
      "Number of non values in Unnamed: 18: 0\n",
      "Number of non values in Unnamed: 19: 0\n",
      "Number of non values in Unnamed: 20: 0\n",
      "Number of non values in Unnamed: 21: 0\n"
     ]
    },
    {
     "data": {
      "text/plain": [
       "Index(['Manufacturer', 'Permit Number', 'VIN NUMBER',\n",
       "       'Annual Total of Disengagements', 'DEC-1', 'JAN', 'FEB', 'MAR', 'APR',\n",
       "       'MAY', 'JUN', 'JULY', 'AUG', 'SEP', 'OCT', 'NOV', 'Mileage Total',\n",
       "       'Year'],\n",
       "      dtype='object')"
      ]
     },
     "execution_count": 14,
     "metadata": {},
     "output_type": "execute_result"
    }
   ],
   "source": [
    "# What are \"Unnamed\" colums? Probably useless \"reserved\"\n",
    "# This and below are from kyle, and deal with the initial mileage_df\n",
    "unnamed_cols = ['Unnamed: 17', 'Unnamed: 18', 'Unnamed: 19', 'Unnamed: 20', 'Unnamed: 21']\n",
    "for check in unnamed_cols:\n",
    "    non_null_count = mileage_df[check].notna().sum()\n",
    "    print(f'Number of non values in {check}: {non_null_count}')\n",
    "\n",
    "# Empty. Drop 'em\n",
    "mileage_df = mileage_df.drop(columns=unnamed_cols)\n",
    "mileage_df.columns\n"
   ]
  },
  {
   "cell_type": "markdown",
   "id": "599e09a3",
   "metadata": {},
   "source": [
    "Set Types"
   ]
  },
  {
   "cell_type": "code",
   "execution_count": 15,
   "id": "6ffcaf28",
   "metadata": {},
   "outputs": [
    {
     "name": "stdout",
     "output_type": "stream",
     "text": [
      "Before: Manufacturer                       object\n",
      "Permit Number                      object\n",
      "VIN NUMBER                         object\n",
      "Annual Total of Disengagements    float64\n",
      "DEC-1                              object\n",
      "JAN                                object\n",
      "FEB                                object\n",
      "MAR                                object\n",
      "APR                                object\n",
      "MAY                                object\n",
      "JUN                                object\n",
      "JULY                               object\n",
      "AUG                                object\n",
      "SEP                                object\n",
      "OCT                                object\n",
      "NOV                                object\n",
      "Mileage Total                      object\n",
      "Year                               object\n",
      "dtype: object\n",
      "After: Manufacturer                       object\n",
      "Permit Number                      object\n",
      "VIN NUMBER                         object\n",
      "Annual Total of Disengagements    float64\n",
      "DEC-1                             float64\n",
      "JAN                               float64\n",
      "FEB                               float64\n",
      "MAR                               float64\n",
      "APR                               float64\n",
      "MAY                               float64\n",
      "JUN                               float64\n",
      "JULY                              float64\n",
      "AUG                               float64\n",
      "SEP                               float64\n",
      "OCT                               float64\n",
      "NOV                               float64\n",
      "Mileage Total                     float64\n",
      "Year                                int32\n",
      "dtype: object\n"
     ]
    }
   ],
   "source": [
    "### Mileage\n",
    "print(f'Before: {mileage_df.dtypes}')\n",
    "cast_as_float = [\n",
    "       'Annual Total of Disengagements', 'DEC-1', 'JAN', 'FEB', 'MAR', 'APR',\n",
    "       'MAY', 'JUN', 'JULY', 'AUG', 'SEP', 'OCT', 'NOV', 'Mileage Total',\n",
    "       ]\n",
    "\n",
    "for col in cast_as_float:\n",
    "    mileage_df[col] = mileage_df[col].apply(lambda x: x.replace(',', '').replace(' ', '') if isinstance(x, str) else x)\n",
    "    mileage_df[col] = mileage_df[col].astype(float)\n",
    "\n",
    "# Assuming df is your DataFrame and 'Column_Name' is the name of the column you want to convert to represent years\n",
    "mileage_df['Year'] = pd.to_datetime(mileage_df['Year']).dt.year\n",
    "mileage_df[\"Manufacturer\"] = mileage_df[\"Manufacturer\"].astype(str)\n",
    "\n",
    "\n",
    "print(f'After: {mileage_df.dtypes}')\n",
    "\n"
   ]
  },
  {
   "cell_type": "markdown",
   "id": "15d412e1",
   "metadata": {},
   "source": [
    "QA: Ensure sum of monthly miles still equals Annual totals after column shuffling"
   ]
  },
  {
   "cell_type": "code",
   "execution_count": 16,
   "id": "d5befa31",
   "metadata": {},
   "outputs": [
    {
     "name": "stdout",
     "output_type": "stream",
     "text": [
      "Number of rows where months do not add up to within 1.0 of annual total: 78\n",
      "Rows where MileageTotal is null: 77\n",
      "Manufacturer                       0\n",
      "Permit Number                     30\n",
      "VIN NUMBER                        30\n",
      "Annual Total of Disengagements    30\n",
      "DEC-1                             30\n",
      "JAN                               30\n",
      "FEB                               31\n",
      "MAR                               31\n",
      "APR                               31\n",
      "MAY                               31\n",
      "JUN                               32\n",
      "JULY                              32\n",
      "AUG                               33\n",
      "SEP                               32\n",
      "OCT                               33\n",
      "NOV                               32\n",
      "Mileage Total                     77\n",
      "Year                               0\n",
      "dtype: int64\n",
      "Manufacturer                      0\n",
      "Permit Number                     0\n",
      "VIN NUMBER                        0\n",
      "Annual Total of Disengagements    0\n",
      "DEC-1                             0\n",
      "JAN                               0\n",
      "FEB                               1\n",
      "MAR                               1\n",
      "APR                               1\n",
      "MAY                               1\n",
      "JUN                               2\n",
      "JULY                              2\n",
      "AUG                               3\n",
      "SEP                               2\n",
      "OCT                               3\n",
      "NOV                               2\n",
      "Mileage Total                     0\n",
      "Year                              0\n",
      "dtype: int64\n"
     ]
    }
   ],
   "source": [
    "### QA the monthly vs sum values\n",
    "# Calculate the sum of values in the month columns for each row\n",
    "month_sums = mileage_df.iloc[:, 4:-2].sum(axis=1)  \n",
    "\n",
    "# Calculate the absolute difference between the sum of month columns and the \"Mileage Total\" column\n",
    "absolute_difference = abs(month_sums - mileage_df['Mileage Total'])\n",
    "\n",
    "# Check if the absolute difference is less than or equal to 2.0\n",
    "within_tolerance = absolute_difference <= 2.0\n",
    "fishy = (~within_tolerance).sum()\n",
    "print(\"Number of rows where months do not add up to within 1.0 of annual total:\", fishy)\n",
    "\n",
    "# Print rows where the absolute difference is not within 2.0\n",
    "# print(mileage_df[~within_tolerance])\n",
    "qa = mileage_df[~within_tolerance]\n",
    "print(f'Rows where MileageTotal is null: {qa[\"Mileage Total\"].isnull().sum()}')\n",
    "qa.head()\n",
    "\n",
    "\n",
    "# count all nulls \n",
    "print(mileage_df.isnull().sum())\n",
    "mileage_df.dropna(subset=['Mileage Total'], inplace=True)\n",
    "# Drops majority of other nulls\n",
    "print(mileage_df.isnull().sum())\n"
   ]
  },
  {
   "cell_type": "markdown",
   "id": "1dad80e1",
   "metadata": {},
   "source": [
    "Rename Columns"
   ]
  },
  {
   "cell_type": "code",
   "execution_count": 17,
   "id": "8ca9dd9c",
   "metadata": {},
   "outputs": [
    {
     "data": {
      "text/html": [
       "<div>\n",
       "<style scoped>\n",
       "    .dataframe tbody tr th:only-of-type {\n",
       "        vertical-align: middle;\n",
       "    }\n",
       "\n",
       "    .dataframe tbody tr th {\n",
       "        vertical-align: top;\n",
       "    }\n",
       "\n",
       "    .dataframe thead th {\n",
       "        text-align: right;\n",
       "    }\n",
       "</style>\n",
       "<table border=\"1\" class=\"dataframe\">\n",
       "  <thead>\n",
       "    <tr style=\"text-align: right;\">\n",
       "      <th></th>\n",
       "      <th>OPERATOR</th>\n",
       "      <th>Permit Number</th>\n",
       "      <th>DATE</th>\n",
       "      <th>VIN NUMBER</th>\n",
       "      <th>NVO CAPABLE</th>\n",
       "      <th>DRIVER PRESENT</th>\n",
       "      <th>INITIATED BY</th>\n",
       "      <th>DISENGAGEMENT LOCATION</th>\n",
       "      <th>DESCRIPTION OF FACTS CAUSING DISENGAGEMENT</th>\n",
       "    </tr>\n",
       "  </thead>\n",
       "  <tbody>\n",
       "    <tr>\n",
       "      <th>0</th>\n",
       "      <td>AIMOTIVE INC.</td>\n",
       "      <td>AVT036</td>\n",
       "      <td>2021-04-03</td>\n",
       "      <td>JTDKN3DU9A0059509</td>\n",
       "      <td>No</td>\n",
       "      <td>Yes</td>\n",
       "      <td>Test Driver</td>\n",
       "      <td>Freeway</td>\n",
       "      <td>During an exit/merge the test vehicle was goin...</td>\n",
       "    </tr>\n",
       "    <tr>\n",
       "      <th>1</th>\n",
       "      <td>AIMOTIVE INC.</td>\n",
       "      <td>AVT036</td>\n",
       "      <td>2021-03-16</td>\n",
       "      <td>JTDKN3DU9A0059509</td>\n",
       "      <td>No</td>\n",
       "      <td>Yes</td>\n",
       "      <td>Test Driver</td>\n",
       "      <td>Freeway</td>\n",
       "      <td>Exit/Merge Lane departure, due to the car miss...</td>\n",
       "    </tr>\n",
       "    <tr>\n",
       "      <th>2</th>\n",
       "      <td>AIMOTIVE INC.</td>\n",
       "      <td>AVT036</td>\n",
       "      <td>2021-03-16</td>\n",
       "      <td>JTDKN3DU9A0059509</td>\n",
       "      <td>No</td>\n",
       "      <td>Yes</td>\n",
       "      <td>Test Driver</td>\n",
       "      <td>Freeway</td>\n",
       "      <td>Exit/Merge Lane departure, due to the car miss...</td>\n",
       "    </tr>\n",
       "    <tr>\n",
       "      <th>3</th>\n",
       "      <td>AIMOTIVE INC.</td>\n",
       "      <td>AVT036</td>\n",
       "      <td>2021-03-16</td>\n",
       "      <td>JTDKN3DU9A0059509</td>\n",
       "      <td>No</td>\n",
       "      <td>Yes</td>\n",
       "      <td>Test Driver</td>\n",
       "      <td>Freeway</td>\n",
       "      <td>During an exit/merge the test vehicle was goin...</td>\n",
       "    </tr>\n",
       "    <tr>\n",
       "      <th>4</th>\n",
       "      <td>AIMOTIVE INC.</td>\n",
       "      <td>AVT036</td>\n",
       "      <td>2021-02-04</td>\n",
       "      <td>JTDKN3DU9A0059509</td>\n",
       "      <td>No</td>\n",
       "      <td>Yes</td>\n",
       "      <td>Test Driver</td>\n",
       "      <td>Freeway</td>\n",
       "      <td>The car should have stayed in the left lane, b...</td>\n",
       "    </tr>\n",
       "    <tr>\n",
       "      <th>5</th>\n",
       "      <td>AIMOTIVE INC.</td>\n",
       "      <td>AVT036</td>\n",
       "      <td>2021-02-04</td>\n",
       "      <td>JTDKN3DU9A0059509</td>\n",
       "      <td>No</td>\n",
       "      <td>Yes</td>\n",
       "      <td>Test Driver</td>\n",
       "      <td>Freeway</td>\n",
       "      <td>Exit/Merge Lane departure, due to the car miss...</td>\n",
       "    </tr>\n",
       "    <tr>\n",
       "      <th>6</th>\n",
       "      <td>AIMOTIVE INC.</td>\n",
       "      <td>AVT036</td>\n",
       "      <td>2021-04-13</td>\n",
       "      <td>JTDKN3DU9A0059509</td>\n",
       "      <td>No</td>\n",
       "      <td>Yes</td>\n",
       "      <td>Test Driver</td>\n",
       "      <td>Freeway</td>\n",
       "      <td>During an exit/merge the test vehicle was goin...</td>\n",
       "    </tr>\n",
       "    <tr>\n",
       "      <th>7</th>\n",
       "      <td>AIMOTIVE INC.</td>\n",
       "      <td>AVT036</td>\n",
       "      <td>2021-04-14</td>\n",
       "      <td>JTDKN3DU9A0059509</td>\n",
       "      <td>No</td>\n",
       "      <td>Yes</td>\n",
       "      <td>Test Driver</td>\n",
       "      <td>Freeway</td>\n",
       "      <td>During an exit/merge the test vehicle was goin...</td>\n",
       "    </tr>\n",
       "    <tr>\n",
       "      <th>8</th>\n",
       "      <td>AIMOTIVE INC.</td>\n",
       "      <td>AVT036</td>\n",
       "      <td>2021-04-16</td>\n",
       "      <td>JTDKN3DU9A0059509</td>\n",
       "      <td>No</td>\n",
       "      <td>Yes</td>\n",
       "      <td>Test Driver</td>\n",
       "      <td>Freeway</td>\n",
       "      <td>During an exit/merge the test vehicle was goin...</td>\n",
       "    </tr>\n",
       "    <tr>\n",
       "      <th>9</th>\n",
       "      <td>AIMOTIVE INC.</td>\n",
       "      <td>AVT036</td>\n",
       "      <td>2021-04-16</td>\n",
       "      <td>JTDKN3DU9A0059509</td>\n",
       "      <td>No</td>\n",
       "      <td>Yes</td>\n",
       "      <td>Test Driver</td>\n",
       "      <td>Freeway</td>\n",
       "      <td>The car should have stayed in the left lane, b...</td>\n",
       "    </tr>\n",
       "  </tbody>\n",
       "</table>\n",
       "</div>"
      ],
      "text/plain": [
       "        OPERATOR Permit Number       DATE         VIN NUMBER NVO CAPABLE  \\\n",
       "0  AIMOTIVE INC.        AVT036 2021-04-03  JTDKN3DU9A0059509          No   \n",
       "1  AIMOTIVE INC.        AVT036 2021-03-16  JTDKN3DU9A0059509          No   \n",
       "2  AIMOTIVE INC.        AVT036 2021-03-16  JTDKN3DU9A0059509          No   \n",
       "3  AIMOTIVE INC.        AVT036 2021-03-16  JTDKN3DU9A0059509          No   \n",
       "4  AIMOTIVE INC.        AVT036 2021-02-04  JTDKN3DU9A0059509          No   \n",
       "5  AIMOTIVE INC.        AVT036 2021-02-04  JTDKN3DU9A0059509          No   \n",
       "6  AIMOTIVE INC.        AVT036 2021-04-13  JTDKN3DU9A0059509          No   \n",
       "7  AIMOTIVE INC.        AVT036 2021-04-14  JTDKN3DU9A0059509          No   \n",
       "8  AIMOTIVE INC.        AVT036 2021-04-16  JTDKN3DU9A0059509          No   \n",
       "9  AIMOTIVE INC.        AVT036 2021-04-16  JTDKN3DU9A0059509          No   \n",
       "\n",
       "  DRIVER PRESENT INITIATED BY DISENGAGEMENT LOCATION  \\\n",
       "0            Yes  Test Driver                Freeway   \n",
       "1            Yes  Test Driver                Freeway   \n",
       "2            Yes  Test Driver                Freeway   \n",
       "3            Yes  Test Driver                Freeway   \n",
       "4            Yes  Test Driver                Freeway   \n",
       "5            Yes  Test Driver                Freeway   \n",
       "6            Yes  Test Driver                Freeway   \n",
       "7            Yes  Test Driver                Freeway   \n",
       "8            Yes  Test Driver                Freeway   \n",
       "9            Yes  Test Driver                Freeway   \n",
       "\n",
       "          DESCRIPTION OF FACTS CAUSING DISENGAGEMENT  \n",
       "0  During an exit/merge the test vehicle was goin...  \n",
       "1  Exit/Merge Lane departure, due to the car miss...  \n",
       "2  Exit/Merge Lane departure, due to the car miss...  \n",
       "3  During an exit/merge the test vehicle was goin...  \n",
       "4  The car should have stayed in the left lane, b...  \n",
       "5  Exit/Merge Lane departure, due to the car miss...  \n",
       "6  During an exit/merge the test vehicle was goin...  \n",
       "7  During an exit/merge the test vehicle was goin...  \n",
       "8  During an exit/merge the test vehicle was goin...  \n",
       "9  The car should have stayed in the left lane, b...  "
      ]
     },
     "execution_count": 17,
     "metadata": {},
     "output_type": "execute_result"
    }
   ],
   "source": [
    "combined_dis_df.rename(columns = {\"Manufacturer\" : \"OPERATOR\",\n",
    "                                  \"DISENGAGEMENT\\nLOCATION\\n(Interstate, Freeway, Highway, Rural Road, Street, or Parking Facility)\" : \"DISENGAGEMENT LOCATION\", \n",
    "                                  \"DISENGAGEMENT INITIATED BY\\n(AV System, Test Driver, Remote Operator, or Passenger)\" : \"INITIATED BY\",\n",
    "                                  \"DRIVER PRESENT\\n(Yes or No)\" : \"DRIVER PRESENT\",\n",
    "                                  \"VEHICLE IS CAPABLE OF OPERATING WITHOUT A DRIVER\\n(Yes or No)\" : \"NVO CAPABLE\"}, inplace=True)\n",
    "\n",
    "\n",
    "mileage_df.rename(columns = {\"Manufacturer\" : \"OPERATOR\"}, inplace=True)\n",
    "combined_dis_df.head(10)\n",
    "\n"
   ]
  },
  {
   "cell_type": "markdown",
   "id": "82967afa",
   "metadata": {},
   "source": [
    "Reduce Duplicates"
   ]
  },
  {
   "cell_type": "code",
   "execution_count": 18,
   "id": "847b225c",
   "metadata": {},
   "outputs": [
    {
     "name": "stdout",
     "output_type": "stream",
     "text": [
      "Locations: 15 - ['Express Way', 'Freeway', 'Freeway ', 'HIGHWAY', 'HIghway', 'Highway', 'Interstate', 'Parking Facility', 'Parking facility', 'Rural Road', 'STREET', 'Street', 'Urban', 'freeway', 'street']\n",
      "Operators: 51 - ['AIMOTIVE INC.', 'APOLLO AUTONOMOUS DRIVING USA LLC', 'APPLE INC.', 'ARGO AI, LLC', 'AURORA OPERATIONS, INC.', 'AUTOX TECHNOLOGIES, INC', 'Apollo', 'BOSCH', 'CRUISE LLC', 'DEEPROUTE.AI', 'DIDI RESEARCH AMERICA LLC', 'DIDI RESEARCH AMERICA, LLC', 'Didi Research America', 'EASYMILE', 'GATIK AI INC', 'GATIK AI INC.', 'GHOST AUTONOMY INC', 'Gatik AI Inc', 'IMAGRY INC', 'IMAGRY INC ', 'IMAGRY INC.', 'INTEL CORPORATION', 'LYFT', 'MERCEDES-BENZ RESEARCH & DEVELOPMENT NORTH AMERICA, INC.', 'MOTIONAL AD, INC.', 'Motional AD, Inc.', 'NISSAN NORTH AMERICA, INC DBA ALLIANCE INNOVATION LAB', 'NURO, INC', 'NVIDIA', 'NVIDIA CORPORATION ', 'Nissan North America', 'Nuro Inc', 'PONY.AI, INC.', 'QCRAFT INC.', 'QUALCOMM TECHNOLOGIES, INC.', 'TOYOTA RESEARCH INSTITUTE', 'TOYOTA RESEARCH INSTITUTE, INC.', 'UATC, LLC', 'UDELV, INC.', 'VALEO NORTH AMERICA INC.', 'Valeo', 'Vueron Technology USA INC', 'WAYMO LLC', 'WERIDE CORP', 'WOVEN PLANET NORTH AMERICA, INC.', 'Waymo LLC', 'Woven by Toyota, U.S., Inc.', 'ZOOX INC', 'ZOOX, INC', 'Zoox, Inc', 'aiMotive Inc.']\n",
      "\n",
      "Cleaned locations: 8 - ['EXPRESS WAY', 'FREEWAY', 'HIGHWAY', 'INTERSTATE', 'PARKING FACILITY', 'RURAL ROAD', 'STREET', 'URBAN']\n",
      "Cleaned operators: 38 - ['AIMOTIVE', 'APOLLO', 'APOLLO AUTONOMOUS DRIVING USA', 'APPLE', 'ARGO AI', 'AURORA OPERATIONS', 'AUTOX TECHNOLOGIES', 'BOSCH', 'CRUISE', 'DEEPROUTEAI', 'DIDI RESEARCH AMERICA', 'EASYMILE', 'GATIK AI', 'GHOST AUTONOMY', 'IMAGRY', 'INTEL CORPORATION', 'LYFT', 'MERCEDES-BENZ RESEARCH & DEVELOPMENT NORTH AMERICA', 'MOTIONAL AD', 'NISSAN NORTH AMERICA', 'NISSAN NORTH AMERICA  DBA ALLIANCE INNOVATION LAB', 'NURO', 'NVIDIA', 'NVIDIA CORPORATION', 'PONYAI', 'QCRAFT', 'QUALCOMM TECHNOLOGIES', 'TOYOTA RESEARCH INSTITUTE', 'UATC', 'UDELV', 'VALEO', 'VALEO NORTH AMERICA', 'VUERON TECHNOLOGY USA', 'WAYMO', 'WERIDE CORP', 'WOVEN BY TOYOTA US', 'WOVEN PLANET NORTH AMERICA', 'ZOOX']\n",
      "\n",
      "Original number of operators:  50\n",
      "Actual number of unique operators:  36\n",
      "AIMOTIVE\n",
      "APOLLO\n",
      "APOLLO AUTONOMOUS DRIVING USA\n",
      "APPLE\n",
      "ARGO AI\n",
      "AURORA OPERATIONS\n",
      "AUTOX\n",
      "AUTOX TECHNOLOGIES\n",
      "BOSCH\n",
      "CRUISE\n",
      "DEEPROUTEAI\n",
      "DIDI RESEARCH AMERICA\n",
      "EASYMILE\n",
      "GATIK AI\n",
      "GHOST AUTONOMY\n",
      "IMAGRY\n",
      "INTEL CORPORATION\n",
      "LYFT\n",
      "MERCEDES\n",
      "MERCEDES-BENZ RESEARCH & DEVELOPMENT NORTH AMERICA\n",
      "MOTIONAL AD\n",
      "NISSAN\n",
      "NISSAN NORTH AMERICA  DBA ALLIANCE INNOVATION LAB\n",
      "NURO\n",
      "NVIDIA\n",
      "NVIDIA CORPORATION\n",
      "PONYAI\n",
      "QCRAFT\n",
      "QUALCOMM TECHNOLOGIES\n",
      "TOYOTA RESEARCH INSTITUTE\n",
      "UDELV\n",
      "VALEO NORTH AMERICA\n",
      "WAYMO\n",
      "WERIDE CORP\n",
      "WOVEN BY TOYOTA US\n",
      "ZOOX\n"
     ]
    }
   ],
   "source": [
    "\n",
    "# DEDUPLICATOR\n",
    "def polish(df, column):\n",
    "   df[column]=df[column].str.upper() # Capitalize everything\n",
    "   df[column] = df[column].str.replace(\"[.,]\", \"\", regex=True) # Remove periods and commas \n",
    "   df[column] = df[column].str.replace(r'\\b(LLC|INC)\\b', '', regex=True)  # Remove \"LLC\" and \"INC\"\n",
    "   df[column]=df[column].str.rstrip() # Remove trailing whitespace\n",
    "\n",
    "   return df \n",
    "\n",
    "# Print statements are for verification and team review. Might leave them to show class \"This is the mess of data we had to clean up\" - discuss\n",
    "print(f'Locations: {combined_dis_df[\"DISENGAGEMENT LOCATION\"].nunique()} - {sorted(combined_dis_df[\"DISENGAGEMENT LOCATION\"].unique())}')\n",
    "print(f'Operators: {combined_dis_df[\"OPERATOR\"].nunique()} - {sorted(combined_dis_df[\"OPERATOR\"].unique())}')\n",
    "print()\n",
    "\n",
    "dis_columns_to_clean = [\"DISENGAGEMENT LOCATION\", \"OPERATOR\"]\n",
    "\n",
    "# Deuplicate Disengagements\n",
    "for i in dis_columns_to_clean:\n",
    "   combined_dis_df = polish(combined_dis_df, i)\n",
    "# Set VIN as Index\n",
    "#combined_dis_df.set_index(\"VIN NUMBER\", inplace=True)\n",
    "\n",
    "\n",
    "print(f'Cleaned locations: {combined_dis_df[\"DISENGAGEMENT LOCATION\"].nunique()} - {sorted(combined_dis_df[\"DISENGAGEMENT LOCATION\"].unique())}')\n",
    "print(f'Cleaned operators: {combined_dis_df[\"OPERATOR\"].nunique()} - {sorted(combined_dis_df[\"OPERATOR\"].unique())}')\n",
    "print()\n",
    "\n",
    "# Deduplicate Mileage\n",
    "print(\"Original number of operators: \", mileage_df[\"OPERATOR\"].nunique())\n",
    "\n",
    "miles_columns_to_clean = [\"OPERATOR\"]\n",
    "\n",
    "# Deuplicate Mileage\n",
    "for i in miles_columns_to_clean:\n",
    "   mileage_df = polish(mileage_df, i)\n",
    "\n",
    "print(\"Actual number of unique operators: \", mileage_df[\"OPERATOR\"].nunique())\n",
    "\n",
    "operators = sorted(mileage_df[\"OPERATOR\"].unique())\n",
    "for value in operators:\n",
    "    print(value)\n",
    "\n",
    "# TODO: Mop up the last operators name alignment\n",
    "# mileage_df[\"Manufacturer\"] = mileage_df[\"Manufacturer\"].str.replace('long_duplicates', 'shorter_version')\n"
   ]
  },
  {
   "cell_type": "markdown",
   "id": "33401501",
   "metadata": {},
   "source": [
    "### Find 'Zippy'"
   ]
  },
  {
   "cell_type": "code",
   "execution_count": 19,
   "id": "aa5c8b09",
   "metadata": {},
   "outputs": [
    {
     "name": "stdout",
     "output_type": "stream",
     "text": [
      "Zippy VIN is SADHW2S13M1616427\n",
      "Zippy is a WAYMO vehicle.\n"
     ]
    }
   ],
   "source": [
    "miles_by_vin = mileage_df.groupby(\"VIN NUMBER\")[\"Mileage Total\"].sum().sort_values(ascending=False)\n",
    "miles_by_vin.head()\n",
    "zippy = miles_by_vin.idxmax()\n",
    "print(f'Zippy VIN is {zippy}')\n",
    "\n",
    "print(f'Zippy is a {mileage_df.loc[mileage_df[\"VIN NUMBER\"] == zippy, \"OPERATOR\"].unique()[0]} vehicle.')"
   ]
  },
  {
   "cell_type": "markdown",
   "id": "db7f725d",
   "metadata": {},
   "source": [
    "### GRAPHS"
   ]
  },
  {
   "cell_type": "markdown",
   "id": "2c2c90d8",
   "metadata": {},
   "source": [
    "### Big Picture"
   ]
  },
  {
   "cell_type": "code",
   "execution_count": 20,
   "id": "9e24b0da",
   "metadata": {},
   "outputs": [],
   "source": [
    "# Create DF without zero mile cars\n",
    "nonzero_mileage = mileage_df[(mileage_df[\"Mileage Total\"] > 0)]"
   ]
  },
  {
   "cell_type": "code",
   "execution_count": 21,
   "id": "175270c1-e22f-46f8-85d3-ca955f111c33",
   "metadata": {},
   "outputs": [
    {
     "data": {
      "application/vnd.plotly.v1+json": {
       "config": {
        "plotlyServerURL": "https://plot.ly"
       },
       "data": [
        {
         "alignmentgroup": "True",
         "bingroup": "x",
         "hovertemplate": "OPERATOR=AIMOTIVE<br>Mileage Total=%{x}<br>count=%{y}<extra></extra>",
         "legendgroup": "AIMOTIVE",
         "marker": {
          "color": "#636efa",
          "pattern": {
           "shape": ""
          }
         },
         "name": "AIMOTIVE",
         "nbinsx": 50,
         "offsetgroup": "AIMOTIVE",
         "orientation": "v",
         "showlegend": true,
         "type": "histogram",
         "x": [
          1827,
          1149,
          9350,
          5865,
          9627.74,
          5248.67
         ],
         "xaxis": "x",
         "yaxis": "y"
        },
        {
         "alignmentgroup": "True",
         "bingroup": "x",
         "hovertemplate": "OPERATOR=APOLLO AUTONOMOUS DRIVING USA<br>Mileage Total=%{x}<br>count=%{y}<extra></extra>",
         "legendgroup": "APOLLO AUTONOMOUS DRIVING USA",
         "marker": {
          "color": "#EF553B",
          "pattern": {
           "shape": ""
          }
         },
         "name": "APOLLO AUTONOMOUS DRIVING USA",
         "nbinsx": 50,
         "offsetgroup": "APOLLO AUTONOMOUS DRIVING USA",
         "orientation": "v",
         "showlegend": true,
         "type": "histogram",
         "x": [
          830.04,
          637.46,
          1142.1,
          824.4,
          141.6,
          368.9
         ],
         "xaxis": "x",
         "yaxis": "y"
        },
        {
         "alignmentgroup": "True",
         "bingroup": "x",
         "hovertemplate": "OPERATOR=APPLE<br>Mileage Total=%{x}<br>count=%{y}<extra></extra>",
         "legendgroup": "APPLE",
         "marker": {
          "color": "#00cc96",
          "pattern": {
           "shape": ""
          }
         },
         "name": "APPLE",
         "nbinsx": 50,
         "offsetgroup": "APPLE",
         "orientation": "v",
         "showlegend": true,
         "type": "histogram",
         "x": [
          30,
          3,
          1,
          3,
          1060,
          19,
          2474,
          659,
          971,
          32,
          2,
          56,
          1,
          20,
          3,
          939,
          264,
          237,
          517,
          203,
          1,
          265,
          528,
          380,
          250,
          188,
          1143,
          1,
          3,
          56,
          12,
          1513,
          359,
          858,
          221,
          8484.1,
          1.4,
          1971.2,
          0.4,
          3605.4,
          1.3,
          0.9,
          0.5,
          0.9,
          0.4,
          7766.8,
          1.3,
          0.9,
          7891.3,
          2.9,
          139.2,
          1054.6,
          2190.6,
          0.9,
          0.4,
          0.4,
          0.4,
          1501.1,
          6196.2,
          7678.6,
          0.4,
          9908.3,
          81.2,
          6335.9,
          0.4,
          0.4,
          1987.5,
          8134.1,
          3180.3,
          11640.8,
          0.9,
          3847.8,
          0.9,
          3406.2,
          492.5,
          0.6,
          4607.5,
          11446.7,
          2814.6,
          4871.4,
          0.9,
          0.9,
          3844,
          3939.8,
          11861.6,
          9664.5,
          960.7,
          1832.7,
          10436.6,
          6576.3,
          12560.8,
          3206.8,
          12420.3,
          3632.4,
          825.5,
          284.5,
          13207.6,
          10937.3,
          13177.9,
          5992.4,
          7124.1,
          7764.9,
          443.9,
          11633.3,
          19250.3,
          16965.7,
          3048.5,
          9544.8,
          15310.7,
          13897.6,
          13424.9,
          21543,
          0.1,
          16886.9,
          12017.3,
          7772.4,
          2263.7,
          3263.8,
          7184.4,
          13763.5,
          666.6,
          5.6,
          15175.3,
          12782.1,
          5115.4,
          0.1,
          1721.4,
          13078.8,
          585.3,
          12117.9,
          4085.2,
          6044.8,
          2989.5,
          17794.5,
          16351.5,
          4212.8,
          3441.4,
          1415.4,
          5763.7,
          4775.1
         ],
         "xaxis": "x",
         "yaxis": "y"
        },
        {
         "alignmentgroup": "True",
         "bingroup": "x",
         "hovertemplate": "OPERATOR=ARGO AI<br>Mileage Total=%{x}<br>count=%{y}<extra></extra>",
         "legendgroup": "ARGO AI",
         "marker": {
          "color": "#ab63fa",
          "pattern": {
           "shape": ""
          }
         },
         "name": "ARGO AI",
         "nbinsx": 50,
         "offsetgroup": "ARGO AI",
         "orientation": "v",
         "showlegend": true,
         "type": "histogram",
         "x": [
          7996.35,
          6833.67,
          5724.75,
          8231.13,
          7263.59,
          522.24,
          162.14,
          633.49,
          2642.56,
          553.15,
          3686.74,
          1480.3,
          2551.94,
          1506.89,
          1229.69,
          1080.34,
          1318.11,
          1957.6
         ],
         "xaxis": "x",
         "yaxis": "y"
        },
        {
         "alignmentgroup": "True",
         "bingroup": "x",
         "hovertemplate": "OPERATOR=AURORA OPERATIONS<br>Mileage Total=%{x}<br>count=%{y}<extra></extra>",
         "legendgroup": "AURORA OPERATIONS",
         "marker": {
          "color": "#FFA15A",
          "pattern": {
           "shape": ""
          }
         },
         "name": "AURORA OPERATIONS",
         "nbinsx": 50,
         "offsetgroup": "AURORA OPERATIONS",
         "orientation": "v",
         "showlegend": true,
         "type": "histogram",
         "x": [
          1388.03,
          874.95,
          4917.89,
          1448.42,
          2289.39,
          624.2,
          1104.19,
          25.86,
          700.26
         ],
         "xaxis": "x",
         "yaxis": "y"
        },
        {
         "alignmentgroup": "True",
         "bingroup": "x",
         "hovertemplate": "OPERATOR=AUTOX TECHNOLOGIES<br>Mileage Total=%{x}<br>count=%{y}<extra></extra>",
         "legendgroup": "AUTOX TECHNOLOGIES",
         "marker": {
          "color": "#19d3f3",
          "pattern": {
           "shape": ""
          }
         },
         "name": "AUTOX TECHNOLOGIES",
         "nbinsx": 50,
         "offsetgroup": "AUTOX TECHNOLOGIES",
         "orientation": "v",
         "showlegend": true,
         "type": "histogram",
         "x": [
          1986,
          13997,
          10336,
          6446,
          6358,
          5912,
          5073,
          6627,
          2700,
          8271,
          5462,
          5981,
          2461,
          600,
          5922,
          318,
          5508,
          2431,
          2563,
          138,
          59,
          273
         ],
         "xaxis": "x",
         "yaxis": "y"
        },
        {
         "alignmentgroup": "True",
         "bingroup": "x",
         "hovertemplate": "OPERATOR=CRUISE<br>Mileage Total=%{x}<br>count=%{y}<extra></extra>",
         "legendgroup": "CRUISE",
         "marker": {
          "color": "#FF6692",
          "pattern": {
           "shape": ""
          }
         },
         "name": "CRUISE",
         "nbinsx": 50,
         "offsetgroup": "CRUISE",
         "orientation": "v",
         "showlegend": true,
         "type": "histogram",
         "x": [
          5296.3,
          560.18,
          7564.93,
          9148.24,
          15.76,
          12566.6,
          6195.29,
          8879.99,
          11799.7,
          11836.74,
          4459.14,
          441.98,
          11256.61,
          1167.55,
          9.43,
          10943.81,
          7563.74,
          10794.15,
          14.97,
          10669.32,
          18.86,
          14.7,
          6133.95,
          12227.56,
          12653.03,
          15073.46,
          9019.39,
          10563.84,
          7969.92,
          8294.58,
          3024.07,
          8924.58,
          13949.19,
          5404.03,
          3715.57,
          9532.54,
          1067.86,
          13141.24,
          12252.67,
          13035.75,
          5978.92,
          583.99,
          0.18,
          29.99,
          9940.85,
          35.06,
          10443.61,
          11086.59,
          8938.43,
          998.85,
          407.97,
          0.06,
          81.46,
          11695.25,
          367.65,
          1573.8,
          5883.28,
          3888.06,
          2888.58,
          12587.19,
          13661.08,
          1461.28,
          597.09,
          11770.05,
          19.06,
          631.01,
          1950.3,
          11181.45,
          12322.3,
          11473.2,
          8.77,
          9604.66,
          6598.34,
          31.3,
          26.36,
          1058.49,
          11708.7,
          12420.37,
          1182.08,
          12218.36,
          13536.75,
          7734.66,
          9982.05,
          3651.71,
          846.41,
          1209.35,
          12838,
          27.08,
          716.42,
          11173.65,
          8621.66,
          12053.28,
          6884.17,
          11569.99,
          8349.87,
          29.26,
          8366.26,
          10467.79,
          11054.51,
          265.31,
          114.49,
          93.23,
          861.5,
          10649.3,
          9928.65,
          6968.91,
          4107.8,
          9945.95,
          11798.19,
          9944.8,
          12340.24,
          1441.18,
          56.55,
          45.03,
          36.08,
          5841.49,
          11163.83,
          10655.83,
          3348.15,
          7802.67,
          10856.68,
          53.63,
          13777.4,
          418.73,
          7768.35,
          10541.48,
          5985.83,
          6398.69,
          4795.89,
          485.71,
          11733,
          30.5,
          12716.1,
          740.6,
          20.97,
          11580.8,
          9830.66,
          7312.41,
          19050.46,
          17737.42,
          17097.43,
          16381.33,
          16189.61,
          16105.88,
          15959.96,
          15845.93,
          15821.88,
          15694.17,
          15644.43,
          15522.15,
          15222.98,
          15024.15,
          15014.6,
          14524.36,
          14204.12,
          14057.55,
          13849.64,
          13828.69,
          13692.23,
          13540.77,
          13416.81,
          13389.37,
          13386.88,
          12975.67,
          12919.4,
          12867.45,
          12809.73,
          12737.65,
          12701.33,
          12075.07,
          11843.51,
          11299.21,
          10236.49,
          10171.98,
          9883.78,
          9629.61,
          9053.61,
          8844.03,
          8835.74,
          8834.27,
          8789.86,
          7937.39,
          7547.89,
          7115.36,
          7040.23,
          6837.34,
          6802.87,
          6544.03,
          6479.02,
          6133.73,
          6009.54,
          5920.89,
          5765.31,
          5743.92,
          5372.55,
          5330.42,
          4737.16,
          4706.78,
          4638.81,
          4504.29,
          4238.83,
          4212.13,
          4193.41,
          4057.22,
          3791.23,
          3742.99,
          3581.72,
          2863.73,
          2710.63,
          2665.65,
          2467.44,
          2442.39,
          1964.28,
          1841.77,
          1809.55,
          1788.13,
          1683.96,
          1602.01,
          1567.44,
          1558.38,
          1531.75,
          1508.26,
          1503.13,
          1477.81,
          1351.59,
          1299.29,
          1289.77,
          1287.16,
          1120.1,
          1113.99,
          990.27,
          981.15,
          948.5,
          941.89,
          937.69,
          910.29,
          908.53,
          907.97,
          887.69,
          873.33,
          861.09,
          859.51,
          850.98,
          850.58,
          849.13,
          840.6,
          840.37,
          840.16,
          836.26,
          819.46,
          817.8,
          817.26,
          804.91,
          798.02,
          791.52,
          787.74,
          785.35,
          779,
          755.02,
          752.59,
          749.99,
          746.98,
          746.91,
          742.92,
          741.16,
          735.46,
          729.02,
          721.16,
          718.15,
          715.5,
          715.03,
          695.59,
          695.33,
          693.47,
          686.58,
          679.45,
          676.99,
          667.11,
          653.82,
          646.76,
          644.79,
          638.93,
          637.92,
          610.9,
          610.24,
          609.68,
          600.89,
          595.94,
          595.13,
          582.62,
          580.15,
          577.5,
          572.52,
          561.85,
          560.15,
          557.91,
          557.62,
          549.36,
          547.87,
          544.36,
          541.88,
          535.72,
          519.95,
          519.74,
          513.98,
          505.71,
          502.55,
          495.03,
          484.98,
          479.83,
          476.18,
          474.86,
          464.01,
          463.75,
          460.07,
          442.99,
          441.37,
          437.47,
          436,
          431.87,
          431.27,
          422.63,
          418.45,
          417.03,
          413.13,
          406.84,
          404.48,
          397.25,
          394.59,
          390.26,
          389.21,
          389.08,
          383.88,
          380.07,
          379.8,
          376.72,
          376.04,
          374.41,
          371.48,
          370.12,
          365.75,
          365.34,
          359.46,
          359.13,
          354.9,
          346.8,
          345.96,
          341.65,
          337.94,
          335.73,
          335.19,
          334.59,
          334.4,
          333.81,
          333.24,
          332.28,
          331.62,
          331.07,
          328.68,
          328.35,
          326.61,
          326.46,
          325.42,
          324.28,
          323.17,
          323.17,
          321.24,
          319.28,
          318.18,
          313.41,
          313.24,
          312.88,
          309.46,
          306.55,
          306.08,
          304.21,
          303.16,
          300.32,
          298.48,
          297.75,
          297.01,
          296.71,
          296.71,
          296.06,
          293.3,
          292.99,
          291.97,
          290.81,
          290.78,
          288.97,
          288.4,
          286.49,
          282.29,
          281.79,
          280.9,
          277.66,
          274.31,
          272.84,
          271.79,
          269.82,
          269.62,
          269.21,
          268.67,
          267.84,
          267.25,
          265.21,
          264.78,
          263.55,
          263.43,
          261.59,
          261.09,
          258.62,
          258.01,
          254.79,
          252.01,
          250.6,
          250.58,
          249.82,
          248.96,
          246.68,
          243.96,
          243.18,
          242.43,
          242.42,
          241.28,
          240.61,
          240.38,
          235.94,
          231.6,
          230.61,
          226.77,
          226.29,
          226.19,
          225.86,
          224.43,
          222.58,
          222.13,
          219.87,
          219.13,
          216.01,
          215.24,
          214.21,
          213.51,
          212.7,
          212.62,
          211.65,
          211.33,
          210.99,
          209.61,
          209.49,
          207.95,
          206.56,
          206.06,
          205.99,
          205.13,
          204.87,
          202.92,
          202.91,
          202.67,
          201.12,
          196.42,
          164.55,
          106.16,
          104.9,
          91.17,
          71.9,
          70.81,
          52.72,
          45.64,
          37.41,
          37.14,
          23.02,
          20.06,
          19.36,
          15.79,
          14.48,
          11.45,
          10.36,
          5.28,
          3.68,
          3.33,
          3.1,
          3,
          2.73,
          2.65,
          2.02,
          1.25,
          0.68,
          3498.55,
          8562.81,
          3685.99,
          2431.42,
          11051.4,
          1940.44,
          719.71,
          301.58,
          229.98,
          401.9,
          1266.18,
          138.85,
          640.1,
          338.53,
          201.4,
          313.42,
          591.5,
          710.14,
          716.2,
          560.8,
          227.65,
          256.85,
          258.06,
          468.91,
          249.03,
          369.99,
          205.03,
          218.88,
          207.69,
          1005.15,
          595.11,
          174.17,
          957.82,
          377.4,
          0.01,
          4585.41,
          14807.92,
          299.79,
          383.87,
          515.94,
          2.44,
          792.65,
          4774.37,
          263.37,
          218.18,
          9.21,
          447.99,
          312.15,
          315.3,
          485.96,
          260.09,
          439.12,
          277.63,
          237.81,
          239.17,
          748.71,
          257.03,
          233.87,
          158.67,
          56.06,
          42.53,
          525.5,
          10596.46,
          11290.78,
          9530.56,
          6800.98,
          11381.02,
          13097.79,
          10861.41,
          483.83,
          37.49,
          47.9,
          52.58,
          5945.77,
          442.67,
          238.09,
          5376.21,
          930.05,
          407.28,
          473.37,
          364.44,
          191.96,
          275.49,
          72.7,
          208.3,
          904.35,
          119.79,
          5623.95,
          286.56,
          59.39,
          66.48,
          250.87,
          170.21,
          12359.95,
          11945.1,
          9445.47,
          258.52,
          97.08,
          303.98,
          267.8,
          307.75,
          417.26,
          363.12,
          345.45,
          854.67,
          518.85,
          477,
          173.16,
          349.37,
          256.79,
          151.78,
          277.94,
          373.84,
          439.23,
          227.31,
          339.43,
          200.68,
          540.49,
          5.13,
          429.76,
          11467.18,
          8246.47,
          8111.81,
          9178.27,
          7815.12,
          10951.8,
          6302.49,
          1166.74,
          354.74,
          228.14,
          152.9,
          345.92,
          619.6,
          269.69,
          461.55,
          248.42,
          199.88,
          294.96,
          205.44,
          7089.52,
          495.48,
          376.8,
          255.66,
          2085.19,
          0.01,
          79.39,
          10062.83,
          331.29,
          685.25,
          911.92,
          321.4,
          291.9,
          201.06,
          326.59,
          323.02,
          216.84,
          7143.19,
          415.43,
          853.13,
          252.95,
          356.41,
          277.19,
          236.59,
          279.43,
          244.07,
          229.71,
          242.84,
          302.24,
          189.56,
          280.88,
          8.12,
          54.8,
          12817,
          7258.8,
          1863.21,
          248.23,
          476.47,
          232.92,
          266.66,
          323.47,
          293.19,
          18.71,
          661.35,
          237.84,
          207.16,
          383.34,
          475.41,
          231.43,
          173.01,
          203.77,
          215.03,
          227.1,
          107.09,
          84.33,
          719.63,
          457.35,
          50.74,
          18.04,
          61.66,
          9629.89,
          11428.31,
          6158.38,
          0.01,
          3514.48,
          8991.68,
          12072.4,
          950.56,
          17.29,
          257.15,
          378.1,
          200.64,
          245.29,
          526.76,
          254.39,
          353.54,
          431.2,
          560.83,
          751.76,
          249.99,
          350.27,
          292.59,
          226.89,
          241.35,
          8161.85,
          292.82,
          287.29,
          360.37,
          391.62,
          7418.34,
          707.6,
          52.43,
          286.31,
          4574.36,
          8284.6,
          10745.75,
          8140.54,
          13729.93,
          215.85,
          394.2,
          335.04,
          314.08,
          311.93,
          263.33,
          184.58,
          493,
          436.05,
          230.71,
          286.03,
          5005.84,
          188.93,
          167.34,
          252.86,
          282.03,
          315.89,
          161.52,
          260.4,
          516.95,
          329.62,
          12029.94,
          4716.62,
          7660.55,
          9759.42,
          3846.63,
          1005.48,
          649.9,
          704.87,
          8588.49,
          174.96,
          53.89,
          273.11,
          737.55,
          250.09,
          279.05,
          434.42,
          202.87,
          448.52,
          396.68,
          266.67,
          465.83,
          281.16,
          245.95,
          267.59,
          508.73,
          218.73,
          600.94,
          386.02,
          336.35,
          5327.02,
          636.53,
          222.21,
          140.25,
          63.7,
          112.91,
          8526.31,
          7603.91,
          14406.95,
          463.17,
          741.54,
          389.7,
          2.32,
          511.18,
          206.05,
          425,
          212.62,
          304.31,
          369.18,
          282.57,
          271.22,
          225.62,
          235.31,
          213.18,
          203.2,
          362.96,
          233.13,
          380.85,
          513.16,
          256.09,
          269.52,
          654.48,
          5623.95,
          243.45,
          235.53,
          53.82,
          12.69,
          200.13
         ],
         "xaxis": "x",
         "yaxis": "y"
        },
        {
         "alignmentgroup": "True",
         "bingroup": "x",
         "hovertemplate": "OPERATOR=DEEPROUTEAI<br>Mileage Total=%{x}<br>count=%{y}<extra></extra>",
         "legendgroup": "DEEPROUTEAI",
         "marker": {
          "color": "#B6E880",
          "pattern": {
           "shape": ""
          }
         },
         "name": "DEEPROUTEAI",
         "nbinsx": 50,
         "offsetgroup": "DEEPROUTEAI",
         "orientation": "v",
         "showlegend": true,
         "type": "histogram",
         "x": [
          18791,
          12081,
          510,
          251
         ],
         "xaxis": "x",
         "yaxis": "y"
        },
        {
         "alignmentgroup": "True",
         "bingroup": "x",
         "hovertemplate": "OPERATOR=DIDI RESEARCH AMERICA<br>Mileage Total=%{x}<br>count=%{y}<extra></extra>",
         "legendgroup": "DIDI RESEARCH AMERICA",
         "marker": {
          "color": "#FF97FF",
          "pattern": {
           "shape": ""
          }
         },
         "name": "DIDI RESEARCH AMERICA",
         "nbinsx": 50,
         "offsetgroup": "DIDI RESEARCH AMERICA",
         "orientation": "v",
         "showlegend": true,
         "type": "histogram",
         "x": [
          3758.53,
          5416.48,
          6946.35,
          1829.55,
          3305.75,
          4890.96,
          4592.07,
          2845.46,
          5857.63,
          1301.89,
          3711.21,
          5156.04,
          4734.87,
          938.69,
          3997.45,
          3892.89,
          3073.96,
          4286.14,
          6647.01,
          1826.88,
          1408.7,
          918.2,
          311.7,
          79.6,
          1285.9
         ],
         "xaxis": "x",
         "yaxis": "y"
        },
        {
         "alignmentgroup": "True",
         "bingroup": "x",
         "hovertemplate": "OPERATOR=EASYMILE<br>Mileage Total=%{x}<br>count=%{y}<extra></extra>",
         "legendgroup": "EASYMILE",
         "marker": {
          "color": "#FECB52",
          "pattern": {
           "shape": ""
          }
         },
         "name": "EASYMILE",
         "nbinsx": 50,
         "offsetgroup": "EASYMILE",
         "orientation": "v",
         "showlegend": true,
         "type": "histogram",
         "x": [
          320
         ],
         "xaxis": "x",
         "yaxis": "y"
        },
        {
         "alignmentgroup": "True",
         "bingroup": "x",
         "hovertemplate": "OPERATOR=GATIK AI<br>Mileage Total=%{x}<br>count=%{y}<extra></extra>",
         "legendgroup": "GATIK AI",
         "marker": {
          "color": "#636efa",
          "pattern": {
           "shape": ""
          }
         },
         "name": "GATIK AI",
         "nbinsx": 50,
         "offsetgroup": "GATIK AI",
         "orientation": "v",
         "showlegend": true,
         "type": "histogram",
         "x": [
          1924,
          1016,
          634
         ],
         "xaxis": "x",
         "yaxis": "y"
        },
        {
         "alignmentgroup": "True",
         "bingroup": "x",
         "hovertemplate": "OPERATOR=IMAGRY<br>Mileage Total=%{x}<br>count=%{y}<extra></extra>",
         "legendgroup": "IMAGRY",
         "marker": {
          "color": "#EF553B",
          "pattern": {
           "shape": ""
          }
         },
         "name": "IMAGRY",
         "nbinsx": 50,
         "offsetgroup": "IMAGRY",
         "orientation": "v",
         "showlegend": true,
         "type": "histogram",
         "x": [
          731.25,
          650.1125,
          326.49,
          397.07
         ],
         "xaxis": "x",
         "yaxis": "y"
        },
        {
         "alignmentgroup": "True",
         "bingroup": "x",
         "hovertemplate": "OPERATOR=LYFT<br>Mileage Total=%{x}<br>count=%{y}<extra></extra>",
         "legendgroup": "LYFT",
         "marker": {
          "color": "#00cc96",
          "pattern": {
           "shape": ""
          }
         },
         "name": "LYFT",
         "nbinsx": 50,
         "offsetgroup": "LYFT",
         "orientation": "v",
         "showlegend": true,
         "type": "histogram",
         "x": [
          479.6990292,
          839.2889849,
          802.0659058,
          1016.408876,
          985.4623141,
          812.1067783,
          596.6559501,
          882.3348161,
          525.3032522,
          568.0884708,
          625.4856679,
          466.0597435,
          523.5676796,
          683.9526769,
          423.8546823,
          132.5040762,
          257.0352626,
          64.28707068,
          32.77799166,
          116.2688316,
          216.2063155,
          131.0897475,
          19.60132144
         ],
         "xaxis": "x",
         "yaxis": "y"
        },
        {
         "alignmentgroup": "True",
         "bingroup": "x",
         "hovertemplate": "OPERATOR=MERCEDES-BENZ RESEARCH & DEVELOPMENT NORTH AMERICA<br>Mileage Total=%{x}<br>count=%{y}<extra></extra>",
         "legendgroup": "MERCEDES-BENZ RESEARCH & DEVELOPMENT NORTH AMERICA",
         "marker": {
          "color": "#ab63fa",
          "pattern": {
           "shape": ""
          }
         },
         "name": "MERCEDES-BENZ RESEARCH & DEVELOPMENT NORTH AMERICA",
         "nbinsx": 50,
         "offsetgroup": "MERCEDES-BENZ RESEARCH & DEVELOPMENT NORTH AMERICA",
         "orientation": "v",
         "showlegend": true,
         "type": "histogram",
         "x": [
          744,
          6,
          22,
          249,
          126,
          7169,
          12317,
          8396,
          7740,
          8201,
          4402,
          3088,
          6143,
          10,
          48.40880162,
          3801.025855,
          1772.012013,
          2874.342161,
          2865.296672,
          2898.923655,
          967.1993726,
          3936.623299,
          1936.73554,
          670.1673114,
          926.5664935,
          435.7334361,
          1020.620208,
          2247.539254,
          61.05555245,
          84.04398955,
          1512,
          1837,
          3423,
          1388,
          2346,
          2171,
          2067,
          2418,
          1032,
          820,
          394,
          968,
          885,
          2556,
          993,
          108,
          104,
          704,
          232,
          335,
          40,
          96
         ],
         "xaxis": "x",
         "yaxis": "y"
        },
        {
         "alignmentgroup": "True",
         "bingroup": "x",
         "hovertemplate": "OPERATOR=NISSAN NORTH AMERICA  DBA ALLIANCE INNOVATION LAB<br>Mileage Total=%{x}<br>count=%{y}<extra></extra>",
         "legendgroup": "NISSAN NORTH AMERICA  DBA ALLIANCE INNOVATION LAB",
         "marker": {
          "color": "#FFA15A",
          "pattern": {
           "shape": ""
          }
         },
         "name": "NISSAN NORTH AMERICA  DBA ALLIANCE INNOVATION LAB",
         "nbinsx": 50,
         "offsetgroup": "NISSAN NORTH AMERICA  DBA ALLIANCE INNOVATION LAB",
         "orientation": "v",
         "showlegend": true,
         "type": "histogram",
         "x": [
          177,
          328,
          3,
          73,
          21.4,
          1099.8
         ],
         "xaxis": "x",
         "yaxis": "y"
        },
        {
         "alignmentgroup": "True",
         "bingroup": "x",
         "hovertemplate": "OPERATOR=NURO<br>Mileage Total=%{x}<br>count=%{y}<extra></extra>",
         "legendgroup": "NURO",
         "marker": {
          "color": "#19d3f3",
          "pattern": {
           "shape": ""
          }
         },
         "name": "NURO",
         "nbinsx": 50,
         "offsetgroup": "NURO",
         "orientation": "v",
         "showlegend": true,
         "type": "histogram",
         "x": [
          5869.93,
          2882.98,
          718.23,
          2423.44,
          6330.06,
          163.53,
          511.24,
          635.3,
          8633.15,
          4018.9,
          989.98,
          6337.11,
          5674.46,
          3053.27,
          10858.44,
          0.5,
          358.87,
          824.39,
          603.83,
          8903.03,
          2256.59,
          3546.98,
          7742.85,
          7471.98,
          2652.3,
          828.76,
          9540.43,
          10739.92,
          9966.98,
          5696.32,
          6257.74,
          6552.78,
          7067.24,
          3971.94,
          2464.88,
          4692.24,
          839.33,
          2063.65,
          2641.17,
          4362.65,
          1029.29,
          3511.09,
          3647.12,
          5559.72,
          3812.97,
          4681.07,
          480.14,
          291.81,
          3291.82,
          2593.24,
          0.84,
          5.34,
          0.17,
          113.45,
          17.35,
          3.27,
          28.69,
          447.74,
          0.01,
          13.13,
          0.03,
          55.77,
          1945.25,
          0.02,
          2889.74,
          67.41,
          590.58,
          130.05,
          629.74,
          14.31,
          1293.68,
          325.67,
          124.4,
          177.08,
          2.5,
          111.87,
          311.93,
          155.71,
          394.6,
          50.78,
          1383.63,
          170.43,
          1999.38,
          1835.24,
          2004.53,
          148.97,
          2319.41,
          1902.84,
          2354.38,
          2229.62,
          2333.75,
          144.8,
          1297.18,
          2738.21,
          2021.59,
          1463,
          33.07,
          13.3,
          83.62,
          93.83,
          108.93,
          54.05,
          64.4,
          11.49,
          24.09,
          86.15,
          2653.65,
          713.65,
          2272.2,
          2715.47,
          3060.93,
          2031.99,
          1778,
          1782.17,
          1792.15,
          1147.63,
          1081.68,
          198.4
         ],
         "xaxis": "x",
         "yaxis": "y"
        },
        {
         "alignmentgroup": "True",
         "bingroup": "x",
         "hovertemplate": "OPERATOR=NVIDIA<br>Mileage Total=%{x}<br>count=%{y}<extra></extra>",
         "legendgroup": "NVIDIA",
         "marker": {
          "color": "#FF6692",
          "pattern": {
           "shape": ""
          }
         },
         "name": "NVIDIA",
         "nbinsx": 50,
         "offsetgroup": "NVIDIA",
         "orientation": "v",
         "showlegend": true,
         "type": "histogram",
         "x": [
          3449,
          1789,
          11153,
          483,
          10388,
          742
         ],
         "xaxis": "x",
         "yaxis": "y"
        },
        {
         "alignmentgroup": "True",
         "bingroup": "x",
         "hovertemplate": "OPERATOR=PONYAI<br>Mileage Total=%{x}<br>count=%{y}<extra></extra>",
         "legendgroup": "PONYAI",
         "marker": {
          "color": "#B6E880",
          "pattern": {
           "shape": ""
          }
         },
         "name": "PONYAI",
         "nbinsx": 50,
         "offsetgroup": "PONYAI",
         "orientation": "v",
         "showlegend": true,
         "type": "histogram",
         "x": [
          16360.46,
          16115.73,
          14223.7,
          12442.53,
          12830.21,
          10482.89,
          12853.17,
          4013.81,
          13065.65,
          6015.63,
          5726.37,
          16137.12,
          5047.61,
          9402.39,
          11347.41,
          4834.28,
          17608.91,
          14324.88,
          5734.54,
          4508.71,
          3299.18,
          78.58,
          14925.2,
          2780.18,
          6856.47,
          181.87,
          12195.72,
          16106.98,
          6283.63,
          10857.61,
          4473.81,
          1404.52,
          1279.3,
          5853.34,
          5343.94,
          437.68,
          182.47,
          0.25,
          4308,
          890,
          5228,
          7162,
          7812,
          12670,
          11951,
          12100,
          11081,
          8108,
          9092,
          9959,
          4417,
          8950,
          12264,
          4383,
          6491,
          9746,
          10224,
          2856,
          7128,
          7053,
          8596,
          11525,
          12073,
          7128,
          9588,
          10667,
          8004,
          6759,
          7309,
          9418,
          6503,
          8969
         ],
         "xaxis": "x",
         "yaxis": "y"
        },
        {
         "alignmentgroup": "True",
         "bingroup": "x",
         "hovertemplate": "OPERATOR=QCRAFT<br>Mileage Total=%{x}<br>count=%{y}<extra></extra>",
         "legendgroup": "QCRAFT",
         "marker": {
          "color": "#FF97FF",
          "pattern": {
           "shape": ""
          }
         },
         "name": "QCRAFT",
         "nbinsx": 50,
         "offsetgroup": "QCRAFT",
         "orientation": "v",
         "showlegend": true,
         "type": "histogram",
         "x": [
          4138,
          2182,
          2589
         ],
         "xaxis": "x",
         "yaxis": "y"
        },
        {
         "alignmentgroup": "True",
         "bingroup": "x",
         "hovertemplate": "OPERATOR=QUALCOMM TECHNOLOGIES<br>Mileage Total=%{x}<br>count=%{y}<extra></extra>",
         "legendgroup": "QUALCOMM TECHNOLOGIES",
         "marker": {
          "color": "#FECB52",
          "pattern": {
           "shape": ""
          }
         },
         "name": "QUALCOMM TECHNOLOGIES",
         "nbinsx": 50,
         "offsetgroup": "QUALCOMM TECHNOLOGIES",
         "orientation": "v",
         "showlegend": true,
         "type": "histogram",
         "x": [
          432,
          119,
          1084,
          438,
          1191,
          1388,
          2182,
          540,
          578,
          141,
          396
         ],
         "xaxis": "x",
         "yaxis": "y"
        },
        {
         "alignmentgroup": "True",
         "bingroup": "x",
         "hovertemplate": "OPERATOR=TOYOTA RESEARCH INSTITUTE<br>Mileage Total=%{x}<br>count=%{y}<extra></extra>",
         "legendgroup": "TOYOTA RESEARCH INSTITUTE",
         "marker": {
          "color": "#636efa",
          "pattern": {
           "shape": ""
          }
         },
         "name": "TOYOTA RESEARCH INSTITUTE",
         "nbinsx": 50,
         "offsetgroup": "TOYOTA RESEARCH INSTITUTE",
         "orientation": "v",
         "showlegend": true,
         "type": "histogram",
         "x": [
          3327,
          5430,
          4724,
          478,
          2277,
          1355,
          967,
          175
         ],
         "xaxis": "x",
         "yaxis": "y"
        },
        {
         "alignmentgroup": "True",
         "bingroup": "x",
         "hovertemplate": "OPERATOR=UDELV<br>Mileage Total=%{x}<br>count=%{y}<extra></extra>",
         "legendgroup": "UDELV",
         "marker": {
          "color": "#EF553B",
          "pattern": {
           "shape": ""
          }
         },
         "name": "UDELV",
         "nbinsx": 50,
         "offsetgroup": "UDELV",
         "orientation": "v",
         "showlegend": true,
         "type": "histogram",
         "x": [
          60
         ],
         "xaxis": "x",
         "yaxis": "y"
        },
        {
         "alignmentgroup": "True",
         "bingroup": "x",
         "hovertemplate": "OPERATOR=VALEO NORTH AMERICA<br>Mileage Total=%{x}<br>count=%{y}<extra></extra>",
         "legendgroup": "VALEO NORTH AMERICA",
         "marker": {
          "color": "#00cc96",
          "pattern": {
           "shape": ""
          }
         },
         "name": "VALEO NORTH AMERICA",
         "nbinsx": 50,
         "offsetgroup": "VALEO NORTH AMERICA",
         "orientation": "v",
         "showlegend": true,
         "type": "histogram",
         "x": [
          201,
          135,
          339,
          104
         ],
         "xaxis": "x",
         "yaxis": "y"
        },
        {
         "alignmentgroup": "True",
         "bingroup": "x",
         "hovertemplate": "OPERATOR=WAYMO<br>Mileage Total=%{x}<br>count=%{y}<extra></extra>",
         "legendgroup": "WAYMO",
         "marker": {
          "color": "#ab63fa",
          "pattern": {
           "shape": ""
          }
         },
         "name": "WAYMO",
         "nbinsx": 50,
         "offsetgroup": "WAYMO",
         "orientation": "v",
         "showlegend": true,
         "type": "histogram",
         "x": [
          2602.5,
          4195.4,
          1799.1,
          3639.8,
          4881.8,
          4405.1,
          2050.7,
          33.8,
          3189.2,
          3395.4,
          1303.9,
          2243,
          4636.1,
          421.9,
          1228.5,
          680.8,
          2984.9,
          692.2,
          3414.6,
          3010,
          4591.2,
          548.8,
          1600.8,
          1446.7,
          28.8,
          3556.6,
          2885,
          1128.3,
          0.1,
          4703.1,
          6954.9,
          4385.1,
          3222.5,
          5214.2,
          3604.5,
          5566.6,
          261,
          2281.8,
          2108.3,
          2593.3,
          4007.3,
          4826,
          3477.3,
          3788.4,
          6334,
          6394.8,
          3711.7,
          3137.9,
          223.2,
          305.9,
          2676.2,
          137.4,
          1718.1,
          968.8,
          422.5,
          255.5,
          3847.9,
          1.7,
          655.3,
          2594.1,
          645,
          3739,
          2994.5,
          2541.4,
          170,
          6.9,
          853.3,
          2805.7,
          3285.4,
          386.4,
          703.5,
          5216,
          599.5,
          308.9,
          3332,
          154.1,
          6516.7,
          3597.8,
          1092,
          1053.1,
          1086.7,
          591.3,
          4097.5,
          752.6,
          2798.8,
          2483.9,
          1890.8,
          4062.5,
          1271.5,
          3576.9,
          1634.2,
          2550.5,
          3498.1,
          1041,
          5677.6,
          1838.9,
          3271.4,
          4673.6,
          5416,
          2115.9,
          858.9,
          4706.3,
          751.2,
          953.4,
          534,
          747.8,
          4150.7,
          1386.9,
          7144.4,
          6062.2,
          2728.6,
          3061.2,
          3120.6,
          4234.2,
          3045.9,
          3990.8,
          3436.6,
          2065.1,
          5427.6,
          4970,
          449.5,
          2927.4,
          33.5,
          3873.8,
          2455.1,
          1861.4,
          6358.8,
          3457.9,
          3366.7,
          2156.9,
          6779.4,
          5859.4,
          1124.5,
          5767.1,
          2057.3,
          2955.2,
          6694.5,
          7512.6,
          7290.7,
          7598.2,
          6486.7,
          1277.4,
          7838.8,
          3594.5,
          3218.2,
          5541,
          6608.5,
          5400.2,
          5136.1,
          283.1,
          244.7,
          3616,
          6559.4,
          5307.9,
          6818.8,
          5618.1,
          5532.9,
          6369.7,
          8646.7,
          4500.9,
          6194.3,
          861.9,
          6087.4,
          2711.5,
          3199.6,
          6629.2,
          1735,
          6121.9,
          6811.4,
          3674.3,
          5590,
          493.7,
          1323.6,
          2393.7,
          4142.1,
          5750.4,
          2824.8,
          7639.8,
          11559.1,
          13931.2,
          28.5,
          5083.5,
          5349.6,
          11868.8,
          4098.1,
          2896.5,
          3268.6,
          11476.1,
          4571.7,
          1501.9,
          3126,
          8799.2,
          5066.2,
          1690.7,
          10089.9,
          5586.2,
          4738.1,
          10098.3,
          5021.3,
          7392.1,
          16399.8,
          9473.4,
          6778.8,
          5421.1,
          12431,
          8469.7,
          5568,
          2310.8,
          2331.4,
          10576.8,
          3854.6,
          12970.5,
          2326.4,
          6703.2,
          4372.3,
          5537,
          2641.8,
          6053.8,
          5989.5,
          4059,
          4024.1,
          15947.9,
          2410.1,
          15869.8,
          6989.1,
          6557.1,
          13348,
          10279.5,
          6692.1,
          9270.7,
          11511.4,
          11158.2,
          4559.2,
          13844.3,
          11047.1,
          6601.9,
          1357.8,
          2880.7,
          4839.4,
          5444.3,
          5666.6,
          2504.9,
          7370.6,
          10463.4,
          4474.5,
          3001.3,
          5154.2,
          7392.8,
          6760.9,
          10080.1,
          6009.2,
          6318.9,
          2170.9,
          7748.1,
          3455.2,
          3677.6,
          4295.5,
          9607.6,
          4466.8,
          3838.3,
          3086.5,
          9480.5,
          10560.9,
          6656.7,
          5999.9,
          5818.9,
          10695.4,
          4122.1,
          10010.5,
          16953.3,
          9425,
          10222.4,
          8531.6,
          3455.3,
          9127.6,
          3439.6,
          8588.5,
          5155.5,
          9583.7,
          4273.9,
          5893,
          11396.4,
          3841.2,
          14441.4,
          6716.4,
          677.3,
          10091.8,
          1863.3,
          3118.6,
          8769.2,
          8285.6,
          1219.5,
          4332.6,
          11319.6,
          5339.4,
          9846.8,
          41.8,
          10096.2,
          2825.7,
          7298.9,
          7601,
          4969.9,
          7829.2,
          1883.8,
          10955.1,
          5138.5,
          7967.2,
          1874.3,
          10727.3,
          9421.1,
          7304.2,
          3658.8,
          6429,
          4000.4,
          8862.5,
          7781.1,
          9593.9,
          7381.2,
          10798.4,
          6798.4,
          7772.1,
          2287.2,
          6354.6,
          4692,
          7591.1,
          7944.1,
          8763,
          9496.4,
          9013.9,
          11423.5,
          3069.9,
          4598.7,
          6119.4,
          9814.2,
          6140.1,
          9871.4,
          5539.5,
          3789.1,
          11833.5,
          7635.7,
          4080,
          8535.6,
          1458.4,
          7338,
          5684.9,
          11072.5,
          6793.4,
          8542,
          500,
          4285.4,
          3632.4,
          4584.3,
          32.7,
          109.6,
          9422.9,
          1572,
          10303.7,
          4464.9,
          4085.9,
          6062.1,
          1017.6,
          8307.3,
          4115.7,
          4834.3,
          2635.8,
          1411.1,
          5351.8,
          724.3,
          4340.8,
          3779.4,
          387.3,
          3499.2,
          13.2,
          7353.1,
          10987.5,
          3620.5,
          6898.5,
          5674.5,
          206.2,
          3848.8,
          7028.4,
          5010.6,
          9095.9,
          3968,
          6820.2,
          6195,
          9497.4,
          378.8,
          6991.8,
          7925.4,
          8430.7,
          4303.7,
          9399.3,
          3764.1,
          5219.3,
          11402,
          3902.5,
          10977.3,
          840.7,
          4496.7,
          270,
          238.2,
          2784.4,
          3964.2,
          9384.2,
          1716.6,
          4244.4,
          4728.9,
          2282.7,
          9184.5,
          4964,
          9022.4,
          3167.7,
          10461.4,
          6371.1,
          3279.6,
          342.2,
          200.5,
          26.6,
          124.6,
          1551.9,
          9596.9,
          6136,
          4091.5,
          3942.9,
          4276.9,
          2840.2,
          4182.2,
          8.7,
          3483.8,
          3620.2,
          2603.2,
          2231.6,
          4733.7,
          4550.2,
          1960.9,
          4961.2,
          3017.7,
          2863.3,
          3643.9,
          13.3,
          2440.5,
          3593,
          4367.9,
          5278.2,
          4136.4,
          2838.4,
          1721.3,
          3235.9,
          4069.8,
          2122.9,
          3264.8,
          1717.2,
          3142.8,
          4081.7,
          782.5,
          1740.9,
          2125.6,
          2854.2,
          2427.2,
          2936.3,
          1502.8,
          3671.6,
          2209.6,
          1113.4,
          1302.6,
          2176.4,
          2729.3,
          93.8,
          2037.2,
          1382.8,
          4302.9,
          3734.1,
          2001.1,
          1679,
          3176.1,
          2712.9,
          103.7,
          2546.2,
          1901.4,
          439.1,
          2057.5,
          855.8,
          127.7,
          643.4,
          2491.3,
          2237.7,
          2155.2,
          112.9,
          1461.7,
          956.1,
          1477.9,
          1718.8,
          1624.4,
          935.5,
          2229,
          822.2,
          982.5,
          1763.4,
          719.1,
          1338.5,
          2302.5,
          2408.6,
          1285.6,
          751,
          2736,
          182.7,
          754.8,
          1340.8,
          1126.5,
          1318.3,
          23.9,
          978.8,
          1714.9,
          1740.7,
          1149.2,
          1921.1,
          2334.1,
          1025.8,
          570.1,
          213.2,
          1498.1,
          1480.6,
          1408.1,
          1390.4,
          1147,
          1935.9,
          1716.9,
          623.1,
          1293.2,
          701.4,
          1551.8,
          1333.4,
          1578.6,
          1106,
          214.6,
          393.8,
          428.3,
          724.6,
          537.3,
          257.5,
          316.1,
          694.4,
          1055.8,
          678.8,
          214.9,
          454.6,
          241.1,
          264.3,
          649.1,
          500.4,
          157.2,
          113.1,
          298.5,
          105.8,
          143.3,
          173.5,
          379,
          479.6,
          266.5,
          384.7,
          102.6,
          13.3,
          78.3,
          131.5,
          72.3,
          13.6,
          63.2,
          806.5,
          1317,
          2377.8,
          2496.9,
          2504.3,
          2372.9,
          1915.9,
          214.7,
          2906.4,
          201.8,
          2070.5,
          1199.6,
          6.1,
          193.6,
          4567,
          210.7,
          1862.6,
          111.5,
          640.5,
          2758.7,
          2684.5,
          149.3,
          2898.5,
          304.2,
          176,
          3282.5,
          349.2,
          410.8,
          236.6,
          3028.5,
          554.5,
          2978.7,
          398.8,
          2261.6,
          44.9,
          63.7,
          2203,
          127.8,
          3432.9,
          680.7,
          319.3,
          3226.7,
          799.4,
          5.3,
          2286,
          3666,
          2527.9,
          313.7,
          18.9,
          181.2,
          1325.7,
          3588.8,
          2067.8,
          217.9,
          550.3,
          248.2,
          3558.9,
          292.5,
          705.7,
          269.8,
          3189.3,
          1230.8,
          509.8,
          312.1,
          292.6,
          1101.4,
          549.4,
          416.5,
          1498.3,
          1178.6,
          4527.1,
          2541.1,
          2078.8,
          522.9,
          3509.3,
          8565.3,
          551.7,
          5287.8,
          4744,
          6107.8,
          6445.6,
          9123.8,
          434.9,
          10980.6,
          286.6,
          12968.5,
          10690.9,
          472,
          15728.9,
          1469.6,
          4290.2,
          9070.7,
          12876.5,
          6489.9,
          7759.6,
          9038.2,
          9723.9,
          13256.7,
          8942.5,
          3985.3,
          4910.9,
          9657,
          625.5,
          760.7,
          5878.6,
          4263.9,
          7979.2,
          1604.4,
          2137.2,
          10751.7,
          1443,
          12677.4,
          9813,
          4880.4,
          11665.2,
          9205.3,
          15681.7,
          8830.9,
          1064.5,
          7882.2,
          16397.7,
          8186.3,
          9724.4,
          13553.4,
          13094.4,
          3415.1,
          7614.6,
          2747.8,
          13891.7,
          8006.2,
          2803.3,
          13405.5,
          12325.7,
          7988.3,
          577,
          3945.8,
          10089.1,
          5161.2,
          1003.5,
          15103,
          9425,
          10520,
          9706.9,
          12012,
          12108.9,
          10062.8,
          10362.3,
          9739.8,
          2139.9,
          2335.7,
          13615.8,
          9230.2,
          15222.4,
          1755.5,
          3063.6,
          12626.2,
          10613.9,
          13767.4,
          13876.3,
          11449.8,
          8069.4,
          10026.2,
          11118.7,
          7124.1,
          15932.5,
          6928.8,
          800.6,
          11812.1,
          11436.4,
          9736.8,
          7484.7,
          8559.2,
          13256.3,
          7797.7,
          2142.9,
          14148.4,
          500.7,
          7181.3,
          16860.6,
          6414.9,
          5382,
          9606.3,
          9117.6,
          14593.1,
          8358.9,
          12643.4,
          12670,
          16076.9,
          10489.6,
          2953,
          7801.6,
          10321.2,
          10768.4,
          11197.6,
          3981.8,
          9693.8,
          9653.3,
          11991.6,
          10622.4,
          13975.7,
          9501.9,
          11513.2,
          3823.9,
          12644.9,
          4653.6,
          13164.3,
          9687.1,
          10777.5,
          9598,
          9423.8,
          8624.9,
          12746.2,
          9313.8,
          9373.2,
          11408.6,
          9845.4,
          9745.6,
          8834.9,
          15365.3,
          5977.6,
          8382.5,
          19708.7,
          22083.2,
          13242.3,
          9821.6,
          8991,
          14398.4,
          11119.8,
          12682.1,
          18852.3,
          10769.9,
          8590.7,
          9619.8,
          13976.2,
          7818.3,
          11966.4,
          12253.9,
          4123.8,
          6141.2,
          22709.4,
          14292.8,
          17415.7,
          11340.9,
          12824.2,
          9374,
          2591.9,
          12447.4,
          8538.1,
          8754.3,
          13524.7,
          12691.1,
          980.9,
          10342.7,
          779.6,
          5066.7,
          9682.3,
          13933.8,
          6936.3,
          5664.3,
          2645.9,
          746,
          340.4,
          14490.9,
          7189.8,
          8812.8,
          4473.2,
          14984,
          4460.4,
          6030.2,
          9709.5,
          2547.8,
          21039.2,
          7390.1,
          14206.1,
          1200.1,
          9150.4,
          8929,
          15391.8,
          7793.1,
          13982.8,
          10622.8,
          11964.7,
          9236.3,
          7224.1,
          4128.6,
          11765.3,
          4530.2,
          5494.8,
          7265,
          14865.4,
          6246.4,
          9164.2,
          10308.9,
          18139.7,
          14581.3,
          7970.9,
          11079,
          14694.7,
          14777.5,
          12300.3,
          12521.4,
          19965.1,
          17610.8,
          14418.9,
          10836.4,
          3810.8,
          10581.2,
          5454.1,
          10501.7,
          4088.4,
          17057.5,
          6197.9,
          10094.6,
          22886.2,
          8914.1,
          8107.2,
          9798.4,
          19999.8,
          4182.5,
          6884.3,
          11779,
          12753.7,
          10384.2,
          13037.3,
          4292.7,
          10820.5,
          11725.3,
          8005.8,
          3925.4,
          9870,
          12836.7,
          8925.9,
          826.2,
          7503,
          13067,
          9856.1,
          9577,
          10827.2,
          12099.9,
          16784.7,
          2332.3,
          6436.5,
          6284.3,
          11986.7,
          9781.8,
          9764.5,
          11503.2,
          14101.8,
          5270,
          10418.2,
          8327.1,
          12692.9,
          9886.7,
          9241.5,
          11891.1,
          10505.8,
          7434.9,
          10399.3,
          14589.3,
          13513.4,
          10925.5,
          10912.9,
          11730.3,
          8147.9,
          9524.8,
          10960.1,
          11805.8,
          13047.4,
          13694.5,
          10557.1,
          1463,
          0.1,
          5960.7,
          35.7,
          63,
          3,
          50.8,
          25.1,
          5.8,
          21.4,
          27.9,
          64,
          20.3,
          8667.6,
          18364.1,
          16598.6,
          17452.7,
          18116.1,
          2214.7,
          11413.4,
          14147.8,
          2772.7,
          11200.9,
          7917.5,
          1588.1,
          4830.4,
          13026.8,
          13312.3,
          12546.3,
          11956.9,
          10469.9,
          7449.2,
          24424,
          24668.8,
          12550.2,
          10254.2,
          5234.5,
          6216.8,
          6366.6,
          10494.9,
          5165.4,
          14228.8,
          9316.9,
          7914.3,
          14066.9,
          9763.4,
          11718.5,
          4028.6,
          13026.3,
          4980.7,
          13429.7,
          10436.5,
          7249,
          65.5,
          2895.3,
          4057.4,
          5214.4,
          27246.4,
          27821,
          974.3,
          24300.9,
          30263.4,
          24368.3,
          11685.7,
          25396.1,
          20094.7,
          10838,
          27088.1,
          20666.3,
          6212,
          5501.4,
          25712.5,
          2132.8,
          23274.9,
          4502.1,
          5776,
          3788.4,
          23850.4,
          12451.6,
          13561.2,
          20376.1,
          4764.1,
          26932.8,
          14444.7,
          5422.6,
          4817.6,
          5003.8,
          15523.5,
          22856.2,
          4161.6,
          21318.8,
          1778.7,
          10138.4,
          24578.3,
          344.1,
          7078.5,
          267.1,
          17332.3,
          9293.6,
          2692.7,
          3803.3,
          302.3,
          20752.4,
          96,
          3558.5,
          2751.1,
          14522.6,
          14824.9,
          11656.6,
          16398.4,
          14093.6,
          25155.1,
          9869.9,
          13784.4,
          29590.9,
          16499.5,
          29572.3,
          99.4,
          427.4,
          29411.7,
          5576.3,
          15592.1,
          20169.6,
          11187.7,
          5175.6,
          16968.7,
          16184.5,
          32105,
          17662.1,
          2221.9,
          986.4,
          1383,
          19831.4,
          18255.4,
          8393.7,
          8832.3,
          16678.4,
          21986.7,
          21198.7,
          10586.4,
          15000.3,
          7870.3,
          27678.9,
          34784.6,
          1377.4,
          10044.8,
          12646.1,
          10504.3,
          28750.9,
          1701.6,
          17188.9,
          31482.3,
          2978.9,
          23408.3,
          1690.4,
          34928.3,
          34524.1,
          7160,
          3559.2,
          1741.6,
          2403.4,
          6164.7,
          5540.8,
          10756.9,
          4968.2,
          10086.2,
          1964.8,
          907.8,
          13856.1,
          2114.5,
          29065,
          13951.7,
          12935.1,
          2534.7,
          8973.6,
          12056.6,
          9951.6,
          12365.5,
          13859.5,
          12998.2,
          11439,
          16150.8,
          12963.9,
          4797.4,
          13189.2,
          4648.2,
          18312.6,
          10748.3,
          12034,
          608.9,
          30815.2,
          5101,
          347.1,
          45.7,
          3668.6,
          17881.6,
          36674.2,
          2847.1,
          9399.4,
          44.6,
          35986.2,
          100.6,
          725.1,
          428.2,
          14626.2,
          19234.2,
          9606.5,
          836,
          15627.2,
          17669,
          2623,
          32159.9,
          16722.8,
          15351.9,
          12429,
          12082.6,
          34572.1,
          17227.9,
          73.2,
          20841.2,
          5920.6,
          171.1,
          13982.4,
          2257.2,
          11614.3,
          12926.9,
          7007.6,
          12749.7,
          4927.3,
          12099.1,
          2190.7,
          11053.8,
          10045,
          60.4,
          112.6,
          4965.5,
          16399.6,
          17019.9,
          1435,
          15172.3,
          14115.5,
          13987.7,
          10012.5,
          12676.7,
          11341.3,
          12762.5,
          14268.9,
          2344.3,
          9101.7,
          5270,
          11103.2,
          5488.7,
          13840.5,
          3973.3,
          1067.4,
          12427.2,
          3604.5,
          5312.6,
          3118.3,
          2945.2,
          12463.2,
          1602.8,
          217.5,
          2542.8,
          7089,
          6692.9,
          7887.4,
          8400.7,
          11812.1,
          14124.7,
          9811.2,
          18147.7,
          11279.1,
          1685,
          13435.9,
          16267.2,
          5731.4,
          14293.7,
          11659,
          11745.1,
          7958.1,
          11399.3,
          10533.3,
          10213.6,
          6760.3,
          11375.8,
          9684.4,
          4614.1,
          11163.5,
          7914,
          11724.1,
          11742.2,
          12827.6,
          4575.4,
          13580.9,
          6741.4,
          5170.4,
          3384.8,
          8541.1,
          6398.1,
          20338.7,
          6924.9,
          6722.6,
          5957.5,
          5281.7,
          6303.8,
          2780.6,
          7317.8,
          6652.6,
          8746.3,
          10046,
          6513.2,
          7974.3,
          9818.9,
          8680,
          7219.2,
          6988.5,
          6732.3,
          7292.1,
          25,
          375.3,
          19586,
          6372.6,
          8367.6,
          4240.1,
          8177.8,
          17961.1,
          7003,
          8319.6,
          16389.2,
          14226.4,
          5490.2,
          7313.9,
          16025.9,
          8062.5,
          17067.1,
          7545.8,
          6952.5,
          6676.3,
          81.9,
          22112.5,
          19431.6,
          155.9,
          175.6,
          121.7,
          7009.8,
          4763.7,
          8857.1,
          11450.7,
          9404.8,
          4156.9
         ],
         "xaxis": "x",
         "yaxis": "y"
        },
        {
         "alignmentgroup": "True",
         "bingroup": "x",
         "hovertemplate": "OPERATOR=WERIDE CORP<br>Mileage Total=%{x}<br>count=%{y}<extra></extra>",
         "legendgroup": "WERIDE CORP",
         "marker": {
          "color": "#FFA15A",
          "pattern": {
           "shape": ""
          }
         },
         "name": "WERIDE CORP",
         "nbinsx": 50,
         "offsetgroup": "WERIDE CORP",
         "orientation": "v",
         "showlegend": true,
         "type": "histogram",
         "x": [
          36.4,
          11126.55,
          377,
          15143.85,
          12994.4,
          9.2,
          8338.75,
          3071.55,
          363.65,
          935.2,
          5164.2,
          334.8,
          70.7,
          9031.07,
          2171.4,
          5440.5,
          679.15,
          12238.23,
          2348.7,
          2034.45,
          9490.72,
          4618.57,
          12614.07,
          2212.6,
          0.03,
          551.08,
          1130,
          2166.76,
          1673.05,
          1308.09,
          971.92,
          2633.68,
          1784.75,
          6763.31,
          8868.37,
          5275.06,
          6748.57,
          4187.73
         ],
         "xaxis": "x",
         "yaxis": "y"
        },
        {
         "alignmentgroup": "True",
         "bingroup": "x",
         "hovertemplate": "OPERATOR=ZOOX<br>Mileage Total=%{x}<br>count=%{y}<extra></extra>",
         "legendgroup": "ZOOX",
         "marker": {
          "color": "#19d3f3",
          "pattern": {
           "shape": ""
          }
         },
         "name": "ZOOX",
         "nbinsx": 50,
         "offsetgroup": "ZOOX",
         "orientation": "v",
         "showlegend": true,
         "type": "histogram",
         "x": [
          737,
          661,
          2590,
          1153,
          659,
          1951,
          46,
          821,
          588,
          1116,
          775,
          689,
          2267,
          2069,
          1893,
          1873,
          1887,
          3572,
          4226,
          290,
          1255,
          5589,
          204,
          1914,
          7749,
          8331,
          3661,
          5218,
          2925,
          2828,
          2126,
          4944,
          8969,
          5045,
          7601,
          6874,
          244,
          2983,
          5396,
          2110,
          8338,
          8064,
          8038,
          3892,
          2360,
          590,
          1095,
          486,
          1652,
          215,
          1681,
          131,
          1174,
          716,
          100,
          744,
          20,
          11025,
          2,
          8765,
          6931,
          4482,
          9150,
          12236,
          15675,
          8722,
          10483,
          10876,
          7541,
          1155,
          515,
          10014,
          8848,
          7470,
          2376,
          1632,
          1123,
          439,
          1340,
          2952,
          5531,
          1524,
          12364,
          6094,
          7167,
          1644,
          1657,
          4115,
          5848,
          8205,
          11484,
          10652,
          6870,
          8354,
          2914,
          7684,
          5489,
          4975,
          6478,
          5429,
          7949,
          5674,
          5761,
          1066,
          9925,
          9355,
          6102,
          8743,
          7019,
          7546,
          6618,
          11778,
          11249,
          9767,
          2189,
          4648,
          1342,
          1901,
          2509,
          9209,
          3279,
          4556,
          730,
          11201,
          1218,
          546,
          2743,
          1382,
          4,
          2399,
          2105,
          1370,
          2090,
          267,
          1829,
          674,
          214,
          108,
          986,
          591,
          4094,
          1988,
          6535,
          6802,
          5835,
          9708,
          1057,
          4764,
          7610,
          1486,
          7282,
          1686,
          1613,
          3475,
          6317,
          6772,
          2367,
          6263,
          4858,
          6075,
          6114,
          7109,
          5451,
          1433.4,
          2832,
          3469.9,
          3024,
          2730.7,
          2232.4,
          1419.1,
          957.8,
          3071.5,
          3475.2,
          2518.7,
          1215,
          119,
          1417.2,
          3554.3,
          4556.4,
          8867.5,
          8018.4,
          2917.4,
          5024.7,
          3886.9,
          17051.1,
          6934.1,
          3961.1,
          569.7,
          6314.4,
          10524.9,
          20194.2,
          8239.9,
          9557.1,
          3704.3,
          22956.2,
          10427,
          7606.5,
          5270.8,
          4436.9,
          2222.2,
          3566.5,
          6190.4,
          5065.5,
          8998.8,
          3934.9,
          5854.9,
          4875.2,
          2784.7,
          7400.8,
          16261.3,
          15104.1,
          4596.9,
          12135.9,
          8585,
          14078,
          12984.4,
          12234.5,
          10177.7,
          10646.9,
          10943.7,
          14180.2,
          5684.8,
          13215.2,
          1662.9,
          8446.8,
          10643.1,
          7369.1,
          3.8,
          3030.7,
          4458.1,
          6556.2,
          6720.2,
          7654.4,
          8177.3,
          6384.1,
          5447.5,
          5226.6,
          10312.5,
          9303.1,
          4611.9,
          9270.9,
          9578.9,
          6434.4,
          9610,
          4952.2,
          6303.1,
          8491.8,
          9095.6,
          5271.6,
          6279.4,
          11042.6,
          10157,
          14531.7,
          7376.8,
          4672.7,
          3409.2,
          8554.1,
          8320.5,
          10991.1,
          2399.6,
          5085.8,
          6546.9,
          95.2,
          27.3,
          117.4,
          149.7,
          28.7,
          222.3,
          0.2,
          172.3,
          97.3,
          22.5,
          28,
          184.8,
          93,
          88.2,
          1206.1,
          65.7,
          67,
          15.8,
          60.5,
          167.2,
          80.3,
          129.7,
          139.6,
          82.1,
          68.1,
          64.5,
          95.9,
          1351.2,
          455.8,
          239.5,
          386.8,
          991.1,
          730.8,
          698.5,
          1068.3,
          1473.6,
          1176.9,
          1323.8,
          986.5,
          908.6,
          555.5,
          572.8,
          506.4,
          464.1,
          319.8,
          359.4,
          186.1,
          427.3,
          344.5,
          278.7,
          223.7,
          118.5,
          5.1,
          5.9,
          84.1
         ],
         "xaxis": "x",
         "yaxis": "y"
        },
        {
         "alignmentgroup": "True",
         "bingroup": "x",
         "hovertemplate": "OPERATOR=GHOST AUTONOMY<br>Mileage Total=%{x}<br>count=%{y}<extra></extra>",
         "legendgroup": "GHOST AUTONOMY",
         "marker": {
          "color": "#FF6692",
          "pattern": {
           "shape": ""
          }
         },
         "name": "GHOST AUTONOMY",
         "nbinsx": 50,
         "offsetgroup": "GHOST AUTONOMY",
         "orientation": "v",
         "showlegend": true,
         "type": "histogram",
         "x": [
          2897.29,
          1394.14,
          3773.04,
          2019.28,
          752.84,
          2606.01,
          933.96,
          182.32,
          2269.6,
          5279.3,
          10403.7,
          7935.4,
          820.2,
          8095,
          34.5,
          11133.3,
          3926.7,
          2873.1
         ],
         "xaxis": "x",
         "yaxis": "y"
        },
        {
         "alignmentgroup": "True",
         "bingroup": "x",
         "hovertemplate": "OPERATOR=INTEL CORPORATION<br>Mileage Total=%{x}<br>count=%{y}<extra></extra>",
         "legendgroup": "INTEL CORPORATION",
         "marker": {
          "color": "#B6E880",
          "pattern": {
           "shape": ""
          }
         },
         "name": "INTEL CORPORATION",
         "nbinsx": 50,
         "offsetgroup": "INTEL CORPORATION",
         "orientation": "v",
         "showlegend": true,
         "type": "histogram",
         "x": [
          611,
          170
         ],
         "xaxis": "x",
         "yaxis": "y"
        },
        {
         "alignmentgroup": "True",
         "bingroup": "x",
         "hovertemplate": "OPERATOR=MOTIONAL AD<br>Mileage Total=%{x}<br>count=%{y}<extra></extra>",
         "legendgroup": "MOTIONAL AD",
         "marker": {
          "color": "#FF97FF",
          "pattern": {
           "shape": ""
          }
         },
         "name": "MOTIONAL AD",
         "nbinsx": 50,
         "offsetgroup": "MOTIONAL AD",
         "orientation": "v",
         "showlegend": true,
         "type": "histogram",
         "x": [
          239.3,
          212.9,
          31.9,
          1141.3,
          317.8,
          945.2,
          920.1,
          858.5,
          198.3,
          5.6,
          17.6,
          1.3,
          21.4,
          27.6,
          618.3,
          3032.68,
          751.6,
          716.13,
          724.48,
          3263.52,
          2463.66,
          3357.66,
          1275.91,
          10.24
         ],
         "xaxis": "x",
         "yaxis": "y"
        },
        {
         "alignmentgroup": "True",
         "bingroup": "x",
         "hovertemplate": "OPERATOR=NVIDIA CORPORATION<br>Mileage Total=%{x}<br>count=%{y}<extra></extra>",
         "legendgroup": "NVIDIA CORPORATION",
         "marker": {
          "color": "#FECB52",
          "pattern": {
           "shape": ""
          }
         },
         "name": "NVIDIA CORPORATION",
         "nbinsx": 50,
         "offsetgroup": "NVIDIA CORPORATION",
         "orientation": "v",
         "showlegend": true,
         "type": "histogram",
         "x": [
          14.26,
          3068.73,
          1687.7,
          1517.99,
          880.58
         ],
         "xaxis": "x",
         "yaxis": "y"
        },
        {
         "alignmentgroup": "True",
         "bingroup": "x",
         "hovertemplate": "OPERATOR=APOLLO<br>Mileage Total=%{x}<br>count=%{y}<extra></extra>",
         "legendgroup": "APOLLO",
         "marker": {
          "color": "#636efa",
          "pattern": {
           "shape": ""
          }
         },
         "name": "APOLLO",
         "nbinsx": 50,
         "offsetgroup": "APOLLO",
         "orientation": "v",
         "showlegend": true,
         "type": "histogram",
         "x": [
          4353.6,
          3816.8,
          2942,
          4199.3
         ],
         "xaxis": "x",
         "yaxis": "y"
        },
        {
         "alignmentgroup": "True",
         "bingroup": "x",
         "hovertemplate": "OPERATOR=AUTOX<br>Mileage Total=%{x}<br>count=%{y}<extra></extra>",
         "legendgroup": "AUTOX",
         "marker": {
          "color": "#EF553B",
          "pattern": {
           "shape": ""
          }
         },
         "name": "AUTOX",
         "nbinsx": 50,
         "offsetgroup": "AUTOX",
         "orientation": "v",
         "showlegend": true,
         "type": "histogram",
         "x": [
          3,
          22,
          42,
          34,
          5,
          8,
          2,
          3768,
          3624,
          8,
          337,
          9,
          8
         ],
         "xaxis": "x",
         "yaxis": "y"
        },
        {
         "alignmentgroup": "True",
         "bingroup": "x",
         "hovertemplate": "OPERATOR=BOSCH<br>Mileage Total=%{x}<br>count=%{y}<extra></extra>",
         "legendgroup": "BOSCH",
         "marker": {
          "color": "#00cc96",
          "pattern": {
           "shape": ""
          }
         },
         "name": "BOSCH",
         "nbinsx": 50,
         "offsetgroup": "BOSCH",
         "orientation": "v",
         "showlegend": true,
         "type": "histogram",
         "x": [
          24.32,
          532.88,
          202.11
         ],
         "xaxis": "x",
         "yaxis": "y"
        },
        {
         "alignmentgroup": "True",
         "bingroup": "x",
         "hovertemplate": "OPERATOR=MERCEDES<br>Mileage Total=%{x}<br>count=%{y}<extra></extra>",
         "legendgroup": "MERCEDES",
         "marker": {
          "color": "#ab63fa",
          "pattern": {
           "shape": ""
          }
         },
         "name": "MERCEDES",
         "nbinsx": 50,
         "offsetgroup": "MERCEDES",
         "orientation": "v",
         "showlegend": true,
         "type": "histogram",
         "x": [
          384.7110006,
          294.16,
          360.4723431,
          482.9086389,
          132.149,
          930.91,
          727.968,
          561.2181479,
          1349.590734,
          2060.888481,
          2754.012663,
          3166.320024,
          1868.630607,
          3752.422929,
          2801.416077,
          1701.266139,
          1978.383042,
          2869.364034,
          2293.932393,
          3656.426886,
          3327.108102,
          2405.960793,
          2040.557562,
          1407.046275,
          2299.986522,
          2398.593249,
          4297.162887,
          2192.29146,
          2638.751958,
          126.57672,
          143.86356,
          206.34592,
          122.9553,
          108.22162,
          140.98676,
          214.8734,
          144.25292
         ],
         "xaxis": "x",
         "yaxis": "y"
        },
        {
         "alignmentgroup": "True",
         "bingroup": "x",
         "hovertemplate": "OPERATOR=NISSAN<br>Mileage Total=%{x}<br>count=%{y}<extra></extra>",
         "legendgroup": "NISSAN",
         "marker": {
          "color": "#FFA15A",
          "pattern": {
           "shape": ""
          }
         },
         "name": "NISSAN",
         "nbinsx": 50,
         "offsetgroup": "NISSAN",
         "orientation": "v",
         "showlegend": true,
         "type": "histogram",
         "x": [
          485,
          2105,
          2235
         ],
         "xaxis": "x",
         "yaxis": "y"
        },
        {
         "alignmentgroup": "True",
         "bingroup": "x",
         "hovertemplate": "OPERATOR=WOVEN BY TOYOTA US<br>Mileage Total=%{x}<br>count=%{y}<extra></extra>",
         "legendgroup": "WOVEN BY TOYOTA US",
         "marker": {
          "color": "#19d3f3",
          "pattern": {
           "shape": ""
          }
         },
         "name": "WOVEN BY TOYOTA US",
         "nbinsx": 50,
         "offsetgroup": "WOVEN BY TOYOTA US",
         "orientation": "v",
         "showlegend": true,
         "type": "histogram",
         "x": [
          618,
          972,
          619,
          636,
          816,
          64,
          95,
          54,
          21,
          52,
          247
         ],
         "xaxis": "x",
         "yaxis": "y"
        }
       ],
       "layout": {
        "barmode": "relative",
        "legend": {
         "title": {
          "text": "OPERATOR"
         },
         "tracegroupgap": 0
        },
        "template": {
         "data": {
          "bar": [
           {
            "error_x": {
             "color": "#2a3f5f"
            },
            "error_y": {
             "color": "#2a3f5f"
            },
            "marker": {
             "line": {
              "color": "#E5ECF6",
              "width": 0.5
             },
             "pattern": {
              "fillmode": "overlay",
              "size": 10,
              "solidity": 0.2
             }
            },
            "type": "bar"
           }
          ],
          "barpolar": [
           {
            "marker": {
             "line": {
              "color": "#E5ECF6",
              "width": 0.5
             },
             "pattern": {
              "fillmode": "overlay",
              "size": 10,
              "solidity": 0.2
             }
            },
            "type": "barpolar"
           }
          ],
          "carpet": [
           {
            "aaxis": {
             "endlinecolor": "#2a3f5f",
             "gridcolor": "white",
             "linecolor": "white",
             "minorgridcolor": "white",
             "startlinecolor": "#2a3f5f"
            },
            "baxis": {
             "endlinecolor": "#2a3f5f",
             "gridcolor": "white",
             "linecolor": "white",
             "minorgridcolor": "white",
             "startlinecolor": "#2a3f5f"
            },
            "type": "carpet"
           }
          ],
          "choropleth": [
           {
            "colorbar": {
             "outlinewidth": 0,
             "ticks": ""
            },
            "type": "choropleth"
           }
          ],
          "contour": [
           {
            "colorbar": {
             "outlinewidth": 0,
             "ticks": ""
            },
            "colorscale": [
             [
              0,
              "#0d0887"
             ],
             [
              0.1111111111111111,
              "#46039f"
             ],
             [
              0.2222222222222222,
              "#7201a8"
             ],
             [
              0.3333333333333333,
              "#9c179e"
             ],
             [
              0.4444444444444444,
              "#bd3786"
             ],
             [
              0.5555555555555556,
              "#d8576b"
             ],
             [
              0.6666666666666666,
              "#ed7953"
             ],
             [
              0.7777777777777778,
              "#fb9f3a"
             ],
             [
              0.8888888888888888,
              "#fdca26"
             ],
             [
              1,
              "#f0f921"
             ]
            ],
            "type": "contour"
           }
          ],
          "contourcarpet": [
           {
            "colorbar": {
             "outlinewidth": 0,
             "ticks": ""
            },
            "type": "contourcarpet"
           }
          ],
          "heatmap": [
           {
            "colorbar": {
             "outlinewidth": 0,
             "ticks": ""
            },
            "colorscale": [
             [
              0,
              "#0d0887"
             ],
             [
              0.1111111111111111,
              "#46039f"
             ],
             [
              0.2222222222222222,
              "#7201a8"
             ],
             [
              0.3333333333333333,
              "#9c179e"
             ],
             [
              0.4444444444444444,
              "#bd3786"
             ],
             [
              0.5555555555555556,
              "#d8576b"
             ],
             [
              0.6666666666666666,
              "#ed7953"
             ],
             [
              0.7777777777777778,
              "#fb9f3a"
             ],
             [
              0.8888888888888888,
              "#fdca26"
             ],
             [
              1,
              "#f0f921"
             ]
            ],
            "type": "heatmap"
           }
          ],
          "heatmapgl": [
           {
            "colorbar": {
             "outlinewidth": 0,
             "ticks": ""
            },
            "colorscale": [
             [
              0,
              "#0d0887"
             ],
             [
              0.1111111111111111,
              "#46039f"
             ],
             [
              0.2222222222222222,
              "#7201a8"
             ],
             [
              0.3333333333333333,
              "#9c179e"
             ],
             [
              0.4444444444444444,
              "#bd3786"
             ],
             [
              0.5555555555555556,
              "#d8576b"
             ],
             [
              0.6666666666666666,
              "#ed7953"
             ],
             [
              0.7777777777777778,
              "#fb9f3a"
             ],
             [
              0.8888888888888888,
              "#fdca26"
             ],
             [
              1,
              "#f0f921"
             ]
            ],
            "type": "heatmapgl"
           }
          ],
          "histogram": [
           {
            "marker": {
             "pattern": {
              "fillmode": "overlay",
              "size": 10,
              "solidity": 0.2
             }
            },
            "type": "histogram"
           }
          ],
          "histogram2d": [
           {
            "colorbar": {
             "outlinewidth": 0,
             "ticks": ""
            },
            "colorscale": [
             [
              0,
              "#0d0887"
             ],
             [
              0.1111111111111111,
              "#46039f"
             ],
             [
              0.2222222222222222,
              "#7201a8"
             ],
             [
              0.3333333333333333,
              "#9c179e"
             ],
             [
              0.4444444444444444,
              "#bd3786"
             ],
             [
              0.5555555555555556,
              "#d8576b"
             ],
             [
              0.6666666666666666,
              "#ed7953"
             ],
             [
              0.7777777777777778,
              "#fb9f3a"
             ],
             [
              0.8888888888888888,
              "#fdca26"
             ],
             [
              1,
              "#f0f921"
             ]
            ],
            "type": "histogram2d"
           }
          ],
          "histogram2dcontour": [
           {
            "colorbar": {
             "outlinewidth": 0,
             "ticks": ""
            },
            "colorscale": [
             [
              0,
              "#0d0887"
             ],
             [
              0.1111111111111111,
              "#46039f"
             ],
             [
              0.2222222222222222,
              "#7201a8"
             ],
             [
              0.3333333333333333,
              "#9c179e"
             ],
             [
              0.4444444444444444,
              "#bd3786"
             ],
             [
              0.5555555555555556,
              "#d8576b"
             ],
             [
              0.6666666666666666,
              "#ed7953"
             ],
             [
              0.7777777777777778,
              "#fb9f3a"
             ],
             [
              0.8888888888888888,
              "#fdca26"
             ],
             [
              1,
              "#f0f921"
             ]
            ],
            "type": "histogram2dcontour"
           }
          ],
          "mesh3d": [
           {
            "colorbar": {
             "outlinewidth": 0,
             "ticks": ""
            },
            "type": "mesh3d"
           }
          ],
          "parcoords": [
           {
            "line": {
             "colorbar": {
              "outlinewidth": 0,
              "ticks": ""
             }
            },
            "type": "parcoords"
           }
          ],
          "pie": [
           {
            "automargin": true,
            "type": "pie"
           }
          ],
          "scatter": [
           {
            "fillpattern": {
             "fillmode": "overlay",
             "size": 10,
             "solidity": 0.2
            },
            "type": "scatter"
           }
          ],
          "scatter3d": [
           {
            "line": {
             "colorbar": {
              "outlinewidth": 0,
              "ticks": ""
             }
            },
            "marker": {
             "colorbar": {
              "outlinewidth": 0,
              "ticks": ""
             }
            },
            "type": "scatter3d"
           }
          ],
          "scattercarpet": [
           {
            "marker": {
             "colorbar": {
              "outlinewidth": 0,
              "ticks": ""
             }
            },
            "type": "scattercarpet"
           }
          ],
          "scattergeo": [
           {
            "marker": {
             "colorbar": {
              "outlinewidth": 0,
              "ticks": ""
             }
            },
            "type": "scattergeo"
           }
          ],
          "scattergl": [
           {
            "marker": {
             "colorbar": {
              "outlinewidth": 0,
              "ticks": ""
             }
            },
            "type": "scattergl"
           }
          ],
          "scattermapbox": [
           {
            "marker": {
             "colorbar": {
              "outlinewidth": 0,
              "ticks": ""
             }
            },
            "type": "scattermapbox"
           }
          ],
          "scatterpolar": [
           {
            "marker": {
             "colorbar": {
              "outlinewidth": 0,
              "ticks": ""
             }
            },
            "type": "scatterpolar"
           }
          ],
          "scatterpolargl": [
           {
            "marker": {
             "colorbar": {
              "outlinewidth": 0,
              "ticks": ""
             }
            },
            "type": "scatterpolargl"
           }
          ],
          "scatterternary": [
           {
            "marker": {
             "colorbar": {
              "outlinewidth": 0,
              "ticks": ""
             }
            },
            "type": "scatterternary"
           }
          ],
          "surface": [
           {
            "colorbar": {
             "outlinewidth": 0,
             "ticks": ""
            },
            "colorscale": [
             [
              0,
              "#0d0887"
             ],
             [
              0.1111111111111111,
              "#46039f"
             ],
             [
              0.2222222222222222,
              "#7201a8"
             ],
             [
              0.3333333333333333,
              "#9c179e"
             ],
             [
              0.4444444444444444,
              "#bd3786"
             ],
             [
              0.5555555555555556,
              "#d8576b"
             ],
             [
              0.6666666666666666,
              "#ed7953"
             ],
             [
              0.7777777777777778,
              "#fb9f3a"
             ],
             [
              0.8888888888888888,
              "#fdca26"
             ],
             [
              1,
              "#f0f921"
             ]
            ],
            "type": "surface"
           }
          ],
          "table": [
           {
            "cells": {
             "fill": {
              "color": "#EBF0F8"
             },
             "line": {
              "color": "white"
             }
            },
            "header": {
             "fill": {
              "color": "#C8D4E3"
             },
             "line": {
              "color": "white"
             }
            },
            "type": "table"
           }
          ]
         },
         "layout": {
          "annotationdefaults": {
           "arrowcolor": "#2a3f5f",
           "arrowhead": 0,
           "arrowwidth": 1
          },
          "autotypenumbers": "strict",
          "coloraxis": {
           "colorbar": {
            "outlinewidth": 0,
            "ticks": ""
           }
          },
          "colorscale": {
           "diverging": [
            [
             0,
             "#8e0152"
            ],
            [
             0.1,
             "#c51b7d"
            ],
            [
             0.2,
             "#de77ae"
            ],
            [
             0.3,
             "#f1b6da"
            ],
            [
             0.4,
             "#fde0ef"
            ],
            [
             0.5,
             "#f7f7f7"
            ],
            [
             0.6,
             "#e6f5d0"
            ],
            [
             0.7,
             "#b8e186"
            ],
            [
             0.8,
             "#7fbc41"
            ],
            [
             0.9,
             "#4d9221"
            ],
            [
             1,
             "#276419"
            ]
           ],
           "sequential": [
            [
             0,
             "#0d0887"
            ],
            [
             0.1111111111111111,
             "#46039f"
            ],
            [
             0.2222222222222222,
             "#7201a8"
            ],
            [
             0.3333333333333333,
             "#9c179e"
            ],
            [
             0.4444444444444444,
             "#bd3786"
            ],
            [
             0.5555555555555556,
             "#d8576b"
            ],
            [
             0.6666666666666666,
             "#ed7953"
            ],
            [
             0.7777777777777778,
             "#fb9f3a"
            ],
            [
             0.8888888888888888,
             "#fdca26"
            ],
            [
             1,
             "#f0f921"
            ]
           ],
           "sequentialminus": [
            [
             0,
             "#0d0887"
            ],
            [
             0.1111111111111111,
             "#46039f"
            ],
            [
             0.2222222222222222,
             "#7201a8"
            ],
            [
             0.3333333333333333,
             "#9c179e"
            ],
            [
             0.4444444444444444,
             "#bd3786"
            ],
            [
             0.5555555555555556,
             "#d8576b"
            ],
            [
             0.6666666666666666,
             "#ed7953"
            ],
            [
             0.7777777777777778,
             "#fb9f3a"
            ],
            [
             0.8888888888888888,
             "#fdca26"
            ],
            [
             1,
             "#f0f921"
            ]
           ]
          },
          "colorway": [
           "#636efa",
           "#EF553B",
           "#00cc96",
           "#ab63fa",
           "#FFA15A",
           "#19d3f3",
           "#FF6692",
           "#B6E880",
           "#FF97FF",
           "#FECB52"
          ],
          "font": {
           "color": "#2a3f5f"
          },
          "geo": {
           "bgcolor": "white",
           "lakecolor": "white",
           "landcolor": "#E5ECF6",
           "showlakes": true,
           "showland": true,
           "subunitcolor": "white"
          },
          "hoverlabel": {
           "align": "left"
          },
          "hovermode": "closest",
          "mapbox": {
           "style": "light"
          },
          "paper_bgcolor": "white",
          "plot_bgcolor": "#E5ECF6",
          "polar": {
           "angularaxis": {
            "gridcolor": "white",
            "linecolor": "white",
            "ticks": ""
           },
           "bgcolor": "#E5ECF6",
           "radialaxis": {
            "gridcolor": "white",
            "linecolor": "white",
            "ticks": ""
           }
          },
          "scene": {
           "xaxis": {
            "backgroundcolor": "#E5ECF6",
            "gridcolor": "white",
            "gridwidth": 2,
            "linecolor": "white",
            "showbackground": true,
            "ticks": "",
            "zerolinecolor": "white"
           },
           "yaxis": {
            "backgroundcolor": "#E5ECF6",
            "gridcolor": "white",
            "gridwidth": 2,
            "linecolor": "white",
            "showbackground": true,
            "ticks": "",
            "zerolinecolor": "white"
           },
           "zaxis": {
            "backgroundcolor": "#E5ECF6",
            "gridcolor": "white",
            "gridwidth": 2,
            "linecolor": "white",
            "showbackground": true,
            "ticks": "",
            "zerolinecolor": "white"
           }
          },
          "shapedefaults": {
           "line": {
            "color": "#2a3f5f"
           }
          },
          "ternary": {
           "aaxis": {
            "gridcolor": "white",
            "linecolor": "white",
            "ticks": ""
           },
           "baxis": {
            "gridcolor": "white",
            "linecolor": "white",
            "ticks": ""
           },
           "bgcolor": "#E5ECF6",
           "caxis": {
            "gridcolor": "white",
            "linecolor": "white",
            "ticks": ""
           }
          },
          "title": {
           "x": 0.05
          },
          "xaxis": {
           "automargin": true,
           "gridcolor": "white",
           "linecolor": "white",
           "ticks": "",
           "title": {
            "standoff": 15
           },
           "zerolinecolor": "white",
           "zerolinewidth": 2
          },
          "yaxis": {
           "automargin": true,
           "gridcolor": "white",
           "linecolor": "white",
           "ticks": "",
           "title": {
            "standoff": 15
           },
           "zerolinecolor": "white",
           "zerolinewidth": 2
          }
         }
        },
        "title": {
         "text": "Autonomous Mileage by Vehicle (2021-2023)"
        },
        "xaxis": {
         "anchor": "y",
         "domain": [
          0,
          1
         ],
         "title": {
          "text": "Vehicle Mileage"
         }
        },
        "yaxis": {
         "anchor": "x",
         "domain": [
          0,
          1
         ],
         "title": {
          "text": "Number of Vehicles"
         }
        }
       }
      }
     },
     "metadata": {},
     "output_type": "display_data"
    },
    {
     "data": {
      "application/vnd.plotly.v1+json": {
       "config": {
        "plotlyServerURL": "https://plot.ly"
       },
       "data": [
        {
         "alignmentgroup": "True",
         "bingroup": "x",
         "hovertemplate": "Total Miles Driven=%{x}<br>count=%{y}<extra></extra>",
         "legendgroup": "",
         "marker": {
          "color": "#636efa",
          "pattern": {
           "shape": ""
          }
         },
         "name": "",
         "nbinsx": 100,
         "offsetgroup": "",
         "orientation": "v",
         "showlegend": false,
         "type": "histogram",
         "x": [
          33067.41,
          15311.7,
          3944.5,
          591112.2,
          55374.68,
          13373.19,
          7870,
          99422,
          759.3100000000001,
          2322839.89,
          31633,
          83013.91,
          320,
          3574,
          67329.68000000001,
          2104.9225,
          781,
          11200.10544488,
          58342.686147500004,
          111588.29361422,
          21152.98,
          4825,
          1702.1999999999998,
          258094.56,
          28004,
          7169.26,
          586028.73,
          8909,
          8489,
          18733,
          60,
          779,
          8895949.1,
          164908.11,
          4194,
          1417667.1
         ],
         "xaxis": "x",
         "yaxis": "y"
        }
       ],
       "layout": {
        "barmode": "relative",
        "legend": {
         "tracegroupgap": 0
        },
        "template": {
         "data": {
          "bar": [
           {
            "error_x": {
             "color": "#2a3f5f"
            },
            "error_y": {
             "color": "#2a3f5f"
            },
            "marker": {
             "line": {
              "color": "#E5ECF6",
              "width": 0.5
             },
             "pattern": {
              "fillmode": "overlay",
              "size": 10,
              "solidity": 0.2
             }
            },
            "type": "bar"
           }
          ],
          "barpolar": [
           {
            "marker": {
             "line": {
              "color": "#E5ECF6",
              "width": 0.5
             },
             "pattern": {
              "fillmode": "overlay",
              "size": 10,
              "solidity": 0.2
             }
            },
            "type": "barpolar"
           }
          ],
          "carpet": [
           {
            "aaxis": {
             "endlinecolor": "#2a3f5f",
             "gridcolor": "white",
             "linecolor": "white",
             "minorgridcolor": "white",
             "startlinecolor": "#2a3f5f"
            },
            "baxis": {
             "endlinecolor": "#2a3f5f",
             "gridcolor": "white",
             "linecolor": "white",
             "minorgridcolor": "white",
             "startlinecolor": "#2a3f5f"
            },
            "type": "carpet"
           }
          ],
          "choropleth": [
           {
            "colorbar": {
             "outlinewidth": 0,
             "ticks": ""
            },
            "type": "choropleth"
           }
          ],
          "contour": [
           {
            "colorbar": {
             "outlinewidth": 0,
             "ticks": ""
            },
            "colorscale": [
             [
              0,
              "#0d0887"
             ],
             [
              0.1111111111111111,
              "#46039f"
             ],
             [
              0.2222222222222222,
              "#7201a8"
             ],
             [
              0.3333333333333333,
              "#9c179e"
             ],
             [
              0.4444444444444444,
              "#bd3786"
             ],
             [
              0.5555555555555556,
              "#d8576b"
             ],
             [
              0.6666666666666666,
              "#ed7953"
             ],
             [
              0.7777777777777778,
              "#fb9f3a"
             ],
             [
              0.8888888888888888,
              "#fdca26"
             ],
             [
              1,
              "#f0f921"
             ]
            ],
            "type": "contour"
           }
          ],
          "contourcarpet": [
           {
            "colorbar": {
             "outlinewidth": 0,
             "ticks": ""
            },
            "type": "contourcarpet"
           }
          ],
          "heatmap": [
           {
            "colorbar": {
             "outlinewidth": 0,
             "ticks": ""
            },
            "colorscale": [
             [
              0,
              "#0d0887"
             ],
             [
              0.1111111111111111,
              "#46039f"
             ],
             [
              0.2222222222222222,
              "#7201a8"
             ],
             [
              0.3333333333333333,
              "#9c179e"
             ],
             [
              0.4444444444444444,
              "#bd3786"
             ],
             [
              0.5555555555555556,
              "#d8576b"
             ],
             [
              0.6666666666666666,
              "#ed7953"
             ],
             [
              0.7777777777777778,
              "#fb9f3a"
             ],
             [
              0.8888888888888888,
              "#fdca26"
             ],
             [
              1,
              "#f0f921"
             ]
            ],
            "type": "heatmap"
           }
          ],
          "heatmapgl": [
           {
            "colorbar": {
             "outlinewidth": 0,
             "ticks": ""
            },
            "colorscale": [
             [
              0,
              "#0d0887"
             ],
             [
              0.1111111111111111,
              "#46039f"
             ],
             [
              0.2222222222222222,
              "#7201a8"
             ],
             [
              0.3333333333333333,
              "#9c179e"
             ],
             [
              0.4444444444444444,
              "#bd3786"
             ],
             [
              0.5555555555555556,
              "#d8576b"
             ],
             [
              0.6666666666666666,
              "#ed7953"
             ],
             [
              0.7777777777777778,
              "#fb9f3a"
             ],
             [
              0.8888888888888888,
              "#fdca26"
             ],
             [
              1,
              "#f0f921"
             ]
            ],
            "type": "heatmapgl"
           }
          ],
          "histogram": [
           {
            "marker": {
             "pattern": {
              "fillmode": "overlay",
              "size": 10,
              "solidity": 0.2
             }
            },
            "type": "histogram"
           }
          ],
          "histogram2d": [
           {
            "colorbar": {
             "outlinewidth": 0,
             "ticks": ""
            },
            "colorscale": [
             [
              0,
              "#0d0887"
             ],
             [
              0.1111111111111111,
              "#46039f"
             ],
             [
              0.2222222222222222,
              "#7201a8"
             ],
             [
              0.3333333333333333,
              "#9c179e"
             ],
             [
              0.4444444444444444,
              "#bd3786"
             ],
             [
              0.5555555555555556,
              "#d8576b"
             ],
             [
              0.6666666666666666,
              "#ed7953"
             ],
             [
              0.7777777777777778,
              "#fb9f3a"
             ],
             [
              0.8888888888888888,
              "#fdca26"
             ],
             [
              1,
              "#f0f921"
             ]
            ],
            "type": "histogram2d"
           }
          ],
          "histogram2dcontour": [
           {
            "colorbar": {
             "outlinewidth": 0,
             "ticks": ""
            },
            "colorscale": [
             [
              0,
              "#0d0887"
             ],
             [
              0.1111111111111111,
              "#46039f"
             ],
             [
              0.2222222222222222,
              "#7201a8"
             ],
             [
              0.3333333333333333,
              "#9c179e"
             ],
             [
              0.4444444444444444,
              "#bd3786"
             ],
             [
              0.5555555555555556,
              "#d8576b"
             ],
             [
              0.6666666666666666,
              "#ed7953"
             ],
             [
              0.7777777777777778,
              "#fb9f3a"
             ],
             [
              0.8888888888888888,
              "#fdca26"
             ],
             [
              1,
              "#f0f921"
             ]
            ],
            "type": "histogram2dcontour"
           }
          ],
          "mesh3d": [
           {
            "colorbar": {
             "outlinewidth": 0,
             "ticks": ""
            },
            "type": "mesh3d"
           }
          ],
          "parcoords": [
           {
            "line": {
             "colorbar": {
              "outlinewidth": 0,
              "ticks": ""
             }
            },
            "type": "parcoords"
           }
          ],
          "pie": [
           {
            "automargin": true,
            "type": "pie"
           }
          ],
          "scatter": [
           {
            "fillpattern": {
             "fillmode": "overlay",
             "size": 10,
             "solidity": 0.2
            },
            "type": "scatter"
           }
          ],
          "scatter3d": [
           {
            "line": {
             "colorbar": {
              "outlinewidth": 0,
              "ticks": ""
             }
            },
            "marker": {
             "colorbar": {
              "outlinewidth": 0,
              "ticks": ""
             }
            },
            "type": "scatter3d"
           }
          ],
          "scattercarpet": [
           {
            "marker": {
             "colorbar": {
              "outlinewidth": 0,
              "ticks": ""
             }
            },
            "type": "scattercarpet"
           }
          ],
          "scattergeo": [
           {
            "marker": {
             "colorbar": {
              "outlinewidth": 0,
              "ticks": ""
             }
            },
            "type": "scattergeo"
           }
          ],
          "scattergl": [
           {
            "marker": {
             "colorbar": {
              "outlinewidth": 0,
              "ticks": ""
             }
            },
            "type": "scattergl"
           }
          ],
          "scattermapbox": [
           {
            "marker": {
             "colorbar": {
              "outlinewidth": 0,
              "ticks": ""
             }
            },
            "type": "scattermapbox"
           }
          ],
          "scatterpolar": [
           {
            "marker": {
             "colorbar": {
              "outlinewidth": 0,
              "ticks": ""
             }
            },
            "type": "scatterpolar"
           }
          ],
          "scatterpolargl": [
           {
            "marker": {
             "colorbar": {
              "outlinewidth": 0,
              "ticks": ""
             }
            },
            "type": "scatterpolargl"
           }
          ],
          "scatterternary": [
           {
            "marker": {
             "colorbar": {
              "outlinewidth": 0,
              "ticks": ""
             }
            },
            "type": "scatterternary"
           }
          ],
          "surface": [
           {
            "colorbar": {
             "outlinewidth": 0,
             "ticks": ""
            },
            "colorscale": [
             [
              0,
              "#0d0887"
             ],
             [
              0.1111111111111111,
              "#46039f"
             ],
             [
              0.2222222222222222,
              "#7201a8"
             ],
             [
              0.3333333333333333,
              "#9c179e"
             ],
             [
              0.4444444444444444,
              "#bd3786"
             ],
             [
              0.5555555555555556,
              "#d8576b"
             ],
             [
              0.6666666666666666,
              "#ed7953"
             ],
             [
              0.7777777777777778,
              "#fb9f3a"
             ],
             [
              0.8888888888888888,
              "#fdca26"
             ],
             [
              1,
              "#f0f921"
             ]
            ],
            "type": "surface"
           }
          ],
          "table": [
           {
            "cells": {
             "fill": {
              "color": "#EBF0F8"
             },
             "line": {
              "color": "white"
             }
            },
            "header": {
             "fill": {
              "color": "#C8D4E3"
             },
             "line": {
              "color": "white"
             }
            },
            "type": "table"
           }
          ]
         },
         "layout": {
          "annotationdefaults": {
           "arrowcolor": "#2a3f5f",
           "arrowhead": 0,
           "arrowwidth": 1
          },
          "autotypenumbers": "strict",
          "coloraxis": {
           "colorbar": {
            "outlinewidth": 0,
            "ticks": ""
           }
          },
          "colorscale": {
           "diverging": [
            [
             0,
             "#8e0152"
            ],
            [
             0.1,
             "#c51b7d"
            ],
            [
             0.2,
             "#de77ae"
            ],
            [
             0.3,
             "#f1b6da"
            ],
            [
             0.4,
             "#fde0ef"
            ],
            [
             0.5,
             "#f7f7f7"
            ],
            [
             0.6,
             "#e6f5d0"
            ],
            [
             0.7,
             "#b8e186"
            ],
            [
             0.8,
             "#7fbc41"
            ],
            [
             0.9,
             "#4d9221"
            ],
            [
             1,
             "#276419"
            ]
           ],
           "sequential": [
            [
             0,
             "#0d0887"
            ],
            [
             0.1111111111111111,
             "#46039f"
            ],
            [
             0.2222222222222222,
             "#7201a8"
            ],
            [
             0.3333333333333333,
             "#9c179e"
            ],
            [
             0.4444444444444444,
             "#bd3786"
            ],
            [
             0.5555555555555556,
             "#d8576b"
            ],
            [
             0.6666666666666666,
             "#ed7953"
            ],
            [
             0.7777777777777778,
             "#fb9f3a"
            ],
            [
             0.8888888888888888,
             "#fdca26"
            ],
            [
             1,
             "#f0f921"
            ]
           ],
           "sequentialminus": [
            [
             0,
             "#0d0887"
            ],
            [
             0.1111111111111111,
             "#46039f"
            ],
            [
             0.2222222222222222,
             "#7201a8"
            ],
            [
             0.3333333333333333,
             "#9c179e"
            ],
            [
             0.4444444444444444,
             "#bd3786"
            ],
            [
             0.5555555555555556,
             "#d8576b"
            ],
            [
             0.6666666666666666,
             "#ed7953"
            ],
            [
             0.7777777777777778,
             "#fb9f3a"
            ],
            [
             0.8888888888888888,
             "#fdca26"
            ],
            [
             1,
             "#f0f921"
            ]
           ]
          },
          "colorway": [
           "#636efa",
           "#EF553B",
           "#00cc96",
           "#ab63fa",
           "#FFA15A",
           "#19d3f3",
           "#FF6692",
           "#B6E880",
           "#FF97FF",
           "#FECB52"
          ],
          "font": {
           "color": "#2a3f5f"
          },
          "geo": {
           "bgcolor": "white",
           "lakecolor": "white",
           "landcolor": "#E5ECF6",
           "showlakes": true,
           "showland": true,
           "subunitcolor": "white"
          },
          "hoverlabel": {
           "align": "left"
          },
          "hovermode": "closest",
          "mapbox": {
           "style": "light"
          },
          "paper_bgcolor": "white",
          "plot_bgcolor": "#E5ECF6",
          "polar": {
           "angularaxis": {
            "gridcolor": "white",
            "linecolor": "white",
            "ticks": ""
           },
           "bgcolor": "#E5ECF6",
           "radialaxis": {
            "gridcolor": "white",
            "linecolor": "white",
            "ticks": ""
           }
          },
          "scene": {
           "xaxis": {
            "backgroundcolor": "#E5ECF6",
            "gridcolor": "white",
            "gridwidth": 2,
            "linecolor": "white",
            "showbackground": true,
            "ticks": "",
            "zerolinecolor": "white"
           },
           "yaxis": {
            "backgroundcolor": "#E5ECF6",
            "gridcolor": "white",
            "gridwidth": 2,
            "linecolor": "white",
            "showbackground": true,
            "ticks": "",
            "zerolinecolor": "white"
           },
           "zaxis": {
            "backgroundcolor": "#E5ECF6",
            "gridcolor": "white",
            "gridwidth": 2,
            "linecolor": "white",
            "showbackground": true,
            "ticks": "",
            "zerolinecolor": "white"
           }
          },
          "shapedefaults": {
           "line": {
            "color": "#2a3f5f"
           }
          },
          "ternary": {
           "aaxis": {
            "gridcolor": "white",
            "linecolor": "white",
            "ticks": ""
           },
           "baxis": {
            "gridcolor": "white",
            "linecolor": "white",
            "ticks": ""
           },
           "bgcolor": "#E5ECF6",
           "caxis": {
            "gridcolor": "white",
            "linecolor": "white",
            "ticks": ""
           }
          },
          "title": {
           "x": 0.05
          },
          "xaxis": {
           "automargin": true,
           "gridcolor": "white",
           "linecolor": "white",
           "ticks": "",
           "title": {
            "standoff": 15
           },
           "zerolinecolor": "white",
           "zerolinewidth": 2
          },
          "yaxis": {
           "automargin": true,
           "gridcolor": "white",
           "linecolor": "white",
           "ticks": "",
           "title": {
            "standoff": 15
           },
           "zerolinecolor": "white",
           "zerolinewidth": 2
          }
         }
        },
        "title": {
         "text": "Total Miles Driven Per Operator (2021-2023)"
        },
        "xaxis": {
         "anchor": "y",
         "domain": [
          0,
          1
         ],
         "title": {
          "text": "Total Miles Driven"
         }
        },
        "yaxis": {
         "anchor": "x",
         "domain": [
          0,
          1
         ],
         "title": {
          "text": "Operators"
         }
        }
       }
      }
     },
     "metadata": {},
     "output_type": "display_data"
    }
   ],
   "source": [
    "#### Histogram: miles driven / VIN ######\n",
    "fig = px.histogram(nonzero_mileage,\n",
    "             x='Mileage Total', color=\"OPERATOR\", title=\"Autonomous Mileage by Vehicle (2021-2023)\", nbins=50)\n",
    "fig.update_layout(xaxis_title='Vehicle Mileage', yaxis_title='Number of Vehicles')\n",
    "fig.show()\n",
    "\n",
    "#### Histogram: miles driven / Operator ######\n",
    "manufacturer_miles_sum = nonzero_mileage.groupby('OPERATOR')['Mileage Total'].sum().reset_index()\n",
    "\n",
    "fig = px.histogram(manufacturer_miles_sum, x='Mileage Total', title='Total Miles Driven Per Operator (2021-2023)',\n",
    "                   labels={'Mileage Total': 'Total Miles Driven'},  nbins=100)  # Adjust nbins as needed\n",
    "fig.update_layout(yaxis_title='Operators')\n",
    "\n",
    "fig.show()\n",
    "\n",
    "\n",
    "\n",
    "#### WANT: Would be absolutley sick if we could start with the VINs histogram and animated into the by Operator graph...\n"
   ]
  },
  {
   "cell_type": "markdown",
   "id": "306a64a0",
   "metadata": {},
   "source": [
    "#### Total Miles driven per year \n"
   ]
  },
  {
   "cell_type": "code",
   "execution_count": 22,
   "id": "13563e0e-aaf7-46b4-95ba-61b35fb0aec5",
   "metadata": {},
   "outputs": [
    {
     "data": {
      "application/vnd.plotly.v1+json": {
       "config": {
        "plotlyServerURL": "https://plot.ly"
       },
       "data": [
        {
         "alignmentgroup": "True",
         "hovertemplate": "OPERATOR=%{text}<br>Year=%{x}<br>Mileage Total=%{y}<extra></extra>",
         "legendgroup": "WAYMO",
         "marker": {
          "color": "#636efa",
          "pattern": {
           "shape": ""
          }
         },
         "name": "WAYMO",
         "offsetgroup": "WAYMO",
         "orientation": "v",
         "showlegend": true,
         "text": [
          "WAYMO",
          "WAYMO",
          "WAYMO"
         ],
         "textposition": "auto",
         "type": "bar",
         "x": [
          2021,
          2022,
          2023
         ],
         "xaxis": "x",
         "y": [
          2325842.9,
          2900143.8,
          3669962.4
         ],
         "yaxis": "y"
        },
        {
         "alignmentgroup": "True",
         "hovertemplate": "OPERATOR=%{text}<br>Year=%{x}<br>Mileage Total=%{y}<extra></extra>",
         "legendgroup": "CRUISE",
         "marker": {
          "color": "#EF553B",
          "pattern": {
           "shape": ""
          }
         },
         "name": "CRUISE",
         "offsetgroup": "CRUISE",
         "orientation": "v",
         "showlegend": true,
         "text": [
          "CRUISE",
          "CRUISE",
          "CRUISE"
         ],
         "textposition": "auto",
         "type": "bar",
         "x": [
          2021,
          2022,
          2023
         ],
         "xaxis": "x",
         "y": [
          876104.72,
          863110.92,
          583624.25
         ],
         "yaxis": "y"
        },
        {
         "alignmentgroup": "True",
         "hovertemplate": "OPERATOR=%{text}<br>Year=%{x}<br>Mileage Total=%{y}<extra></extra>",
         "legendgroup": "ZOOX",
         "marker": {
          "color": "#00cc96",
          "pattern": {
           "shape": ""
          }
         },
         "name": "ZOOX",
         "offsetgroup": "ZOOX",
         "orientation": "v",
         "showlegend": true,
         "text": [
          "ZOOX",
          "ZOOX",
          "ZOOX"
         ],
         "textposition": "auto",
         "type": "bar",
         "x": [
          2021,
          2022,
          2023
         ],
         "xaxis": "x",
         "y": [
          155125,
          552133,
          710409.1
         ],
         "yaxis": "y"
        },
        {
         "alignmentgroup": "True",
         "hovertemplate": "OPERATOR=%{text}<br>Year=%{x}<br>Mileage Total=%{y}<extra></extra>",
         "legendgroup": "APPLE",
         "marker": {
          "color": "#ab63fa",
          "pattern": {
           "shape": ""
          }
         },
         "name": "APPLE",
         "offsetgroup": "APPLE",
         "orientation": "v",
         "showlegend": true,
         "text": [
          "APPLE",
          "APPLE",
          "APPLE"
         ],
         "textposition": "auto",
         "type": "bar",
         "x": [
          2021,
          2022,
          2023
         ],
         "xaxis": "x",
         "y": [
          13272,
          125096.3,
          452743.89999999997
         ],
         "yaxis": "y"
        },
        {
         "alignmentgroup": "True",
         "hovertemplate": "OPERATOR=%{text}<br>Year=%{x}<br>Mileage Total=%{y}<extra></extra>",
         "legendgroup": "PONYAI",
         "marker": {
          "color": "#FFA15A",
          "pattern": {
           "shape": ""
          }
         },
         "name": "PONYAI",
         "offsetgroup": "PONYAI",
         "orientation": "v",
         "showlegend": true,
         "text": [
          "PONYAI",
          "PONYAI"
         ],
         "textposition": "auto",
         "type": "bar",
         "x": [
          2021,
          2022
         ],
         "xaxis": "x",
         "y": [
          305616.73,
          280412
         ],
         "yaxis": "y"
        },
        {
         "alignmentgroup": "True",
         "hovertemplate": "OPERATOR=%{text}<br>Year=%{x}<br>Mileage Total=%{y}<extra></extra>",
         "legendgroup": "NURO",
         "marker": {
          "color": "#19d3f3",
          "pattern": {
           "shape": ""
          }
         },
         "name": "NURO",
         "offsetgroup": "NURO",
         "orientation": "v",
         "showlegend": true,
         "text": [
          "NURO",
          "NURO",
          "NURO"
         ],
         "textposition": "auto",
         "type": "bar",
         "x": [
          2021,
          2022,
          2023
         ],
         "xaxis": "x",
         "y": [
          59100.020000000004,
          94983.43,
          104011.11
         ],
         "yaxis": "y"
        },
        {
         "alignmentgroup": "True",
         "hovertemplate": "OPERATOR=%{text}<br>Year=%{x}<br>Mileage Total=%{y}<extra></extra>",
         "legendgroup": "WERIDE CORP",
         "marker": {
          "color": "#FF6692",
          "pattern": {
           "shape": ""
          }
         },
         "name": "WERIDE CORP",
         "offsetgroup": "WERIDE CORP",
         "orientation": "v",
         "showlegend": true,
         "text": [
          "WERIDE CORP",
          "WERIDE CORP",
          "WERIDE CORP"
         ],
         "textposition": "auto",
         "type": "bar",
         "x": [
          2021,
          2022,
          2023
         ],
         "xaxis": "x",
         "y": [
          57966.25,
          64560.57,
          42381.29
         ],
         "yaxis": "y"
        },
        {
         "alignmentgroup": "True",
         "hovertemplate": "OPERATOR=%{text}<br>Year=%{x}<br>Mileage Total=%{y}<extra></extra>",
         "legendgroup": "MERCEDES-BENZ RESEARCH & DEVELOPMENT NORTH AMERICA",
         "marker": {
          "color": "#B6E880",
          "pattern": {
           "shape": ""
          }
         },
         "name": "MERCEDES-BENZ RESEARCH & DEVELOPMENT NORTH AMERICA",
         "offsetgroup": "MERCEDES-BENZ RESEARCH & DEVELOPMENT NORTH AMERICA",
         "orientation": "v",
         "showlegend": true,
         "text": [
          "MERCEDES-BENZ RESEARCH & DEVELOPMENT NORTH AMERICA",
          "MERCEDES-BENZ RESEARCH & DEVELOPMENT NORTH AMERICA"
         ],
         "textposition": "auto",
         "type": "bar",
         "x": [
          2021,
          2022
         ],
         "xaxis": "x",
         "y": [
          58613,
          52975.29361422
         ],
         "yaxis": "y"
        },
        {
         "alignmentgroup": "True",
         "hovertemplate": "OPERATOR=%{text}<br>Year=%{x}<br>Mileage Total=%{y}<extra></extra>",
         "legendgroup": "AUTOX TECHNOLOGIES",
         "marker": {
          "color": "#FF97FF",
          "pattern": {
           "shape": ""
          }
         },
         "name": "AUTOX TECHNOLOGIES",
         "offsetgroup": "AUTOX TECHNOLOGIES",
         "orientation": "v",
         "showlegend": true,
         "text": [
          "AUTOX TECHNOLOGIES",
          "AUTOX TECHNOLOGIES"
         ],
         "textposition": "auto",
         "type": "bar",
         "x": [
          2021,
          2022
         ],
         "xaxis": "x",
         "y": [
          50108,
          49314
         ],
         "yaxis": "y"
        },
        {
         "alignmentgroup": "True",
         "hovertemplate": "OPERATOR=%{text}<br>Year=%{x}<br>Mileage Total=%{y}<extra></extra>",
         "legendgroup": "DIDI RESEARCH AMERICA",
         "marker": {
          "color": "#FECB52",
          "pattern": {
           "shape": ""
          }
         },
         "name": "DIDI RESEARCH AMERICA",
         "offsetgroup": "DIDI RESEARCH AMERICA",
         "orientation": "v",
         "showlegend": true,
         "text": [
          "DIDI RESEARCH AMERICA",
          "DIDI RESEARCH AMERICA",
          "DIDI RESEARCH AMERICA"
         ],
         "textposition": "auto",
         "type": "bar",
         "x": [
          2021,
          2022,
          2023
         ],
         "xaxis": "x",
         "y": [
          40744.67,
          38265.14,
          4004.1000000000004
         ],
         "yaxis": "y"
        }
       ],
       "layout": {
        "barmode": "relative",
        "legend": {
         "title": {
          "text": "OPERATOR"
         },
         "tracegroupgap": 0
        },
        "template": {
         "data": {
          "bar": [
           {
            "error_x": {
             "color": "#2a3f5f"
            },
            "error_y": {
             "color": "#2a3f5f"
            },
            "marker": {
             "line": {
              "color": "#E5ECF6",
              "width": 0.5
             },
             "pattern": {
              "fillmode": "overlay",
              "size": 10,
              "solidity": 0.2
             }
            },
            "type": "bar"
           }
          ],
          "barpolar": [
           {
            "marker": {
             "line": {
              "color": "#E5ECF6",
              "width": 0.5
             },
             "pattern": {
              "fillmode": "overlay",
              "size": 10,
              "solidity": 0.2
             }
            },
            "type": "barpolar"
           }
          ],
          "carpet": [
           {
            "aaxis": {
             "endlinecolor": "#2a3f5f",
             "gridcolor": "white",
             "linecolor": "white",
             "minorgridcolor": "white",
             "startlinecolor": "#2a3f5f"
            },
            "baxis": {
             "endlinecolor": "#2a3f5f",
             "gridcolor": "white",
             "linecolor": "white",
             "minorgridcolor": "white",
             "startlinecolor": "#2a3f5f"
            },
            "type": "carpet"
           }
          ],
          "choropleth": [
           {
            "colorbar": {
             "outlinewidth": 0,
             "ticks": ""
            },
            "type": "choropleth"
           }
          ],
          "contour": [
           {
            "colorbar": {
             "outlinewidth": 0,
             "ticks": ""
            },
            "colorscale": [
             [
              0,
              "#0d0887"
             ],
             [
              0.1111111111111111,
              "#46039f"
             ],
             [
              0.2222222222222222,
              "#7201a8"
             ],
             [
              0.3333333333333333,
              "#9c179e"
             ],
             [
              0.4444444444444444,
              "#bd3786"
             ],
             [
              0.5555555555555556,
              "#d8576b"
             ],
             [
              0.6666666666666666,
              "#ed7953"
             ],
             [
              0.7777777777777778,
              "#fb9f3a"
             ],
             [
              0.8888888888888888,
              "#fdca26"
             ],
             [
              1,
              "#f0f921"
             ]
            ],
            "type": "contour"
           }
          ],
          "contourcarpet": [
           {
            "colorbar": {
             "outlinewidth": 0,
             "ticks": ""
            },
            "type": "contourcarpet"
           }
          ],
          "heatmap": [
           {
            "colorbar": {
             "outlinewidth": 0,
             "ticks": ""
            },
            "colorscale": [
             [
              0,
              "#0d0887"
             ],
             [
              0.1111111111111111,
              "#46039f"
             ],
             [
              0.2222222222222222,
              "#7201a8"
             ],
             [
              0.3333333333333333,
              "#9c179e"
             ],
             [
              0.4444444444444444,
              "#bd3786"
             ],
             [
              0.5555555555555556,
              "#d8576b"
             ],
             [
              0.6666666666666666,
              "#ed7953"
             ],
             [
              0.7777777777777778,
              "#fb9f3a"
             ],
             [
              0.8888888888888888,
              "#fdca26"
             ],
             [
              1,
              "#f0f921"
             ]
            ],
            "type": "heatmap"
           }
          ],
          "heatmapgl": [
           {
            "colorbar": {
             "outlinewidth": 0,
             "ticks": ""
            },
            "colorscale": [
             [
              0,
              "#0d0887"
             ],
             [
              0.1111111111111111,
              "#46039f"
             ],
             [
              0.2222222222222222,
              "#7201a8"
             ],
             [
              0.3333333333333333,
              "#9c179e"
             ],
             [
              0.4444444444444444,
              "#bd3786"
             ],
             [
              0.5555555555555556,
              "#d8576b"
             ],
             [
              0.6666666666666666,
              "#ed7953"
             ],
             [
              0.7777777777777778,
              "#fb9f3a"
             ],
             [
              0.8888888888888888,
              "#fdca26"
             ],
             [
              1,
              "#f0f921"
             ]
            ],
            "type": "heatmapgl"
           }
          ],
          "histogram": [
           {
            "marker": {
             "pattern": {
              "fillmode": "overlay",
              "size": 10,
              "solidity": 0.2
             }
            },
            "type": "histogram"
           }
          ],
          "histogram2d": [
           {
            "colorbar": {
             "outlinewidth": 0,
             "ticks": ""
            },
            "colorscale": [
             [
              0,
              "#0d0887"
             ],
             [
              0.1111111111111111,
              "#46039f"
             ],
             [
              0.2222222222222222,
              "#7201a8"
             ],
             [
              0.3333333333333333,
              "#9c179e"
             ],
             [
              0.4444444444444444,
              "#bd3786"
             ],
             [
              0.5555555555555556,
              "#d8576b"
             ],
             [
              0.6666666666666666,
              "#ed7953"
             ],
             [
              0.7777777777777778,
              "#fb9f3a"
             ],
             [
              0.8888888888888888,
              "#fdca26"
             ],
             [
              1,
              "#f0f921"
             ]
            ],
            "type": "histogram2d"
           }
          ],
          "histogram2dcontour": [
           {
            "colorbar": {
             "outlinewidth": 0,
             "ticks": ""
            },
            "colorscale": [
             [
              0,
              "#0d0887"
             ],
             [
              0.1111111111111111,
              "#46039f"
             ],
             [
              0.2222222222222222,
              "#7201a8"
             ],
             [
              0.3333333333333333,
              "#9c179e"
             ],
             [
              0.4444444444444444,
              "#bd3786"
             ],
             [
              0.5555555555555556,
              "#d8576b"
             ],
             [
              0.6666666666666666,
              "#ed7953"
             ],
             [
              0.7777777777777778,
              "#fb9f3a"
             ],
             [
              0.8888888888888888,
              "#fdca26"
             ],
             [
              1,
              "#f0f921"
             ]
            ],
            "type": "histogram2dcontour"
           }
          ],
          "mesh3d": [
           {
            "colorbar": {
             "outlinewidth": 0,
             "ticks": ""
            },
            "type": "mesh3d"
           }
          ],
          "parcoords": [
           {
            "line": {
             "colorbar": {
              "outlinewidth": 0,
              "ticks": ""
             }
            },
            "type": "parcoords"
           }
          ],
          "pie": [
           {
            "automargin": true,
            "type": "pie"
           }
          ],
          "scatter": [
           {
            "fillpattern": {
             "fillmode": "overlay",
             "size": 10,
             "solidity": 0.2
            },
            "type": "scatter"
           }
          ],
          "scatter3d": [
           {
            "line": {
             "colorbar": {
              "outlinewidth": 0,
              "ticks": ""
             }
            },
            "marker": {
             "colorbar": {
              "outlinewidth": 0,
              "ticks": ""
             }
            },
            "type": "scatter3d"
           }
          ],
          "scattercarpet": [
           {
            "marker": {
             "colorbar": {
              "outlinewidth": 0,
              "ticks": ""
             }
            },
            "type": "scattercarpet"
           }
          ],
          "scattergeo": [
           {
            "marker": {
             "colorbar": {
              "outlinewidth": 0,
              "ticks": ""
             }
            },
            "type": "scattergeo"
           }
          ],
          "scattergl": [
           {
            "marker": {
             "colorbar": {
              "outlinewidth": 0,
              "ticks": ""
             }
            },
            "type": "scattergl"
           }
          ],
          "scattermapbox": [
           {
            "marker": {
             "colorbar": {
              "outlinewidth": 0,
              "ticks": ""
             }
            },
            "type": "scattermapbox"
           }
          ],
          "scatterpolar": [
           {
            "marker": {
             "colorbar": {
              "outlinewidth": 0,
              "ticks": ""
             }
            },
            "type": "scatterpolar"
           }
          ],
          "scatterpolargl": [
           {
            "marker": {
             "colorbar": {
              "outlinewidth": 0,
              "ticks": ""
             }
            },
            "type": "scatterpolargl"
           }
          ],
          "scatterternary": [
           {
            "marker": {
             "colorbar": {
              "outlinewidth": 0,
              "ticks": ""
             }
            },
            "type": "scatterternary"
           }
          ],
          "surface": [
           {
            "colorbar": {
             "outlinewidth": 0,
             "ticks": ""
            },
            "colorscale": [
             [
              0,
              "#0d0887"
             ],
             [
              0.1111111111111111,
              "#46039f"
             ],
             [
              0.2222222222222222,
              "#7201a8"
             ],
             [
              0.3333333333333333,
              "#9c179e"
             ],
             [
              0.4444444444444444,
              "#bd3786"
             ],
             [
              0.5555555555555556,
              "#d8576b"
             ],
             [
              0.6666666666666666,
              "#ed7953"
             ],
             [
              0.7777777777777778,
              "#fb9f3a"
             ],
             [
              0.8888888888888888,
              "#fdca26"
             ],
             [
              1,
              "#f0f921"
             ]
            ],
            "type": "surface"
           }
          ],
          "table": [
           {
            "cells": {
             "fill": {
              "color": "#EBF0F8"
             },
             "line": {
              "color": "white"
             }
            },
            "header": {
             "fill": {
              "color": "#C8D4E3"
             },
             "line": {
              "color": "white"
             }
            },
            "type": "table"
           }
          ]
         },
         "layout": {
          "annotationdefaults": {
           "arrowcolor": "#2a3f5f",
           "arrowhead": 0,
           "arrowwidth": 1
          },
          "autotypenumbers": "strict",
          "coloraxis": {
           "colorbar": {
            "outlinewidth": 0,
            "ticks": ""
           }
          },
          "colorscale": {
           "diverging": [
            [
             0,
             "#8e0152"
            ],
            [
             0.1,
             "#c51b7d"
            ],
            [
             0.2,
             "#de77ae"
            ],
            [
             0.3,
             "#f1b6da"
            ],
            [
             0.4,
             "#fde0ef"
            ],
            [
             0.5,
             "#f7f7f7"
            ],
            [
             0.6,
             "#e6f5d0"
            ],
            [
             0.7,
             "#b8e186"
            ],
            [
             0.8,
             "#7fbc41"
            ],
            [
             0.9,
             "#4d9221"
            ],
            [
             1,
             "#276419"
            ]
           ],
           "sequential": [
            [
             0,
             "#0d0887"
            ],
            [
             0.1111111111111111,
             "#46039f"
            ],
            [
             0.2222222222222222,
             "#7201a8"
            ],
            [
             0.3333333333333333,
             "#9c179e"
            ],
            [
             0.4444444444444444,
             "#bd3786"
            ],
            [
             0.5555555555555556,
             "#d8576b"
            ],
            [
             0.6666666666666666,
             "#ed7953"
            ],
            [
             0.7777777777777778,
             "#fb9f3a"
            ],
            [
             0.8888888888888888,
             "#fdca26"
            ],
            [
             1,
             "#f0f921"
            ]
           ],
           "sequentialminus": [
            [
             0,
             "#0d0887"
            ],
            [
             0.1111111111111111,
             "#46039f"
            ],
            [
             0.2222222222222222,
             "#7201a8"
            ],
            [
             0.3333333333333333,
             "#9c179e"
            ],
            [
             0.4444444444444444,
             "#bd3786"
            ],
            [
             0.5555555555555556,
             "#d8576b"
            ],
            [
             0.6666666666666666,
             "#ed7953"
            ],
            [
             0.7777777777777778,
             "#fb9f3a"
            ],
            [
             0.8888888888888888,
             "#fdca26"
            ],
            [
             1,
             "#f0f921"
            ]
           ]
          },
          "colorway": [
           "#636efa",
           "#EF553B",
           "#00cc96",
           "#ab63fa",
           "#FFA15A",
           "#19d3f3",
           "#FF6692",
           "#B6E880",
           "#FF97FF",
           "#FECB52"
          ],
          "font": {
           "color": "#2a3f5f"
          },
          "geo": {
           "bgcolor": "white",
           "lakecolor": "white",
           "landcolor": "#E5ECF6",
           "showlakes": true,
           "showland": true,
           "subunitcolor": "white"
          },
          "hoverlabel": {
           "align": "left"
          },
          "hovermode": "closest",
          "mapbox": {
           "style": "light"
          },
          "paper_bgcolor": "white",
          "plot_bgcolor": "#E5ECF6",
          "polar": {
           "angularaxis": {
            "gridcolor": "white",
            "linecolor": "white",
            "ticks": ""
           },
           "bgcolor": "#E5ECF6",
           "radialaxis": {
            "gridcolor": "white",
            "linecolor": "white",
            "ticks": ""
           }
          },
          "scene": {
           "xaxis": {
            "backgroundcolor": "#E5ECF6",
            "gridcolor": "white",
            "gridwidth": 2,
            "linecolor": "white",
            "showbackground": true,
            "ticks": "",
            "zerolinecolor": "white"
           },
           "yaxis": {
            "backgroundcolor": "#E5ECF6",
            "gridcolor": "white",
            "gridwidth": 2,
            "linecolor": "white",
            "showbackground": true,
            "ticks": "",
            "zerolinecolor": "white"
           },
           "zaxis": {
            "backgroundcolor": "#E5ECF6",
            "gridcolor": "white",
            "gridwidth": 2,
            "linecolor": "white",
            "showbackground": true,
            "ticks": "",
            "zerolinecolor": "white"
           }
          },
          "shapedefaults": {
           "line": {
            "color": "#2a3f5f"
           }
          },
          "ternary": {
           "aaxis": {
            "gridcolor": "white",
            "linecolor": "white",
            "ticks": ""
           },
           "baxis": {
            "gridcolor": "white",
            "linecolor": "white",
            "ticks": ""
           },
           "bgcolor": "#E5ECF6",
           "caxis": {
            "gridcolor": "white",
            "linecolor": "white",
            "ticks": ""
           }
          },
          "title": {
           "x": 0.05
          },
          "xaxis": {
           "automargin": true,
           "gridcolor": "white",
           "linecolor": "white",
           "ticks": "",
           "title": {
            "standoff": 15
           },
           "zerolinecolor": "white",
           "zerolinewidth": 2
          },
          "yaxis": {
           "automargin": true,
           "gridcolor": "white",
           "linecolor": "white",
           "ticks": "",
           "title": {
            "standoff": 15
           },
           "zerolinecolor": "white",
           "zerolinewidth": 2
          }
         }
        },
        "title": {
         "text": "Annual Autonomous Mileage Totals"
        },
        "xaxis": {
         "anchor": "y",
         "domain": [
          0,
          1
         ],
         "tickvals": [
          2021,
          2022,
          2023
         ],
         "title": {
          "text": "Year"
         }
        },
        "yaxis": {
         "anchor": "x",
         "domain": [
          0,
          1
         ],
         "title": {
          "text": "Mileage Total"
         }
        }
       }
      }
     },
     "metadata": {},
     "output_type": "display_data"
    },
    {
     "data": {
      "application/vnd.plotly.v1+json": {
       "config": {
        "plotlyServerURL": "https://plot.ly"
       },
       "data": [
        {
         "hovertemplate": "OPERATOR=%{text}<br>Year=%{x}<br>Mileage Total=%{y}<extra></extra>",
         "legendgroup": "APPLE",
         "line": {
          "color": "#636efa",
          "dash": "solid"
         },
         "marker": {
          "symbol": "circle"
         },
         "mode": "lines+markers+text",
         "name": "APPLE",
         "orientation": "v",
         "showlegend": true,
         "text": [
          "APPLE",
          "APPLE",
          "APPLE"
         ],
         "type": "scatter",
         "x": [
          2021,
          2022,
          2023
         ],
         "xaxis": "x",
         "y": [
          13272,
          125096.3,
          452743.89999999997
         ],
         "yaxis": "y"
        },
        {
         "hovertemplate": "OPERATOR=%{text}<br>Year=%{x}<br>Mileage Total=%{y}<extra></extra>",
         "legendgroup": "AUTOX TECHNOLOGIES",
         "line": {
          "color": "#EF553B",
          "dash": "solid"
         },
         "marker": {
          "symbol": "circle"
         },
         "mode": "lines+markers+text",
         "name": "AUTOX TECHNOLOGIES",
         "orientation": "v",
         "showlegend": true,
         "text": [
          "AUTOX TECHNOLOGIES",
          "AUTOX TECHNOLOGIES"
         ],
         "type": "scatter",
         "x": [
          2021,
          2022
         ],
         "xaxis": "x",
         "y": [
          50108,
          49314
         ],
         "yaxis": "y"
        },
        {
         "hovertemplate": "OPERATOR=%{text}<br>Year=%{x}<br>Mileage Total=%{y}<extra></extra>",
         "legendgroup": "CRUISE",
         "line": {
          "color": "#00cc96",
          "dash": "solid"
         },
         "marker": {
          "symbol": "circle"
         },
         "mode": "lines+markers+text",
         "name": "CRUISE",
         "orientation": "v",
         "showlegend": true,
         "text": [
          "CRUISE",
          "CRUISE",
          "CRUISE"
         ],
         "type": "scatter",
         "x": [
          2021,
          2022,
          2023
         ],
         "xaxis": "x",
         "y": [
          876104.72,
          863110.92,
          583624.25
         ],
         "yaxis": "y"
        },
        {
         "hovertemplate": "OPERATOR=%{text}<br>Year=%{x}<br>Mileage Total=%{y}<extra></extra>",
         "legendgroup": "DIDI RESEARCH AMERICA",
         "line": {
          "color": "#ab63fa",
          "dash": "solid"
         },
         "marker": {
          "symbol": "circle"
         },
         "mode": "lines+markers+text",
         "name": "DIDI RESEARCH AMERICA",
         "orientation": "v",
         "showlegend": true,
         "text": [
          "DIDI RESEARCH AMERICA",
          "DIDI RESEARCH AMERICA",
          "DIDI RESEARCH AMERICA"
         ],
         "type": "scatter",
         "x": [
          2021,
          2022,
          2023
         ],
         "xaxis": "x",
         "y": [
          40744.67,
          38265.14,
          4004.1000000000004
         ],
         "yaxis": "y"
        },
        {
         "hovertemplate": "OPERATOR=%{text}<br>Year=%{x}<br>Mileage Total=%{y}<extra></extra>",
         "legendgroup": "MERCEDES-BENZ RESEARCH & DEVELOPMENT NORTH AMERICA",
         "line": {
          "color": "#FFA15A",
          "dash": "solid"
         },
         "marker": {
          "symbol": "circle"
         },
         "mode": "lines+markers+text",
         "name": "MERCEDES-BENZ RESEARCH & DEVELOPMENT NORTH AMERICA",
         "orientation": "v",
         "showlegend": true,
         "text": [
          "MERCEDES-BENZ RESEARCH & DEVELOPMENT NORTH AMERICA",
          "MERCEDES-BENZ RESEARCH & DEVELOPMENT NORTH AMERICA"
         ],
         "type": "scatter",
         "x": [
          2021,
          2022
         ],
         "xaxis": "x",
         "y": [
          58613,
          52975.29361422
         ],
         "yaxis": "y"
        },
        {
         "hovertemplate": "OPERATOR=%{text}<br>Year=%{x}<br>Mileage Total=%{y}<extra></extra>",
         "legendgroup": "NURO",
         "line": {
          "color": "#19d3f3",
          "dash": "solid"
         },
         "marker": {
          "symbol": "circle"
         },
         "mode": "lines+markers+text",
         "name": "NURO",
         "orientation": "v",
         "showlegend": true,
         "text": [
          "NURO",
          "NURO",
          "NURO"
         ],
         "type": "scatter",
         "x": [
          2021,
          2022,
          2023
         ],
         "xaxis": "x",
         "y": [
          59100.020000000004,
          94983.43,
          104011.11
         ],
         "yaxis": "y"
        },
        {
         "hovertemplate": "OPERATOR=%{text}<br>Year=%{x}<br>Mileage Total=%{y}<extra></extra>",
         "legendgroup": "PONYAI",
         "line": {
          "color": "#FF6692",
          "dash": "solid"
         },
         "marker": {
          "symbol": "circle"
         },
         "mode": "lines+markers+text",
         "name": "PONYAI",
         "orientation": "v",
         "showlegend": true,
         "text": [
          "PONYAI",
          "PONYAI"
         ],
         "type": "scatter",
         "x": [
          2021,
          2022
         ],
         "xaxis": "x",
         "y": [
          305616.73,
          280412
         ],
         "yaxis": "y"
        },
        {
         "hovertemplate": "OPERATOR=%{text}<br>Year=%{x}<br>Mileage Total=%{y}<extra></extra>",
         "legendgroup": "WAYMO",
         "line": {
          "color": "#B6E880",
          "dash": "solid"
         },
         "marker": {
          "symbol": "circle"
         },
         "mode": "lines+markers+text",
         "name": "WAYMO",
         "orientation": "v",
         "showlegend": true,
         "text": [
          "WAYMO",
          "WAYMO",
          "WAYMO"
         ],
         "type": "scatter",
         "x": [
          2021,
          2022,
          2023
         ],
         "xaxis": "x",
         "y": [
          2325842.9,
          2900143.8,
          3669962.4
         ],
         "yaxis": "y"
        },
        {
         "hovertemplate": "OPERATOR=%{text}<br>Year=%{x}<br>Mileage Total=%{y}<extra></extra>",
         "legendgroup": "WERIDE CORP",
         "line": {
          "color": "#FF97FF",
          "dash": "solid"
         },
         "marker": {
          "symbol": "circle"
         },
         "mode": "lines+markers+text",
         "name": "WERIDE CORP",
         "orientation": "v",
         "showlegend": true,
         "text": [
          "WERIDE CORP",
          "WERIDE CORP",
          "WERIDE CORP"
         ],
         "type": "scatter",
         "x": [
          2021,
          2022,
          2023
         ],
         "xaxis": "x",
         "y": [
          57966.25,
          64560.57,
          42381.29
         ],
         "yaxis": "y"
        },
        {
         "hovertemplate": "OPERATOR=%{text}<br>Year=%{x}<br>Mileage Total=%{y}<extra></extra>",
         "legendgroup": "ZOOX",
         "line": {
          "color": "#FECB52",
          "dash": "solid"
         },
         "marker": {
          "symbol": "circle"
         },
         "mode": "lines+markers+text",
         "name": "ZOOX",
         "orientation": "v",
         "showlegend": true,
         "text": [
          "ZOOX",
          "ZOOX",
          "ZOOX"
         ],
         "type": "scatter",
         "x": [
          2021,
          2022,
          2023
         ],
         "xaxis": "x",
         "y": [
          155125,
          552133,
          710409.1
         ],
         "yaxis": "y"
        }
       ],
       "layout": {
        "legend": {
         "title": {
          "text": "OPERATOR"
         },
         "tracegroupgap": 0
        },
        "template": {
         "data": {
          "bar": [
           {
            "error_x": {
             "color": "#2a3f5f"
            },
            "error_y": {
             "color": "#2a3f5f"
            },
            "marker": {
             "line": {
              "color": "#E5ECF6",
              "width": 0.5
             },
             "pattern": {
              "fillmode": "overlay",
              "size": 10,
              "solidity": 0.2
             }
            },
            "type": "bar"
           }
          ],
          "barpolar": [
           {
            "marker": {
             "line": {
              "color": "#E5ECF6",
              "width": 0.5
             },
             "pattern": {
              "fillmode": "overlay",
              "size": 10,
              "solidity": 0.2
             }
            },
            "type": "barpolar"
           }
          ],
          "carpet": [
           {
            "aaxis": {
             "endlinecolor": "#2a3f5f",
             "gridcolor": "white",
             "linecolor": "white",
             "minorgridcolor": "white",
             "startlinecolor": "#2a3f5f"
            },
            "baxis": {
             "endlinecolor": "#2a3f5f",
             "gridcolor": "white",
             "linecolor": "white",
             "minorgridcolor": "white",
             "startlinecolor": "#2a3f5f"
            },
            "type": "carpet"
           }
          ],
          "choropleth": [
           {
            "colorbar": {
             "outlinewidth": 0,
             "ticks": ""
            },
            "type": "choropleth"
           }
          ],
          "contour": [
           {
            "colorbar": {
             "outlinewidth": 0,
             "ticks": ""
            },
            "colorscale": [
             [
              0,
              "#0d0887"
             ],
             [
              0.1111111111111111,
              "#46039f"
             ],
             [
              0.2222222222222222,
              "#7201a8"
             ],
             [
              0.3333333333333333,
              "#9c179e"
             ],
             [
              0.4444444444444444,
              "#bd3786"
             ],
             [
              0.5555555555555556,
              "#d8576b"
             ],
             [
              0.6666666666666666,
              "#ed7953"
             ],
             [
              0.7777777777777778,
              "#fb9f3a"
             ],
             [
              0.8888888888888888,
              "#fdca26"
             ],
             [
              1,
              "#f0f921"
             ]
            ],
            "type": "contour"
           }
          ],
          "contourcarpet": [
           {
            "colorbar": {
             "outlinewidth": 0,
             "ticks": ""
            },
            "type": "contourcarpet"
           }
          ],
          "heatmap": [
           {
            "colorbar": {
             "outlinewidth": 0,
             "ticks": ""
            },
            "colorscale": [
             [
              0,
              "#0d0887"
             ],
             [
              0.1111111111111111,
              "#46039f"
             ],
             [
              0.2222222222222222,
              "#7201a8"
             ],
             [
              0.3333333333333333,
              "#9c179e"
             ],
             [
              0.4444444444444444,
              "#bd3786"
             ],
             [
              0.5555555555555556,
              "#d8576b"
             ],
             [
              0.6666666666666666,
              "#ed7953"
             ],
             [
              0.7777777777777778,
              "#fb9f3a"
             ],
             [
              0.8888888888888888,
              "#fdca26"
             ],
             [
              1,
              "#f0f921"
             ]
            ],
            "type": "heatmap"
           }
          ],
          "heatmapgl": [
           {
            "colorbar": {
             "outlinewidth": 0,
             "ticks": ""
            },
            "colorscale": [
             [
              0,
              "#0d0887"
             ],
             [
              0.1111111111111111,
              "#46039f"
             ],
             [
              0.2222222222222222,
              "#7201a8"
             ],
             [
              0.3333333333333333,
              "#9c179e"
             ],
             [
              0.4444444444444444,
              "#bd3786"
             ],
             [
              0.5555555555555556,
              "#d8576b"
             ],
             [
              0.6666666666666666,
              "#ed7953"
             ],
             [
              0.7777777777777778,
              "#fb9f3a"
             ],
             [
              0.8888888888888888,
              "#fdca26"
             ],
             [
              1,
              "#f0f921"
             ]
            ],
            "type": "heatmapgl"
           }
          ],
          "histogram": [
           {
            "marker": {
             "pattern": {
              "fillmode": "overlay",
              "size": 10,
              "solidity": 0.2
             }
            },
            "type": "histogram"
           }
          ],
          "histogram2d": [
           {
            "colorbar": {
             "outlinewidth": 0,
             "ticks": ""
            },
            "colorscale": [
             [
              0,
              "#0d0887"
             ],
             [
              0.1111111111111111,
              "#46039f"
             ],
             [
              0.2222222222222222,
              "#7201a8"
             ],
             [
              0.3333333333333333,
              "#9c179e"
             ],
             [
              0.4444444444444444,
              "#bd3786"
             ],
             [
              0.5555555555555556,
              "#d8576b"
             ],
             [
              0.6666666666666666,
              "#ed7953"
             ],
             [
              0.7777777777777778,
              "#fb9f3a"
             ],
             [
              0.8888888888888888,
              "#fdca26"
             ],
             [
              1,
              "#f0f921"
             ]
            ],
            "type": "histogram2d"
           }
          ],
          "histogram2dcontour": [
           {
            "colorbar": {
             "outlinewidth": 0,
             "ticks": ""
            },
            "colorscale": [
             [
              0,
              "#0d0887"
             ],
             [
              0.1111111111111111,
              "#46039f"
             ],
             [
              0.2222222222222222,
              "#7201a8"
             ],
             [
              0.3333333333333333,
              "#9c179e"
             ],
             [
              0.4444444444444444,
              "#bd3786"
             ],
             [
              0.5555555555555556,
              "#d8576b"
             ],
             [
              0.6666666666666666,
              "#ed7953"
             ],
             [
              0.7777777777777778,
              "#fb9f3a"
             ],
             [
              0.8888888888888888,
              "#fdca26"
             ],
             [
              1,
              "#f0f921"
             ]
            ],
            "type": "histogram2dcontour"
           }
          ],
          "mesh3d": [
           {
            "colorbar": {
             "outlinewidth": 0,
             "ticks": ""
            },
            "type": "mesh3d"
           }
          ],
          "parcoords": [
           {
            "line": {
             "colorbar": {
              "outlinewidth": 0,
              "ticks": ""
             }
            },
            "type": "parcoords"
           }
          ],
          "pie": [
           {
            "automargin": true,
            "type": "pie"
           }
          ],
          "scatter": [
           {
            "fillpattern": {
             "fillmode": "overlay",
             "size": 10,
             "solidity": 0.2
            },
            "type": "scatter"
           }
          ],
          "scatter3d": [
           {
            "line": {
             "colorbar": {
              "outlinewidth": 0,
              "ticks": ""
             }
            },
            "marker": {
             "colorbar": {
              "outlinewidth": 0,
              "ticks": ""
             }
            },
            "type": "scatter3d"
           }
          ],
          "scattercarpet": [
           {
            "marker": {
             "colorbar": {
              "outlinewidth": 0,
              "ticks": ""
             }
            },
            "type": "scattercarpet"
           }
          ],
          "scattergeo": [
           {
            "marker": {
             "colorbar": {
              "outlinewidth": 0,
              "ticks": ""
             }
            },
            "type": "scattergeo"
           }
          ],
          "scattergl": [
           {
            "marker": {
             "colorbar": {
              "outlinewidth": 0,
              "ticks": ""
             }
            },
            "type": "scattergl"
           }
          ],
          "scattermapbox": [
           {
            "marker": {
             "colorbar": {
              "outlinewidth": 0,
              "ticks": ""
             }
            },
            "type": "scattermapbox"
           }
          ],
          "scatterpolar": [
           {
            "marker": {
             "colorbar": {
              "outlinewidth": 0,
              "ticks": ""
             }
            },
            "type": "scatterpolar"
           }
          ],
          "scatterpolargl": [
           {
            "marker": {
             "colorbar": {
              "outlinewidth": 0,
              "ticks": ""
             }
            },
            "type": "scatterpolargl"
           }
          ],
          "scatterternary": [
           {
            "marker": {
             "colorbar": {
              "outlinewidth": 0,
              "ticks": ""
             }
            },
            "type": "scatterternary"
           }
          ],
          "surface": [
           {
            "colorbar": {
             "outlinewidth": 0,
             "ticks": ""
            },
            "colorscale": [
             [
              0,
              "#0d0887"
             ],
             [
              0.1111111111111111,
              "#46039f"
             ],
             [
              0.2222222222222222,
              "#7201a8"
             ],
             [
              0.3333333333333333,
              "#9c179e"
             ],
             [
              0.4444444444444444,
              "#bd3786"
             ],
             [
              0.5555555555555556,
              "#d8576b"
             ],
             [
              0.6666666666666666,
              "#ed7953"
             ],
             [
              0.7777777777777778,
              "#fb9f3a"
             ],
             [
              0.8888888888888888,
              "#fdca26"
             ],
             [
              1,
              "#f0f921"
             ]
            ],
            "type": "surface"
           }
          ],
          "table": [
           {
            "cells": {
             "fill": {
              "color": "#EBF0F8"
             },
             "line": {
              "color": "white"
             }
            },
            "header": {
             "fill": {
              "color": "#C8D4E3"
             },
             "line": {
              "color": "white"
             }
            },
            "type": "table"
           }
          ]
         },
         "layout": {
          "annotationdefaults": {
           "arrowcolor": "#2a3f5f",
           "arrowhead": 0,
           "arrowwidth": 1
          },
          "autotypenumbers": "strict",
          "coloraxis": {
           "colorbar": {
            "outlinewidth": 0,
            "ticks": ""
           }
          },
          "colorscale": {
           "diverging": [
            [
             0,
             "#8e0152"
            ],
            [
             0.1,
             "#c51b7d"
            ],
            [
             0.2,
             "#de77ae"
            ],
            [
             0.3,
             "#f1b6da"
            ],
            [
             0.4,
             "#fde0ef"
            ],
            [
             0.5,
             "#f7f7f7"
            ],
            [
             0.6,
             "#e6f5d0"
            ],
            [
             0.7,
             "#b8e186"
            ],
            [
             0.8,
             "#7fbc41"
            ],
            [
             0.9,
             "#4d9221"
            ],
            [
             1,
             "#276419"
            ]
           ],
           "sequential": [
            [
             0,
             "#0d0887"
            ],
            [
             0.1111111111111111,
             "#46039f"
            ],
            [
             0.2222222222222222,
             "#7201a8"
            ],
            [
             0.3333333333333333,
             "#9c179e"
            ],
            [
             0.4444444444444444,
             "#bd3786"
            ],
            [
             0.5555555555555556,
             "#d8576b"
            ],
            [
             0.6666666666666666,
             "#ed7953"
            ],
            [
             0.7777777777777778,
             "#fb9f3a"
            ],
            [
             0.8888888888888888,
             "#fdca26"
            ],
            [
             1,
             "#f0f921"
            ]
           ],
           "sequentialminus": [
            [
             0,
             "#0d0887"
            ],
            [
             0.1111111111111111,
             "#46039f"
            ],
            [
             0.2222222222222222,
             "#7201a8"
            ],
            [
             0.3333333333333333,
             "#9c179e"
            ],
            [
             0.4444444444444444,
             "#bd3786"
            ],
            [
             0.5555555555555556,
             "#d8576b"
            ],
            [
             0.6666666666666666,
             "#ed7953"
            ],
            [
             0.7777777777777778,
             "#fb9f3a"
            ],
            [
             0.8888888888888888,
             "#fdca26"
            ],
            [
             1,
             "#f0f921"
            ]
           ]
          },
          "colorway": [
           "#636efa",
           "#EF553B",
           "#00cc96",
           "#ab63fa",
           "#FFA15A",
           "#19d3f3",
           "#FF6692",
           "#B6E880",
           "#FF97FF",
           "#FECB52"
          ],
          "font": {
           "color": "#2a3f5f"
          },
          "geo": {
           "bgcolor": "white",
           "lakecolor": "white",
           "landcolor": "#E5ECF6",
           "showlakes": true,
           "showland": true,
           "subunitcolor": "white"
          },
          "hoverlabel": {
           "align": "left"
          },
          "hovermode": "closest",
          "mapbox": {
           "style": "light"
          },
          "paper_bgcolor": "white",
          "plot_bgcolor": "#E5ECF6",
          "polar": {
           "angularaxis": {
            "gridcolor": "white",
            "linecolor": "white",
            "ticks": ""
           },
           "bgcolor": "#E5ECF6",
           "radialaxis": {
            "gridcolor": "white",
            "linecolor": "white",
            "ticks": ""
           }
          },
          "scene": {
           "xaxis": {
            "backgroundcolor": "#E5ECF6",
            "gridcolor": "white",
            "gridwidth": 2,
            "linecolor": "white",
            "showbackground": true,
            "ticks": "",
            "zerolinecolor": "white"
           },
           "yaxis": {
            "backgroundcolor": "#E5ECF6",
            "gridcolor": "white",
            "gridwidth": 2,
            "linecolor": "white",
            "showbackground": true,
            "ticks": "",
            "zerolinecolor": "white"
           },
           "zaxis": {
            "backgroundcolor": "#E5ECF6",
            "gridcolor": "white",
            "gridwidth": 2,
            "linecolor": "white",
            "showbackground": true,
            "ticks": "",
            "zerolinecolor": "white"
           }
          },
          "shapedefaults": {
           "line": {
            "color": "#2a3f5f"
           }
          },
          "ternary": {
           "aaxis": {
            "gridcolor": "white",
            "linecolor": "white",
            "ticks": ""
           },
           "baxis": {
            "gridcolor": "white",
            "linecolor": "white",
            "ticks": ""
           },
           "bgcolor": "#E5ECF6",
           "caxis": {
            "gridcolor": "white",
            "linecolor": "white",
            "ticks": ""
           }
          },
          "title": {
           "x": 0.05
          },
          "xaxis": {
           "automargin": true,
           "gridcolor": "white",
           "linecolor": "white",
           "ticks": "",
           "title": {
            "standoff": 15
           },
           "zerolinecolor": "white",
           "zerolinewidth": 2
          },
          "yaxis": {
           "automargin": true,
           "gridcolor": "white",
           "linecolor": "white",
           "ticks": "",
           "title": {
            "standoff": 15
           },
           "zerolinecolor": "white",
           "zerolinewidth": 2
          }
         }
        },
        "title": {
         "text": "Annual Mileage Total by Operator"
        },
        "xaxis": {
         "anchor": "y",
         "domain": [
          0,
          1
         ],
         "tickvals": [
          2021,
          2022,
          2023
         ],
         "title": {
          "text": "Year"
         }
        },
        "yaxis": {
         "anchor": "x",
         "domain": [
          0,
          1
         ],
         "title": {
          "text": "Mileage Total"
         }
        }
       }
      }
     },
     "metadata": {},
     "output_type": "display_data"
    }
   ],
   "source": [
    "# Aggregate the sum of \"Mileage Total\" by \"Year\" and \"Manufacturer\"\n",
    "agg_df = mileage_df.groupby(['OPERATOR', 'Year'])['Mileage Total'].sum().reset_index()\n",
    "\n",
    "# Filter to include only data for the top 10 operators\n",
    "top_10_operators = mileage_df.groupby('OPERATOR')['Mileage Total'].sum().nlargest(10).index\n",
    "top_miles = agg_df[agg_df['OPERATOR'].isin(top_10_operators)]\n",
    "manufacturer_order = agg_df.groupby('OPERATOR')['Mileage Total'].sum().sort_values(ascending=False).index\n",
    "\n",
    "\n",
    "# Create the bar plot\n",
    "fig = px.bar(top_miles, x='Year', y='Mileage Total', color='OPERATOR', text=\"OPERATOR\", title='Annual Autonomous Mileage Totals', category_orders={'OPERATOR': manufacturer_order})\n",
    "fig.update_layout(xaxis_title='Year', yaxis_title='Mileage Total')\n",
    "fig.update_xaxes(tickvals=[2021, 2022, 2023])\n",
    "fig.show()\n",
    "\n",
    "### Duplicate of above, but line - Better for comparing operators\n",
    "fig = px.line(top_miles, x='Year', y='Mileage Total', color='OPERATOR', text=\"OPERATOR\", title='Annual Mileage Total by Operator')\n",
    "fig.update_layout(xaxis_title='Year', yaxis_title='Mileage Total')\n",
    "fig.update_xaxes(tickvals=[2021, 2022, 2023])\n",
    "fig.show()"
   ]
  },
  {
   "cell_type": "code",
   "execution_count": 23,
   "id": "4b666339",
   "metadata": {},
   "outputs": [],
   "source": [
    "### Miles driven donut by operator? only a few DOMINATE the space.\n",
    "## No need? Show by above graphs?"
   ]
  },
  {
   "cell_type": "markdown",
   "id": "5052dc66",
   "metadata": {},
   "source": [
    "### Disengagements across industry"
   ]
  },
  {
   "cell_type": "code",
   "execution_count": 55,
   "id": "c02df8c7",
   "metadata": {},
   "outputs": [
    {
     "data": {
      "text/html": [
       "<div>\n",
       "<style scoped>\n",
       "    .dataframe tbody tr th:only-of-type {\n",
       "        vertical-align: middle;\n",
       "    }\n",
       "\n",
       "    .dataframe tbody tr th {\n",
       "        vertical-align: top;\n",
       "    }\n",
       "\n",
       "    .dataframe thead th {\n",
       "        text-align: right;\n",
       "    }\n",
       "</style>\n",
       "<table border=\"1\" class=\"dataframe\">\n",
       "  <thead>\n",
       "    <tr style=\"text-align: right;\">\n",
       "      <th></th>\n",
       "      <th>OPERATOR</th>\n",
       "      <th>Year</th>\n",
       "      <th>Mileage Total</th>\n",
       "      <th>Annual Total of Disengagements</th>\n",
       "      <th>VIN NUMBER</th>\n",
       "      <th>Disengagements/Thousand Miles</th>\n",
       "    </tr>\n",
       "  </thead>\n",
       "  <tbody>\n",
       "    <tr>\n",
       "      <th>0</th>\n",
       "      <td>AIMOTIVE</td>\n",
       "      <td>2021</td>\n",
       "      <td>2976.00</td>\n",
       "      <td>106.0</td>\n",
       "      <td>2</td>\n",
       "      <td>35.618280</td>\n",
       "    </tr>\n",
       "    <tr>\n",
       "      <th>1</th>\n",
       "      <td>AIMOTIVE</td>\n",
       "      <td>2022</td>\n",
       "      <td>15215.00</td>\n",
       "      <td>680.0</td>\n",
       "      <td>2</td>\n",
       "      <td>44.692737</td>\n",
       "    </tr>\n",
       "    <tr>\n",
       "      <th>2</th>\n",
       "      <td>AIMOTIVE</td>\n",
       "      <td>2023</td>\n",
       "      <td>14876.41</td>\n",
       "      <td>708.0</td>\n",
       "      <td>2</td>\n",
       "      <td>47.592127</td>\n",
       "    </tr>\n",
       "    <tr>\n",
       "      <th>3</th>\n",
       "      <td>APOLLO</td>\n",
       "      <td>2023</td>\n",
       "      <td>15311.70</td>\n",
       "      <td>3.0</td>\n",
       "      <td>4</td>\n",
       "      <td>0.195929</td>\n",
       "    </tr>\n",
       "    <tr>\n",
       "      <th>4</th>\n",
       "      <td>APOLLO AUTONOMOUS DRIVING USA</td>\n",
       "      <td>2021</td>\n",
       "      <td>1467.50</td>\n",
       "      <td>1.0</td>\n",
       "      <td>2</td>\n",
       "      <td>0.681431</td>\n",
       "    </tr>\n",
       "    <tr>\n",
       "      <th>5</th>\n",
       "      <td>APOLLO AUTONOMOUS DRIVING USA</td>\n",
       "      <td>2022</td>\n",
       "      <td>2477.00</td>\n",
       "      <td>0.0</td>\n",
       "      <td>4</td>\n",
       "      <td>0.000000</td>\n",
       "    </tr>\n",
       "    <tr>\n",
       "      <th>6</th>\n",
       "      <td>APPLE</td>\n",
       "      <td>2021</td>\n",
       "      <td>13272.00</td>\n",
       "      <td>663.0</td>\n",
       "      <td>35</td>\n",
       "      <td>49.954792</td>\n",
       "    </tr>\n",
       "    <tr>\n",
       "      <th>7</th>\n",
       "      <td>APPLE</td>\n",
       "      <td>2022</td>\n",
       "      <td>125096.30</td>\n",
       "      <td>5982.0</td>\n",
       "      <td>48</td>\n",
       "      <td>47.819160</td>\n",
       "    </tr>\n",
       "    <tr>\n",
       "      <th>8</th>\n",
       "      <td>APPLE</td>\n",
       "      <td>2023</td>\n",
       "      <td>452743.90</td>\n",
       "      <td>3194.0</td>\n",
       "      <td>57</td>\n",
       "      <td>7.054761</td>\n",
       "    </tr>\n",
       "    <tr>\n",
       "      <th>9</th>\n",
       "      <td>ARGO AI</td>\n",
       "      <td>2021</td>\n",
       "      <td>36733.87</td>\n",
       "      <td>1.0</td>\n",
       "      <td>7</td>\n",
       "      <td>0.027223</td>\n",
       "    </tr>\n",
       "    <tr>\n",
       "      <th>10</th>\n",
       "      <td>ARGO AI</td>\n",
       "      <td>2022</td>\n",
       "      <td>18640.81</td>\n",
       "      <td>1.0</td>\n",
       "      <td>10</td>\n",
       "      <td>0.053646</td>\n",
       "    </tr>\n",
       "    <tr>\n",
       "      <th>11</th>\n",
       "      <td>AURORA OPERATIONS</td>\n",
       "      <td>2021</td>\n",
       "      <td>12647.07</td>\n",
       "      <td>9.0</td>\n",
       "      <td>7</td>\n",
       "      <td>0.711627</td>\n",
       "    </tr>\n",
       "    <tr>\n",
       "      <th>12</th>\n",
       "      <td>AURORA OPERATIONS</td>\n",
       "      <td>2022</td>\n",
       "      <td>25.86</td>\n",
       "      <td>0.0</td>\n",
       "      <td>1</td>\n",
       "      <td>0.000000</td>\n",
       "    </tr>\n",
       "    <tr>\n",
       "      <th>13</th>\n",
       "      <td>AURORA OPERATIONS</td>\n",
       "      <td>2023</td>\n",
       "      <td>700.26</td>\n",
       "      <td>47.0</td>\n",
       "      <td>1</td>\n",
       "      <td>67.117928</td>\n",
       "    </tr>\n",
       "    <tr>\n",
       "      <th>14</th>\n",
       "      <td>AUTOX</td>\n",
       "      <td>2023</td>\n",
       "      <td>7870.00</td>\n",
       "      <td>0.0</td>\n",
       "      <td>13</td>\n",
       "      <td>0.000000</td>\n",
       "    </tr>\n",
       "    <tr>\n",
       "      <th>15</th>\n",
       "      <td>AUTOX TECHNOLOGIES</td>\n",
       "      <td>2021</td>\n",
       "      <td>50108.00</td>\n",
       "      <td>1.0</td>\n",
       "      <td>7</td>\n",
       "      <td>0.019957</td>\n",
       "    </tr>\n",
       "    <tr>\n",
       "      <th>16</th>\n",
       "      <td>AUTOX TECHNOLOGIES</td>\n",
       "      <td>2022</td>\n",
       "      <td>49314.00</td>\n",
       "      <td>1.0</td>\n",
       "      <td>15</td>\n",
       "      <td>0.020278</td>\n",
       "    </tr>\n",
       "    <tr>\n",
       "      <th>17</th>\n",
       "      <td>BOSCH</td>\n",
       "      <td>2023</td>\n",
       "      <td>759.31</td>\n",
       "      <td>314.0</td>\n",
       "      <td>3</td>\n",
       "      <td>413.533339</td>\n",
       "    </tr>\n",
       "    <tr>\n",
       "      <th>18</th>\n",
       "      <td>CRUISE</td>\n",
       "      <td>2021</td>\n",
       "      <td>876104.72</td>\n",
       "      <td>21.0</td>\n",
       "      <td>137</td>\n",
       "      <td>0.023970</td>\n",
       "    </tr>\n",
       "    <tr>\n",
       "      <th>19</th>\n",
       "      <td>CRUISE</td>\n",
       "      <td>2022</td>\n",
       "      <td>863110.92</td>\n",
       "      <td>9.0</td>\n",
       "      <td>350</td>\n",
       "      <td>0.010427</td>\n",
       "    </tr>\n",
       "    <tr>\n",
       "      <th>20</th>\n",
       "      <td>CRUISE</td>\n",
       "      <td>2023</td>\n",
       "      <td>583624.25</td>\n",
       "      <td>0.0</td>\n",
       "      <td>325</td>\n",
       "      <td>0.000000</td>\n",
       "    </tr>\n",
       "    <tr>\n",
       "      <th>21</th>\n",
       "      <td>DEEPROUTEAI</td>\n",
       "      <td>2021</td>\n",
       "      <td>30872.00</td>\n",
       "      <td>2.0</td>\n",
       "      <td>2</td>\n",
       "      <td>0.064784</td>\n",
       "    </tr>\n",
       "    <tr>\n",
       "      <th>22</th>\n",
       "      <td>DEEPROUTEAI</td>\n",
       "      <td>2022</td>\n",
       "      <td>761.00</td>\n",
       "      <td>0.0</td>\n",
       "      <td>2</td>\n",
       "      <td>0.000000</td>\n",
       "    </tr>\n",
       "    <tr>\n",
       "      <th>23</th>\n",
       "      <td>DIDI RESEARCH AMERICA</td>\n",
       "      <td>2021</td>\n",
       "      <td>40744.67</td>\n",
       "      <td>1.0</td>\n",
       "      <td>10</td>\n",
       "      <td>0.024543</td>\n",
       "    </tr>\n",
       "    <tr>\n",
       "      <th>24</th>\n",
       "      <td>DIDI RESEARCH AMERICA</td>\n",
       "      <td>2022</td>\n",
       "      <td>38265.14</td>\n",
       "      <td>2.0</td>\n",
       "      <td>10</td>\n",
       "      <td>0.052267</td>\n",
       "    </tr>\n",
       "    <tr>\n",
       "      <th>25</th>\n",
       "      <td>DIDI RESEARCH AMERICA</td>\n",
       "      <td>2023</td>\n",
       "      <td>4004.10</td>\n",
       "      <td>1.0</td>\n",
       "      <td>5</td>\n",
       "      <td>0.249744</td>\n",
       "    </tr>\n",
       "    <tr>\n",
       "      <th>26</th>\n",
       "      <td>EASYMILE</td>\n",
       "      <td>2021</td>\n",
       "      <td>320.00</td>\n",
       "      <td>222.0</td>\n",
       "      <td>1</td>\n",
       "      <td>693.750000</td>\n",
       "    </tr>\n",
       "    <tr>\n",
       "      <th>27</th>\n",
       "      <td>GATIK AI</td>\n",
       "      <td>2021</td>\n",
       "      <td>1924.00</td>\n",
       "      <td>6.0</td>\n",
       "      <td>1</td>\n",
       "      <td>3.118503</td>\n",
       "    </tr>\n",
       "    <tr>\n",
       "      <th>28</th>\n",
       "      <td>GATIK AI</td>\n",
       "      <td>2022</td>\n",
       "      <td>1016.00</td>\n",
       "      <td>3.0</td>\n",
       "      <td>1</td>\n",
       "      <td>2.952756</td>\n",
       "    </tr>\n",
       "    <tr>\n",
       "      <th>29</th>\n",
       "      <td>GATIK AI</td>\n",
       "      <td>2023</td>\n",
       "      <td>634.00</td>\n",
       "      <td>2.0</td>\n",
       "      <td>1</td>\n",
       "      <td>3.154574</td>\n",
       "    </tr>\n",
       "  </tbody>\n",
       "</table>\n",
       "</div>"
      ],
      "text/plain": [
       "                         OPERATOR  Year  Mileage Total  \\\n",
       "0                        AIMOTIVE  2021        2976.00   \n",
       "1                        AIMOTIVE  2022       15215.00   \n",
       "2                        AIMOTIVE  2023       14876.41   \n",
       "3                          APOLLO  2023       15311.70   \n",
       "4   APOLLO AUTONOMOUS DRIVING USA  2021        1467.50   \n",
       "5   APOLLO AUTONOMOUS DRIVING USA  2022        2477.00   \n",
       "6                           APPLE  2021       13272.00   \n",
       "7                           APPLE  2022      125096.30   \n",
       "8                           APPLE  2023      452743.90   \n",
       "9                         ARGO AI  2021       36733.87   \n",
       "10                        ARGO AI  2022       18640.81   \n",
       "11              AURORA OPERATIONS  2021       12647.07   \n",
       "12              AURORA OPERATIONS  2022          25.86   \n",
       "13              AURORA OPERATIONS  2023         700.26   \n",
       "14                          AUTOX  2023        7870.00   \n",
       "15             AUTOX TECHNOLOGIES  2021       50108.00   \n",
       "16             AUTOX TECHNOLOGIES  2022       49314.00   \n",
       "17                          BOSCH  2023         759.31   \n",
       "18                         CRUISE  2021      876104.72   \n",
       "19                         CRUISE  2022      863110.92   \n",
       "20                         CRUISE  2023      583624.25   \n",
       "21                    DEEPROUTEAI  2021       30872.00   \n",
       "22                    DEEPROUTEAI  2022         761.00   \n",
       "23          DIDI RESEARCH AMERICA  2021       40744.67   \n",
       "24          DIDI RESEARCH AMERICA  2022       38265.14   \n",
       "25          DIDI RESEARCH AMERICA  2023        4004.10   \n",
       "26                       EASYMILE  2021         320.00   \n",
       "27                       GATIK AI  2021        1924.00   \n",
       "28                       GATIK AI  2022        1016.00   \n",
       "29                       GATIK AI  2023         634.00   \n",
       "\n",
       "    Annual Total of Disengagements  VIN NUMBER  Disengagements/Thousand Miles  \n",
       "0                            106.0           2                      35.618280  \n",
       "1                            680.0           2                      44.692737  \n",
       "2                            708.0           2                      47.592127  \n",
       "3                              3.0           4                       0.195929  \n",
       "4                              1.0           2                       0.681431  \n",
       "5                              0.0           4                       0.000000  \n",
       "6                            663.0          35                      49.954792  \n",
       "7                           5982.0          48                      47.819160  \n",
       "8                           3194.0          57                       7.054761  \n",
       "9                              1.0           7                       0.027223  \n",
       "10                             1.0          10                       0.053646  \n",
       "11                             9.0           7                       0.711627  \n",
       "12                             0.0           1                       0.000000  \n",
       "13                            47.0           1                      67.117928  \n",
       "14                             0.0          13                       0.000000  \n",
       "15                             1.0           7                       0.019957  \n",
       "16                             1.0          15                       0.020278  \n",
       "17                           314.0           3                     413.533339  \n",
       "18                            21.0         137                       0.023970  \n",
       "19                             9.0         350                       0.010427  \n",
       "20                             0.0         325                       0.000000  \n",
       "21                             2.0           2                       0.064784  \n",
       "22                             0.0           2                       0.000000  \n",
       "23                             1.0          10                       0.024543  \n",
       "24                             2.0          10                       0.052267  \n",
       "25                             1.0           5                       0.249744  \n",
       "26                           222.0           1                     693.750000  \n",
       "27                             6.0           1                       3.118503  \n",
       "28                             3.0           1                       2.952756  \n",
       "29                             2.0           1                       3.154574  "
      ]
     },
     "execution_count": 55,
     "metadata": {},
     "output_type": "execute_result"
    }
   ],
   "source": [
    "#### DISENGAGEMENTS PER THOUSAND MILES DRIVEN\n",
    "# Makes most sense to show by year on a per-company basis. \n",
    "\n",
    "# Group by manufacturer - get VIN count, total disengagments and total miles\n",
    "dptm = nonzero_mileage.groupby(['OPERATOR', 'Year']).agg({'Mileage Total': 'sum',\n",
    "                                                              'Annual Total of Disengagements': 'sum',\n",
    "                                                              'VIN NUMBER': 'nunique'}).reset_index()\n",
    "# Calculate DPTM\n",
    "dptm[\"Disengagements/Thousand Miles\"] = (dptm['Annual Total of Disengagements'] / (dptm['Mileage Total'] / 1000))\n",
    "\n",
    "# Lowest DPTM Operators\n",
    "smoothest_operators = dptm.groupby('OPERATOR')['Disengagements/Thousand Miles'].sum().nsmallest(10).index\n",
    "# Simple Yearly Aggregate of DPTM per Operator\n",
    "agg_2 = dptm.groupby(['OPERATOR', 'Year'])['Disengagements/Thousand Miles'].sum().reset_index()\n",
    "# agg_2 filtered by smoothest operators (best 10)\n",
    "lowest_disengage_rate = agg_2[agg_2['OPERATOR'].isin(smoothest_operators)]\n",
    "\n",
    "# DPTM df filtered down to 10 best @ DPTM\n",
    "dptm_filtered_10 = dptm[dptm['OPERATOR'].isin(smoothest_operators)]\n",
    "\n",
    "dptm_total = nonzero_mileage.groupby(['OPERATOR']).agg({'Mileage Total': 'sum',\n",
    "                                                              'Annual Total of Disengagements': 'sum'}).reset_index()\n",
    "dptm_total[\"Disengagements/Thousand Miles\"] = (dptm_total['Annual Total of Disengagements'] / (dptm_total['Mileage Total'] / 1000))\n",
    "\n",
    "dptm.head(30)"
   ]
  },
  {
   "cell_type": "markdown",
   "id": "f32f4e37",
   "metadata": {},
   "source": [
    "### Graphing RATE of dsengagements against total miles\n"
   ]
  },
  {
   "cell_type": "code",
   "execution_count": 25,
   "id": "6b0504ab",
   "metadata": {},
   "outputs": [
    {
     "data": {
      "application/vnd.plotly.v1+json": {
       "config": {
        "plotlyServerURL": "https://plot.ly"
       },
       "data": [
        {
         "hovertemplate": "OPERATOR=AIMOTIVE<br>Mileage Total=%{x}<br>Disengagements/Thousand Miles=%{y}<extra></extra>",
         "legendgroup": "AIMOTIVE",
         "marker": {
          "color": "#636efa",
          "symbol": "circle"
         },
         "mode": "markers",
         "name": "AIMOTIVE",
         "orientation": "v",
         "showlegend": true,
         "type": "scatter",
         "x": [
          2976,
          15215,
          14876.41
         ],
         "xaxis": "x",
         "y": [
          35.61827956989247,
          44.6927374301676,
          47.59212740170511
         ],
         "yaxis": "y"
        },
        {
         "hovertemplate": "OPERATOR=APOLLO<br>Mileage Total=%{x}<br>Disengagements/Thousand Miles=%{y}<extra></extra>",
         "legendgroup": "APOLLO",
         "marker": {
          "color": "#EF553B",
          "symbol": "circle"
         },
         "mode": "markers",
         "name": "APOLLO",
         "orientation": "v",
         "showlegend": true,
         "type": "scatter",
         "x": [
          15311.7
         ],
         "xaxis": "x",
         "y": [
          0.19592860361684203
         ],
         "yaxis": "y"
        },
        {
         "hovertemplate": "OPERATOR=APOLLO AUTONOMOUS DRIVING USA<br>Mileage Total=%{x}<br>Disengagements/Thousand Miles=%{y}<extra></extra>",
         "legendgroup": "APOLLO AUTONOMOUS DRIVING USA",
         "marker": {
          "color": "#00cc96",
          "symbol": "circle"
         },
         "mode": "markers",
         "name": "APOLLO AUTONOMOUS DRIVING USA",
         "orientation": "v",
         "showlegend": true,
         "type": "scatter",
         "x": [
          1467.5,
          2477
         ],
         "xaxis": "x",
         "y": [
          0.6814310051107325,
          0
         ],
         "yaxis": "y"
        },
        {
         "hovertemplate": "OPERATOR=APPLE<br>Mileage Total=%{x}<br>Disengagements/Thousand Miles=%{y}<extra></extra>",
         "legendgroup": "APPLE",
         "marker": {
          "color": "#ab63fa",
          "symbol": "circle"
         },
         "mode": "markers",
         "name": "APPLE",
         "orientation": "v",
         "showlegend": true,
         "type": "scatter",
         "x": [
          13272,
          125096.3,
          452743.89999999997
         ],
         "xaxis": "x",
         "y": [
          49.954792043399635,
          47.81916011904429,
          7.05476098076639
         ],
         "yaxis": "y"
        },
        {
         "hovertemplate": "OPERATOR=ARGO AI<br>Mileage Total=%{x}<br>Disengagements/Thousand Miles=%{y}<extra></extra>",
         "legendgroup": "ARGO AI",
         "marker": {
          "color": "#FFA15A",
          "symbol": "circle"
         },
         "mode": "markers",
         "name": "ARGO AI",
         "orientation": "v",
         "showlegend": true,
         "type": "scatter",
         "x": [
          36733.87,
          18640.809999999998
         ],
         "xaxis": "x",
         "y": [
          0.027222832769866066,
          0.05364573749745854
         ],
         "yaxis": "y"
        },
        {
         "hovertemplate": "OPERATOR=AURORA OPERATIONS<br>Mileage Total=%{x}<br>Disengagements/Thousand Miles=%{y}<extra></extra>",
         "legendgroup": "AURORA OPERATIONS",
         "marker": {
          "color": "#19d3f3",
          "symbol": "circle"
         },
         "mode": "markers",
         "name": "AURORA OPERATIONS",
         "orientation": "v",
         "showlegend": true,
         "type": "scatter",
         "x": [
          12647.07,
          25.86,
          700.26
         ],
         "xaxis": "x",
         "y": [
          0.711627278096824,
          0,
          67.11792762688144
         ],
         "yaxis": "y"
        },
        {
         "hovertemplate": "OPERATOR=AUTOX<br>Mileage Total=%{x}<br>Disengagements/Thousand Miles=%{y}<extra></extra>",
         "legendgroup": "AUTOX",
         "marker": {
          "color": "#FF6692",
          "symbol": "circle"
         },
         "mode": "markers",
         "name": "AUTOX",
         "orientation": "v",
         "showlegend": true,
         "type": "scatter",
         "x": [
          7870
         ],
         "xaxis": "x",
         "y": [
          0
         ],
         "yaxis": "y"
        },
        {
         "hovertemplate": "OPERATOR=AUTOX TECHNOLOGIES<br>Mileage Total=%{x}<br>Disengagements/Thousand Miles=%{y}<extra></extra>",
         "legendgroup": "AUTOX TECHNOLOGIES",
         "marker": {
          "color": "#B6E880",
          "symbol": "circle"
         },
         "mode": "markers",
         "name": "AUTOX TECHNOLOGIES",
         "orientation": "v",
         "showlegend": true,
         "type": "scatter",
         "x": [
          50108,
          49314
         ],
         "xaxis": "x",
         "y": [
          0.0199568931108805,
          0.020278217139149127
         ],
         "yaxis": "y"
        },
        {
         "hovertemplate": "OPERATOR=BOSCH<br>Mileage Total=%{x}<br>Disengagements/Thousand Miles=%{y}<extra></extra>",
         "legendgroup": "BOSCH",
         "marker": {
          "color": "#FF97FF",
          "symbol": "circle"
         },
         "mode": "markers",
         "name": "BOSCH",
         "orientation": "v",
         "showlegend": true,
         "type": "scatter",
         "x": [
          759.3100000000001
         ],
         "xaxis": "x",
         "y": [
          413.53333947926404
         ],
         "yaxis": "y"
        },
        {
         "hovertemplate": "OPERATOR=CRUISE<br>Mileage Total=%{x}<br>Disengagements/Thousand Miles=%{y}<extra></extra>",
         "legendgroup": "CRUISE",
         "marker": {
          "color": "#FECB52",
          "symbol": "circle"
         },
         "mode": "markers",
         "name": "CRUISE",
         "orientation": "v",
         "showlegend": true,
         "type": "scatter",
         "x": [
          876104.72,
          863110.92,
          583624.25
         ],
         "xaxis": "x",
         "y": [
          0.023969737316333603,
          0.010427396747569824,
          0
         ],
         "yaxis": "y"
        },
        {
         "hovertemplate": "OPERATOR=DEEPROUTEAI<br>Mileage Total=%{x}<br>Disengagements/Thousand Miles=%{y}<extra></extra>",
         "legendgroup": "DEEPROUTEAI",
         "marker": {
          "color": "#636efa",
          "symbol": "circle"
         },
         "mode": "markers",
         "name": "DEEPROUTEAI",
         "orientation": "v",
         "showlegend": true,
         "type": "scatter",
         "x": [
          30872,
          761
         ],
         "xaxis": "x",
         "y": [
          0.0647836227001814,
          0
         ],
         "yaxis": "y"
        },
        {
         "hovertemplate": "OPERATOR=DIDI RESEARCH AMERICA<br>Mileage Total=%{x}<br>Disengagements/Thousand Miles=%{y}<extra></extra>",
         "legendgroup": "DIDI RESEARCH AMERICA",
         "marker": {
          "color": "#EF553B",
          "symbol": "circle"
         },
         "mode": "markers",
         "name": "DIDI RESEARCH AMERICA",
         "orientation": "v",
         "showlegend": true,
         "type": "scatter",
         "x": [
          40744.67,
          38265.14,
          4004.1000000000004
         ],
         "xaxis": "x",
         "y": [
          0.024543087476226952,
          0.05226689357467397,
          0.249744012387303
         ],
         "yaxis": "y"
        },
        {
         "hovertemplate": "OPERATOR=EASYMILE<br>Mileage Total=%{x}<br>Disengagements/Thousand Miles=%{y}<extra></extra>",
         "legendgroup": "EASYMILE",
         "marker": {
          "color": "#00cc96",
          "symbol": "circle"
         },
         "mode": "markers",
         "name": "EASYMILE",
         "orientation": "v",
         "showlegend": true,
         "type": "scatter",
         "x": [
          320
         ],
         "xaxis": "x",
         "y": [
          693.75
         ],
         "yaxis": "y"
        },
        {
         "hovertemplate": "OPERATOR=GATIK AI<br>Mileage Total=%{x}<br>Disengagements/Thousand Miles=%{y}<extra></extra>",
         "legendgroup": "GATIK AI",
         "marker": {
          "color": "#ab63fa",
          "symbol": "circle"
         },
         "mode": "markers",
         "name": "GATIK AI",
         "orientation": "v",
         "showlegend": true,
         "type": "scatter",
         "x": [
          1924,
          1016,
          634
         ],
         "xaxis": "x",
         "y": [
          3.1185031185031185,
          2.952755905511811,
          3.1545741324921135
         ],
         "yaxis": "y"
        },
        {
         "hovertemplate": "OPERATOR=GHOST AUTONOMY<br>Mileage Total=%{x}<br>Disengagements/Thousand Miles=%{y}<extra></extra>",
         "legendgroup": "GHOST AUTONOMY",
         "marker": {
          "color": "#FFA15A",
          "symbol": "circle"
         },
         "mode": "markers",
         "name": "GHOST AUTONOMY",
         "orientation": "v",
         "showlegend": true,
         "type": "scatter",
         "x": [
          14558.880000000001,
          52770.8
         ],
         "xaxis": "x",
         "y": [
          30.771597815216555,
          19.59416950283111
         ],
         "yaxis": "y"
        },
        {
         "hovertemplate": "OPERATOR=IMAGRY<br>Mileage Total=%{x}<br>Disengagements/Thousand Miles=%{y}<extra></extra>",
         "legendgroup": "IMAGRY",
         "marker": {
          "color": "#19d3f3",
          "symbol": "circle"
         },
         "mode": "markers",
         "name": "IMAGRY",
         "orientation": "v",
         "showlegend": true,
         "type": "scatter",
         "x": [
          731.25,
          650.1125,
          723.56
         ],
         "xaxis": "x",
         "y": [
          97.0940170940171,
          313.7918437193563,
          171.37486870473768
         ],
         "yaxis": "y"
        },
        {
         "hovertemplate": "OPERATOR=INTEL CORPORATION<br>Mileage Total=%{x}<br>Disengagements/Thousand Miles=%{y}<extra></extra>",
         "legendgroup": "INTEL CORPORATION",
         "marker": {
          "color": "#FF6692",
          "symbol": "circle"
         },
         "mode": "markers",
         "name": "INTEL CORPORATION",
         "orientation": "v",
         "showlegend": true,
         "type": "scatter",
         "x": [
          781
         ],
         "xaxis": "x",
         "y": [
          198.46350832266324
         ],
         "yaxis": "y"
        },
        {
         "hovertemplate": "OPERATOR=LYFT<br>Mileage Total=%{x}<br>Disengagements/Thousand Miles=%{y}<extra></extra>",
         "legendgroup": "LYFT",
         "marker": {
          "color": "#B6E880",
          "symbol": "circle"
         },
         "mode": "markers",
         "name": "LYFT",
         "orientation": "v",
         "showlegend": true,
         "type": "scatter",
         "x": [
          11200.10544488
         ],
         "xaxis": "x",
         "y": [
          2.0535520949505157
         ],
         "yaxis": "y"
        },
        {
         "hovertemplate": "OPERATOR=MERCEDES<br>Mileage Total=%{x}<br>Disengagements/Thousand Miles=%{y}<extra></extra>",
         "legendgroup": "MERCEDES",
         "marker": {
          "color": "#FF97FF",
          "symbol": "circle"
         },
         "mode": "markers",
         "name": "MERCEDES",
         "orientation": "v",
         "showlegend": true,
         "type": "scatter",
         "x": [
          58342.686147500004
         ],
         "xaxis": "x",
         "y": [
          0
         ],
         "yaxis": "y"
        },
        {
         "hovertemplate": "OPERATOR=MERCEDES-BENZ RESEARCH & DEVELOPMENT NORTH AMERICA<br>Mileage Total=%{x}<br>Disengagements/Thousand Miles=%{y}<extra></extra>",
         "legendgroup": "MERCEDES-BENZ RESEARCH & DEVELOPMENT NORTH AMERICA",
         "marker": {
          "color": "#FECB52",
          "symbol": "circle"
         },
         "mode": "markers",
         "name": "MERCEDES-BENZ RESEARCH & DEVELOPMENT NORTH AMERICA",
         "orientation": "v",
         "showlegend": true,
         "type": "scatter",
         "x": [
          58613,
          52975.29361422
         ],
         "xaxis": "x",
         "y": [
          4.640608738675721,
          0.7173155146005604
         ],
         "yaxis": "y"
        },
        {
         "hovertemplate": "OPERATOR=MOTIONAL AD<br>Mileage Total=%{x}<br>Disengagements/Thousand Miles=%{y}<extra></extra>",
         "legendgroup": "MOTIONAL AD",
         "marker": {
          "color": "#636efa",
          "symbol": "circle"
         },
         "mode": "markers",
         "name": "MOTIONAL AD",
         "orientation": "v",
         "showlegend": true,
         "type": "scatter",
         "x": [
          4938.8,
          16214.18
         ],
         "xaxis": "x",
         "y": [
          27.33457520045355,
          36.57292567370043
         ],
         "yaxis": "y"
        },
        {
         "hovertemplate": "OPERATOR=NISSAN<br>Mileage Total=%{x}<br>Disengagements/Thousand Miles=%{y}<extra></extra>",
         "legendgroup": "NISSAN",
         "marker": {
          "color": "#EF553B",
          "symbol": "circle"
         },
         "mode": "markers",
         "name": "NISSAN",
         "orientation": "v",
         "showlegend": true,
         "type": "scatter",
         "x": [
          4825
         ],
         "xaxis": "x",
         "y": [
          3.523316062176166
         ],
         "yaxis": "y"
        },
        {
         "hovertemplate": "OPERATOR=NISSAN NORTH AMERICA  DBA ALLIANCE INNOVATION LAB<br>Mileage Total=%{x}<br>Disengagements/Thousand Miles=%{y}<extra></extra>",
         "legendgroup": "NISSAN NORTH AMERICA  DBA ALLIANCE INNOVATION LAB",
         "marker": {
          "color": "#00cc96",
          "symbol": "circle"
         },
         "mode": "markers",
         "name": "NISSAN NORTH AMERICA  DBA ALLIANCE INNOVATION LAB",
         "orientation": "v",
         "showlegend": true,
         "type": "scatter",
         "x": [
          508,
          1194.2
         ],
         "xaxis": "x",
         "y": [
          33.46456692913386,
          6.6990453860324894
         ],
         "yaxis": "y"
        },
        {
         "hovertemplate": "OPERATOR=NURO<br>Mileage Total=%{x}<br>Disengagements/Thousand Miles=%{y}<extra></extra>",
         "legendgroup": "NURO",
         "marker": {
          "color": "#ab63fa",
          "symbol": "circle"
         },
         "mode": "markers",
         "name": "NURO",
         "orientation": "v",
         "showlegend": true,
         "type": "scatter",
         "x": [
          59100.020000000004,
          94983.43,
          104011.11
         ],
         "xaxis": "x",
         "y": [
          0.3891707650860355,
          0.15792228181273302,
          0.4518748045280932
         ],
         "yaxis": "y"
        },
        {
         "hovertemplate": "OPERATOR=NVIDIA<br>Mileage Total=%{x}<br>Disengagements/Thousand Miles=%{y}<extra></extra>",
         "legendgroup": "NVIDIA",
         "marker": {
          "color": "#FFA15A",
          "symbol": "circle"
         },
         "mode": "markers",
         "name": "NVIDIA",
         "orientation": "v",
         "showlegend": true,
         "type": "scatter",
         "x": [
          28004
         ],
         "xaxis": "x",
         "y": [
          2.9281531209827167
         ],
         "yaxis": "y"
        },
        {
         "hovertemplate": "OPERATOR=NVIDIA CORPORATION<br>Mileage Total=%{x}<br>Disengagements/Thousand Miles=%{y}<extra></extra>",
         "legendgroup": "NVIDIA CORPORATION",
         "marker": {
          "color": "#19d3f3",
          "symbol": "circle"
         },
         "mode": "markers",
         "name": "NVIDIA CORPORATION",
         "orientation": "v",
         "showlegend": true,
         "type": "scatter",
         "x": [
          7169.26
         ],
         "xaxis": "x",
         "y": [
          0.976390868792595
         ],
         "yaxis": "y"
        },
        {
         "hovertemplate": "OPERATOR=PONYAI<br>Mileage Total=%{x}<br>Disengagements/Thousand Miles=%{y}<extra></extra>",
         "legendgroup": "PONYAI",
         "marker": {
          "color": "#FF6692",
          "symbol": "circle"
         },
         "mode": "markers",
         "name": "PONYAI",
         "orientation": "v",
         "showlegend": true,
         "type": "scatter",
         "x": [
          305616.73,
          280412
         ],
         "xaxis": "x",
         "y": [
          0.06871351578167859,
          0.07132362381067858
         ],
         "yaxis": "y"
        },
        {
         "hovertemplate": "OPERATOR=QCRAFT<br>Mileage Total=%{x}<br>Disengagements/Thousand Miles=%{y}<extra></extra>",
         "legendgroup": "QCRAFT",
         "marker": {
          "color": "#B6E880",
          "symbol": "circle"
         },
         "mode": "markers",
         "name": "QCRAFT",
         "orientation": "v",
         "showlegend": true,
         "type": "scatter",
         "x": [
          6320,
          2589
         ],
         "xaxis": "x",
         "y": [
          0.7911392405063291,
          1.1587485515643106
         ],
         "yaxis": "y"
        },
        {
         "hovertemplate": "OPERATOR=QUALCOMM TECHNOLOGIES<br>Mileage Total=%{x}<br>Disengagements/Thousand Miles=%{y}<extra></extra>",
         "legendgroup": "QUALCOMM TECHNOLOGIES",
         "marker": {
          "color": "#FF97FF",
          "symbol": "circle"
         },
         "mode": "markers",
         "name": "QUALCOMM TECHNOLOGIES",
         "orientation": "v",
         "showlegend": true,
         "type": "scatter",
         "x": [
          1635,
          3017,
          3837
         ],
         "xaxis": "x",
         "y": [
          87.46177370030581,
          42.42625124295658,
          51.34219442272609
         ],
         "yaxis": "y"
        },
        {
         "hovertemplate": "OPERATOR=TOYOTA RESEARCH INSTITUTE<br>Mileage Total=%{x}<br>Disengagements/Thousand Miles=%{y}<extra></extra>",
         "legendgroup": "TOYOTA RESEARCH INSTITUTE",
         "marker": {
          "color": "#FECB52",
          "symbol": "circle"
         },
         "mode": "markers",
         "name": "TOYOTA RESEARCH INSTITUTE",
         "orientation": "v",
         "showlegend": true,
         "type": "scatter",
         "x": [
          13959,
          4774
         ],
         "xaxis": "x",
         "y": [
          30.016476824987464,
          23.46041055718475
         ],
         "yaxis": "y"
        },
        {
         "hovertemplate": "OPERATOR=UDELV<br>Mileage Total=%{x}<br>Disengagements/Thousand Miles=%{y}<extra></extra>",
         "legendgroup": "UDELV",
         "marker": {
          "color": "#636efa",
          "symbol": "circle"
         },
         "mode": "markers",
         "name": "UDELV",
         "orientation": "v",
         "showlegend": true,
         "type": "scatter",
         "x": [
          60
         ],
         "xaxis": "x",
         "y": [
          766.6666666666667
         ],
         "yaxis": "y"
        },
        {
         "hovertemplate": "OPERATOR=VALEO NORTH AMERICA<br>Mileage Total=%{x}<br>Disengagements/Thousand Miles=%{y}<extra></extra>",
         "legendgroup": "VALEO NORTH AMERICA",
         "marker": {
          "color": "#EF553B",
          "symbol": "circle"
         },
         "mode": "markers",
         "name": "VALEO NORTH AMERICA",
         "orientation": "v",
         "showlegend": true,
         "type": "scatter",
         "x": [
          336,
          339,
          104
         ],
         "xaxis": "x",
         "y": [
          610.1190476190476,
          209.4395280235988,
          201.92307692307693
         ],
         "yaxis": "y"
        },
        {
         "hovertemplate": "OPERATOR=WAYMO<br>Mileage Total=%{x}<br>Disengagements/Thousand Miles=%{y}<extra></extra>",
         "legendgroup": "WAYMO",
         "marker": {
          "color": "#00cc96",
          "symbol": "circle"
         },
         "mode": "markers",
         "name": "WAYMO",
         "orientation": "v",
         "showlegend": true,
         "type": "scatter",
         "x": [
          2325842.9,
          2900143.8,
          3669962.4
         ],
         "xaxis": "x",
         "y": [
          0.1255458827421233,
          0.05861778302165569,
          0.05776625940363858
         ],
         "yaxis": "y"
        },
        {
         "hovertemplate": "OPERATOR=WERIDE CORP<br>Mileage Total=%{x}<br>Disengagements/Thousand Miles=%{y}<extra></extra>",
         "legendgroup": "WERIDE CORP",
         "marker": {
          "color": "#ab63fa",
          "symbol": "circle"
         },
         "mode": "markers",
         "name": "WERIDE CORP",
         "orientation": "v",
         "showlegend": true,
         "type": "scatter",
         "x": [
          57966.25,
          64560.57,
          42381.29
         ],
         "xaxis": "x",
         "y": [
          0.05175425355271386,
          0.0464679912212671,
          0.047190635301568216
         ],
         "yaxis": "y"
        },
        {
         "hovertemplate": "OPERATOR=WOVEN BY TOYOTA US<br>Mileage Total=%{x}<br>Disengagements/Thousand Miles=%{y}<extra></extra>",
         "legendgroup": "WOVEN BY TOYOTA US",
         "marker": {
          "color": "#FFA15A",
          "symbol": "circle"
         },
         "mode": "markers",
         "name": "WOVEN BY TOYOTA US",
         "orientation": "v",
         "showlegend": true,
         "type": "scatter",
         "x": [
          4194
         ],
         "xaxis": "x",
         "y": [
          10.014306151645208
         ],
         "yaxis": "y"
        },
        {
         "hovertemplate": "OPERATOR=ZOOX<br>Mileage Total=%{x}<br>Disengagements/Thousand Miles=%{y}<extra></extra>",
         "legendgroup": "ZOOX",
         "marker": {
          "color": "#19d3f3",
          "symbol": "circle"
         },
         "mode": "markers",
         "name": "ZOOX",
         "orientation": "v",
         "showlegend": true,
         "type": "scatter",
         "x": [
          155125,
          552133,
          710409.1
         ],
         "xaxis": "x",
         "y": [
          0.13537469782433523,
          0.0380343141960361,
          0.005630558504951584
         ],
         "yaxis": "y"
        }
       ],
       "layout": {
        "legend": {
         "title": {
          "text": "OPERATOR"
         },
         "tracegroupgap": 0
        },
        "margin": {
         "t": 60
        },
        "template": {
         "data": {
          "bar": [
           {
            "error_x": {
             "color": "#2a3f5f"
            },
            "error_y": {
             "color": "#2a3f5f"
            },
            "marker": {
             "line": {
              "color": "#E5ECF6",
              "width": 0.5
             },
             "pattern": {
              "fillmode": "overlay",
              "size": 10,
              "solidity": 0.2
             }
            },
            "type": "bar"
           }
          ],
          "barpolar": [
           {
            "marker": {
             "line": {
              "color": "#E5ECF6",
              "width": 0.5
             },
             "pattern": {
              "fillmode": "overlay",
              "size": 10,
              "solidity": 0.2
             }
            },
            "type": "barpolar"
           }
          ],
          "carpet": [
           {
            "aaxis": {
             "endlinecolor": "#2a3f5f",
             "gridcolor": "white",
             "linecolor": "white",
             "minorgridcolor": "white",
             "startlinecolor": "#2a3f5f"
            },
            "baxis": {
             "endlinecolor": "#2a3f5f",
             "gridcolor": "white",
             "linecolor": "white",
             "minorgridcolor": "white",
             "startlinecolor": "#2a3f5f"
            },
            "type": "carpet"
           }
          ],
          "choropleth": [
           {
            "colorbar": {
             "outlinewidth": 0,
             "ticks": ""
            },
            "type": "choropleth"
           }
          ],
          "contour": [
           {
            "colorbar": {
             "outlinewidth": 0,
             "ticks": ""
            },
            "colorscale": [
             [
              0,
              "#0d0887"
             ],
             [
              0.1111111111111111,
              "#46039f"
             ],
             [
              0.2222222222222222,
              "#7201a8"
             ],
             [
              0.3333333333333333,
              "#9c179e"
             ],
             [
              0.4444444444444444,
              "#bd3786"
             ],
             [
              0.5555555555555556,
              "#d8576b"
             ],
             [
              0.6666666666666666,
              "#ed7953"
             ],
             [
              0.7777777777777778,
              "#fb9f3a"
             ],
             [
              0.8888888888888888,
              "#fdca26"
             ],
             [
              1,
              "#f0f921"
             ]
            ],
            "type": "contour"
           }
          ],
          "contourcarpet": [
           {
            "colorbar": {
             "outlinewidth": 0,
             "ticks": ""
            },
            "type": "contourcarpet"
           }
          ],
          "heatmap": [
           {
            "colorbar": {
             "outlinewidth": 0,
             "ticks": ""
            },
            "colorscale": [
             [
              0,
              "#0d0887"
             ],
             [
              0.1111111111111111,
              "#46039f"
             ],
             [
              0.2222222222222222,
              "#7201a8"
             ],
             [
              0.3333333333333333,
              "#9c179e"
             ],
             [
              0.4444444444444444,
              "#bd3786"
             ],
             [
              0.5555555555555556,
              "#d8576b"
             ],
             [
              0.6666666666666666,
              "#ed7953"
             ],
             [
              0.7777777777777778,
              "#fb9f3a"
             ],
             [
              0.8888888888888888,
              "#fdca26"
             ],
             [
              1,
              "#f0f921"
             ]
            ],
            "type": "heatmap"
           }
          ],
          "heatmapgl": [
           {
            "colorbar": {
             "outlinewidth": 0,
             "ticks": ""
            },
            "colorscale": [
             [
              0,
              "#0d0887"
             ],
             [
              0.1111111111111111,
              "#46039f"
             ],
             [
              0.2222222222222222,
              "#7201a8"
             ],
             [
              0.3333333333333333,
              "#9c179e"
             ],
             [
              0.4444444444444444,
              "#bd3786"
             ],
             [
              0.5555555555555556,
              "#d8576b"
             ],
             [
              0.6666666666666666,
              "#ed7953"
             ],
             [
              0.7777777777777778,
              "#fb9f3a"
             ],
             [
              0.8888888888888888,
              "#fdca26"
             ],
             [
              1,
              "#f0f921"
             ]
            ],
            "type": "heatmapgl"
           }
          ],
          "histogram": [
           {
            "marker": {
             "pattern": {
              "fillmode": "overlay",
              "size": 10,
              "solidity": 0.2
             }
            },
            "type": "histogram"
           }
          ],
          "histogram2d": [
           {
            "colorbar": {
             "outlinewidth": 0,
             "ticks": ""
            },
            "colorscale": [
             [
              0,
              "#0d0887"
             ],
             [
              0.1111111111111111,
              "#46039f"
             ],
             [
              0.2222222222222222,
              "#7201a8"
             ],
             [
              0.3333333333333333,
              "#9c179e"
             ],
             [
              0.4444444444444444,
              "#bd3786"
             ],
             [
              0.5555555555555556,
              "#d8576b"
             ],
             [
              0.6666666666666666,
              "#ed7953"
             ],
             [
              0.7777777777777778,
              "#fb9f3a"
             ],
             [
              0.8888888888888888,
              "#fdca26"
             ],
             [
              1,
              "#f0f921"
             ]
            ],
            "type": "histogram2d"
           }
          ],
          "histogram2dcontour": [
           {
            "colorbar": {
             "outlinewidth": 0,
             "ticks": ""
            },
            "colorscale": [
             [
              0,
              "#0d0887"
             ],
             [
              0.1111111111111111,
              "#46039f"
             ],
             [
              0.2222222222222222,
              "#7201a8"
             ],
             [
              0.3333333333333333,
              "#9c179e"
             ],
             [
              0.4444444444444444,
              "#bd3786"
             ],
             [
              0.5555555555555556,
              "#d8576b"
             ],
             [
              0.6666666666666666,
              "#ed7953"
             ],
             [
              0.7777777777777778,
              "#fb9f3a"
             ],
             [
              0.8888888888888888,
              "#fdca26"
             ],
             [
              1,
              "#f0f921"
             ]
            ],
            "type": "histogram2dcontour"
           }
          ],
          "mesh3d": [
           {
            "colorbar": {
             "outlinewidth": 0,
             "ticks": ""
            },
            "type": "mesh3d"
           }
          ],
          "parcoords": [
           {
            "line": {
             "colorbar": {
              "outlinewidth": 0,
              "ticks": ""
             }
            },
            "type": "parcoords"
           }
          ],
          "pie": [
           {
            "automargin": true,
            "type": "pie"
           }
          ],
          "scatter": [
           {
            "fillpattern": {
             "fillmode": "overlay",
             "size": 10,
             "solidity": 0.2
            },
            "type": "scatter"
           }
          ],
          "scatter3d": [
           {
            "line": {
             "colorbar": {
              "outlinewidth": 0,
              "ticks": ""
             }
            },
            "marker": {
             "colorbar": {
              "outlinewidth": 0,
              "ticks": ""
             }
            },
            "type": "scatter3d"
           }
          ],
          "scattercarpet": [
           {
            "marker": {
             "colorbar": {
              "outlinewidth": 0,
              "ticks": ""
             }
            },
            "type": "scattercarpet"
           }
          ],
          "scattergeo": [
           {
            "marker": {
             "colorbar": {
              "outlinewidth": 0,
              "ticks": ""
             }
            },
            "type": "scattergeo"
           }
          ],
          "scattergl": [
           {
            "marker": {
             "colorbar": {
              "outlinewidth": 0,
              "ticks": ""
             }
            },
            "type": "scattergl"
           }
          ],
          "scattermapbox": [
           {
            "marker": {
             "colorbar": {
              "outlinewidth": 0,
              "ticks": ""
             }
            },
            "type": "scattermapbox"
           }
          ],
          "scatterpolar": [
           {
            "marker": {
             "colorbar": {
              "outlinewidth": 0,
              "ticks": ""
             }
            },
            "type": "scatterpolar"
           }
          ],
          "scatterpolargl": [
           {
            "marker": {
             "colorbar": {
              "outlinewidth": 0,
              "ticks": ""
             }
            },
            "type": "scatterpolargl"
           }
          ],
          "scatterternary": [
           {
            "marker": {
             "colorbar": {
              "outlinewidth": 0,
              "ticks": ""
             }
            },
            "type": "scatterternary"
           }
          ],
          "surface": [
           {
            "colorbar": {
             "outlinewidth": 0,
             "ticks": ""
            },
            "colorscale": [
             [
              0,
              "#0d0887"
             ],
             [
              0.1111111111111111,
              "#46039f"
             ],
             [
              0.2222222222222222,
              "#7201a8"
             ],
             [
              0.3333333333333333,
              "#9c179e"
             ],
             [
              0.4444444444444444,
              "#bd3786"
             ],
             [
              0.5555555555555556,
              "#d8576b"
             ],
             [
              0.6666666666666666,
              "#ed7953"
             ],
             [
              0.7777777777777778,
              "#fb9f3a"
             ],
             [
              0.8888888888888888,
              "#fdca26"
             ],
             [
              1,
              "#f0f921"
             ]
            ],
            "type": "surface"
           }
          ],
          "table": [
           {
            "cells": {
             "fill": {
              "color": "#EBF0F8"
             },
             "line": {
              "color": "white"
             }
            },
            "header": {
             "fill": {
              "color": "#C8D4E3"
             },
             "line": {
              "color": "white"
             }
            },
            "type": "table"
           }
          ]
         },
         "layout": {
          "annotationdefaults": {
           "arrowcolor": "#2a3f5f",
           "arrowhead": 0,
           "arrowwidth": 1
          },
          "autotypenumbers": "strict",
          "coloraxis": {
           "colorbar": {
            "outlinewidth": 0,
            "ticks": ""
           }
          },
          "colorscale": {
           "diverging": [
            [
             0,
             "#8e0152"
            ],
            [
             0.1,
             "#c51b7d"
            ],
            [
             0.2,
             "#de77ae"
            ],
            [
             0.3,
             "#f1b6da"
            ],
            [
             0.4,
             "#fde0ef"
            ],
            [
             0.5,
             "#f7f7f7"
            ],
            [
             0.6,
             "#e6f5d0"
            ],
            [
             0.7,
             "#b8e186"
            ],
            [
             0.8,
             "#7fbc41"
            ],
            [
             0.9,
             "#4d9221"
            ],
            [
             1,
             "#276419"
            ]
           ],
           "sequential": [
            [
             0,
             "#0d0887"
            ],
            [
             0.1111111111111111,
             "#46039f"
            ],
            [
             0.2222222222222222,
             "#7201a8"
            ],
            [
             0.3333333333333333,
             "#9c179e"
            ],
            [
             0.4444444444444444,
             "#bd3786"
            ],
            [
             0.5555555555555556,
             "#d8576b"
            ],
            [
             0.6666666666666666,
             "#ed7953"
            ],
            [
             0.7777777777777778,
             "#fb9f3a"
            ],
            [
             0.8888888888888888,
             "#fdca26"
            ],
            [
             1,
             "#f0f921"
            ]
           ],
           "sequentialminus": [
            [
             0,
             "#0d0887"
            ],
            [
             0.1111111111111111,
             "#46039f"
            ],
            [
             0.2222222222222222,
             "#7201a8"
            ],
            [
             0.3333333333333333,
             "#9c179e"
            ],
            [
             0.4444444444444444,
             "#bd3786"
            ],
            [
             0.5555555555555556,
             "#d8576b"
            ],
            [
             0.6666666666666666,
             "#ed7953"
            ],
            [
             0.7777777777777778,
             "#fb9f3a"
            ],
            [
             0.8888888888888888,
             "#fdca26"
            ],
            [
             1,
             "#f0f921"
            ]
           ]
          },
          "colorway": [
           "#636efa",
           "#EF553B",
           "#00cc96",
           "#ab63fa",
           "#FFA15A",
           "#19d3f3",
           "#FF6692",
           "#B6E880",
           "#FF97FF",
           "#FECB52"
          ],
          "font": {
           "color": "#2a3f5f"
          },
          "geo": {
           "bgcolor": "white",
           "lakecolor": "white",
           "landcolor": "#E5ECF6",
           "showlakes": true,
           "showland": true,
           "subunitcolor": "white"
          },
          "hoverlabel": {
           "align": "left"
          },
          "hovermode": "closest",
          "mapbox": {
           "style": "light"
          },
          "paper_bgcolor": "white",
          "plot_bgcolor": "#E5ECF6",
          "polar": {
           "angularaxis": {
            "gridcolor": "white",
            "linecolor": "white",
            "ticks": ""
           },
           "bgcolor": "#E5ECF6",
           "radialaxis": {
            "gridcolor": "white",
            "linecolor": "white",
            "ticks": ""
           }
          },
          "scene": {
           "xaxis": {
            "backgroundcolor": "#E5ECF6",
            "gridcolor": "white",
            "gridwidth": 2,
            "linecolor": "white",
            "showbackground": true,
            "ticks": "",
            "zerolinecolor": "white"
           },
           "yaxis": {
            "backgroundcolor": "#E5ECF6",
            "gridcolor": "white",
            "gridwidth": 2,
            "linecolor": "white",
            "showbackground": true,
            "ticks": "",
            "zerolinecolor": "white"
           },
           "zaxis": {
            "backgroundcolor": "#E5ECF6",
            "gridcolor": "white",
            "gridwidth": 2,
            "linecolor": "white",
            "showbackground": true,
            "ticks": "",
            "zerolinecolor": "white"
           }
          },
          "shapedefaults": {
           "line": {
            "color": "#2a3f5f"
           }
          },
          "ternary": {
           "aaxis": {
            "gridcolor": "white",
            "linecolor": "white",
            "ticks": ""
           },
           "baxis": {
            "gridcolor": "white",
            "linecolor": "white",
            "ticks": ""
           },
           "bgcolor": "#E5ECF6",
           "caxis": {
            "gridcolor": "white",
            "linecolor": "white",
            "ticks": ""
           }
          },
          "title": {
           "x": 0.05
          },
          "xaxis": {
           "automargin": true,
           "gridcolor": "white",
           "linecolor": "white",
           "ticks": "",
           "title": {
            "standoff": 15
           },
           "zerolinecolor": "white",
           "zerolinewidth": 2
          },
          "yaxis": {
           "automargin": true,
           "gridcolor": "white",
           "linecolor": "white",
           "ticks": "",
           "title": {
            "standoff": 15
           },
           "zerolinecolor": "white",
           "zerolinewidth": 2
          }
         }
        },
        "title": {
         "text": "Average Annual Disengagements Per Thousand Miles v. Total Mileage - All Opertors"
        },
        "xaxis": {
         "anchor": "y",
         "domain": [
          0,
          1
         ],
         "title": {
          "text": "Mileage Total"
         }
        },
        "yaxis": {
         "anchor": "x",
         "domain": [
          0,
          1
         ],
         "title": {
          "text": "Disengagements/Thousand Miles"
         }
        }
       }
      }
     },
     "metadata": {},
     "output_type": "display_data"
    },
    {
     "data": {
      "application/vnd.plotly.v1+json": {
       "config": {
        "plotlyServerURL": "https://plot.ly"
       },
       "data": [
        {
         "hovertemplate": "OPERATOR=AIMOTIVE<br>Mileage Total=%{x}<br>Disengagements/Thousand Miles=%{y}<extra></extra>",
         "legendgroup": "AIMOTIVE",
         "marker": {
          "color": "#636efa",
          "symbol": "circle"
         },
         "mode": "markers",
         "name": "AIMOTIVE",
         "orientation": "v",
         "showlegend": true,
         "type": "scatter",
         "x": [
          33067.41
         ],
         "xaxis": "x",
         "y": [
          45.18043596398992
         ],
         "yaxis": "y"
        },
        {
         "hovertemplate": "OPERATOR=APOLLO<br>Mileage Total=%{x}<br>Disengagements/Thousand Miles=%{y}<extra></extra>",
         "legendgroup": "APOLLO",
         "marker": {
          "color": "#EF553B",
          "symbol": "circle"
         },
         "mode": "markers",
         "name": "APOLLO",
         "orientation": "v",
         "showlegend": true,
         "type": "scatter",
         "x": [
          15311.7
         ],
         "xaxis": "x",
         "y": [
          0.19592860361684203
         ],
         "yaxis": "y"
        },
        {
         "hovertemplate": "OPERATOR=APOLLO AUTONOMOUS DRIVING USA<br>Mileage Total=%{x}<br>Disengagements/Thousand Miles=%{y}<extra></extra>",
         "legendgroup": "APOLLO AUTONOMOUS DRIVING USA",
         "marker": {
          "color": "#00cc96",
          "symbol": "circle"
         },
         "mode": "markers",
         "name": "APOLLO AUTONOMOUS DRIVING USA",
         "orientation": "v",
         "showlegend": true,
         "type": "scatter",
         "x": [
          3944.5
         ],
         "xaxis": "x",
         "y": [
          0.25351755609075927
         ],
         "yaxis": "y"
        },
        {
         "hovertemplate": "OPERATOR=APPLE<br>Mileage Total=%{x}<br>Disengagements/Thousand Miles=%{y}<extra></extra>",
         "legendgroup": "APPLE",
         "marker": {
          "color": "#ab63fa",
          "symbol": "circle"
         },
         "mode": "markers",
         "name": "APPLE",
         "orientation": "v",
         "showlegend": true,
         "type": "scatter",
         "x": [
          591112.2
         ],
         "xaxis": "x",
         "y": [
          16.64489415038296
         ],
         "yaxis": "y"
        },
        {
         "hovertemplate": "OPERATOR=ARGO AI<br>Mileage Total=%{x}<br>Disengagements/Thousand Miles=%{y}<extra></extra>",
         "legendgroup": "ARGO AI",
         "marker": {
          "color": "#FFA15A",
          "symbol": "circle"
         },
         "mode": "markers",
         "name": "ARGO AI",
         "orientation": "v",
         "showlegend": true,
         "type": "scatter",
         "x": [
          55374.68
         ],
         "xaxis": "x",
         "y": [
          0.03611759020548742
         ],
         "yaxis": "y"
        },
        {
         "hovertemplate": "OPERATOR=AURORA OPERATIONS<br>Mileage Total=%{x}<br>Disengagements/Thousand Miles=%{y}<extra></extra>",
         "legendgroup": "AURORA OPERATIONS",
         "marker": {
          "color": "#19d3f3",
          "symbol": "circle"
         },
         "mode": "markers",
         "name": "AURORA OPERATIONS",
         "orientation": "v",
         "showlegend": true,
         "type": "scatter",
         "x": [
          13373.19
         ],
         "xaxis": "x",
         "y": [
          4.187482567734399
         ],
         "yaxis": "y"
        },
        {
         "hovertemplate": "OPERATOR=AUTOX<br>Mileage Total=%{x}<br>Disengagements/Thousand Miles=%{y}<extra></extra>",
         "legendgroup": "AUTOX",
         "marker": {
          "color": "#FF6692",
          "symbol": "circle"
         },
         "mode": "markers",
         "name": "AUTOX",
         "orientation": "v",
         "showlegend": true,
         "type": "scatter",
         "x": [
          7870
         ],
         "xaxis": "x",
         "y": [
          0
         ],
         "yaxis": "y"
        },
        {
         "hovertemplate": "OPERATOR=AUTOX TECHNOLOGIES<br>Mileage Total=%{x}<br>Disengagements/Thousand Miles=%{y}<extra></extra>",
         "legendgroup": "AUTOX TECHNOLOGIES",
         "marker": {
          "color": "#B6E880",
          "symbol": "circle"
         },
         "mode": "markers",
         "name": "AUTOX TECHNOLOGIES",
         "orientation": "v",
         "showlegend": true,
         "type": "scatter",
         "x": [
          99422
         ],
         "xaxis": "x",
         "y": [
          0.02011627205246324
         ],
         "yaxis": "y"
        },
        {
         "hovertemplate": "OPERATOR=BOSCH<br>Mileage Total=%{x}<br>Disengagements/Thousand Miles=%{y}<extra></extra>",
         "legendgroup": "BOSCH",
         "marker": {
          "color": "#FF97FF",
          "symbol": "circle"
         },
         "mode": "markers",
         "name": "BOSCH",
         "orientation": "v",
         "showlegend": true,
         "type": "scatter",
         "x": [
          759.3100000000001
         ],
         "xaxis": "x",
         "y": [
          413.53333947926404
         ],
         "yaxis": "y"
        },
        {
         "hovertemplate": "OPERATOR=CRUISE<br>Mileage Total=%{x}<br>Disengagements/Thousand Miles=%{y}<extra></extra>",
         "legendgroup": "CRUISE",
         "marker": {
          "color": "#FECB52",
          "symbol": "circle"
         },
         "mode": "markers",
         "name": "CRUISE",
         "orientation": "v",
         "showlegend": true,
         "type": "scatter",
         "x": [
          2322839.89
         ],
         "xaxis": "x",
         "y": [
          0.012915225078212342
         ],
         "yaxis": "y"
        },
        {
         "hovertemplate": "OPERATOR=DEEPROUTEAI<br>Mileage Total=%{x}<br>Disengagements/Thousand Miles=%{y}<extra></extra>",
         "legendgroup": "DEEPROUTEAI",
         "marker": {
          "color": "#636efa",
          "symbol": "circle"
         },
         "mode": "markers",
         "name": "DEEPROUTEAI",
         "orientation": "v",
         "showlegend": true,
         "type": "scatter",
         "x": [
          31633
         ],
         "xaxis": "x",
         "y": [
          0.06322511301488952
         ],
         "yaxis": "y"
        },
        {
         "hovertemplate": "OPERATOR=DIDI RESEARCH AMERICA<br>Mileage Total=%{x}<br>Disengagements/Thousand Miles=%{y}<extra></extra>",
         "legendgroup": "DIDI RESEARCH AMERICA",
         "marker": {
          "color": "#EF553B",
          "symbol": "circle"
         },
         "mode": "markers",
         "name": "DIDI RESEARCH AMERICA",
         "orientation": "v",
         "showlegend": true,
         "type": "scatter",
         "x": [
          83013.91
         ],
         "xaxis": "x",
         "y": [
          0.04818469579375311
         ],
         "yaxis": "y"
        },
        {
         "hovertemplate": "OPERATOR=EASYMILE<br>Mileage Total=%{x}<br>Disengagements/Thousand Miles=%{y}<extra></extra>",
         "legendgroup": "EASYMILE",
         "marker": {
          "color": "#00cc96",
          "symbol": "circle"
         },
         "mode": "markers",
         "name": "EASYMILE",
         "orientation": "v",
         "showlegend": true,
         "type": "scatter",
         "x": [
          320
         ],
         "xaxis": "x",
         "y": [
          693.75
         ],
         "yaxis": "y"
        },
        {
         "hovertemplate": "OPERATOR=GATIK AI<br>Mileage Total=%{x}<br>Disengagements/Thousand Miles=%{y}<extra></extra>",
         "legendgroup": "GATIK AI",
         "marker": {
          "color": "#ab63fa",
          "symbol": "circle"
         },
         "mode": "markers",
         "name": "GATIK AI",
         "orientation": "v",
         "showlegend": true,
         "type": "scatter",
         "x": [
          3574
         ],
         "xaxis": "x",
         "y": [
          3.0777839955232236
         ],
         "yaxis": "y"
        },
        {
         "hovertemplate": "OPERATOR=GHOST AUTONOMY<br>Mileage Total=%{x}<br>Disengagements/Thousand Miles=%{y}<extra></extra>",
         "legendgroup": "GHOST AUTONOMY",
         "marker": {
          "color": "#FFA15A",
          "symbol": "circle"
         },
         "mode": "markers",
         "name": "GHOST AUTONOMY",
         "orientation": "v",
         "showlegend": true,
         "type": "scatter",
         "x": [
          67329.68000000001
         ],
         "xaxis": "x",
         "y": [
          22.011095255465342
         ],
         "yaxis": "y"
        },
        {
         "hovertemplate": "OPERATOR=IMAGRY<br>Mileage Total=%{x}<br>Disengagements/Thousand Miles=%{y}<extra></extra>",
         "legendgroup": "IMAGRY",
         "marker": {
          "color": "#19d3f3",
          "symbol": "circle"
         },
         "mode": "markers",
         "name": "IMAGRY",
         "orientation": "v",
         "showlegend": true,
         "type": "scatter",
         "x": [
          2104.9225
         ],
         "xaxis": "x",
         "y": [
          189.5556724772527
         ],
         "yaxis": "y"
        },
        {
         "hovertemplate": "OPERATOR=INTEL CORPORATION<br>Mileage Total=%{x}<br>Disengagements/Thousand Miles=%{y}<extra></extra>",
         "legendgroup": "INTEL CORPORATION",
         "marker": {
          "color": "#FF6692",
          "symbol": "circle"
         },
         "mode": "markers",
         "name": "INTEL CORPORATION",
         "orientation": "v",
         "showlegend": true,
         "type": "scatter",
         "x": [
          781
         ],
         "xaxis": "x",
         "y": [
          198.46350832266324
         ],
         "yaxis": "y"
        },
        {
         "hovertemplate": "OPERATOR=LYFT<br>Mileage Total=%{x}<br>Disengagements/Thousand Miles=%{y}<extra></extra>",
         "legendgroup": "LYFT",
         "marker": {
          "color": "#B6E880",
          "symbol": "circle"
         },
         "mode": "markers",
         "name": "LYFT",
         "orientation": "v",
         "showlegend": true,
         "type": "scatter",
         "x": [
          11200.10544488
         ],
         "xaxis": "x",
         "y": [
          2.0535520949505157
         ],
         "yaxis": "y"
        },
        {
         "hovertemplate": "OPERATOR=MERCEDES<br>Mileage Total=%{x}<br>Disengagements/Thousand Miles=%{y}<extra></extra>",
         "legendgroup": "MERCEDES",
         "marker": {
          "color": "#FF97FF",
          "symbol": "circle"
         },
         "mode": "markers",
         "name": "MERCEDES",
         "orientation": "v",
         "showlegend": true,
         "type": "scatter",
         "x": [
          58342.686147500004
         ],
         "xaxis": "x",
         "y": [
          0
         ],
         "yaxis": "y"
        },
        {
         "hovertemplate": "OPERATOR=MERCEDES-BENZ RESEARCH & DEVELOPMENT NORTH AMERICA<br>Mileage Total=%{x}<br>Disengagements/Thousand Miles=%{y}<extra></extra>",
         "legendgroup": "MERCEDES-BENZ RESEARCH & DEVELOPMENT NORTH AMERICA",
         "marker": {
          "color": "#FECB52",
          "symbol": "circle"
         },
         "mode": "markers",
         "name": "MERCEDES-BENZ RESEARCH & DEVELOPMENT NORTH AMERICA",
         "orientation": "v",
         "showlegend": true,
         "type": "scatter",
         "x": [
          111588.29361422
         ],
         "xaxis": "x",
         "y": [
          2.778069185928441
         ],
         "yaxis": "y"
        },
        {
         "hovertemplate": "OPERATOR=MOTIONAL AD<br>Mileage Total=%{x}<br>Disengagements/Thousand Miles=%{y}<extra></extra>",
         "legendgroup": "MOTIONAL AD",
         "marker": {
          "color": "#636efa",
          "symbol": "circle"
         },
         "mode": "markers",
         "name": "MOTIONAL AD",
         "orientation": "v",
         "showlegend": true,
         "type": "scatter",
         "x": [
          21152.98
         ],
         "xaxis": "x",
         "y": [
          34.415954631451456
         ],
         "yaxis": "y"
        },
        {
         "hovertemplate": "OPERATOR=NISSAN<br>Mileage Total=%{x}<br>Disengagements/Thousand Miles=%{y}<extra></extra>",
         "legendgroup": "NISSAN",
         "marker": {
          "color": "#EF553B",
          "symbol": "circle"
         },
         "mode": "markers",
         "name": "NISSAN",
         "orientation": "v",
         "showlegend": true,
         "type": "scatter",
         "x": [
          4825
         ],
         "xaxis": "x",
         "y": [
          3.523316062176166
         ],
         "yaxis": "y"
        },
        {
         "hovertemplate": "OPERATOR=NISSAN NORTH AMERICA  DBA ALLIANCE INNOVATION LAB<br>Mileage Total=%{x}<br>Disengagements/Thousand Miles=%{y}<extra></extra>",
         "legendgroup": "NISSAN NORTH AMERICA  DBA ALLIANCE INNOVATION LAB",
         "marker": {
          "color": "#00cc96",
          "symbol": "circle"
         },
         "mode": "markers",
         "name": "NISSAN NORTH AMERICA  DBA ALLIANCE INNOVATION LAB",
         "orientation": "v",
         "showlegend": true,
         "type": "scatter",
         "x": [
          1702.1999999999998
         ],
         "xaxis": "x",
         "y": [
          14.686875807778172
         ],
         "yaxis": "y"
        },
        {
         "hovertemplate": "OPERATOR=NURO<br>Mileage Total=%{x}<br>Disengagements/Thousand Miles=%{y}<extra></extra>",
         "legendgroup": "NURO",
         "marker": {
          "color": "#ab63fa",
          "symbol": "circle"
         },
         "mode": "markers",
         "name": "NURO",
         "orientation": "v",
         "showlegend": true,
         "type": "scatter",
         "x": [
          258094.56
         ],
         "xaxis": "x",
         "y": [
          0.32933665862620276
         ],
         "yaxis": "y"
        },
        {
         "hovertemplate": "OPERATOR=NVIDIA<br>Mileage Total=%{x}<br>Disengagements/Thousand Miles=%{y}<extra></extra>",
         "legendgroup": "NVIDIA",
         "marker": {
          "color": "#FFA15A",
          "symbol": "circle"
         },
         "mode": "markers",
         "name": "NVIDIA",
         "orientation": "v",
         "showlegend": true,
         "type": "scatter",
         "x": [
          28004
         ],
         "xaxis": "x",
         "y": [
          2.9281531209827167
         ],
         "yaxis": "y"
        },
        {
         "hovertemplate": "OPERATOR=NVIDIA CORPORATION<br>Mileage Total=%{x}<br>Disengagements/Thousand Miles=%{y}<extra></extra>",
         "legendgroup": "NVIDIA CORPORATION",
         "marker": {
          "color": "#19d3f3",
          "symbol": "circle"
         },
         "mode": "markers",
         "name": "NVIDIA CORPORATION",
         "orientation": "v",
         "showlegend": true,
         "type": "scatter",
         "x": [
          7169.26
         ],
         "xaxis": "x",
         "y": [
          0.976390868792595
         ],
         "yaxis": "y"
        },
        {
         "hovertemplate": "OPERATOR=PONYAI<br>Mileage Total=%{x}<br>Disengagements/Thousand Miles=%{y}<extra></extra>",
         "legendgroup": "PONYAI",
         "marker": {
          "color": "#FF6692",
          "symbol": "circle"
         },
         "mode": "markers",
         "name": "PONYAI",
         "orientation": "v",
         "showlegend": true,
         "type": "scatter",
         "x": [
          586028.73
         ],
         "xaxis": "x",
         "y": [
          0.06996244023735833
         ],
         "yaxis": "y"
        },
        {
         "hovertemplate": "OPERATOR=QCRAFT<br>Mileage Total=%{x}<br>Disengagements/Thousand Miles=%{y}<extra></extra>",
         "legendgroup": "QCRAFT",
         "marker": {
          "color": "#B6E880",
          "symbol": "circle"
         },
         "mode": "markers",
         "name": "QCRAFT",
         "orientation": "v",
         "showlegend": true,
         "type": "scatter",
         "x": [
          8909
         ],
         "xaxis": "x",
         "y": [
          0.8979683466157817
         ],
         "yaxis": "y"
        },
        {
         "hovertemplate": "OPERATOR=QUALCOMM TECHNOLOGIES<br>Mileage Total=%{x}<br>Disengagements/Thousand Miles=%{y}<extra></extra>",
         "legendgroup": "QUALCOMM TECHNOLOGIES",
         "marker": {
          "color": "#FF97FF",
          "symbol": "circle"
         },
         "mode": "markers",
         "name": "QUALCOMM TECHNOLOGIES",
         "orientation": "v",
         "showlegend": true,
         "type": "scatter",
         "x": [
          8489
         ],
         "xaxis": "x",
         "y": [
          55.13016845329249
         ],
         "yaxis": "y"
        },
        {
         "hovertemplate": "OPERATOR=TOYOTA RESEARCH INSTITUTE<br>Mileage Total=%{x}<br>Disengagements/Thousand Miles=%{y}<extra></extra>",
         "legendgroup": "TOYOTA RESEARCH INSTITUTE",
         "marker": {
          "color": "#FECB52",
          "symbol": "circle"
         },
         "mode": "markers",
         "name": "TOYOTA RESEARCH INSTITUTE",
         "orientation": "v",
         "showlegend": true,
         "type": "scatter",
         "x": [
          18733
         ],
         "xaxis": "x",
         "y": [
          28.34570010142529
         ],
         "yaxis": "y"
        },
        {
         "hovertemplate": "OPERATOR=UDELV<br>Mileage Total=%{x}<br>Disengagements/Thousand Miles=%{y}<extra></extra>",
         "legendgroup": "UDELV",
         "marker": {
          "color": "#636efa",
          "symbol": "circle"
         },
         "mode": "markers",
         "name": "UDELV",
         "orientation": "v",
         "showlegend": true,
         "type": "scatter",
         "x": [
          60
         ],
         "xaxis": "x",
         "y": [
          766.6666666666667
         ],
         "yaxis": "y"
        },
        {
         "hovertemplate": "OPERATOR=VALEO NORTH AMERICA<br>Mileage Total=%{x}<br>Disengagements/Thousand Miles=%{y}<extra></extra>",
         "legendgroup": "VALEO NORTH AMERICA",
         "marker": {
          "color": "#EF553B",
          "symbol": "circle"
         },
         "mode": "markers",
         "name": "VALEO NORTH AMERICA",
         "orientation": "v",
         "showlegend": true,
         "type": "scatter",
         "x": [
          779
         ],
         "xaxis": "x",
         "y": [
          381.25802310654683
         ],
         "yaxis": "y"
        },
        {
         "hovertemplate": "OPERATOR=WAYMO<br>Mileage Total=%{x}<br>Disengagements/Thousand Miles=%{y}<extra></extra>",
         "legendgroup": "WAYMO",
         "marker": {
          "color": "#00cc96",
          "symbol": "circle"
         },
         "mode": "markers",
         "name": "WAYMO",
         "orientation": "v",
         "showlegend": true,
         "type": "scatter",
         "x": [
          8895949.1
         ],
         "xaxis": "x",
         "y": [
          0.07576482199071935
         ],
         "yaxis": "y"
        },
        {
         "hovertemplate": "OPERATOR=WERIDE CORP<br>Mileage Total=%{x}<br>Disengagements/Thousand Miles=%{y}<extra></extra>",
         "legendgroup": "WERIDE CORP",
         "marker": {
          "color": "#ab63fa",
          "symbol": "circle"
         },
         "mode": "markers",
         "name": "WERIDE CORP",
         "orientation": "v",
         "showlegend": true,
         "type": "scatter",
         "x": [
          164908.11
         ],
         "xaxis": "x",
         "y": [
          0.04851186518358618
         ],
         "yaxis": "y"
        },
        {
         "hovertemplate": "OPERATOR=WOVEN BY TOYOTA US<br>Mileage Total=%{x}<br>Disengagements/Thousand Miles=%{y}<extra></extra>",
         "legendgroup": "WOVEN BY TOYOTA US",
         "marker": {
          "color": "#FFA15A",
          "symbol": "circle"
         },
         "mode": "markers",
         "name": "WOVEN BY TOYOTA US",
         "orientation": "v",
         "showlegend": true,
         "type": "scatter",
         "x": [
          4194
         ],
         "xaxis": "x",
         "y": [
          10.014306151645208
         ],
         "yaxis": "y"
        },
        {
         "hovertemplate": "OPERATOR=ZOOX<br>Mileage Total=%{x}<br>Disengagements/Thousand Miles=%{y}<extra></extra>",
         "legendgroup": "ZOOX",
         "marker": {
          "color": "#19d3f3",
          "symbol": "circle"
         },
         "mode": "markers",
         "name": "ZOOX",
         "orientation": "v",
         "showlegend": true,
         "type": "scatter",
         "x": [
          1417667.1
         ],
         "xaxis": "x",
         "y": [
          0.032447674069603506
         ],
         "yaxis": "y"
        }
       ],
       "layout": {
        "legend": {
         "title": {
          "text": "OPERATOR"
         },
         "tracegroupgap": 0
        },
        "margin": {
         "t": 60
        },
        "template": {
         "data": {
          "bar": [
           {
            "error_x": {
             "color": "#2a3f5f"
            },
            "error_y": {
             "color": "#2a3f5f"
            },
            "marker": {
             "line": {
              "color": "#E5ECF6",
              "width": 0.5
             },
             "pattern": {
              "fillmode": "overlay",
              "size": 10,
              "solidity": 0.2
             }
            },
            "type": "bar"
           }
          ],
          "barpolar": [
           {
            "marker": {
             "line": {
              "color": "#E5ECF6",
              "width": 0.5
             },
             "pattern": {
              "fillmode": "overlay",
              "size": 10,
              "solidity": 0.2
             }
            },
            "type": "barpolar"
           }
          ],
          "carpet": [
           {
            "aaxis": {
             "endlinecolor": "#2a3f5f",
             "gridcolor": "white",
             "linecolor": "white",
             "minorgridcolor": "white",
             "startlinecolor": "#2a3f5f"
            },
            "baxis": {
             "endlinecolor": "#2a3f5f",
             "gridcolor": "white",
             "linecolor": "white",
             "minorgridcolor": "white",
             "startlinecolor": "#2a3f5f"
            },
            "type": "carpet"
           }
          ],
          "choropleth": [
           {
            "colorbar": {
             "outlinewidth": 0,
             "ticks": ""
            },
            "type": "choropleth"
           }
          ],
          "contour": [
           {
            "colorbar": {
             "outlinewidth": 0,
             "ticks": ""
            },
            "colorscale": [
             [
              0,
              "#0d0887"
             ],
             [
              0.1111111111111111,
              "#46039f"
             ],
             [
              0.2222222222222222,
              "#7201a8"
             ],
             [
              0.3333333333333333,
              "#9c179e"
             ],
             [
              0.4444444444444444,
              "#bd3786"
             ],
             [
              0.5555555555555556,
              "#d8576b"
             ],
             [
              0.6666666666666666,
              "#ed7953"
             ],
             [
              0.7777777777777778,
              "#fb9f3a"
             ],
             [
              0.8888888888888888,
              "#fdca26"
             ],
             [
              1,
              "#f0f921"
             ]
            ],
            "type": "contour"
           }
          ],
          "contourcarpet": [
           {
            "colorbar": {
             "outlinewidth": 0,
             "ticks": ""
            },
            "type": "contourcarpet"
           }
          ],
          "heatmap": [
           {
            "colorbar": {
             "outlinewidth": 0,
             "ticks": ""
            },
            "colorscale": [
             [
              0,
              "#0d0887"
             ],
             [
              0.1111111111111111,
              "#46039f"
             ],
             [
              0.2222222222222222,
              "#7201a8"
             ],
             [
              0.3333333333333333,
              "#9c179e"
             ],
             [
              0.4444444444444444,
              "#bd3786"
             ],
             [
              0.5555555555555556,
              "#d8576b"
             ],
             [
              0.6666666666666666,
              "#ed7953"
             ],
             [
              0.7777777777777778,
              "#fb9f3a"
             ],
             [
              0.8888888888888888,
              "#fdca26"
             ],
             [
              1,
              "#f0f921"
             ]
            ],
            "type": "heatmap"
           }
          ],
          "heatmapgl": [
           {
            "colorbar": {
             "outlinewidth": 0,
             "ticks": ""
            },
            "colorscale": [
             [
              0,
              "#0d0887"
             ],
             [
              0.1111111111111111,
              "#46039f"
             ],
             [
              0.2222222222222222,
              "#7201a8"
             ],
             [
              0.3333333333333333,
              "#9c179e"
             ],
             [
              0.4444444444444444,
              "#bd3786"
             ],
             [
              0.5555555555555556,
              "#d8576b"
             ],
             [
              0.6666666666666666,
              "#ed7953"
             ],
             [
              0.7777777777777778,
              "#fb9f3a"
             ],
             [
              0.8888888888888888,
              "#fdca26"
             ],
             [
              1,
              "#f0f921"
             ]
            ],
            "type": "heatmapgl"
           }
          ],
          "histogram": [
           {
            "marker": {
             "pattern": {
              "fillmode": "overlay",
              "size": 10,
              "solidity": 0.2
             }
            },
            "type": "histogram"
           }
          ],
          "histogram2d": [
           {
            "colorbar": {
             "outlinewidth": 0,
             "ticks": ""
            },
            "colorscale": [
             [
              0,
              "#0d0887"
             ],
             [
              0.1111111111111111,
              "#46039f"
             ],
             [
              0.2222222222222222,
              "#7201a8"
             ],
             [
              0.3333333333333333,
              "#9c179e"
             ],
             [
              0.4444444444444444,
              "#bd3786"
             ],
             [
              0.5555555555555556,
              "#d8576b"
             ],
             [
              0.6666666666666666,
              "#ed7953"
             ],
             [
              0.7777777777777778,
              "#fb9f3a"
             ],
             [
              0.8888888888888888,
              "#fdca26"
             ],
             [
              1,
              "#f0f921"
             ]
            ],
            "type": "histogram2d"
           }
          ],
          "histogram2dcontour": [
           {
            "colorbar": {
             "outlinewidth": 0,
             "ticks": ""
            },
            "colorscale": [
             [
              0,
              "#0d0887"
             ],
             [
              0.1111111111111111,
              "#46039f"
             ],
             [
              0.2222222222222222,
              "#7201a8"
             ],
             [
              0.3333333333333333,
              "#9c179e"
             ],
             [
              0.4444444444444444,
              "#bd3786"
             ],
             [
              0.5555555555555556,
              "#d8576b"
             ],
             [
              0.6666666666666666,
              "#ed7953"
             ],
             [
              0.7777777777777778,
              "#fb9f3a"
             ],
             [
              0.8888888888888888,
              "#fdca26"
             ],
             [
              1,
              "#f0f921"
             ]
            ],
            "type": "histogram2dcontour"
           }
          ],
          "mesh3d": [
           {
            "colorbar": {
             "outlinewidth": 0,
             "ticks": ""
            },
            "type": "mesh3d"
           }
          ],
          "parcoords": [
           {
            "line": {
             "colorbar": {
              "outlinewidth": 0,
              "ticks": ""
             }
            },
            "type": "parcoords"
           }
          ],
          "pie": [
           {
            "automargin": true,
            "type": "pie"
           }
          ],
          "scatter": [
           {
            "fillpattern": {
             "fillmode": "overlay",
             "size": 10,
             "solidity": 0.2
            },
            "type": "scatter"
           }
          ],
          "scatter3d": [
           {
            "line": {
             "colorbar": {
              "outlinewidth": 0,
              "ticks": ""
             }
            },
            "marker": {
             "colorbar": {
              "outlinewidth": 0,
              "ticks": ""
             }
            },
            "type": "scatter3d"
           }
          ],
          "scattercarpet": [
           {
            "marker": {
             "colorbar": {
              "outlinewidth": 0,
              "ticks": ""
             }
            },
            "type": "scattercarpet"
           }
          ],
          "scattergeo": [
           {
            "marker": {
             "colorbar": {
              "outlinewidth": 0,
              "ticks": ""
             }
            },
            "type": "scattergeo"
           }
          ],
          "scattergl": [
           {
            "marker": {
             "colorbar": {
              "outlinewidth": 0,
              "ticks": ""
             }
            },
            "type": "scattergl"
           }
          ],
          "scattermapbox": [
           {
            "marker": {
             "colorbar": {
              "outlinewidth": 0,
              "ticks": ""
             }
            },
            "type": "scattermapbox"
           }
          ],
          "scatterpolar": [
           {
            "marker": {
             "colorbar": {
              "outlinewidth": 0,
              "ticks": ""
             }
            },
            "type": "scatterpolar"
           }
          ],
          "scatterpolargl": [
           {
            "marker": {
             "colorbar": {
              "outlinewidth": 0,
              "ticks": ""
             }
            },
            "type": "scatterpolargl"
           }
          ],
          "scatterternary": [
           {
            "marker": {
             "colorbar": {
              "outlinewidth": 0,
              "ticks": ""
             }
            },
            "type": "scatterternary"
           }
          ],
          "surface": [
           {
            "colorbar": {
             "outlinewidth": 0,
             "ticks": ""
            },
            "colorscale": [
             [
              0,
              "#0d0887"
             ],
             [
              0.1111111111111111,
              "#46039f"
             ],
             [
              0.2222222222222222,
              "#7201a8"
             ],
             [
              0.3333333333333333,
              "#9c179e"
             ],
             [
              0.4444444444444444,
              "#bd3786"
             ],
             [
              0.5555555555555556,
              "#d8576b"
             ],
             [
              0.6666666666666666,
              "#ed7953"
             ],
             [
              0.7777777777777778,
              "#fb9f3a"
             ],
             [
              0.8888888888888888,
              "#fdca26"
             ],
             [
              1,
              "#f0f921"
             ]
            ],
            "type": "surface"
           }
          ],
          "table": [
           {
            "cells": {
             "fill": {
              "color": "#EBF0F8"
             },
             "line": {
              "color": "white"
             }
            },
            "header": {
             "fill": {
              "color": "#C8D4E3"
             },
             "line": {
              "color": "white"
             }
            },
            "type": "table"
           }
          ]
         },
         "layout": {
          "annotationdefaults": {
           "arrowcolor": "#2a3f5f",
           "arrowhead": 0,
           "arrowwidth": 1
          },
          "autotypenumbers": "strict",
          "coloraxis": {
           "colorbar": {
            "outlinewidth": 0,
            "ticks": ""
           }
          },
          "colorscale": {
           "diverging": [
            [
             0,
             "#8e0152"
            ],
            [
             0.1,
             "#c51b7d"
            ],
            [
             0.2,
             "#de77ae"
            ],
            [
             0.3,
             "#f1b6da"
            ],
            [
             0.4,
             "#fde0ef"
            ],
            [
             0.5,
             "#f7f7f7"
            ],
            [
             0.6,
             "#e6f5d0"
            ],
            [
             0.7,
             "#b8e186"
            ],
            [
             0.8,
             "#7fbc41"
            ],
            [
             0.9,
             "#4d9221"
            ],
            [
             1,
             "#276419"
            ]
           ],
           "sequential": [
            [
             0,
             "#0d0887"
            ],
            [
             0.1111111111111111,
             "#46039f"
            ],
            [
             0.2222222222222222,
             "#7201a8"
            ],
            [
             0.3333333333333333,
             "#9c179e"
            ],
            [
             0.4444444444444444,
             "#bd3786"
            ],
            [
             0.5555555555555556,
             "#d8576b"
            ],
            [
             0.6666666666666666,
             "#ed7953"
            ],
            [
             0.7777777777777778,
             "#fb9f3a"
            ],
            [
             0.8888888888888888,
             "#fdca26"
            ],
            [
             1,
             "#f0f921"
            ]
           ],
           "sequentialminus": [
            [
             0,
             "#0d0887"
            ],
            [
             0.1111111111111111,
             "#46039f"
            ],
            [
             0.2222222222222222,
             "#7201a8"
            ],
            [
             0.3333333333333333,
             "#9c179e"
            ],
            [
             0.4444444444444444,
             "#bd3786"
            ],
            [
             0.5555555555555556,
             "#d8576b"
            ],
            [
             0.6666666666666666,
             "#ed7953"
            ],
            [
             0.7777777777777778,
             "#fb9f3a"
            ],
            [
             0.8888888888888888,
             "#fdca26"
            ],
            [
             1,
             "#f0f921"
            ]
           ]
          },
          "colorway": [
           "#636efa",
           "#EF553B",
           "#00cc96",
           "#ab63fa",
           "#FFA15A",
           "#19d3f3",
           "#FF6692",
           "#B6E880",
           "#FF97FF",
           "#FECB52"
          ],
          "font": {
           "color": "#2a3f5f"
          },
          "geo": {
           "bgcolor": "white",
           "lakecolor": "white",
           "landcolor": "#E5ECF6",
           "showlakes": true,
           "showland": true,
           "subunitcolor": "white"
          },
          "hoverlabel": {
           "align": "left"
          },
          "hovermode": "closest",
          "mapbox": {
           "style": "light"
          },
          "paper_bgcolor": "white",
          "plot_bgcolor": "#E5ECF6",
          "polar": {
           "angularaxis": {
            "gridcolor": "white",
            "linecolor": "white",
            "ticks": ""
           },
           "bgcolor": "#E5ECF6",
           "radialaxis": {
            "gridcolor": "white",
            "linecolor": "white",
            "ticks": ""
           }
          },
          "scene": {
           "xaxis": {
            "backgroundcolor": "#E5ECF6",
            "gridcolor": "white",
            "gridwidth": 2,
            "linecolor": "white",
            "showbackground": true,
            "ticks": "",
            "zerolinecolor": "white"
           },
           "yaxis": {
            "backgroundcolor": "#E5ECF6",
            "gridcolor": "white",
            "gridwidth": 2,
            "linecolor": "white",
            "showbackground": true,
            "ticks": "",
            "zerolinecolor": "white"
           },
           "zaxis": {
            "backgroundcolor": "#E5ECF6",
            "gridcolor": "white",
            "gridwidth": 2,
            "linecolor": "white",
            "showbackground": true,
            "ticks": "",
            "zerolinecolor": "white"
           }
          },
          "shapedefaults": {
           "line": {
            "color": "#2a3f5f"
           }
          },
          "ternary": {
           "aaxis": {
            "gridcolor": "white",
            "linecolor": "white",
            "ticks": ""
           },
           "baxis": {
            "gridcolor": "white",
            "linecolor": "white",
            "ticks": ""
           },
           "bgcolor": "#E5ECF6",
           "caxis": {
            "gridcolor": "white",
            "linecolor": "white",
            "ticks": ""
           }
          },
          "title": {
           "x": 0.05
          },
          "xaxis": {
           "automargin": true,
           "gridcolor": "white",
           "linecolor": "white",
           "ticks": "",
           "title": {
            "standoff": 15
           },
           "zerolinecolor": "white",
           "zerolinewidth": 2
          },
          "yaxis": {
           "automargin": true,
           "gridcolor": "white",
           "linecolor": "white",
           "ticks": "",
           "title": {
            "standoff": 15
           },
           "zerolinecolor": "white",
           "zerolinewidth": 2
          }
         }
        },
        "title": {
         "text": "Average Disengagements Per Thousand Miles v. Total Mileage - All Opertors (2021-2023)"
        },
        "xaxis": {
         "anchor": "y",
         "domain": [
          0,
          1
         ],
         "title": {
          "text": "Mileage Total"
         }
        },
        "yaxis": {
         "anchor": "x",
         "domain": [
          0,
          1
         ],
         "title": {
          "text": "Disengagements/Thousand Miles"
         }
        }
       }
      }
     },
     "metadata": {},
     "output_type": "display_data"
    }
   ],
   "source": [
    "# Showing each operator each year - I think this is the bettter visual\n",
    "fig = px.scatter(dptm, x=\"Mileage Total\", y=\"Disengagements/Thousand Miles\", color=\"OPERATOR\")\n",
    "fig.update_layout(title='Average Annual Disengagements Per Thousand Miles v. Total Mileage - All Opertors')\n",
    "fig.show()\n",
    "\n",
    "# Aggrgated by year\n",
    "fig = px.scatter(dptm_total, x=\"Mileage Total\", y=\"Disengagements/Thousand Miles\", color=\"OPERATOR\")\n",
    "fig.update_layout(title='Average Disengagements Per Thousand Miles v. Total Mileage - All Opertors (2021-2023)')\n",
    "\n",
    "fig.show()\n"
   ]
  },
  {
   "cell_type": "code",
   "execution_count": 29,
   "id": "1f4ecf74",
   "metadata": {},
   "outputs": [
    {
     "data": {
      "application/vnd.plotly.v1+json": {
       "config": {
        "plotlyServerURL": "https://plot.ly"
       },
       "data": [
        {
         "hovertemplate": "OPERATOR=AIMOTIVE<br>Year=2021<br>Annual Mileage=%{x}<br>Annual Total of Disengagements=%{y}<br>Number of Vehicles=%{marker.size}<extra></extra>",
         "ids": [
          "AIMOTIVE"
         ],
         "legendgroup": "AIMOTIVE",
         "marker": {
          "color": "#636efa",
          "size": [
           2
          ],
          "sizemode": "area",
          "sizeref": 1.4175,
          "symbol": "circle"
         },
         "mode": "markers",
         "name": "AIMOTIVE",
         "orientation": "v",
         "showlegend": true,
         "type": "scatter",
         "x": [
          2976
         ],
         "xaxis": "x",
         "y": [
          106
         ],
         "yaxis": "y"
        },
        {
         "hovertemplate": "OPERATOR=APOLLO AUTONOMOUS DRIVING USA<br>Year=2021<br>Annual Mileage=%{x}<br>Annual Total of Disengagements=%{y}<br>Number of Vehicles=%{marker.size}<extra></extra>",
         "ids": [
          "APOLLO AUTONOMOUS DRIVING USA"
         ],
         "legendgroup": "APOLLO AUTONOMOUS DRIVING USA",
         "marker": {
          "color": "#00cc96",
          "size": [
           2
          ],
          "sizemode": "area",
          "sizeref": 1.4175,
          "symbol": "circle"
         },
         "mode": "markers",
         "name": "APOLLO AUTONOMOUS DRIVING USA",
         "orientation": "v",
         "showlegend": true,
         "type": "scatter",
         "x": [
          1467.5
         ],
         "xaxis": "x",
         "y": [
          1
         ],
         "yaxis": "y"
        },
        {
         "hovertemplate": "OPERATOR=APPLE<br>Year=2021<br>Annual Mileage=%{x}<br>Annual Total of Disengagements=%{y}<br>Number of Vehicles=%{marker.size}<extra></extra>",
         "ids": [
          "APPLE"
         ],
         "legendgroup": "APPLE",
         "marker": {
          "color": "#ab63fa",
          "size": [
           35
          ],
          "sizemode": "area",
          "sizeref": 1.4175,
          "symbol": "circle"
         },
         "mode": "markers",
         "name": "APPLE",
         "orientation": "v",
         "showlegend": true,
         "type": "scatter",
         "x": [
          13272
         ],
         "xaxis": "x",
         "y": [
          663
         ],
         "yaxis": "y"
        },
        {
         "hovertemplate": "OPERATOR=ARGO AI<br>Year=2021<br>Annual Mileage=%{x}<br>Annual Total of Disengagements=%{y}<br>Number of Vehicles=%{marker.size}<extra></extra>",
         "ids": [
          "ARGO AI"
         ],
         "legendgroup": "ARGO AI",
         "marker": {
          "color": "#FFA15A",
          "size": [
           7
          ],
          "sizemode": "area",
          "sizeref": 1.4175,
          "symbol": "circle"
         },
         "mode": "markers",
         "name": "ARGO AI",
         "orientation": "v",
         "showlegend": true,
         "type": "scatter",
         "x": [
          36733.87
         ],
         "xaxis": "x",
         "y": [
          1
         ],
         "yaxis": "y"
        },
        {
         "hovertemplate": "OPERATOR=AURORA OPERATIONS<br>Year=2021<br>Annual Mileage=%{x}<br>Annual Total of Disengagements=%{y}<br>Number of Vehicles=%{marker.size}<extra></extra>",
         "ids": [
          "AURORA OPERATIONS"
         ],
         "legendgroup": "AURORA OPERATIONS",
         "marker": {
          "color": "#19d3f3",
          "size": [
           7
          ],
          "sizemode": "area",
          "sizeref": 1.4175,
          "symbol": "circle"
         },
         "mode": "markers",
         "name": "AURORA OPERATIONS",
         "orientation": "v",
         "showlegend": true,
         "type": "scatter",
         "x": [
          12647.07
         ],
         "xaxis": "x",
         "y": [
          9
         ],
         "yaxis": "y"
        },
        {
         "hovertemplate": "OPERATOR=AUTOX TECHNOLOGIES<br>Year=2021<br>Annual Mileage=%{x}<br>Annual Total of Disengagements=%{y}<br>Number of Vehicles=%{marker.size}<extra></extra>",
         "ids": [
          "AUTOX TECHNOLOGIES"
         ],
         "legendgroup": "AUTOX TECHNOLOGIES",
         "marker": {
          "color": "#B6E880",
          "size": [
           7
          ],
          "sizemode": "area",
          "sizeref": 1.4175,
          "symbol": "circle"
         },
         "mode": "markers",
         "name": "AUTOX TECHNOLOGIES",
         "orientation": "v",
         "showlegend": true,
         "type": "scatter",
         "x": [
          50108
         ],
         "xaxis": "x",
         "y": [
          1
         ],
         "yaxis": "y"
        },
        {
         "hovertemplate": "OPERATOR=CRUISE<br>Year=2021<br>Annual Mileage=%{x}<br>Annual Total of Disengagements=%{y}<br>Number of Vehicles=%{marker.size}<extra></extra>",
         "ids": [
          "CRUISE"
         ],
         "legendgroup": "CRUISE",
         "marker": {
          "color": "#FECB52",
          "size": [
           137
          ],
          "sizemode": "area",
          "sizeref": 1.4175,
          "symbol": "circle"
         },
         "mode": "markers",
         "name": "CRUISE",
         "orientation": "v",
         "showlegend": true,
         "type": "scatter",
         "x": [
          876104.72
         ],
         "xaxis": "x",
         "y": [
          21
         ],
         "yaxis": "y"
        },
        {
         "hovertemplate": "OPERATOR=DEEPROUTEAI<br>Year=2021<br>Annual Mileage=%{x}<br>Annual Total of Disengagements=%{y}<br>Number of Vehicles=%{marker.size}<extra></extra>",
         "ids": [
          "DEEPROUTEAI"
         ],
         "legendgroup": "DEEPROUTEAI",
         "marker": {
          "color": "#636efa",
          "size": [
           2
          ],
          "sizemode": "area",
          "sizeref": 1.4175,
          "symbol": "circle"
         },
         "mode": "markers",
         "name": "DEEPROUTEAI",
         "orientation": "v",
         "showlegend": true,
         "type": "scatter",
         "x": [
          30872
         ],
         "xaxis": "x",
         "y": [
          2
         ],
         "yaxis": "y"
        },
        {
         "hovertemplate": "OPERATOR=DIDI RESEARCH AMERICA<br>Year=2021<br>Annual Mileage=%{x}<br>Annual Total of Disengagements=%{y}<br>Number of Vehicles=%{marker.size}<extra></extra>",
         "ids": [
          "DIDI RESEARCH AMERICA"
         ],
         "legendgroup": "DIDI RESEARCH AMERICA",
         "marker": {
          "color": "#EF553B",
          "size": [
           10
          ],
          "sizemode": "area",
          "sizeref": 1.4175,
          "symbol": "circle"
         },
         "mode": "markers",
         "name": "DIDI RESEARCH AMERICA",
         "orientation": "v",
         "showlegend": true,
         "type": "scatter",
         "x": [
          40744.67
         ],
         "xaxis": "x",
         "y": [
          1
         ],
         "yaxis": "y"
        },
        {
         "hovertemplate": "OPERATOR=EASYMILE<br>Year=2021<br>Annual Mileage=%{x}<br>Annual Total of Disengagements=%{y}<br>Number of Vehicles=%{marker.size}<extra></extra>",
         "ids": [
          "EASYMILE"
         ],
         "legendgroup": "EASYMILE",
         "marker": {
          "color": "#00cc96",
          "size": [
           1
          ],
          "sizemode": "area",
          "sizeref": 1.4175,
          "symbol": "circle"
         },
         "mode": "markers",
         "name": "EASYMILE",
         "orientation": "v",
         "showlegend": true,
         "type": "scatter",
         "x": [
          320
         ],
         "xaxis": "x",
         "y": [
          222
         ],
         "yaxis": "y"
        },
        {
         "hovertemplate": "OPERATOR=GATIK AI<br>Year=2021<br>Annual Mileage=%{x}<br>Annual Total of Disengagements=%{y}<br>Number of Vehicles=%{marker.size}<extra></extra>",
         "ids": [
          "GATIK AI"
         ],
         "legendgroup": "GATIK AI",
         "marker": {
          "color": "#ab63fa",
          "size": [
           1
          ],
          "sizemode": "area",
          "sizeref": 1.4175,
          "symbol": "circle"
         },
         "mode": "markers",
         "name": "GATIK AI",
         "orientation": "v",
         "showlegend": true,
         "type": "scatter",
         "x": [
          1924
         ],
         "xaxis": "x",
         "y": [
          6
         ],
         "yaxis": "y"
        },
        {
         "hovertemplate": "OPERATOR=IMAGRY<br>Year=2021<br>Annual Mileage=%{x}<br>Annual Total of Disengagements=%{y}<br>Number of Vehicles=%{marker.size}<extra></extra>",
         "ids": [
          "IMAGRY"
         ],
         "legendgroup": "IMAGRY",
         "marker": {
          "color": "#19d3f3",
          "size": [
           1
          ],
          "sizemode": "area",
          "sizeref": 1.4175,
          "symbol": "circle"
         },
         "mode": "markers",
         "name": "IMAGRY",
         "orientation": "v",
         "showlegend": true,
         "type": "scatter",
         "x": [
          731.25
         ],
         "xaxis": "x",
         "y": [
          71
         ],
         "yaxis": "y"
        },
        {
         "hovertemplate": "OPERATOR=LYFT<br>Year=2021<br>Annual Mileage=%{x}<br>Annual Total of Disengagements=%{y}<br>Number of Vehicles=%{marker.size}<extra></extra>",
         "ids": [
          "LYFT"
         ],
         "legendgroup": "LYFT",
         "marker": {
          "color": "#B6E880",
          "size": [
           23
          ],
          "sizemode": "area",
          "sizeref": 1.4175,
          "symbol": "circle"
         },
         "mode": "markers",
         "name": "LYFT",
         "orientation": "v",
         "showlegend": true,
         "type": "scatter",
         "x": [
          11200.10544488
         ],
         "xaxis": "x",
         "y": [
          23
         ],
         "yaxis": "y"
        },
        {
         "hovertemplate": "OPERATOR=MERCEDES-BENZ RESEARCH & DEVELOPMENT NORTH AMERICA<br>Year=2021<br>Annual Mileage=%{x}<br>Annual Total of Disengagements=%{y}<br>Number of Vehicles=%{marker.size}<extra></extra>",
         "ids": [
          "MERCEDES-BENZ RESEARCH & DEVELOPMENT NORTH AMERICA"
         ],
         "legendgroup": "MERCEDES-BENZ RESEARCH & DEVELOPMENT NORTH AMERICA",
         "marker": {
          "color": "#FECB52",
          "size": [
           14
          ],
          "sizemode": "area",
          "sizeref": 1.4175,
          "symbol": "circle"
         },
         "mode": "markers",
         "name": "MERCEDES-BENZ RESEARCH & DEVELOPMENT NORTH AMERICA",
         "orientation": "v",
         "showlegend": true,
         "type": "scatter",
         "x": [
          58613
         ],
         "xaxis": "x",
         "y": [
          272
         ],
         "yaxis": "y"
        },
        {
         "hovertemplate": "OPERATOR=NISSAN NORTH AMERICA  DBA ALLIANCE INNOVATION LAB<br>Year=2021<br>Annual Mileage=%{x}<br>Annual Total of Disengagements=%{y}<br>Number of Vehicles=%{marker.size}<extra></extra>",
         "ids": [
          "NISSAN NORTH AMERICA  DBA ALLIANCE INNOVATION LAB"
         ],
         "legendgroup": "NISSAN NORTH AMERICA  DBA ALLIANCE INNOVATION LAB",
         "marker": {
          "color": "#00cc96",
          "size": [
           3
          ],
          "sizemode": "area",
          "sizeref": 1.4175,
          "symbol": "circle"
         },
         "mode": "markers",
         "name": "NISSAN NORTH AMERICA  DBA ALLIANCE INNOVATION LAB",
         "orientation": "v",
         "showlegend": true,
         "type": "scatter",
         "x": [
          508
         ],
         "xaxis": "x",
         "y": [
          17
         ],
         "yaxis": "y"
        },
        {
         "hovertemplate": "OPERATOR=NURO<br>Year=2021<br>Annual Mileage=%{x}<br>Annual Total of Disengagements=%{y}<br>Number of Vehicles=%{marker.size}<extra></extra>",
         "ids": [
          "NURO"
         ],
         "legendgroup": "NURO",
         "marker": {
          "color": "#ab63fa",
          "size": [
           15
          ],
          "sizemode": "area",
          "sizeref": 1.4175,
          "symbol": "circle"
         },
         "mode": "markers",
         "name": "NURO",
         "orientation": "v",
         "showlegend": true,
         "type": "scatter",
         "x": [
          59100.020000000004
         ],
         "xaxis": "x",
         "y": [
          23
         ],
         "yaxis": "y"
        },
        {
         "hovertemplate": "OPERATOR=NVIDIA<br>Year=2021<br>Annual Mileage=%{x}<br>Annual Total of Disengagements=%{y}<br>Number of Vehicles=%{marker.size}<extra></extra>",
         "ids": [
          "NVIDIA"
         ],
         "legendgroup": "NVIDIA",
         "marker": {
          "color": "#FFA15A",
          "size": [
           6
          ],
          "sizemode": "area",
          "sizeref": 1.4175,
          "symbol": "circle"
         },
         "mode": "markers",
         "name": "NVIDIA",
         "orientation": "v",
         "showlegend": true,
         "type": "scatter",
         "x": [
          28004
         ],
         "xaxis": "x",
         "y": [
          82
         ],
         "yaxis": "y"
        },
        {
         "hovertemplate": "OPERATOR=PONYAI<br>Year=2021<br>Annual Mileage=%{x}<br>Annual Total of Disengagements=%{y}<br>Number of Vehicles=%{marker.size}<extra></extra>",
         "ids": [
          "PONYAI"
         ],
         "legendgroup": "PONYAI",
         "marker": {
          "color": "#FF6692",
          "size": [
           38
          ],
          "sizemode": "area",
          "sizeref": 1.4175,
          "symbol": "circle"
         },
         "mode": "markers",
         "name": "PONYAI",
         "orientation": "v",
         "showlegend": true,
         "type": "scatter",
         "x": [
          305616.73
         ],
         "xaxis": "x",
         "y": [
          21
         ],
         "yaxis": "y"
        },
        {
         "hovertemplate": "OPERATOR=QCRAFT<br>Year=2021<br>Annual Mileage=%{x}<br>Annual Total of Disengagements=%{y}<br>Number of Vehicles=%{marker.size}<extra></extra>",
         "ids": [
          "QCRAFT"
         ],
         "legendgroup": "QCRAFT",
         "marker": {
          "color": "#B6E880",
          "size": [
           2
          ],
          "sizemode": "area",
          "sizeref": 1.4175,
          "symbol": "circle"
         },
         "mode": "markers",
         "name": "QCRAFT",
         "orientation": "v",
         "showlegend": true,
         "type": "scatter",
         "x": [
          6320
         ],
         "xaxis": "x",
         "y": [
          5
         ],
         "yaxis": "y"
        },
        {
         "hovertemplate": "OPERATOR=QUALCOMM TECHNOLOGIES<br>Year=2021<br>Annual Mileage=%{x}<br>Annual Total of Disengagements=%{y}<br>Number of Vehicles=%{marker.size}<extra></extra>",
         "ids": [
          "QUALCOMM TECHNOLOGIES"
         ],
         "legendgroup": "QUALCOMM TECHNOLOGIES",
         "marker": {
          "color": "#FF97FF",
          "size": [
           3
          ],
          "sizemode": "area",
          "sizeref": 1.4175,
          "symbol": "circle"
         },
         "mode": "markers",
         "name": "QUALCOMM TECHNOLOGIES",
         "orientation": "v",
         "showlegend": true,
         "type": "scatter",
         "x": [
          1635
         ],
         "xaxis": "x",
         "y": [
          143
         ],
         "yaxis": "y"
        },
        {
         "hovertemplate": "OPERATOR=TOYOTA RESEARCH INSTITUTE<br>Year=2021<br>Annual Mileage=%{x}<br>Annual Total of Disengagements=%{y}<br>Number of Vehicles=%{marker.size}<extra></extra>",
         "ids": [
          "TOYOTA RESEARCH INSTITUTE"
         ],
         "legendgroup": "TOYOTA RESEARCH INSTITUTE",
         "marker": {
          "color": "#FECB52",
          "size": [
           4
          ],
          "sizemode": "area",
          "sizeref": 1.4175,
          "symbol": "circle"
         },
         "mode": "markers",
         "name": "TOYOTA RESEARCH INSTITUTE",
         "orientation": "v",
         "showlegend": true,
         "type": "scatter",
         "x": [
          13959
         ],
         "xaxis": "x",
         "y": [
          419
         ],
         "yaxis": "y"
        },
        {
         "hovertemplate": "OPERATOR=UDELV<br>Year=2021<br>Annual Mileage=%{x}<br>Annual Total of Disengagements=%{y}<br>Number of Vehicles=%{marker.size}<extra></extra>",
         "ids": [
          "UDELV"
         ],
         "legendgroup": "UDELV",
         "marker": {
          "color": "#636efa",
          "size": [
           1
          ],
          "sizemode": "area",
          "sizeref": 1.4175,
          "symbol": "circle"
         },
         "mode": "markers",
         "name": "UDELV",
         "orientation": "v",
         "showlegend": true,
         "type": "scatter",
         "x": [
          60
         ],
         "xaxis": "x",
         "y": [
          46
         ],
         "yaxis": "y"
        },
        {
         "hovertemplate": "OPERATOR=VALEO NORTH AMERICA<br>Year=2021<br>Annual Mileage=%{x}<br>Annual Total of Disengagements=%{y}<br>Number of Vehicles=%{marker.size}<extra></extra>",
         "ids": [
          "VALEO NORTH AMERICA"
         ],
         "legendgroup": "VALEO NORTH AMERICA",
         "marker": {
          "color": "#EF553B",
          "size": [
           2
          ],
          "sizemode": "area",
          "sizeref": 1.4175,
          "symbol": "circle"
         },
         "mode": "markers",
         "name": "VALEO NORTH AMERICA",
         "orientation": "v",
         "showlegend": true,
         "type": "scatter",
         "x": [
          336
         ],
         "xaxis": "x",
         "y": [
          205
         ],
         "yaxis": "y"
        },
        {
         "hovertemplate": "OPERATOR=WAYMO<br>Year=2021<br>Annual Mileage=%{x}<br>Annual Total of Disengagements=%{y}<br>Number of Vehicles=%{marker.size}<extra></extra>",
         "ids": [
          "WAYMO"
         ],
         "legendgroup": "WAYMO",
         "marker": {
          "color": "#00cc96",
          "size": [
           567
          ],
          "sizemode": "area",
          "sizeref": 1.4175,
          "symbol": "circle"
         },
         "mode": "markers",
         "name": "WAYMO",
         "orientation": "v",
         "showlegend": true,
         "type": "scatter",
         "x": [
          2325842.9
         ],
         "xaxis": "x",
         "y": [
          292
         ],
         "yaxis": "y"
        },
        {
         "hovertemplate": "OPERATOR=WERIDE CORP<br>Year=2021<br>Annual Mileage=%{x}<br>Annual Total of Disengagements=%{y}<br>Number of Vehicles=%{marker.size}<extra></extra>",
         "ids": [
          "WERIDE CORP"
         ],
         "legendgroup": "WERIDE CORP",
         "marker": {
          "color": "#ab63fa",
          "size": [
           13
          ],
          "sizemode": "area",
          "sizeref": 1.4175,
          "symbol": "circle"
         },
         "mode": "markers",
         "name": "WERIDE CORP",
         "orientation": "v",
         "showlegend": true,
         "type": "scatter",
         "x": [
          57966.25
         ],
         "xaxis": "x",
         "y": [
          3
         ],
         "yaxis": "y"
        },
        {
         "hovertemplate": "OPERATOR=ZOOX<br>Year=2021<br>Annual Mileage=%{x}<br>Annual Total of Disengagements=%{y}<br>Number of Vehicles=%{marker.size}<extra></extra>",
         "ids": [
          "ZOOX"
         ],
         "legendgroup": "ZOOX",
         "marker": {
          "color": "#19d3f3",
          "size": [
           57
          ],
          "sizemode": "area",
          "sizeref": 1.4175,
          "symbol": "circle"
         },
         "mode": "markers",
         "name": "ZOOX",
         "orientation": "v",
         "showlegend": true,
         "type": "scatter",
         "x": [
          155125
         ],
         "xaxis": "x",
         "y": [
          21
         ],
         "yaxis": "y"
        }
       ],
       "frames": [
        {
         "data": [
          {
           "hovertemplate": "OPERATOR=AIMOTIVE<br>Year=2021<br>Annual Mileage=%{x}<br>Annual Total of Disengagements=%{y}<br>Number of Vehicles=%{marker.size}<extra></extra>",
           "ids": [
            "AIMOTIVE"
           ],
           "legendgroup": "AIMOTIVE",
           "marker": {
            "color": "#636efa",
            "size": [
             2
            ],
            "sizemode": "area",
            "sizeref": 1.4175,
            "symbol": "circle"
           },
           "mode": "markers",
           "name": "AIMOTIVE",
           "orientation": "v",
           "showlegend": true,
           "type": "scatter",
           "x": [
            2976
           ],
           "xaxis": "x",
           "y": [
            106
           ],
           "yaxis": "y"
          },
          {
           "hovertemplate": "OPERATOR=APOLLO AUTONOMOUS DRIVING USA<br>Year=2021<br>Annual Mileage=%{x}<br>Annual Total of Disengagements=%{y}<br>Number of Vehicles=%{marker.size}<extra></extra>",
           "ids": [
            "APOLLO AUTONOMOUS DRIVING USA"
           ],
           "legendgroup": "APOLLO AUTONOMOUS DRIVING USA",
           "marker": {
            "color": "#00cc96",
            "size": [
             2
            ],
            "sizemode": "area",
            "sizeref": 1.4175,
            "symbol": "circle"
           },
           "mode": "markers",
           "name": "APOLLO AUTONOMOUS DRIVING USA",
           "orientation": "v",
           "showlegend": true,
           "type": "scatter",
           "x": [
            1467.5
           ],
           "xaxis": "x",
           "y": [
            1
           ],
           "yaxis": "y"
          },
          {
           "hovertemplate": "OPERATOR=APPLE<br>Year=2021<br>Annual Mileage=%{x}<br>Annual Total of Disengagements=%{y}<br>Number of Vehicles=%{marker.size}<extra></extra>",
           "ids": [
            "APPLE"
           ],
           "legendgroup": "APPLE",
           "marker": {
            "color": "#ab63fa",
            "size": [
             35
            ],
            "sizemode": "area",
            "sizeref": 1.4175,
            "symbol": "circle"
           },
           "mode": "markers",
           "name": "APPLE",
           "orientation": "v",
           "showlegend": true,
           "type": "scatter",
           "x": [
            13272
           ],
           "xaxis": "x",
           "y": [
            663
           ],
           "yaxis": "y"
          },
          {
           "hovertemplate": "OPERATOR=ARGO AI<br>Year=2021<br>Annual Mileage=%{x}<br>Annual Total of Disengagements=%{y}<br>Number of Vehicles=%{marker.size}<extra></extra>",
           "ids": [
            "ARGO AI"
           ],
           "legendgroup": "ARGO AI",
           "marker": {
            "color": "#FFA15A",
            "size": [
             7
            ],
            "sizemode": "area",
            "sizeref": 1.4175,
            "symbol": "circle"
           },
           "mode": "markers",
           "name": "ARGO AI",
           "orientation": "v",
           "showlegend": true,
           "type": "scatter",
           "x": [
            36733.87
           ],
           "xaxis": "x",
           "y": [
            1
           ],
           "yaxis": "y"
          },
          {
           "hovertemplate": "OPERATOR=AURORA OPERATIONS<br>Year=2021<br>Annual Mileage=%{x}<br>Annual Total of Disengagements=%{y}<br>Number of Vehicles=%{marker.size}<extra></extra>",
           "ids": [
            "AURORA OPERATIONS"
           ],
           "legendgroup": "AURORA OPERATIONS",
           "marker": {
            "color": "#19d3f3",
            "size": [
             7
            ],
            "sizemode": "area",
            "sizeref": 1.4175,
            "symbol": "circle"
           },
           "mode": "markers",
           "name": "AURORA OPERATIONS",
           "orientation": "v",
           "showlegend": true,
           "type": "scatter",
           "x": [
            12647.07
           ],
           "xaxis": "x",
           "y": [
            9
           ],
           "yaxis": "y"
          },
          {
           "hovertemplate": "OPERATOR=AUTOX TECHNOLOGIES<br>Year=2021<br>Annual Mileage=%{x}<br>Annual Total of Disengagements=%{y}<br>Number of Vehicles=%{marker.size}<extra></extra>",
           "ids": [
            "AUTOX TECHNOLOGIES"
           ],
           "legendgroup": "AUTOX TECHNOLOGIES",
           "marker": {
            "color": "#B6E880",
            "size": [
             7
            ],
            "sizemode": "area",
            "sizeref": 1.4175,
            "symbol": "circle"
           },
           "mode": "markers",
           "name": "AUTOX TECHNOLOGIES",
           "orientation": "v",
           "showlegend": true,
           "type": "scatter",
           "x": [
            50108
           ],
           "xaxis": "x",
           "y": [
            1
           ],
           "yaxis": "y"
          },
          {
           "hovertemplate": "OPERATOR=CRUISE<br>Year=2021<br>Annual Mileage=%{x}<br>Annual Total of Disengagements=%{y}<br>Number of Vehicles=%{marker.size}<extra></extra>",
           "ids": [
            "CRUISE"
           ],
           "legendgroup": "CRUISE",
           "marker": {
            "color": "#FECB52",
            "size": [
             137
            ],
            "sizemode": "area",
            "sizeref": 1.4175,
            "symbol": "circle"
           },
           "mode": "markers",
           "name": "CRUISE",
           "orientation": "v",
           "showlegend": true,
           "type": "scatter",
           "x": [
            876104.72
           ],
           "xaxis": "x",
           "y": [
            21
           ],
           "yaxis": "y"
          },
          {
           "hovertemplate": "OPERATOR=DEEPROUTEAI<br>Year=2021<br>Annual Mileage=%{x}<br>Annual Total of Disengagements=%{y}<br>Number of Vehicles=%{marker.size}<extra></extra>",
           "ids": [
            "DEEPROUTEAI"
           ],
           "legendgroup": "DEEPROUTEAI",
           "marker": {
            "color": "#636efa",
            "size": [
             2
            ],
            "sizemode": "area",
            "sizeref": 1.4175,
            "symbol": "circle"
           },
           "mode": "markers",
           "name": "DEEPROUTEAI",
           "orientation": "v",
           "showlegend": true,
           "type": "scatter",
           "x": [
            30872
           ],
           "xaxis": "x",
           "y": [
            2
           ],
           "yaxis": "y"
          },
          {
           "hovertemplate": "OPERATOR=DIDI RESEARCH AMERICA<br>Year=2021<br>Annual Mileage=%{x}<br>Annual Total of Disengagements=%{y}<br>Number of Vehicles=%{marker.size}<extra></extra>",
           "ids": [
            "DIDI RESEARCH AMERICA"
           ],
           "legendgroup": "DIDI RESEARCH AMERICA",
           "marker": {
            "color": "#EF553B",
            "size": [
             10
            ],
            "sizemode": "area",
            "sizeref": 1.4175,
            "symbol": "circle"
           },
           "mode": "markers",
           "name": "DIDI RESEARCH AMERICA",
           "orientation": "v",
           "showlegend": true,
           "type": "scatter",
           "x": [
            40744.67
           ],
           "xaxis": "x",
           "y": [
            1
           ],
           "yaxis": "y"
          },
          {
           "hovertemplate": "OPERATOR=EASYMILE<br>Year=2021<br>Annual Mileage=%{x}<br>Annual Total of Disengagements=%{y}<br>Number of Vehicles=%{marker.size}<extra></extra>",
           "ids": [
            "EASYMILE"
           ],
           "legendgroup": "EASYMILE",
           "marker": {
            "color": "#00cc96",
            "size": [
             1
            ],
            "sizemode": "area",
            "sizeref": 1.4175,
            "symbol": "circle"
           },
           "mode": "markers",
           "name": "EASYMILE",
           "orientation": "v",
           "showlegend": true,
           "type": "scatter",
           "x": [
            320
           ],
           "xaxis": "x",
           "y": [
            222
           ],
           "yaxis": "y"
          },
          {
           "hovertemplate": "OPERATOR=GATIK AI<br>Year=2021<br>Annual Mileage=%{x}<br>Annual Total of Disengagements=%{y}<br>Number of Vehicles=%{marker.size}<extra></extra>",
           "ids": [
            "GATIK AI"
           ],
           "legendgroup": "GATIK AI",
           "marker": {
            "color": "#ab63fa",
            "size": [
             1
            ],
            "sizemode": "area",
            "sizeref": 1.4175,
            "symbol": "circle"
           },
           "mode": "markers",
           "name": "GATIK AI",
           "orientation": "v",
           "showlegend": true,
           "type": "scatter",
           "x": [
            1924
           ],
           "xaxis": "x",
           "y": [
            6
           ],
           "yaxis": "y"
          },
          {
           "hovertemplate": "OPERATOR=IMAGRY<br>Year=2021<br>Annual Mileage=%{x}<br>Annual Total of Disengagements=%{y}<br>Number of Vehicles=%{marker.size}<extra></extra>",
           "ids": [
            "IMAGRY"
           ],
           "legendgroup": "IMAGRY",
           "marker": {
            "color": "#19d3f3",
            "size": [
             1
            ],
            "sizemode": "area",
            "sizeref": 1.4175,
            "symbol": "circle"
           },
           "mode": "markers",
           "name": "IMAGRY",
           "orientation": "v",
           "showlegend": true,
           "type": "scatter",
           "x": [
            731.25
           ],
           "xaxis": "x",
           "y": [
            71
           ],
           "yaxis": "y"
          },
          {
           "hovertemplate": "OPERATOR=LYFT<br>Year=2021<br>Annual Mileage=%{x}<br>Annual Total of Disengagements=%{y}<br>Number of Vehicles=%{marker.size}<extra></extra>",
           "ids": [
            "LYFT"
           ],
           "legendgroup": "LYFT",
           "marker": {
            "color": "#B6E880",
            "size": [
             23
            ],
            "sizemode": "area",
            "sizeref": 1.4175,
            "symbol": "circle"
           },
           "mode": "markers",
           "name": "LYFT",
           "orientation": "v",
           "showlegend": true,
           "type": "scatter",
           "x": [
            11200.10544488
           ],
           "xaxis": "x",
           "y": [
            23
           ],
           "yaxis": "y"
          },
          {
           "hovertemplate": "OPERATOR=MERCEDES-BENZ RESEARCH & DEVELOPMENT NORTH AMERICA<br>Year=2021<br>Annual Mileage=%{x}<br>Annual Total of Disengagements=%{y}<br>Number of Vehicles=%{marker.size}<extra></extra>",
           "ids": [
            "MERCEDES-BENZ RESEARCH & DEVELOPMENT NORTH AMERICA"
           ],
           "legendgroup": "MERCEDES-BENZ RESEARCH & DEVELOPMENT NORTH AMERICA",
           "marker": {
            "color": "#FECB52",
            "size": [
             14
            ],
            "sizemode": "area",
            "sizeref": 1.4175,
            "symbol": "circle"
           },
           "mode": "markers",
           "name": "MERCEDES-BENZ RESEARCH & DEVELOPMENT NORTH AMERICA",
           "orientation": "v",
           "showlegend": true,
           "type": "scatter",
           "x": [
            58613
           ],
           "xaxis": "x",
           "y": [
            272
           ],
           "yaxis": "y"
          },
          {
           "hovertemplate": "OPERATOR=NISSAN NORTH AMERICA  DBA ALLIANCE INNOVATION LAB<br>Year=2021<br>Annual Mileage=%{x}<br>Annual Total of Disengagements=%{y}<br>Number of Vehicles=%{marker.size}<extra></extra>",
           "ids": [
            "NISSAN NORTH AMERICA  DBA ALLIANCE INNOVATION LAB"
           ],
           "legendgroup": "NISSAN NORTH AMERICA  DBA ALLIANCE INNOVATION LAB",
           "marker": {
            "color": "#00cc96",
            "size": [
             3
            ],
            "sizemode": "area",
            "sizeref": 1.4175,
            "symbol": "circle"
           },
           "mode": "markers",
           "name": "NISSAN NORTH AMERICA  DBA ALLIANCE INNOVATION LAB",
           "orientation": "v",
           "showlegend": true,
           "type": "scatter",
           "x": [
            508
           ],
           "xaxis": "x",
           "y": [
            17
           ],
           "yaxis": "y"
          },
          {
           "hovertemplate": "OPERATOR=NURO<br>Year=2021<br>Annual Mileage=%{x}<br>Annual Total of Disengagements=%{y}<br>Number of Vehicles=%{marker.size}<extra></extra>",
           "ids": [
            "NURO"
           ],
           "legendgroup": "NURO",
           "marker": {
            "color": "#ab63fa",
            "size": [
             15
            ],
            "sizemode": "area",
            "sizeref": 1.4175,
            "symbol": "circle"
           },
           "mode": "markers",
           "name": "NURO",
           "orientation": "v",
           "showlegend": true,
           "type": "scatter",
           "x": [
            59100.020000000004
           ],
           "xaxis": "x",
           "y": [
            23
           ],
           "yaxis": "y"
          },
          {
           "hovertemplate": "OPERATOR=NVIDIA<br>Year=2021<br>Annual Mileage=%{x}<br>Annual Total of Disengagements=%{y}<br>Number of Vehicles=%{marker.size}<extra></extra>",
           "ids": [
            "NVIDIA"
           ],
           "legendgroup": "NVIDIA",
           "marker": {
            "color": "#FFA15A",
            "size": [
             6
            ],
            "sizemode": "area",
            "sizeref": 1.4175,
            "symbol": "circle"
           },
           "mode": "markers",
           "name": "NVIDIA",
           "orientation": "v",
           "showlegend": true,
           "type": "scatter",
           "x": [
            28004
           ],
           "xaxis": "x",
           "y": [
            82
           ],
           "yaxis": "y"
          },
          {
           "hovertemplate": "OPERATOR=PONYAI<br>Year=2021<br>Annual Mileage=%{x}<br>Annual Total of Disengagements=%{y}<br>Number of Vehicles=%{marker.size}<extra></extra>",
           "ids": [
            "PONYAI"
           ],
           "legendgroup": "PONYAI",
           "marker": {
            "color": "#FF6692",
            "size": [
             38
            ],
            "sizemode": "area",
            "sizeref": 1.4175,
            "symbol": "circle"
           },
           "mode": "markers",
           "name": "PONYAI",
           "orientation": "v",
           "showlegend": true,
           "type": "scatter",
           "x": [
            305616.73
           ],
           "xaxis": "x",
           "y": [
            21
           ],
           "yaxis": "y"
          },
          {
           "hovertemplate": "OPERATOR=QCRAFT<br>Year=2021<br>Annual Mileage=%{x}<br>Annual Total of Disengagements=%{y}<br>Number of Vehicles=%{marker.size}<extra></extra>",
           "ids": [
            "QCRAFT"
           ],
           "legendgroup": "QCRAFT",
           "marker": {
            "color": "#B6E880",
            "size": [
             2
            ],
            "sizemode": "area",
            "sizeref": 1.4175,
            "symbol": "circle"
           },
           "mode": "markers",
           "name": "QCRAFT",
           "orientation": "v",
           "showlegend": true,
           "type": "scatter",
           "x": [
            6320
           ],
           "xaxis": "x",
           "y": [
            5
           ],
           "yaxis": "y"
          },
          {
           "hovertemplate": "OPERATOR=QUALCOMM TECHNOLOGIES<br>Year=2021<br>Annual Mileage=%{x}<br>Annual Total of Disengagements=%{y}<br>Number of Vehicles=%{marker.size}<extra></extra>",
           "ids": [
            "QUALCOMM TECHNOLOGIES"
           ],
           "legendgroup": "QUALCOMM TECHNOLOGIES",
           "marker": {
            "color": "#FF97FF",
            "size": [
             3
            ],
            "sizemode": "area",
            "sizeref": 1.4175,
            "symbol": "circle"
           },
           "mode": "markers",
           "name": "QUALCOMM TECHNOLOGIES",
           "orientation": "v",
           "showlegend": true,
           "type": "scatter",
           "x": [
            1635
           ],
           "xaxis": "x",
           "y": [
            143
           ],
           "yaxis": "y"
          },
          {
           "hovertemplate": "OPERATOR=TOYOTA RESEARCH INSTITUTE<br>Year=2021<br>Annual Mileage=%{x}<br>Annual Total of Disengagements=%{y}<br>Number of Vehicles=%{marker.size}<extra></extra>",
           "ids": [
            "TOYOTA RESEARCH INSTITUTE"
           ],
           "legendgroup": "TOYOTA RESEARCH INSTITUTE",
           "marker": {
            "color": "#FECB52",
            "size": [
             4
            ],
            "sizemode": "area",
            "sizeref": 1.4175,
            "symbol": "circle"
           },
           "mode": "markers",
           "name": "TOYOTA RESEARCH INSTITUTE",
           "orientation": "v",
           "showlegend": true,
           "type": "scatter",
           "x": [
            13959
           ],
           "xaxis": "x",
           "y": [
            419
           ],
           "yaxis": "y"
          },
          {
           "hovertemplate": "OPERATOR=UDELV<br>Year=2021<br>Annual Mileage=%{x}<br>Annual Total of Disengagements=%{y}<br>Number of Vehicles=%{marker.size}<extra></extra>",
           "ids": [
            "UDELV"
           ],
           "legendgroup": "UDELV",
           "marker": {
            "color": "#636efa",
            "size": [
             1
            ],
            "sizemode": "area",
            "sizeref": 1.4175,
            "symbol": "circle"
           },
           "mode": "markers",
           "name": "UDELV",
           "orientation": "v",
           "showlegend": true,
           "type": "scatter",
           "x": [
            60
           ],
           "xaxis": "x",
           "y": [
            46
           ],
           "yaxis": "y"
          },
          {
           "hovertemplate": "OPERATOR=VALEO NORTH AMERICA<br>Year=2021<br>Annual Mileage=%{x}<br>Annual Total of Disengagements=%{y}<br>Number of Vehicles=%{marker.size}<extra></extra>",
           "ids": [
            "VALEO NORTH AMERICA"
           ],
           "legendgroup": "VALEO NORTH AMERICA",
           "marker": {
            "color": "#EF553B",
            "size": [
             2
            ],
            "sizemode": "area",
            "sizeref": 1.4175,
            "symbol": "circle"
           },
           "mode": "markers",
           "name": "VALEO NORTH AMERICA",
           "orientation": "v",
           "showlegend": true,
           "type": "scatter",
           "x": [
            336
           ],
           "xaxis": "x",
           "y": [
            205
           ],
           "yaxis": "y"
          },
          {
           "hovertemplate": "OPERATOR=WAYMO<br>Year=2021<br>Annual Mileage=%{x}<br>Annual Total of Disengagements=%{y}<br>Number of Vehicles=%{marker.size}<extra></extra>",
           "ids": [
            "WAYMO"
           ],
           "legendgroup": "WAYMO",
           "marker": {
            "color": "#00cc96",
            "size": [
             567
            ],
            "sizemode": "area",
            "sizeref": 1.4175,
            "symbol": "circle"
           },
           "mode": "markers",
           "name": "WAYMO",
           "orientation": "v",
           "showlegend": true,
           "type": "scatter",
           "x": [
            2325842.9
           ],
           "xaxis": "x",
           "y": [
            292
           ],
           "yaxis": "y"
          },
          {
           "hovertemplate": "OPERATOR=WERIDE CORP<br>Year=2021<br>Annual Mileage=%{x}<br>Annual Total of Disengagements=%{y}<br>Number of Vehicles=%{marker.size}<extra></extra>",
           "ids": [
            "WERIDE CORP"
           ],
           "legendgroup": "WERIDE CORP",
           "marker": {
            "color": "#ab63fa",
            "size": [
             13
            ],
            "sizemode": "area",
            "sizeref": 1.4175,
            "symbol": "circle"
           },
           "mode": "markers",
           "name": "WERIDE CORP",
           "orientation": "v",
           "showlegend": true,
           "type": "scatter",
           "x": [
            57966.25
           ],
           "xaxis": "x",
           "y": [
            3
           ],
           "yaxis": "y"
          },
          {
           "hovertemplate": "OPERATOR=ZOOX<br>Year=2021<br>Annual Mileage=%{x}<br>Annual Total of Disengagements=%{y}<br>Number of Vehicles=%{marker.size}<extra></extra>",
           "ids": [
            "ZOOX"
           ],
           "legendgroup": "ZOOX",
           "marker": {
            "color": "#19d3f3",
            "size": [
             57
            ],
            "sizemode": "area",
            "sizeref": 1.4175,
            "symbol": "circle"
           },
           "mode": "markers",
           "name": "ZOOX",
           "orientation": "v",
           "showlegend": true,
           "type": "scatter",
           "x": [
            155125
           ],
           "xaxis": "x",
           "y": [
            21
           ],
           "yaxis": "y"
          }
         ],
         "name": "2021"
        },
        {
         "data": [
          {
           "hovertemplate": "OPERATOR=AIMOTIVE<br>Year=2022<br>Annual Mileage=%{x}<br>Annual Total of Disengagements=%{y}<br>Number of Vehicles=%{marker.size}<extra></extra>",
           "ids": [
            "AIMOTIVE"
           ],
           "legendgroup": "AIMOTIVE",
           "marker": {
            "color": "#636efa",
            "size": [
             2
            ],
            "sizemode": "area",
            "sizeref": 1.4175,
            "symbol": "circle"
           },
           "mode": "markers",
           "name": "AIMOTIVE",
           "orientation": "v",
           "showlegend": true,
           "type": "scatter",
           "x": [
            15215
           ],
           "xaxis": "x",
           "y": [
            680
           ],
           "yaxis": "y"
          },
          {
           "hovertemplate": "OPERATOR=APOLLO AUTONOMOUS DRIVING USA<br>Year=2022<br>Annual Mileage=%{x}<br>Annual Total of Disengagements=%{y}<br>Number of Vehicles=%{marker.size}<extra></extra>",
           "ids": [
            "APOLLO AUTONOMOUS DRIVING USA"
           ],
           "legendgroup": "APOLLO AUTONOMOUS DRIVING USA",
           "marker": {
            "color": "#00cc96",
            "size": [
             4
            ],
            "sizemode": "area",
            "sizeref": 1.4175,
            "symbol": "circle"
           },
           "mode": "markers",
           "name": "APOLLO AUTONOMOUS DRIVING USA",
           "orientation": "v",
           "showlegend": true,
           "type": "scatter",
           "x": [
            2477
           ],
           "xaxis": "x",
           "y": [
            0
           ],
           "yaxis": "y"
          },
          {
           "hovertemplate": "OPERATOR=APPLE<br>Year=2022<br>Annual Mileage=%{x}<br>Annual Total of Disengagements=%{y}<br>Number of Vehicles=%{marker.size}<extra></extra>",
           "ids": [
            "APPLE"
           ],
           "legendgroup": "APPLE",
           "marker": {
            "color": "#ab63fa",
            "size": [
             48
            ],
            "sizemode": "area",
            "sizeref": 1.4175,
            "symbol": "circle"
           },
           "mode": "markers",
           "name": "APPLE",
           "orientation": "v",
           "showlegend": true,
           "type": "scatter",
           "x": [
            125096.3
           ],
           "xaxis": "x",
           "y": [
            5982
           ],
           "yaxis": "y"
          },
          {
           "hovertemplate": "OPERATOR=ARGO AI<br>Year=2022<br>Annual Mileage=%{x}<br>Annual Total of Disengagements=%{y}<br>Number of Vehicles=%{marker.size}<extra></extra>",
           "ids": [
            "ARGO AI"
           ],
           "legendgroup": "ARGO AI",
           "marker": {
            "color": "#FFA15A",
            "size": [
             10
            ],
            "sizemode": "area",
            "sizeref": 1.4175,
            "symbol": "circle"
           },
           "mode": "markers",
           "name": "ARGO AI",
           "orientation": "v",
           "showlegend": true,
           "type": "scatter",
           "x": [
            18640.809999999998
           ],
           "xaxis": "x",
           "y": [
            1
           ],
           "yaxis": "y"
          },
          {
           "hovertemplate": "OPERATOR=AURORA OPERATIONS<br>Year=2022<br>Annual Mileage=%{x}<br>Annual Total of Disengagements=%{y}<br>Number of Vehicles=%{marker.size}<extra></extra>",
           "ids": [
            "AURORA OPERATIONS"
           ],
           "legendgroup": "AURORA OPERATIONS",
           "marker": {
            "color": "#19d3f3",
            "size": [
             1
            ],
            "sizemode": "area",
            "sizeref": 1.4175,
            "symbol": "circle"
           },
           "mode": "markers",
           "name": "AURORA OPERATIONS",
           "orientation": "v",
           "showlegend": true,
           "type": "scatter",
           "x": [
            25.86
           ],
           "xaxis": "x",
           "y": [
            0
           ],
           "yaxis": "y"
          },
          {
           "hovertemplate": "OPERATOR=AUTOX TECHNOLOGIES<br>Year=2022<br>Annual Mileage=%{x}<br>Annual Total of Disengagements=%{y}<br>Number of Vehicles=%{marker.size}<extra></extra>",
           "ids": [
            "AUTOX TECHNOLOGIES"
           ],
           "legendgroup": "AUTOX TECHNOLOGIES",
           "marker": {
            "color": "#B6E880",
            "size": [
             15
            ],
            "sizemode": "area",
            "sizeref": 1.4175,
            "symbol": "circle"
           },
           "mode": "markers",
           "name": "AUTOX TECHNOLOGIES",
           "orientation": "v",
           "showlegend": true,
           "type": "scatter",
           "x": [
            49314
           ],
           "xaxis": "x",
           "y": [
            1
           ],
           "yaxis": "y"
          },
          {
           "hovertemplate": "OPERATOR=CRUISE<br>Year=2022<br>Annual Mileage=%{x}<br>Annual Total of Disengagements=%{y}<br>Number of Vehicles=%{marker.size}<extra></extra>",
           "ids": [
            "CRUISE"
           ],
           "legendgroup": "CRUISE",
           "marker": {
            "color": "#FECB52",
            "size": [
             350
            ],
            "sizemode": "area",
            "sizeref": 1.4175,
            "symbol": "circle"
           },
           "mode": "markers",
           "name": "CRUISE",
           "orientation": "v",
           "showlegend": true,
           "type": "scatter",
           "x": [
            863110.92
           ],
           "xaxis": "x",
           "y": [
            9
           ],
           "yaxis": "y"
          },
          {
           "hovertemplate": "OPERATOR=DEEPROUTEAI<br>Year=2022<br>Annual Mileage=%{x}<br>Annual Total of Disengagements=%{y}<br>Number of Vehicles=%{marker.size}<extra></extra>",
           "ids": [
            "DEEPROUTEAI"
           ],
           "legendgroup": "DEEPROUTEAI",
           "marker": {
            "color": "#636efa",
            "size": [
             2
            ],
            "sizemode": "area",
            "sizeref": 1.4175,
            "symbol": "circle"
           },
           "mode": "markers",
           "name": "DEEPROUTEAI",
           "orientation": "v",
           "showlegend": true,
           "type": "scatter",
           "x": [
            761
           ],
           "xaxis": "x",
           "y": [
            0
           ],
           "yaxis": "y"
          },
          {
           "hovertemplate": "OPERATOR=DIDI RESEARCH AMERICA<br>Year=2022<br>Annual Mileage=%{x}<br>Annual Total of Disengagements=%{y}<br>Number of Vehicles=%{marker.size}<extra></extra>",
           "ids": [
            "DIDI RESEARCH AMERICA"
           ],
           "legendgroup": "DIDI RESEARCH AMERICA",
           "marker": {
            "color": "#EF553B",
            "size": [
             10
            ],
            "sizemode": "area",
            "sizeref": 1.4175,
            "symbol": "circle"
           },
           "mode": "markers",
           "name": "DIDI RESEARCH AMERICA",
           "orientation": "v",
           "showlegend": true,
           "type": "scatter",
           "x": [
            38265.14
           ],
           "xaxis": "x",
           "y": [
            2
           ],
           "yaxis": "y"
          },
          {
           "hovertemplate": "OPERATOR=GATIK AI<br>Year=2022<br>Annual Mileage=%{x}<br>Annual Total of Disengagements=%{y}<br>Number of Vehicles=%{marker.size}<extra></extra>",
           "ids": [
            "GATIK AI"
           ],
           "legendgroup": "GATIK AI",
           "marker": {
            "color": "#ab63fa",
            "size": [
             1
            ],
            "sizemode": "area",
            "sizeref": 1.4175,
            "symbol": "circle"
           },
           "mode": "markers",
           "name": "GATIK AI",
           "orientation": "v",
           "showlegend": true,
           "type": "scatter",
           "x": [
            1016
           ],
           "xaxis": "x",
           "y": [
            3
           ],
           "yaxis": "y"
          },
          {
           "hovertemplate": "OPERATOR=GHOST AUTONOMY<br>Year=2022<br>Annual Mileage=%{x}<br>Annual Total of Disengagements=%{y}<br>Number of Vehicles=%{marker.size}<extra></extra>",
           "ids": [
            "GHOST AUTONOMY"
           ],
           "legendgroup": "GHOST AUTONOMY",
           "marker": {
            "color": "#FFA15A",
            "size": [
             8
            ],
            "sizemode": "area",
            "sizeref": 1.4175,
            "symbol": "circle"
           },
           "mode": "markers",
           "name": "GHOST AUTONOMY",
           "orientation": "v",
           "showlegend": true,
           "type": "scatter",
           "x": [
            14558.880000000001
           ],
           "xaxis": "x",
           "y": [
            448
           ],
           "yaxis": "y"
          },
          {
           "hovertemplate": "OPERATOR=IMAGRY<br>Year=2022<br>Annual Mileage=%{x}<br>Annual Total of Disengagements=%{y}<br>Number of Vehicles=%{marker.size}<extra></extra>",
           "ids": [
            "IMAGRY"
           ],
           "legendgroup": "IMAGRY",
           "marker": {
            "color": "#19d3f3",
            "size": [
             1
            ],
            "sizemode": "area",
            "sizeref": 1.4175,
            "symbol": "circle"
           },
           "mode": "markers",
           "name": "IMAGRY",
           "orientation": "v",
           "showlegend": true,
           "type": "scatter",
           "x": [
            650.1125
           ],
           "xaxis": "x",
           "y": [
            204
           ],
           "yaxis": "y"
          },
          {
           "hovertemplate": "OPERATOR=INTEL CORPORATION<br>Year=2022<br>Annual Mileage=%{x}<br>Annual Total of Disengagements=%{y}<br>Number of Vehicles=%{marker.size}<extra></extra>",
           "ids": [
            "INTEL CORPORATION"
           ],
           "legendgroup": "INTEL CORPORATION",
           "marker": {
            "color": "#FF6692",
            "size": [
             2
            ],
            "sizemode": "area",
            "sizeref": 1.4175,
            "symbol": "circle"
           },
           "mode": "markers",
           "name": "INTEL CORPORATION",
           "orientation": "v",
           "showlegend": true,
           "type": "scatter",
           "x": [
            781
           ],
           "xaxis": "x",
           "y": [
            155
           ],
           "yaxis": "y"
          },
          {
           "hovertemplate": "OPERATOR=MERCEDES-BENZ RESEARCH & DEVELOPMENT NORTH AMERICA<br>Year=2022<br>Annual Mileage=%{x}<br>Annual Total of Disengagements=%{y}<br>Number of Vehicles=%{marker.size}<extra></extra>",
           "ids": [
            "MERCEDES-BENZ RESEARCH & DEVELOPMENT NORTH AMERICA"
           ],
           "legendgroup": "MERCEDES-BENZ RESEARCH & DEVELOPMENT NORTH AMERICA",
           "marker": {
            "color": "#FECB52",
            "size": [
             38
            ],
            "sizemode": "area",
            "sizeref": 1.4175,
            "symbol": "circle"
           },
           "mode": "markers",
           "name": "MERCEDES-BENZ RESEARCH & DEVELOPMENT NORTH AMERICA",
           "orientation": "v",
           "showlegend": true,
           "type": "scatter",
           "x": [
            52975.29361422
           ],
           "xaxis": "x",
           "y": [
            38
           ],
           "yaxis": "y"
          },
          {
           "hovertemplate": "OPERATOR=MOTIONAL AD<br>Year=2022<br>Annual Mileage=%{x}<br>Annual Total of Disengagements=%{y}<br>Number of Vehicles=%{marker.size}<extra></extra>",
           "ids": [
            "MOTIONAL AD"
           ],
           "legendgroup": "MOTIONAL AD",
           "marker": {
            "color": "#636efa",
            "size": [
             14
            ],
            "sizemode": "area",
            "sizeref": 1.4175,
            "symbol": "circle"
           },
           "mode": "markers",
           "name": "MOTIONAL AD",
           "orientation": "v",
           "showlegend": true,
           "type": "scatter",
           "x": [
            4938.8
           ],
           "xaxis": "x",
           "y": [
            135
           ],
           "yaxis": "y"
          },
          {
           "hovertemplate": "OPERATOR=NISSAN NORTH AMERICA  DBA ALLIANCE INNOVATION LAB<br>Year=2022<br>Annual Mileage=%{x}<br>Annual Total of Disengagements=%{y}<br>Number of Vehicles=%{marker.size}<extra></extra>",
           "ids": [
            "NISSAN NORTH AMERICA  DBA ALLIANCE INNOVATION LAB"
           ],
           "legendgroup": "NISSAN NORTH AMERICA  DBA ALLIANCE INNOVATION LAB",
           "marker": {
            "color": "#00cc96",
            "size": [
             3
            ],
            "sizemode": "area",
            "sizeref": 1.4175,
            "symbol": "circle"
           },
           "mode": "markers",
           "name": "NISSAN NORTH AMERICA  DBA ALLIANCE INNOVATION LAB",
           "orientation": "v",
           "showlegend": true,
           "type": "scatter",
           "x": [
            1194.2
           ],
           "xaxis": "x",
           "y": [
            8
           ],
           "yaxis": "y"
          },
          {
           "hovertemplate": "OPERATOR=NURO<br>Year=2022<br>Annual Mileage=%{x}<br>Annual Total of Disengagements=%{y}<br>Number of Vehicles=%{marker.size}<extra></extra>",
           "ids": [
            "NURO"
           ],
           "legendgroup": "NURO",
           "marker": {
            "color": "#ab63fa",
            "size": [
             19
            ],
            "sizemode": "area",
            "sizeref": 1.4175,
            "symbol": "circle"
           },
           "mode": "markers",
           "name": "NURO",
           "orientation": "v",
           "showlegend": true,
           "type": "scatter",
           "x": [
            94983.43
           ],
           "xaxis": "x",
           "y": [
            15
           ],
           "yaxis": "y"
          },
          {
           "hovertemplate": "OPERATOR=NVIDIA CORPORATION<br>Year=2022<br>Annual Mileage=%{x}<br>Annual Total of Disengagements=%{y}<br>Number of Vehicles=%{marker.size}<extra></extra>",
           "ids": [
            "NVIDIA CORPORATION"
           ],
           "legendgroup": "NVIDIA CORPORATION",
           "marker": {
            "color": "#19d3f3",
            "size": [
             5
            ],
            "sizemode": "area",
            "sizeref": 1.4175,
            "symbol": "circle"
           },
           "mode": "markers",
           "name": "NVIDIA CORPORATION",
           "orientation": "v",
           "showlegend": true,
           "type": "scatter",
           "x": [
            7169.26
           ],
           "xaxis": "x",
           "y": [
            7
           ],
           "yaxis": "y"
          },
          {
           "hovertemplate": "OPERATOR=PONYAI<br>Year=2022<br>Annual Mileage=%{x}<br>Annual Total of Disengagements=%{y}<br>Number of Vehicles=%{marker.size}<extra></extra>",
           "ids": [
            "PONYAI"
           ],
           "legendgroup": "PONYAI",
           "marker": {
            "color": "#FF6692",
            "size": [
             34
            ],
            "sizemode": "area",
            "sizeref": 1.4175,
            "symbol": "circle"
           },
           "mode": "markers",
           "name": "PONYAI",
           "orientation": "v",
           "showlegend": true,
           "type": "scatter",
           "x": [
            280412
           ],
           "xaxis": "x",
           "y": [
            20
           ],
           "yaxis": "y"
          },
          {
           "hovertemplate": "OPERATOR=QCRAFT<br>Year=2022<br>Annual Mileage=%{x}<br>Annual Total of Disengagements=%{y}<br>Number of Vehicles=%{marker.size}<extra></extra>",
           "ids": [
            "QCRAFT"
           ],
           "legendgroup": "QCRAFT",
           "marker": {
            "color": "#B6E880",
            "size": [
             1
            ],
            "sizemode": "area",
            "sizeref": 1.4175,
            "symbol": "circle"
           },
           "mode": "markers",
           "name": "QCRAFT",
           "orientation": "v",
           "showlegend": true,
           "type": "scatter",
           "x": [
            2589
           ],
           "xaxis": "x",
           "y": [
            3
           ],
           "yaxis": "y"
          },
          {
           "hovertemplate": "OPERATOR=QUALCOMM TECHNOLOGIES<br>Year=2022<br>Annual Mileage=%{x}<br>Annual Total of Disengagements=%{y}<br>Number of Vehicles=%{marker.size}<extra></extra>",
           "ids": [
            "QUALCOMM TECHNOLOGIES"
           ],
           "legendgroup": "QUALCOMM TECHNOLOGIES",
           "marker": {
            "color": "#FF97FF",
            "size": [
             3
            ],
            "sizemode": "area",
            "sizeref": 1.4175,
            "symbol": "circle"
           },
           "mode": "markers",
           "name": "QUALCOMM TECHNOLOGIES",
           "orientation": "v",
           "showlegend": true,
           "type": "scatter",
           "x": [
            3017
           ],
           "xaxis": "x",
           "y": [
            128
           ],
           "yaxis": "y"
          },
          {
           "hovertemplate": "OPERATOR=TOYOTA RESEARCH INSTITUTE<br>Year=2022<br>Annual Mileage=%{x}<br>Annual Total of Disengagements=%{y}<br>Number of Vehicles=%{marker.size}<extra></extra>",
           "ids": [
            "TOYOTA RESEARCH INSTITUTE"
           ],
           "legendgroup": "TOYOTA RESEARCH INSTITUTE",
           "marker": {
            "color": "#FECB52",
            "size": [
             4
            ],
            "sizemode": "area",
            "sizeref": 1.4175,
            "symbol": "circle"
           },
           "mode": "markers",
           "name": "TOYOTA RESEARCH INSTITUTE",
           "orientation": "v",
           "showlegend": true,
           "type": "scatter",
           "x": [
            4774
           ],
           "xaxis": "x",
           "y": [
            112
           ],
           "yaxis": "y"
          },
          {
           "hovertemplate": "OPERATOR=VALEO NORTH AMERICA<br>Year=2022<br>Annual Mileage=%{x}<br>Annual Total of Disengagements=%{y}<br>Number of Vehicles=%{marker.size}<extra></extra>",
           "ids": [
            "VALEO NORTH AMERICA"
           ],
           "legendgroup": "VALEO NORTH AMERICA",
           "marker": {
            "color": "#EF553B",
            "size": [
             1
            ],
            "sizemode": "area",
            "sizeref": 1.4175,
            "symbol": "circle"
           },
           "mode": "markers",
           "name": "VALEO NORTH AMERICA",
           "orientation": "v",
           "showlegend": true,
           "type": "scatter",
           "x": [
            339
           ],
           "xaxis": "x",
           "y": [
            71
           ],
           "yaxis": "y"
          },
          {
           "hovertemplate": "OPERATOR=WAYMO<br>Year=2022<br>Annual Mileage=%{x}<br>Annual Total of Disengagements=%{y}<br>Number of Vehicles=%{marker.size}<extra></extra>",
           "ids": [
            "WAYMO"
           ],
           "legendgroup": "WAYMO",
           "marker": {
            "color": "#00cc96",
            "size": [
             384
            ],
            "sizemode": "area",
            "sizeref": 1.4175,
            "symbol": "circle"
           },
           "mode": "markers",
           "name": "WAYMO",
           "orientation": "v",
           "showlegend": true,
           "type": "scatter",
           "x": [
            2900143.8
           ],
           "xaxis": "x",
           "y": [
            170
           ],
           "yaxis": "y"
          },
          {
           "hovertemplate": "OPERATOR=WERIDE CORP<br>Year=2022<br>Annual Mileage=%{x}<br>Annual Total of Disengagements=%{y}<br>Number of Vehicles=%{marker.size}<extra></extra>",
           "ids": [
            "WERIDE CORP"
           ],
           "legendgroup": "WERIDE CORP",
           "marker": {
            "color": "#ab63fa",
            "size": [
             14
            ],
            "sizemode": "area",
            "sizeref": 1.4175,
            "symbol": "circle"
           },
           "mode": "markers",
           "name": "WERIDE CORP",
           "orientation": "v",
           "showlegend": true,
           "type": "scatter",
           "x": [
            64560.57
           ],
           "xaxis": "x",
           "y": [
            3
           ],
           "yaxis": "y"
          },
          {
           "hovertemplate": "OPERATOR=ZOOX<br>Year=2022<br>Annual Mileage=%{x}<br>Annual Total of Disengagements=%{y}<br>Number of Vehicles=%{marker.size}<extra></extra>",
           "ids": [
            "ZOOX"
           ],
           "legendgroup": "ZOOX",
           "marker": {
            "color": "#19d3f3",
            "size": [
             106
            ],
            "sizemode": "area",
            "sizeref": 1.4175,
            "symbol": "circle"
           },
           "mode": "markers",
           "name": "ZOOX",
           "orientation": "v",
           "showlegend": true,
           "type": "scatter",
           "x": [
            552133
           ],
           "xaxis": "x",
           "y": [
            21
           ],
           "yaxis": "y"
          }
         ],
         "name": "2022"
        },
        {
         "data": [
          {
           "hovertemplate": "OPERATOR=AIMOTIVE<br>Year=2023<br>Annual Mileage=%{x}<br>Annual Total of Disengagements=%{y}<br>Number of Vehicles=%{marker.size}<extra></extra>",
           "ids": [
            "AIMOTIVE"
           ],
           "legendgroup": "AIMOTIVE",
           "marker": {
            "color": "#636efa",
            "size": [
             2
            ],
            "sizemode": "area",
            "sizeref": 1.4175,
            "symbol": "circle"
           },
           "mode": "markers",
           "name": "AIMOTIVE",
           "orientation": "v",
           "showlegend": true,
           "type": "scatter",
           "x": [
            14876.41
           ],
           "xaxis": "x",
           "y": [
            708
           ],
           "yaxis": "y"
          },
          {
           "hovertemplate": "OPERATOR=APOLLO<br>Year=2023<br>Annual Mileage=%{x}<br>Annual Total of Disengagements=%{y}<br>Number of Vehicles=%{marker.size}<extra></extra>",
           "ids": [
            "APOLLO"
           ],
           "legendgroup": "APOLLO",
           "marker": {
            "color": "#EF553B",
            "size": [
             4
            ],
            "sizemode": "area",
            "sizeref": 1.4175,
            "symbol": "circle"
           },
           "mode": "markers",
           "name": "APOLLO",
           "orientation": "v",
           "showlegend": true,
           "type": "scatter",
           "x": [
            15311.7
           ],
           "xaxis": "x",
           "y": [
            3
           ],
           "yaxis": "y"
          },
          {
           "hovertemplate": "OPERATOR=APPLE<br>Year=2023<br>Annual Mileage=%{x}<br>Annual Total of Disengagements=%{y}<br>Number of Vehicles=%{marker.size}<extra></extra>",
           "ids": [
            "APPLE"
           ],
           "legendgroup": "APPLE",
           "marker": {
            "color": "#ab63fa",
            "size": [
             57
            ],
            "sizemode": "area",
            "sizeref": 1.4175,
            "symbol": "circle"
           },
           "mode": "markers",
           "name": "APPLE",
           "orientation": "v",
           "showlegend": true,
           "type": "scatter",
           "x": [
            452743.89999999997
           ],
           "xaxis": "x",
           "y": [
            3194
           ],
           "yaxis": "y"
          },
          {
           "hovertemplate": "OPERATOR=AURORA OPERATIONS<br>Year=2023<br>Annual Mileage=%{x}<br>Annual Total of Disengagements=%{y}<br>Number of Vehicles=%{marker.size}<extra></extra>",
           "ids": [
            "AURORA OPERATIONS"
           ],
           "legendgroup": "AURORA OPERATIONS",
           "marker": {
            "color": "#19d3f3",
            "size": [
             1
            ],
            "sizemode": "area",
            "sizeref": 1.4175,
            "symbol": "circle"
           },
           "mode": "markers",
           "name": "AURORA OPERATIONS",
           "orientation": "v",
           "showlegend": true,
           "type": "scatter",
           "x": [
            700.26
           ],
           "xaxis": "x",
           "y": [
            47
           ],
           "yaxis": "y"
          },
          {
           "hovertemplate": "OPERATOR=AUTOX<br>Year=2023<br>Annual Mileage=%{x}<br>Annual Total of Disengagements=%{y}<br>Number of Vehicles=%{marker.size}<extra></extra>",
           "ids": [
            "AUTOX"
           ],
           "legendgroup": "AUTOX",
           "marker": {
            "color": "#FF6692",
            "size": [
             13
            ],
            "sizemode": "area",
            "sizeref": 1.4175,
            "symbol": "circle"
           },
           "mode": "markers",
           "name": "AUTOX",
           "orientation": "v",
           "showlegend": true,
           "type": "scatter",
           "x": [
            7870
           ],
           "xaxis": "x",
           "y": [
            0
           ],
           "yaxis": "y"
          },
          {
           "hovertemplate": "OPERATOR=BOSCH<br>Year=2023<br>Annual Mileage=%{x}<br>Annual Total of Disengagements=%{y}<br>Number of Vehicles=%{marker.size}<extra></extra>",
           "ids": [
            "BOSCH"
           ],
           "legendgroup": "BOSCH",
           "marker": {
            "color": "#FF97FF",
            "size": [
             3
            ],
            "sizemode": "area",
            "sizeref": 1.4175,
            "symbol": "circle"
           },
           "mode": "markers",
           "name": "BOSCH",
           "orientation": "v",
           "showlegend": true,
           "type": "scatter",
           "x": [
            759.3100000000001
           ],
           "xaxis": "x",
           "y": [
            314
           ],
           "yaxis": "y"
          },
          {
           "hovertemplate": "OPERATOR=CRUISE<br>Year=2023<br>Annual Mileage=%{x}<br>Annual Total of Disengagements=%{y}<br>Number of Vehicles=%{marker.size}<extra></extra>",
           "ids": [
            "CRUISE"
           ],
           "legendgroup": "CRUISE",
           "marker": {
            "color": "#FECB52",
            "size": [
             325
            ],
            "sizemode": "area",
            "sizeref": 1.4175,
            "symbol": "circle"
           },
           "mode": "markers",
           "name": "CRUISE",
           "orientation": "v",
           "showlegend": true,
           "type": "scatter",
           "x": [
            583624.25
           ],
           "xaxis": "x",
           "y": [
            0
           ],
           "yaxis": "y"
          },
          {
           "hovertemplate": "OPERATOR=DIDI RESEARCH AMERICA<br>Year=2023<br>Annual Mileage=%{x}<br>Annual Total of Disengagements=%{y}<br>Number of Vehicles=%{marker.size}<extra></extra>",
           "ids": [
            "DIDI RESEARCH AMERICA"
           ],
           "legendgroup": "DIDI RESEARCH AMERICA",
           "marker": {
            "color": "#EF553B",
            "size": [
             5
            ],
            "sizemode": "area",
            "sizeref": 1.4175,
            "symbol": "circle"
           },
           "mode": "markers",
           "name": "DIDI RESEARCH AMERICA",
           "orientation": "v",
           "showlegend": true,
           "type": "scatter",
           "x": [
            4004.1000000000004
           ],
           "xaxis": "x",
           "y": [
            1
           ],
           "yaxis": "y"
          },
          {
           "hovertemplate": "OPERATOR=GATIK AI<br>Year=2023<br>Annual Mileage=%{x}<br>Annual Total of Disengagements=%{y}<br>Number of Vehicles=%{marker.size}<extra></extra>",
           "ids": [
            "GATIK AI"
           ],
           "legendgroup": "GATIK AI",
           "marker": {
            "color": "#ab63fa",
            "size": [
             1
            ],
            "sizemode": "area",
            "sizeref": 1.4175,
            "symbol": "circle"
           },
           "mode": "markers",
           "name": "GATIK AI",
           "orientation": "v",
           "showlegend": true,
           "type": "scatter",
           "x": [
            634
           ],
           "xaxis": "x",
           "y": [
            2
           ],
           "yaxis": "y"
          },
          {
           "hovertemplate": "OPERATOR=GHOST AUTONOMY<br>Year=2023<br>Annual Mileage=%{x}<br>Annual Total of Disengagements=%{y}<br>Number of Vehicles=%{marker.size}<extra></extra>",
           "ids": [
            "GHOST AUTONOMY"
           ],
           "legendgroup": "GHOST AUTONOMY",
           "marker": {
            "color": "#FFA15A",
            "size": [
             10
            ],
            "sizemode": "area",
            "sizeref": 1.4175,
            "symbol": "circle"
           },
           "mode": "markers",
           "name": "GHOST AUTONOMY",
           "orientation": "v",
           "showlegend": true,
           "type": "scatter",
           "x": [
            52770.8
           ],
           "xaxis": "x",
           "y": [
            1034
           ],
           "yaxis": "y"
          },
          {
           "hovertemplate": "OPERATOR=IMAGRY<br>Year=2023<br>Annual Mileage=%{x}<br>Annual Total of Disengagements=%{y}<br>Number of Vehicles=%{marker.size}<extra></extra>",
           "ids": [
            "IMAGRY"
           ],
           "legendgroup": "IMAGRY",
           "marker": {
            "color": "#19d3f3",
            "size": [
             2
            ],
            "sizemode": "area",
            "sizeref": 1.4175,
            "symbol": "circle"
           },
           "mode": "markers",
           "name": "IMAGRY",
           "orientation": "v",
           "showlegend": true,
           "type": "scatter",
           "x": [
            723.56
           ],
           "xaxis": "x",
           "y": [
            124
           ],
           "yaxis": "y"
          },
          {
           "hovertemplate": "OPERATOR=MERCEDES<br>Year=2023<br>Annual Mileage=%{x}<br>Annual Total of Disengagements=%{y}<br>Number of Vehicles=%{marker.size}<extra></extra>",
           "ids": [
            "MERCEDES"
           ],
           "legendgroup": "MERCEDES",
           "marker": {
            "color": "#FF97FF",
            "size": [
             37
            ],
            "sizemode": "area",
            "sizeref": 1.4175,
            "symbol": "circle"
           },
           "mode": "markers",
           "name": "MERCEDES",
           "orientation": "v",
           "showlegend": true,
           "type": "scatter",
           "x": [
            58342.686147500004
           ],
           "xaxis": "x",
           "y": [
            0
           ],
           "yaxis": "y"
          },
          {
           "hovertemplate": "OPERATOR=MOTIONAL AD<br>Year=2023<br>Annual Mileage=%{x}<br>Annual Total of Disengagements=%{y}<br>Number of Vehicles=%{marker.size}<extra></extra>",
           "ids": [
            "MOTIONAL AD"
           ],
           "legendgroup": "MOTIONAL AD",
           "marker": {
            "color": "#636efa",
            "size": [
             10
            ],
            "sizemode": "area",
            "sizeref": 1.4175,
            "symbol": "circle"
           },
           "mode": "markers",
           "name": "MOTIONAL AD",
           "orientation": "v",
           "showlegend": true,
           "type": "scatter",
           "x": [
            16214.18
           ],
           "xaxis": "x",
           "y": [
            593
           ],
           "yaxis": "y"
          },
          {
           "hovertemplate": "OPERATOR=NISSAN<br>Year=2023<br>Annual Mileage=%{x}<br>Annual Total of Disengagements=%{y}<br>Number of Vehicles=%{marker.size}<extra></extra>",
           "ids": [
            "NISSAN"
           ],
           "legendgroup": "NISSAN",
           "marker": {
            "color": "#EF553B",
            "size": [
             3
            ],
            "sizemode": "area",
            "sizeref": 1.4175,
            "symbol": "circle"
           },
           "mode": "markers",
           "name": "NISSAN",
           "orientation": "v",
           "showlegend": true,
           "type": "scatter",
           "x": [
            4825
           ],
           "xaxis": "x",
           "y": [
            17
           ],
           "yaxis": "y"
          },
          {
           "hovertemplate": "OPERATOR=NURO<br>Year=2023<br>Annual Mileage=%{x}<br>Annual Total of Disengagements=%{y}<br>Number of Vehicles=%{marker.size}<extra></extra>",
           "ids": [
            "NURO"
           ],
           "legendgroup": "NURO",
           "marker": {
            "color": "#ab63fa",
            "size": [
             84
            ],
            "sizemode": "area",
            "sizeref": 1.4175,
            "symbol": "circle"
           },
           "mode": "markers",
           "name": "NURO",
           "orientation": "v",
           "showlegend": true,
           "type": "scatter",
           "x": [
            104011.11
           ],
           "xaxis": "x",
           "y": [
            47
           ],
           "yaxis": "y"
          },
          {
           "hovertemplate": "OPERATOR=QUALCOMM TECHNOLOGIES<br>Year=2023<br>Annual Mileage=%{x}<br>Annual Total of Disengagements=%{y}<br>Number of Vehicles=%{marker.size}<extra></extra>",
           "ids": [
            "QUALCOMM TECHNOLOGIES"
           ],
           "legendgroup": "QUALCOMM TECHNOLOGIES",
           "marker": {
            "color": "#FF97FF",
            "size": [
             5
            ],
            "sizemode": "area",
            "sizeref": 1.4175,
            "symbol": "circle"
           },
           "mode": "markers",
           "name": "QUALCOMM TECHNOLOGIES",
           "orientation": "v",
           "showlegend": true,
           "type": "scatter",
           "x": [
            3837
           ],
           "xaxis": "x",
           "y": [
            197
           ],
           "yaxis": "y"
          },
          {
           "hovertemplate": "OPERATOR=VALEO NORTH AMERICA<br>Year=2023<br>Annual Mileage=%{x}<br>Annual Total of Disengagements=%{y}<br>Number of Vehicles=%{marker.size}<extra></extra>",
           "ids": [
            "VALEO NORTH AMERICA"
           ],
           "legendgroup": "VALEO NORTH AMERICA",
           "marker": {
            "color": "#EF553B",
            "size": [
             1
            ],
            "sizemode": "area",
            "sizeref": 1.4175,
            "symbol": "circle"
           },
           "mode": "markers",
           "name": "VALEO NORTH AMERICA",
           "orientation": "v",
           "showlegend": true,
           "type": "scatter",
           "x": [
            104
           ],
           "xaxis": "x",
           "y": [
            21
           ],
           "yaxis": "y"
          },
          {
           "hovertemplate": "OPERATOR=WAYMO<br>Year=2023<br>Annual Mileage=%{x}<br>Annual Total of Disengagements=%{y}<br>Number of Vehicles=%{marker.size}<extra></extra>",
           "ids": [
            "WAYMO"
           ],
           "legendgroup": "WAYMO",
           "marker": {
            "color": "#00cc96",
            "size": [
             338
            ],
            "sizemode": "area",
            "sizeref": 1.4175,
            "symbol": "circle"
           },
           "mode": "markers",
           "name": "WAYMO",
           "orientation": "v",
           "showlegend": true,
           "type": "scatter",
           "x": [
            3669962.4
           ],
           "xaxis": "x",
           "y": [
            212
           ],
           "yaxis": "y"
          },
          {
           "hovertemplate": "OPERATOR=WERIDE CORP<br>Year=2023<br>Annual Mileage=%{x}<br>Annual Total of Disengagements=%{y}<br>Number of Vehicles=%{marker.size}<extra></extra>",
           "ids": [
            "WERIDE CORP"
           ],
           "legendgroup": "WERIDE CORP",
           "marker": {
            "color": "#ab63fa",
            "size": [
             11
            ],
            "sizemode": "area",
            "sizeref": 1.4175,
            "symbol": "circle"
           },
           "mode": "markers",
           "name": "WERIDE CORP",
           "orientation": "v",
           "showlegend": true,
           "type": "scatter",
           "x": [
            42381.29
           ],
           "xaxis": "x",
           "y": [
            2
           ],
           "yaxis": "y"
          },
          {
           "hovertemplate": "OPERATOR=WOVEN BY TOYOTA US<br>Year=2023<br>Annual Mileage=%{x}<br>Annual Total of Disengagements=%{y}<br>Number of Vehicles=%{marker.size}<extra></extra>",
           "ids": [
            "WOVEN BY TOYOTA US"
           ],
           "legendgroup": "WOVEN BY TOYOTA US",
           "marker": {
            "color": "#FFA15A",
            "size": [
             11
            ],
            "sizemode": "area",
            "sizeref": 1.4175,
            "symbol": "circle"
           },
           "mode": "markers",
           "name": "WOVEN BY TOYOTA US",
           "orientation": "v",
           "showlegend": true,
           "type": "scatter",
           "x": [
            4194
           ],
           "xaxis": "x",
           "y": [
            42
           ],
           "yaxis": "y"
          },
          {
           "hovertemplate": "OPERATOR=ZOOX<br>Year=2023<br>Annual Mileage=%{x}<br>Annual Total of Disengagements=%{y}<br>Number of Vehicles=%{marker.size}<extra></extra>",
           "ids": [
            "ZOOX"
           ],
           "legendgroup": "ZOOX",
           "marker": {
            "color": "#19d3f3",
            "size": [
             153
            ],
            "sizemode": "area",
            "sizeref": 1.4175,
            "symbol": "circle"
           },
           "mode": "markers",
           "name": "ZOOX",
           "orientation": "v",
           "showlegend": true,
           "type": "scatter",
           "x": [
            710409.1
           ],
           "xaxis": "x",
           "y": [
            4
           ],
           "yaxis": "y"
          }
         ],
         "name": "2023"
        }
       ],
       "layout": {
        "legend": {
         "itemsizing": "constant",
         "title": {
          "text": "OPERATOR"
         },
         "tracegroupgap": 0
        },
        "margin": {
         "t": 60
        },
        "sliders": [
         {
          "active": 0,
          "currentvalue": {
           "prefix": "Year="
          },
          "len": 0.9,
          "pad": {
           "b": 10,
           "t": 60
          },
          "steps": [
           {
            "args": [
             [
              "2021"
             ],
             {
              "frame": {
               "duration": 0,
               "redraw": false
              },
              "fromcurrent": true,
              "mode": "immediate",
              "transition": {
               "duration": 0,
               "easing": "linear"
              }
             }
            ],
            "label": "2021",
            "method": "animate"
           },
           {
            "args": [
             [
              "2022"
             ],
             {
              "frame": {
               "duration": 0,
               "redraw": false
              },
              "fromcurrent": true,
              "mode": "immediate",
              "transition": {
               "duration": 0,
               "easing": "linear"
              }
             }
            ],
            "label": "2022",
            "method": "animate"
           },
           {
            "args": [
             [
              "2023"
             ],
             {
              "frame": {
               "duration": 0,
               "redraw": false
              },
              "fromcurrent": true,
              "mode": "immediate",
              "transition": {
               "duration": 0,
               "easing": "linear"
              }
             }
            ],
            "label": "2023",
            "method": "animate"
           }
          ],
          "x": 0.1,
          "xanchor": "left",
          "y": 0,
          "yanchor": "top"
         }
        ],
        "template": {
         "data": {
          "bar": [
           {
            "error_x": {
             "color": "#2a3f5f"
            },
            "error_y": {
             "color": "#2a3f5f"
            },
            "marker": {
             "line": {
              "color": "#E5ECF6",
              "width": 0.5
             },
             "pattern": {
              "fillmode": "overlay",
              "size": 10,
              "solidity": 0.2
             }
            },
            "type": "bar"
           }
          ],
          "barpolar": [
           {
            "marker": {
             "line": {
              "color": "#E5ECF6",
              "width": 0.5
             },
             "pattern": {
              "fillmode": "overlay",
              "size": 10,
              "solidity": 0.2
             }
            },
            "type": "barpolar"
           }
          ],
          "carpet": [
           {
            "aaxis": {
             "endlinecolor": "#2a3f5f",
             "gridcolor": "white",
             "linecolor": "white",
             "minorgridcolor": "white",
             "startlinecolor": "#2a3f5f"
            },
            "baxis": {
             "endlinecolor": "#2a3f5f",
             "gridcolor": "white",
             "linecolor": "white",
             "minorgridcolor": "white",
             "startlinecolor": "#2a3f5f"
            },
            "type": "carpet"
           }
          ],
          "choropleth": [
           {
            "colorbar": {
             "outlinewidth": 0,
             "ticks": ""
            },
            "type": "choropleth"
           }
          ],
          "contour": [
           {
            "colorbar": {
             "outlinewidth": 0,
             "ticks": ""
            },
            "colorscale": [
             [
              0,
              "#0d0887"
             ],
             [
              0.1111111111111111,
              "#46039f"
             ],
             [
              0.2222222222222222,
              "#7201a8"
             ],
             [
              0.3333333333333333,
              "#9c179e"
             ],
             [
              0.4444444444444444,
              "#bd3786"
             ],
             [
              0.5555555555555556,
              "#d8576b"
             ],
             [
              0.6666666666666666,
              "#ed7953"
             ],
             [
              0.7777777777777778,
              "#fb9f3a"
             ],
             [
              0.8888888888888888,
              "#fdca26"
             ],
             [
              1,
              "#f0f921"
             ]
            ],
            "type": "contour"
           }
          ],
          "contourcarpet": [
           {
            "colorbar": {
             "outlinewidth": 0,
             "ticks": ""
            },
            "type": "contourcarpet"
           }
          ],
          "heatmap": [
           {
            "colorbar": {
             "outlinewidth": 0,
             "ticks": ""
            },
            "colorscale": [
             [
              0,
              "#0d0887"
             ],
             [
              0.1111111111111111,
              "#46039f"
             ],
             [
              0.2222222222222222,
              "#7201a8"
             ],
             [
              0.3333333333333333,
              "#9c179e"
             ],
             [
              0.4444444444444444,
              "#bd3786"
             ],
             [
              0.5555555555555556,
              "#d8576b"
             ],
             [
              0.6666666666666666,
              "#ed7953"
             ],
             [
              0.7777777777777778,
              "#fb9f3a"
             ],
             [
              0.8888888888888888,
              "#fdca26"
             ],
             [
              1,
              "#f0f921"
             ]
            ],
            "type": "heatmap"
           }
          ],
          "heatmapgl": [
           {
            "colorbar": {
             "outlinewidth": 0,
             "ticks": ""
            },
            "colorscale": [
             [
              0,
              "#0d0887"
             ],
             [
              0.1111111111111111,
              "#46039f"
             ],
             [
              0.2222222222222222,
              "#7201a8"
             ],
             [
              0.3333333333333333,
              "#9c179e"
             ],
             [
              0.4444444444444444,
              "#bd3786"
             ],
             [
              0.5555555555555556,
              "#d8576b"
             ],
             [
              0.6666666666666666,
              "#ed7953"
             ],
             [
              0.7777777777777778,
              "#fb9f3a"
             ],
             [
              0.8888888888888888,
              "#fdca26"
             ],
             [
              1,
              "#f0f921"
             ]
            ],
            "type": "heatmapgl"
           }
          ],
          "histogram": [
           {
            "marker": {
             "pattern": {
              "fillmode": "overlay",
              "size": 10,
              "solidity": 0.2
             }
            },
            "type": "histogram"
           }
          ],
          "histogram2d": [
           {
            "colorbar": {
             "outlinewidth": 0,
             "ticks": ""
            },
            "colorscale": [
             [
              0,
              "#0d0887"
             ],
             [
              0.1111111111111111,
              "#46039f"
             ],
             [
              0.2222222222222222,
              "#7201a8"
             ],
             [
              0.3333333333333333,
              "#9c179e"
             ],
             [
              0.4444444444444444,
              "#bd3786"
             ],
             [
              0.5555555555555556,
              "#d8576b"
             ],
             [
              0.6666666666666666,
              "#ed7953"
             ],
             [
              0.7777777777777778,
              "#fb9f3a"
             ],
             [
              0.8888888888888888,
              "#fdca26"
             ],
             [
              1,
              "#f0f921"
             ]
            ],
            "type": "histogram2d"
           }
          ],
          "histogram2dcontour": [
           {
            "colorbar": {
             "outlinewidth": 0,
             "ticks": ""
            },
            "colorscale": [
             [
              0,
              "#0d0887"
             ],
             [
              0.1111111111111111,
              "#46039f"
             ],
             [
              0.2222222222222222,
              "#7201a8"
             ],
             [
              0.3333333333333333,
              "#9c179e"
             ],
             [
              0.4444444444444444,
              "#bd3786"
             ],
             [
              0.5555555555555556,
              "#d8576b"
             ],
             [
              0.6666666666666666,
              "#ed7953"
             ],
             [
              0.7777777777777778,
              "#fb9f3a"
             ],
             [
              0.8888888888888888,
              "#fdca26"
             ],
             [
              1,
              "#f0f921"
             ]
            ],
            "type": "histogram2dcontour"
           }
          ],
          "mesh3d": [
           {
            "colorbar": {
             "outlinewidth": 0,
             "ticks": ""
            },
            "type": "mesh3d"
           }
          ],
          "parcoords": [
           {
            "line": {
             "colorbar": {
              "outlinewidth": 0,
              "ticks": ""
             }
            },
            "type": "parcoords"
           }
          ],
          "pie": [
           {
            "automargin": true,
            "type": "pie"
           }
          ],
          "scatter": [
           {
            "fillpattern": {
             "fillmode": "overlay",
             "size": 10,
             "solidity": 0.2
            },
            "type": "scatter"
           }
          ],
          "scatter3d": [
           {
            "line": {
             "colorbar": {
              "outlinewidth": 0,
              "ticks": ""
             }
            },
            "marker": {
             "colorbar": {
              "outlinewidth": 0,
              "ticks": ""
             }
            },
            "type": "scatter3d"
           }
          ],
          "scattercarpet": [
           {
            "marker": {
             "colorbar": {
              "outlinewidth": 0,
              "ticks": ""
             }
            },
            "type": "scattercarpet"
           }
          ],
          "scattergeo": [
           {
            "marker": {
             "colorbar": {
              "outlinewidth": 0,
              "ticks": ""
             }
            },
            "type": "scattergeo"
           }
          ],
          "scattergl": [
           {
            "marker": {
             "colorbar": {
              "outlinewidth": 0,
              "ticks": ""
             }
            },
            "type": "scattergl"
           }
          ],
          "scattermapbox": [
           {
            "marker": {
             "colorbar": {
              "outlinewidth": 0,
              "ticks": ""
             }
            },
            "type": "scattermapbox"
           }
          ],
          "scatterpolar": [
           {
            "marker": {
             "colorbar": {
              "outlinewidth": 0,
              "ticks": ""
             }
            },
            "type": "scatterpolar"
           }
          ],
          "scatterpolargl": [
           {
            "marker": {
             "colorbar": {
              "outlinewidth": 0,
              "ticks": ""
             }
            },
            "type": "scatterpolargl"
           }
          ],
          "scatterternary": [
           {
            "marker": {
             "colorbar": {
              "outlinewidth": 0,
              "ticks": ""
             }
            },
            "type": "scatterternary"
           }
          ],
          "surface": [
           {
            "colorbar": {
             "outlinewidth": 0,
             "ticks": ""
            },
            "colorscale": [
             [
              0,
              "#0d0887"
             ],
             [
              0.1111111111111111,
              "#46039f"
             ],
             [
              0.2222222222222222,
              "#7201a8"
             ],
             [
              0.3333333333333333,
              "#9c179e"
             ],
             [
              0.4444444444444444,
              "#bd3786"
             ],
             [
              0.5555555555555556,
              "#d8576b"
             ],
             [
              0.6666666666666666,
              "#ed7953"
             ],
             [
              0.7777777777777778,
              "#fb9f3a"
             ],
             [
              0.8888888888888888,
              "#fdca26"
             ],
             [
              1,
              "#f0f921"
             ]
            ],
            "type": "surface"
           }
          ],
          "table": [
           {
            "cells": {
             "fill": {
              "color": "#EBF0F8"
             },
             "line": {
              "color": "white"
             }
            },
            "header": {
             "fill": {
              "color": "#C8D4E3"
             },
             "line": {
              "color": "white"
             }
            },
            "type": "table"
           }
          ]
         },
         "layout": {
          "annotationdefaults": {
           "arrowcolor": "#2a3f5f",
           "arrowhead": 0,
           "arrowwidth": 1
          },
          "autotypenumbers": "strict",
          "coloraxis": {
           "colorbar": {
            "outlinewidth": 0,
            "ticks": ""
           }
          },
          "colorscale": {
           "diverging": [
            [
             0,
             "#8e0152"
            ],
            [
             0.1,
             "#c51b7d"
            ],
            [
             0.2,
             "#de77ae"
            ],
            [
             0.3,
             "#f1b6da"
            ],
            [
             0.4,
             "#fde0ef"
            ],
            [
             0.5,
             "#f7f7f7"
            ],
            [
             0.6,
             "#e6f5d0"
            ],
            [
             0.7,
             "#b8e186"
            ],
            [
             0.8,
             "#7fbc41"
            ],
            [
             0.9,
             "#4d9221"
            ],
            [
             1,
             "#276419"
            ]
           ],
           "sequential": [
            [
             0,
             "#0d0887"
            ],
            [
             0.1111111111111111,
             "#46039f"
            ],
            [
             0.2222222222222222,
             "#7201a8"
            ],
            [
             0.3333333333333333,
             "#9c179e"
            ],
            [
             0.4444444444444444,
             "#bd3786"
            ],
            [
             0.5555555555555556,
             "#d8576b"
            ],
            [
             0.6666666666666666,
             "#ed7953"
            ],
            [
             0.7777777777777778,
             "#fb9f3a"
            ],
            [
             0.8888888888888888,
             "#fdca26"
            ],
            [
             1,
             "#f0f921"
            ]
           ],
           "sequentialminus": [
            [
             0,
             "#0d0887"
            ],
            [
             0.1111111111111111,
             "#46039f"
            ],
            [
             0.2222222222222222,
             "#7201a8"
            ],
            [
             0.3333333333333333,
             "#9c179e"
            ],
            [
             0.4444444444444444,
             "#bd3786"
            ],
            [
             0.5555555555555556,
             "#d8576b"
            ],
            [
             0.6666666666666666,
             "#ed7953"
            ],
            [
             0.7777777777777778,
             "#fb9f3a"
            ],
            [
             0.8888888888888888,
             "#fdca26"
            ],
            [
             1,
             "#f0f921"
            ]
           ]
          },
          "colorway": [
           "#636efa",
           "#EF553B",
           "#00cc96",
           "#ab63fa",
           "#FFA15A",
           "#19d3f3",
           "#FF6692",
           "#B6E880",
           "#FF97FF",
           "#FECB52"
          ],
          "font": {
           "color": "#2a3f5f"
          },
          "geo": {
           "bgcolor": "white",
           "lakecolor": "white",
           "landcolor": "#E5ECF6",
           "showlakes": true,
           "showland": true,
           "subunitcolor": "white"
          },
          "hoverlabel": {
           "align": "left"
          },
          "hovermode": "closest",
          "mapbox": {
           "style": "light"
          },
          "paper_bgcolor": "white",
          "plot_bgcolor": "#E5ECF6",
          "polar": {
           "angularaxis": {
            "gridcolor": "white",
            "linecolor": "white",
            "ticks": ""
           },
           "bgcolor": "#E5ECF6",
           "radialaxis": {
            "gridcolor": "white",
            "linecolor": "white",
            "ticks": ""
           }
          },
          "scene": {
           "xaxis": {
            "backgroundcolor": "#E5ECF6",
            "gridcolor": "white",
            "gridwidth": 2,
            "linecolor": "white",
            "showbackground": true,
            "ticks": "",
            "zerolinecolor": "white"
           },
           "yaxis": {
            "backgroundcolor": "#E5ECF6",
            "gridcolor": "white",
            "gridwidth": 2,
            "linecolor": "white",
            "showbackground": true,
            "ticks": "",
            "zerolinecolor": "white"
           },
           "zaxis": {
            "backgroundcolor": "#E5ECF6",
            "gridcolor": "white",
            "gridwidth": 2,
            "linecolor": "white",
            "showbackground": true,
            "ticks": "",
            "zerolinecolor": "white"
           }
          },
          "shapedefaults": {
           "line": {
            "color": "#2a3f5f"
           }
          },
          "ternary": {
           "aaxis": {
            "gridcolor": "white",
            "linecolor": "white",
            "ticks": ""
           },
           "baxis": {
            "gridcolor": "white",
            "linecolor": "white",
            "ticks": ""
           },
           "bgcolor": "#E5ECF6",
           "caxis": {
            "gridcolor": "white",
            "linecolor": "white",
            "ticks": ""
           }
          },
          "title": {
           "x": 0.05
          },
          "xaxis": {
           "automargin": true,
           "gridcolor": "white",
           "linecolor": "white",
           "ticks": "",
           "title": {
            "standoff": 15
           },
           "zerolinecolor": "white",
           "zerolinewidth": 2
          },
          "yaxis": {
           "automargin": true,
           "gridcolor": "white",
           "linecolor": "white",
           "ticks": "",
           "title": {
            "standoff": 15
           },
           "zerolinecolor": "white",
           "zerolinewidth": 2
          }
         }
        },
        "title": {
         "text": "Total Disengagments vs Total Mileage [Bubble size = No. of Vehicles]"
        },
        "updatemenus": [
         {
          "buttons": [
           {
            "args": [
             null,
             {
              "frame": {
               "duration": 500,
               "redraw": false
              },
              "fromcurrent": true,
              "mode": "immediate",
              "transition": {
               "duration": 500,
               "easing": "linear"
              }
             }
            ],
            "label": "&#9654;",
            "method": "animate"
           },
           {
            "args": [
             [
              null
             ],
             {
              "frame": {
               "duration": 0,
               "redraw": false
              },
              "fromcurrent": true,
              "mode": "immediate",
              "transition": {
               "duration": 0,
               "easing": "linear"
              }
             }
            ],
            "label": "&#9724;",
            "method": "animate"
           }
          ],
          "direction": "left",
          "pad": {
           "r": 10,
           "t": 70
          },
          "showactive": false,
          "type": "buttons",
          "x": 0.1,
          "xanchor": "right",
          "y": 0,
          "yanchor": "top"
         }
        ],
        "xaxis": {
         "anchor": "y",
         "domain": [
          0,
          1
         ],
         "range": [
          0,
          4036958.64
         ],
         "title": {
          "text": "Annual Mileage"
         }
        },
        "yaxis": {
         "anchor": "x",
         "domain": [
          0,
          1
         ],
         "range": [
          0,
          6580.200000000001
         ],
         "title": {
          "text": "Annual Total of Disengagements"
         }
        }
       }
      }
     },
     "metadata": {},
     "output_type": "display_data"
    }
   ],
   "source": [
    "### Graphing DPTM - Mehhhhhhhhhhhhhhhhhhhhhhhhhhhhhhh tells no story, would be a lot cooler with more years of data\n",
    "fig = px.scatter(dptm, x=\"Mileage Total\", y=\"Annual Total of Disengagements\", \n",
    "                 size=\"VIN NUMBER\", color=\"OPERATOR\",\n",
    "                 animation_frame=\"Year\", animation_group=\"OPERATOR\",\n",
    "                 range_x=[0, dptm[\"Mileage Total\"].max() * 1.1],  # Adjust range for x-axis\n",
    "                 range_y=[0, dptm[\"Annual Total of Disengagements\"].max() * 1.1],  # Adjust range for y-axis\n",
    "                 labels={\"Mileage Total\": \"Annual Mileage\", \"Annual Total of Disengagements\": \"Annual Total of Disengagements\", \"VIN NUMBER\": \"Number of Vehicles\", \"Manufacturer\": \"Manufacturer\", \"Year\": \"Year\"}\n",
    "                )\n",
    "fig.update_layout(title='Total Disengagments vs Total Mileage [Bubble size = No. of Vehicles]')\n",
    "fig.show()"
   ]
  },
  {
   "cell_type": "markdown",
   "id": "f8c8c09a",
   "metadata": {},
   "source": [
    "Causes of Disengagement"
   ]
  },
  {
   "cell_type": "code",
   "execution_count": 30,
   "id": "cc49d473",
   "metadata": {},
   "outputs": [
    {
     "data": {
      "image/png": "[encoded data removed]",
      "text/plain": [
       "<Figure size 640x480 with 1 Axes>"
      ]
     },
     "metadata": {},
     "output_type": "display_data"
    }
   ],
   "source": [
    "# Word cloud of Disengagement descriptions\n",
    "text = combined_dis_df[\"DESCRIPTION OF FACTS CAUSING DISENGAGEMENT\"].values \n",
    "\n",
    "stop_words = [\"vehicle\", \"/n\", \"Non\", \"road\"] + list(STOPWORDS)\n",
    "wordcloud = WordCloud(stopwords = stop_words, background_color=\"white\", colormap=\"CMRmap\").generate(str(text))\n",
    "plt.imshow(wordcloud, interpolation='bilinear')\n",
    "plt.axis(\"off\")\n",
    "plt.show()\n",
    "\n"
   ]
  },
  {
   "cell_type": "code",
   "execution_count": null,
   "id": "a6445dbc",
   "metadata": {},
   "outputs": [],
   "source": [
    "### Do the correlation thing on DPTM:"
   ]
  },
  {
   "cell_type": "markdown",
   "id": "02000fa0",
   "metadata": {},
   "source": [
    "# CRUISE"
   ]
  },
  {
   "cell_type": "code",
   "execution_count": null,
   "id": "f0c7eb58",
   "metadata": {},
   "outputs": [],
   "source": [
    "# miles per month\n",
    "# Can't do by month as is, because there is no axis \"month\""
   ]
  },
  {
   "cell_type": "code",
   "execution_count": 71,
   "id": "59f0a0bf",
   "metadata": {},
   "outputs": [
    {
     "name": "stderr",
     "output_type": "stream",
     "text": [
      "C:\\Users\\outdo\\AppData\\Local\\Temp\\ipykernel_22936\\1506095537.py:6: SettingWithCopyWarning:\n",
      "\n",
      "\n",
      "A value is trying to be set on a copy of a slice from a DataFrame.\n",
      "Try using .loc[row_indexer,col_indexer] = value instead\n",
      "\n",
      "See the caveats in the documentation: https://pandas.pydata.org/pandas-docs/stable/user_guide/indexing.html#returning-a-view-versus-a-copy\n",
      "\n"
     ]
    },
    {
     "data": {
      "application/vnd.plotly.v1+json": {
       "config": {
        "plotlyServerURL": "https://plot.ly"
       },
       "data": [
        {
         "alignmentgroup": "True",
         "hovertemplate": "Description of Disengagement Facts=%{text}<br>Year=%{x}<br>Count of Disengagement Facts=%{y}<extra></extra>",
         "legendgroup": "Disengage for a hardware discrepancy for which our vehicle's diagnostics received a message indicating a potential performance issue with a hardware component of the self-driving system or a component of the base vehicle",
         "marker": {
          "color": "#636efa",
          "pattern": {
           "shape": ""
          }
         },
         "name": "Disengage for a hardware discrepancy for which our vehicle's diagnostics received a message indicating a potential performance issue with a hardware component of the self-driving system or a component of the base vehicle",
         "offsetgroup": "Disengage for a hardware discrepancy for which our vehicle's diagnostics received a message indicating a potential performance issue with a hardware component of the self-driving system or a component of the base vehicle",
         "orientation": "v",
         "showlegend": true,
         "text": [
          "Disengage for a hardware discrepancy for which our vehicle's diagnostics received a message indicating a potential performance issue with a hardware component of the self-driving system or a component of the base vehicle",
          "Disengage for a hardware discrepancy for which our vehicle's diagnostics received a message indicating a potential performance issue with a hardware component of the self-driving system or a component of the base vehicle",
          "Disengage for a hardware discrepancy for which our vehicle's diagnostics received a message indicating a potential performance issue with a hardware component of the self-driving system or a component of the base vehicle"
         ],
         "textposition": "auto",
         "type": "bar",
         "x": [
          2020,
          2021,
          2022
         ],
         "xaxis": "x",
         "y": [
          1,
          11,
          2
         ],
         "yaxis": "y"
        },
        {
         "alignmentgroup": "True",
         "hovertemplate": "Description of Disengagement Facts=%{text}<br>Year=%{x}<br>Count of Disengagement Facts=%{y}<extra></extra>",
         "legendgroup": "Disengage for a perception discrepancy for which a component of the vehicle's perception system failed to detect an object correctly",
         "marker": {
          "color": "#EF553B",
          "pattern": {
           "shape": ""
          }
         },
         "name": "Disengage for a perception discrepancy for which a component of the vehicle's perception system failed to detect an object correctly",
         "offsetgroup": "Disengage for a perception discrepancy for which a component of the vehicle's perception system failed to detect an object correctly",
         "orientation": "v",
         "showlegend": true,
         "text": [
          "Disengage for a perception discrepancy for which a component of the vehicle's perception system failed to detect an object correctly",
          "Disengage for a perception discrepancy for which a component of the vehicle's perception system failed to detect an object correctly",
          "Disengage for a perception discrepancy for which a component of the vehicle's perception system failed to detect an object correctly",
          "Disengage for a perception discrepancy for which a component of the vehicle's perception system failed to detect an object correctly"
         ],
         "textposition": "auto",
         "type": "bar",
         "x": [
          2020,
          2021,
          2022,
          2023
         ],
         "xaxis": "x",
         "y": [
          3,
          59,
          75,
          49
         ],
         "yaxis": "y"
        },
        {
         "alignmentgroup": "True",
         "hovertemplate": "Description of Disengagement Facts=%{text}<br>Year=%{x}<br>Count of Disengagement Facts=%{y}<extra></extra>",
         "legendgroup": "Disengage for a recklessly behaving road user",
         "marker": {
          "color": "#00cc96",
          "pattern": {
           "shape": ""
          }
         },
         "name": "Disengage for a recklessly behaving road user",
         "offsetgroup": "Disengage for a recklessly behaving road user",
         "orientation": "v",
         "showlegend": true,
         "text": [
          "Disengage for a recklessly behaving road user",
          "Disengage for a recklessly behaving road user",
          "Disengage for a recklessly behaving road user"
         ],
         "textposition": "auto",
         "type": "bar",
         "x": [
          2020,
          2021,
          2023
         ],
         "xaxis": "x",
         "y": [
          1,
          23,
          4
         ],
         "yaxis": "y"
        },
        {
         "alignmentgroup": "True",
         "hovertemplate": "Description of Disengagement Facts=%{text}<br>Year=%{x}<br>Count of Disengagement Facts=%{y}<extra></extra>",
         "legendgroup": "Disengage for a software discrepancy for which our vehicle's diagnostics received a message indicating a potential performance issue with a software component",
         "marker": {
          "color": "#ab63fa",
          "pattern": {
           "shape": ""
          }
         },
         "name": "Disengage for a software discrepancy for which our vehicle's diagnostics received a message indicating a potential performance issue with a software component",
         "offsetgroup": "Disengage for a software discrepancy for which our vehicle's diagnostics received a message indicating a potential performance issue with a software component",
         "orientation": "v",
         "showlegend": true,
         "text": [
          "Disengage for a software discrepancy for which our vehicle's diagnostics received a message indicating a potential performance issue with a software component",
          "Disengage for a software discrepancy for which our vehicle's diagnostics received a message indicating a potential performance issue with a software component",
          "Disengage for a software discrepancy for which our vehicle's diagnostics received a message indicating a potential performance issue with a software component"
         ],
         "textposition": "auto",
         "type": "bar",
         "x": [
          2021,
          2022,
          2023
         ],
         "xaxis": "x",
         "y": [
          135,
          3,
          47
         ],
         "yaxis": "y"
        },
        {
         "alignmentgroup": "True",
         "hovertemplate": "Description of Disengagement Facts=%{text}<br>Year=%{x}<br>Count of Disengagement Facts=%{y}<extra></extra>",
         "legendgroup": "Disengage for incorrect behavior prediction of other traffic participants",
         "marker": {
          "color": "#FFA15A",
          "pattern": {
           "shape": ""
          }
         },
         "name": "Disengage for incorrect behavior prediction of other traffic participants",
         "offsetgroup": "Disengage for incorrect behavior prediction of other traffic participants",
         "orientation": "v",
         "showlegend": true,
         "text": [
          "Disengage for incorrect behavior prediction of other traffic participants",
          "Disengage for incorrect behavior prediction of other traffic participants"
         ],
         "textposition": "auto",
         "type": "bar",
         "x": [
          2021,
          2022
         ],
         "xaxis": "x",
         "y": [
          7,
          1
         ],
         "yaxis": "y"
        },
        {
         "alignmentgroup": "True",
         "hovertemplate": "Description of Disengagement Facts=%{text}<br>Year=%{x}<br>Count of Disengagement Facts=%{y}<extra></extra>",
         "legendgroup": "Disengage for unwanted maneuver of the vehicle that was undesirable under the circumstances",
         "marker": {
          "color": "#19d3f3",
          "pattern": {
           "shape": ""
          }
         },
         "name": "Disengage for unwanted maneuver of the vehicle that was undesirable under the circumstances",
         "offsetgroup": "Disengage for unwanted maneuver of the vehicle that was undesirable under the circumstances",
         "orientation": "v",
         "showlegend": true,
         "text": [
          "Disengage for unwanted maneuver of the vehicle that was undesirable under the circumstances",
          "Disengage for unwanted maneuver of the vehicle that was undesirable under the circumstances",
          "Disengage for unwanted maneuver of the vehicle that was undesirable under the circumstances",
          "Disengage for unwanted maneuver of the vehicle that was undesirable under the circumstances"
         ],
         "textposition": "auto",
         "type": "bar",
         "x": [
          2020,
          2021,
          2022,
          2023
         ],
         "xaxis": "x",
         "y": [
          1,
          57,
          93,
          116
         ],
         "yaxis": "y"
        }
       ],
       "layout": {
        "barmode": "group",
        "legend": {
         "title": {
          "text": "Description of Disengagement Facts"
         },
         "tracegroupgap": 0
        },
        "margin": {
         "t": 60
        },
        "template": {
         "data": {
          "bar": [
           {
            "error_x": {
             "color": "#2a3f5f"
            },
            "error_y": {
             "color": "#2a3f5f"
            },
            "marker": {
             "line": {
              "color": "#E5ECF6",
              "width": 0.5
             },
             "pattern": {
              "fillmode": "overlay",
              "size": 10,
              "solidity": 0.2
             }
            },
            "type": "bar"
           }
          ],
          "barpolar": [
           {
            "marker": {
             "line": {
              "color": "#E5ECF6",
              "width": 0.5
             },
             "pattern": {
              "fillmode": "overlay",
              "size": 10,
              "solidity": 0.2
             }
            },
            "type": "barpolar"
           }
          ],
          "carpet": [
           {
            "aaxis": {
             "endlinecolor": "#2a3f5f",
             "gridcolor": "white",
             "linecolor": "white",
             "minorgridcolor": "white",
             "startlinecolor": "#2a3f5f"
            },
            "baxis": {
             "endlinecolor": "#2a3f5f",
             "gridcolor": "white",
             "linecolor": "white",
             "minorgridcolor": "white",
             "startlinecolor": "#2a3f5f"
            },
            "type": "carpet"
           }
          ],
          "choropleth": [
           {
            "colorbar": {
             "outlinewidth": 0,
             "ticks": ""
            },
            "type": "choropleth"
           }
          ],
          "contour": [
           {
            "colorbar": {
             "outlinewidth": 0,
             "ticks": ""
            },
            "colorscale": [
             [
              0,
              "#0d0887"
             ],
             [
              0.1111111111111111,
              "#46039f"
             ],
             [
              0.2222222222222222,
              "#7201a8"
             ],
             [
              0.3333333333333333,
              "#9c179e"
             ],
             [
              0.4444444444444444,
              "#bd3786"
             ],
             [
              0.5555555555555556,
              "#d8576b"
             ],
             [
              0.6666666666666666,
              "#ed7953"
             ],
             [
              0.7777777777777778,
              "#fb9f3a"
             ],
             [
              0.8888888888888888,
              "#fdca26"
             ],
             [
              1,
              "#f0f921"
             ]
            ],
            "type": "contour"
           }
          ],
          "contourcarpet": [
           {
            "colorbar": {
             "outlinewidth": 0,
             "ticks": ""
            },
            "type": "contourcarpet"
           }
          ],
          "heatmap": [
           {
            "colorbar": {
             "outlinewidth": 0,
             "ticks": ""
            },
            "colorscale": [
             [
              0,
              "#0d0887"
             ],
             [
              0.1111111111111111,
              "#46039f"
             ],
             [
              0.2222222222222222,
              "#7201a8"
             ],
             [
              0.3333333333333333,
              "#9c179e"
             ],
             [
              0.4444444444444444,
              "#bd3786"
             ],
             [
              0.5555555555555556,
              "#d8576b"
             ],
             [
              0.6666666666666666,
              "#ed7953"
             ],
             [
              0.7777777777777778,
              "#fb9f3a"
             ],
             [
              0.8888888888888888,
              "#fdca26"
             ],
             [
              1,
              "#f0f921"
             ]
            ],
            "type": "heatmap"
           }
          ],
          "heatmapgl": [
           {
            "colorbar": {
             "outlinewidth": 0,
             "ticks": ""
            },
            "colorscale": [
             [
              0,
              "#0d0887"
             ],
             [
              0.1111111111111111,
              "#46039f"
             ],
             [
              0.2222222222222222,
              "#7201a8"
             ],
             [
              0.3333333333333333,
              "#9c179e"
             ],
             [
              0.4444444444444444,
              "#bd3786"
             ],
             [
              0.5555555555555556,
              "#d8576b"
             ],
             [
              0.6666666666666666,
              "#ed7953"
             ],
             [
              0.7777777777777778,
              "#fb9f3a"
             ],
             [
              0.8888888888888888,
              "#fdca26"
             ],
             [
              1,
              "#f0f921"
             ]
            ],
            "type": "heatmapgl"
           }
          ],
          "histogram": [
           {
            "marker": {
             "pattern": {
              "fillmode": "overlay",
              "size": 10,
              "solidity": 0.2
             }
            },
            "type": "histogram"
           }
          ],
          "histogram2d": [
           {
            "colorbar": {
             "outlinewidth": 0,
             "ticks": ""
            },
            "colorscale": [
             [
              0,
              "#0d0887"
             ],
             [
              0.1111111111111111,
              "#46039f"
             ],
             [
              0.2222222222222222,
              "#7201a8"
             ],
             [
              0.3333333333333333,
              "#9c179e"
             ],
             [
              0.4444444444444444,
              "#bd3786"
             ],
             [
              0.5555555555555556,
              "#d8576b"
             ],
             [
              0.6666666666666666,
              "#ed7953"
             ],
             [
              0.7777777777777778,
              "#fb9f3a"
             ],
             [
              0.8888888888888888,
              "#fdca26"
             ],
             [
              1,
              "#f0f921"
             ]
            ],
            "type": "histogram2d"
           }
          ],
          "histogram2dcontour": [
           {
            "colorbar": {
             "outlinewidth": 0,
             "ticks": ""
            },
            "colorscale": [
             [
              0,
              "#0d0887"
             ],
             [
              0.1111111111111111,
              "#46039f"
             ],
             [
              0.2222222222222222,
              "#7201a8"
             ],
             [
              0.3333333333333333,
              "#9c179e"
             ],
             [
              0.4444444444444444,
              "#bd3786"
             ],
             [
              0.5555555555555556,
              "#d8576b"
             ],
             [
              0.6666666666666666,
              "#ed7953"
             ],
             [
              0.7777777777777778,
              "#fb9f3a"
             ],
             [
              0.8888888888888888,
              "#fdca26"
             ],
             [
              1,
              "#f0f921"
             ]
            ],
            "type": "histogram2dcontour"
           }
          ],
          "mesh3d": [
           {
            "colorbar": {
             "outlinewidth": 0,
             "ticks": ""
            },
            "type": "mesh3d"
           }
          ],
          "parcoords": [
           {
            "line": {
             "colorbar": {
              "outlinewidth": 0,
              "ticks": ""
             }
            },
            "type": "parcoords"
           }
          ],
          "pie": [
           {
            "automargin": true,
            "type": "pie"
           }
          ],
          "scatter": [
           {
            "fillpattern": {
             "fillmode": "overlay",
             "size": 10,
             "solidity": 0.2
            },
            "type": "scatter"
           }
          ],
          "scatter3d": [
           {
            "line": {
             "colorbar": {
              "outlinewidth": 0,
              "ticks": ""
             }
            },
            "marker": {
             "colorbar": {
              "outlinewidth": 0,
              "ticks": ""
             }
            },
            "type": "scatter3d"
           }
          ],
          "scattercarpet": [
           {
            "marker": {
             "colorbar": {
              "outlinewidth": 0,
              "ticks": ""
             }
            },
            "type": "scattercarpet"
           }
          ],
          "scattergeo": [
           {
            "marker": {
             "colorbar": {
              "outlinewidth": 0,
              "ticks": ""
             }
            },
            "type": "scattergeo"
           }
          ],
          "scattergl": [
           {
            "marker": {
             "colorbar": {
              "outlinewidth": 0,
              "ticks": ""
             }
            },
            "type": "scattergl"
           }
          ],
          "scattermapbox": [
           {
            "marker": {
             "colorbar": {
              "outlinewidth": 0,
              "ticks": ""
             }
            },
            "type": "scattermapbox"
           }
          ],
          "scatterpolar": [
           {
            "marker": {
             "colorbar": {
              "outlinewidth": 0,
              "ticks": ""
             }
            },
            "type": "scatterpolar"
           }
          ],
          "scatterpolargl": [
           {
            "marker": {
             "colorbar": {
              "outlinewidth": 0,
              "ticks": ""
             }
            },
            "type": "scatterpolargl"
           }
          ],
          "scatterternary": [
           {
            "marker": {
             "colorbar": {
              "outlinewidth": 0,
              "ticks": ""
             }
            },
            "type": "scatterternary"
           }
          ],
          "surface": [
           {
            "colorbar": {
             "outlinewidth": 0,
             "ticks": ""
            },
            "colorscale": [
             [
              0,
              "#0d0887"
             ],
             [
              0.1111111111111111,
              "#46039f"
             ],
             [
              0.2222222222222222,
              "#7201a8"
             ],
             [
              0.3333333333333333,
              "#9c179e"
             ],
             [
              0.4444444444444444,
              "#bd3786"
             ],
             [
              0.5555555555555556,
              "#d8576b"
             ],
             [
              0.6666666666666666,
              "#ed7953"
             ],
             [
              0.7777777777777778,
              "#fb9f3a"
             ],
             [
              0.8888888888888888,
              "#fdca26"
             ],
             [
              1,
              "#f0f921"
             ]
            ],
            "type": "surface"
           }
          ],
          "table": [
           {
            "cells": {
             "fill": {
              "color": "#EBF0F8"
             },
             "line": {
              "color": "white"
             }
            },
            "header": {
             "fill": {
              "color": "#C8D4E3"
             },
             "line": {
              "color": "white"
             }
            },
            "type": "table"
           }
          ]
         },
         "layout": {
          "annotationdefaults": {
           "arrowcolor": "#2a3f5f",
           "arrowhead": 0,
           "arrowwidth": 1
          },
          "autotypenumbers": "strict",
          "coloraxis": {
           "colorbar": {
            "outlinewidth": 0,
            "ticks": ""
           }
          },
          "colorscale": {
           "diverging": [
            [
             0,
             "#8e0152"
            ],
            [
             0.1,
             "#c51b7d"
            ],
            [
             0.2,
             "#de77ae"
            ],
            [
             0.3,
             "#f1b6da"
            ],
            [
             0.4,
             "#fde0ef"
            ],
            [
             0.5,
             "#f7f7f7"
            ],
            [
             0.6,
             "#e6f5d0"
            ],
            [
             0.7,
             "#b8e186"
            ],
            [
             0.8,
             "#7fbc41"
            ],
            [
             0.9,
             "#4d9221"
            ],
            [
             1,
             "#276419"
            ]
           ],
           "sequential": [
            [
             0,
             "#0d0887"
            ],
            [
             0.1111111111111111,
             "#46039f"
            ],
            [
             0.2222222222222222,
             "#7201a8"
            ],
            [
             0.3333333333333333,
             "#9c179e"
            ],
            [
             0.4444444444444444,
             "#bd3786"
            ],
            [
             0.5555555555555556,
             "#d8576b"
            ],
            [
             0.6666666666666666,
             "#ed7953"
            ],
            [
             0.7777777777777778,
             "#fb9f3a"
            ],
            [
             0.8888888888888888,
             "#fdca26"
            ],
            [
             1,
             "#f0f921"
            ]
           ],
           "sequentialminus": [
            [
             0,
             "#0d0887"
            ],
            [
             0.1111111111111111,
             "#46039f"
            ],
            [
             0.2222222222222222,
             "#7201a8"
            ],
            [
             0.3333333333333333,
             "#9c179e"
            ],
            [
             0.4444444444444444,
             "#bd3786"
            ],
            [
             0.5555555555555556,
             "#d8576b"
            ],
            [
             0.6666666666666666,
             "#ed7953"
            ],
            [
             0.7777777777777778,
             "#fb9f3a"
            ],
            [
             0.8888888888888888,
             "#fdca26"
            ],
            [
             1,
             "#f0f921"
            ]
           ]
          },
          "colorway": [
           "#636efa",
           "#EF553B",
           "#00cc96",
           "#ab63fa",
           "#FFA15A",
           "#19d3f3",
           "#FF6692",
           "#B6E880",
           "#FF97FF",
           "#FECB52"
          ],
          "font": {
           "color": "#2a3f5f"
          },
          "geo": {
           "bgcolor": "white",
           "lakecolor": "white",
           "landcolor": "#E5ECF6",
           "showlakes": true,
           "showland": true,
           "subunitcolor": "white"
          },
          "hoverlabel": {
           "align": "left"
          },
          "hovermode": "closest",
          "mapbox": {
           "style": "light"
          },
          "paper_bgcolor": "white",
          "plot_bgcolor": "#E5ECF6",
          "polar": {
           "angularaxis": {
            "gridcolor": "white",
            "linecolor": "white",
            "ticks": ""
           },
           "bgcolor": "#E5ECF6",
           "radialaxis": {
            "gridcolor": "white",
            "linecolor": "white",
            "ticks": ""
           }
          },
          "scene": {
           "xaxis": {
            "backgroundcolor": "#E5ECF6",
            "gridcolor": "white",
            "gridwidth": 2,
            "linecolor": "white",
            "showbackground": true,
            "ticks": "",
            "zerolinecolor": "white"
           },
           "yaxis": {
            "backgroundcolor": "#E5ECF6",
            "gridcolor": "white",
            "gridwidth": 2,
            "linecolor": "white",
            "showbackground": true,
            "ticks": "",
            "zerolinecolor": "white"
           },
           "zaxis": {
            "backgroundcolor": "#E5ECF6",
            "gridcolor": "white",
            "gridwidth": 2,
            "linecolor": "white",
            "showbackground": true,
            "ticks": "",
            "zerolinecolor": "white"
           }
          },
          "shapedefaults": {
           "line": {
            "color": "#2a3f5f"
           }
          },
          "ternary": {
           "aaxis": {
            "gridcolor": "white",
            "linecolor": "white",
            "ticks": ""
           },
           "baxis": {
            "gridcolor": "white",
            "linecolor": "white",
            "ticks": ""
           },
           "bgcolor": "#E5ECF6",
           "caxis": {
            "gridcolor": "white",
            "linecolor": "white",
            "ticks": ""
           }
          },
          "title": {
           "x": 0.05
          },
          "xaxis": {
           "automargin": true,
           "gridcolor": "white",
           "linecolor": "white",
           "ticks": "",
           "title": {
            "standoff": 15
           },
           "zerolinecolor": "white",
           "zerolinewidth": 2
          },
          "yaxis": {
           "automargin": true,
           "gridcolor": "white",
           "linecolor": "white",
           "ticks": "",
           "title": {
            "standoff": 15
           },
           "zerolinecolor": "white",
           "zerolinewidth": 2
          }
         }
        },
        "xaxis": {
         "anchor": "y",
         "domain": [
          0,
          1
         ],
         "title": {
          "text": "Year"
         }
        },
        "yaxis": {
         "anchor": "x",
         "domain": [
          0,
          1
         ],
         "title": {
          "text": "Count of Disengagement Facts"
         }
        }
       }
      }
     },
     "metadata": {},
     "output_type": "display_data"
    }
   ],
   "source": [
    "# Disengagements by year by type\n",
    "# Make FOCUS dataframe\n",
    "focus_company = \"WAYMO\"\n",
    "focus_dis_df = combined_dis_df[combined_dis_df['OPERATOR'] == focus_company]\n",
    "# Year column\n",
    "focus_dis_df['Year'] = focus_dis_df['DATE'].dt.year\n",
    "grouped_focus = focus_dis_df.groupby(['DESCRIPTION OF FACTS CAUSING DISENGAGEMENT', 'Year']).size().reset_index(name='Count')\n",
    "\n",
    "\n",
    "fig = px.bar(grouped_focus, x='Year', y='Count', color='DESCRIPTION OF FACTS CAUSING DISENGAGEMENT',\n",
    "             title='',\n",
    "             labels={'DESCRIPTION OF FACTS CAUSING DISENGAGEMENT': 'Description of Disengagement Facts',\n",
    "                     'Count': 'Count of Disengagement Facts'},            \n",
    "             text='DESCRIPTION OF FACTS CAUSING DISENGAGEMENT',\n",
    "             barmode='group')\n",
    "fig.show()\n"
   ]
  },
  {
   "cell_type": "markdown",
   "id": "93ad4da0",
   "metadata": {},
   "source": [
    "1. The above disengagement count seems way too low.\n",
    "2. Could maybe group by the first clause before the \";\""
   ]
  },
  {
   "cell_type": "markdown",
   "id": "a10ed58a",
   "metadata": {},
   "source": [
    "# ZIPPY"
   ]
  },
  {
   "cell_type": "code",
   "execution_count": null,
   "id": "58fec7f4",
   "metadata": {},
   "outputs": [],
   "source": [
    "# graph of miles over time?\n",
    "# Combined graph - line: miles, columns, disengagements?"
   ]
  },
  {
   "cell_type": "code",
   "execution_count": null,
   "id": "0912c957",
   "metadata": {},
   "outputs": [],
   "source": [
    "# sunburst of mileage by month? \n",
    "# what sotry? weather vehicles can/can't run in\n"
   ]
  }
 ],
 "metadata": {
  "kernelspec": {
   "display_name": "Python 3 (ipykernel)",
   "language": "python",
   "name": "python3"
  },
  "language_info": {
   "codemirror_mode": {
    "name": "ipython",
    "version": 3
   },
   "file_extension": ".py",
   "mimetype": "text/x-python",
   "name": "python",
   "nbconvert_exporter": "python",
   "pygments_lexer": "ipython3",
   "version": "3.10.13"
  }
 },
 "nbformat": 4,
 "nbformat_minor": 5
}
